{
 "cells": [
  {
   "cell_type": "markdown",
   "metadata": {},
   "source": [
    "# Agenda"
   ]
  },
  {
   "cell_type": "markdown",
   "metadata": {},
   "source": [
    "## Introduction to Jupyter Notebook"
   ]
  },
  {
   "cell_type": "markdown",
   "metadata": {},
   "source": [
    "## Navigating Jupyter Notebooks\n",
    "&nbsp;&nbsp;&nbsp;&nbsp;&nbsp;&nbsp;<a href=\"./WordCloud.ipynb\">Word Cloud</a>"
   ]
  },
  {
   "cell_type": "markdown",
   "metadata": {},
   "source": [
    "# Scenarios"
   ]
  },
  {
   "cell_type": "markdown",
   "metadata": {},
   "source": [
    "## Create a user with Microsoft Forms\n",
    "\n",
    "&nbsp;&nbsp;&nbsp;&nbsp;&nbsp;&nbsp;\n",
    "<a href=\"https://forms.microsoft.com/Pages/ResponsePage.aspx?id=v4j5cvGGr0GRqy180BHbR6XDcf7sUgVIvro3tcgydClUQU5SOTVXQlhLOE9DUTc2VVpCODVONUxSNS4u\">Create User Form</a>"
   ]
  },
  {
   "cell_type": "markdown",
   "metadata": {},
   "source": [
    "## MDATP - Query the MDATP with an advanced hunting query \n",
    "&nbsp;&nbsp;&nbsp;&nbsp;&nbsp;&nbsp;\n",
    "<a href=\"../../Microsoft Defender ATP/REST API - Advanced Hunting Query-Copy1.ipynb\">Advanced Hunting QUery</a>"
   ]
  },
  {
   "cell_type": "markdown",
   "metadata": {},
   "source": [
    "### Query the MDATP extracting a query from the Threat Hunting repo\n",
    "&nbsp;&nbsp;&nbsp;&nbsp;&nbsp;&nbsp;\n",
    "<a href=\"../../Graph-API/MDATP - Pull Query from Github.ipynb\">Link to Notebook</a>"
   ]
  },
  {
   "cell_type": "markdown",
   "metadata": {},
   "source": [
    "## Azure Sentinel - Query Azure Sentinel "
   ]
  },
  {
   "cell_type": "markdown",
   "metadata": {},
   "source": [
    "# Reporting"
   ]
  },
  {
   "cell_type": "markdown",
   "metadata": {},
   "source": [
    "## Office 365 Email Activity Report using Device Code Authentication\n",
    "&nbsp;&nbsp;&nbsp;&nbsp;&nbsp;&nbsp;\n",
    "<a href=\"../../Graph-API/Email - Email Activity Count.ipynb\">Link to Notebook</a>"
   ]
  },
  {
   "cell_type": "markdown",
   "metadata": {},
   "source": [
    "## PowerBI Reporting Example"
   ]
  },
  {
   "cell_type": "code",
   "execution_count": null,
   "metadata": {},
   "outputs": [],
   "source": [
    "#!html\n",
    "\n",
    "<iframe \n",
    "    width=\"1024\" \n",
    "    height=\"768\" \n",
    "    frameborder=\"0\" \n",
    "    allowFullScreen=\"true\"\n",
    "    src=\"https://app.powerbi.com/view?r=eyJrIjoiMDA0ZjBkZmYtNWE2OC00NmExLTlkZWQtYzNmZDBlYjk2ODEyIiwidCI6ImRlNDBjZjdlLWFkNWYtNDI0NS1hMzE3LTE0YmUzOWNiYjBlZiJ9\">\n",
    "</iframe>"
   ]
  },
  {
   "cell_type": "code",
   "execution_count": null,
   "metadata": {},
   "outputs": [],
   "source": []
  }
 ],
 "metadata": {
  "kernelspec": {
   "display_name": ".NET (PowerShell)",
   "language": "PowerShell",
   "name": ".net-powershell"
  },
  "language_info": {
   "file_extension": ".ps1",
   "mimetype": "text/x-powershell",
   "name": "PowerShell",
   "pygments_lexer": "powershell",
   "version": "7.0"
  },
  "toc-autonumbering": true,
  "toc-showcode": false,
  "toc-showmarkdowntxt": true,
  "toc-showtags": false
 },
 "nbformat": 4,
 "nbformat_minor": 4
}
