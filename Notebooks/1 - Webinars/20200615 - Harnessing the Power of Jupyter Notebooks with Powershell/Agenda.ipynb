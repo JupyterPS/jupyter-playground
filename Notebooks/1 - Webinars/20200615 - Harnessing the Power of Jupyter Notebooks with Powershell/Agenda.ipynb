{
 "cells": [
  {
   "cell_type": "markdown",
   "metadata": {},
   "source": [
    "# Agenda"
   ]
  },
  {
   "cell_type": "markdown",
   "metadata": {},
   "source": [
    "<h2 style=\"margin-left:25px\">Introduction to Jupyter Notebook</h2>"
   ]
  },
  {
   "cell_type": "markdown",
   "metadata": {},
   "source": [
    "<table align=\"left\" style=\"margin-left:25px\">\n",
    "  <tr>\n",
    "    <th>Filename</th>\n",
    "    <th>Description</th>\n",
    "    <th>Status</th>\n",
    "    <th>Last Tested</th>  \n",
    "  </tr>\n",
    "  <tr>\n",
    "    <td><b><a href=\"../../PowerShell/Getting-Started-README.ipynb\">Getting-Started-README.ipynb</a></td>\n",
    "    <td>Its highly recommended to follow this guide to get familiar with navigating and using Jupyter Notebooks. </td>\n",
    "    <td><img src =\"https://img.shields.io/badge/TESTED-STILL_NEEDS_WORK-ORANGE.svg\"></td> <!-- https://github.com/Naereen/badges to make your own status -->\n",
    "    <td>Last Tested: 6/16/2020</td>\n",
    "  </tr>\n",
    "  <tr>\n",
    "    <td><b><a href=\"../../PowerShell/Getting-Started-README.ipynb\">Word Cloud</a></td>\n",
    "    <td>Its highly recommended to follow this guide to get familiar with navigating and using Jupyter Notebooks. </td>\n",
    "    <td><img src =\"https://img.shields.io/badge/TESTED-STILL_NEEDS_WORK-ORANGE.svg\"></td> <!-- https://github.com/Naereen/badges to make your own status -->\n",
    "    <td>Last Tested: 6/16/2020</td>\n",
    "  </tr>\n",
    "</table> "
   ]
  },
  {
   "cell_type": "markdown",
   "metadata": {},
   "source": [
    "# Scenarios"
   ]
  },
  {
   "cell_type": "markdown",
   "metadata": {},
   "source": [
    "<h2 style=\"margin-left:25px\">Create your own custom API - New User Progress Tracker Form Example</h2>\n",
    "\n",
    "<table align=\"left\" style=\"margin-left:25px\">\n",
    "  <tr>\n",
    "    <th>Filename</th>\n",
    "    <th>Description</th>\n",
    "      <th>Status</th>\n",
    "  </tr>\n",
    "  <tr>\n",
    "    <td><b><a href=\"../../PowerShell/Microsoft/Demo Scenarios/Scenario 1 - New User Progress Tracker.ipynb\">New User Progress Tracker</a></td>\n",
    "    <td>In this scenario, we will create a user in MS Forms, and then populate an Excel file using Power-Automate. <br>From there we will query the Excel file using a custom API built in Power-Automate</td>\n",
    "    <td><img src =\"https://img.shields.io/badge/TESTED-PASSED-GREEN.svg\"></td>\n",
    "  </tr>\n",
    "</table>"
   ]
  },
  {
   "cell_type": "markdown",
   "metadata": {},
   "source": [
    "<h2 style=\"margin-left:25px\">MDATP</h2>"
   ]
  },
  {
   "cell_type": "markdown",
   "metadata": {},
   "source": [
    "<h3 style=\"margin-left:25px\">Query the MDATP with an advanced hunting query</h3>\n",
    "\n",
    "<table align=\"left\" style=\"margin-left:25px\">\n",
    "  <tr>\n",
    "    <th>Filename</th>\n",
    "    <th>Description</th>\n",
    "      <th>Status</th>\n",
    "  </tr>\n",
    "  <tr>\n",
    "    <td><b><a href=\"../../PowerShell/Microsoft/Security/MDATP/Advanced Hunting Query.ipynb\">Advanced Hunting Query</a></td>\n",
    "    <td>Its highly recommended to follow this guide to get familiar with navigating and using Jupyter Notebooks. </td>\n",
    "    <td><img src =\"https://img.shields.io/badge/TESTED-PASSED-GREEN.svg\"></td>\n",
    "  </tr>\n",
    "</table>\n",
    "\n"
   ]
  },
  {
   "cell_type": "markdown",
   "metadata": {},
   "source": [
    "<h3 style=\"margin-left:25px\">Pull a query from the public MDATP public Github repository</h3>\n",
    "\n",
    "<table align=\"left\" style=\"margin-left:25px\">\n",
    "  <tr>\n",
    "    <th>Filename</th>\n",
    "    <th>Description</th>\n",
    "      <th>Status</th>\n",
    "  </tr>\n",
    "  <tr>\n",
    "    <td><b><a href=\"../../PowerShell/Microsoft/Security/MDATP/Query using MDATP Github.ipynb\">Query using MDATP Github.ipynb</a></td>\n",
    "    <td>This notebook will query the MDATP Github repository and pull the referenced link's raw data from Github to be used in querying the MDATP API </td>\n",
    "    <td><img src =\"https://img.shields.io/badge/TESTED-PASSED-GREEN.svg\"></td>\n",
    "  </tr>\n",
    "</table>"
   ]
  },
  {
   "cell_type": "markdown",
   "metadata": {},
   "source": [
    "## Azure Sentinel - Query Azure Sentinel "
   ]
  },
  {
   "cell_type": "markdown",
   "metadata": {},
   "source": [
    "# Reporting"
   ]
  },
  {
   "cell_type": "markdown",
   "metadata": {},
   "source": [
    "<h2 style=\"margin-left:25px\">Office 365 Email Activity Report using Device Code Authentication</h2>\n",
    "\n",
    "<table align=\"left\" style=\"margin-left:25px\">\n",
    "  <tr>\n",
    "    <th>Filename</th>\n",
    "    <th>Description</th>\n",
    "      <th>Status</th>\n",
    "  </tr>\n",
    "  <tr>\n",
    "    <td><b><a href=\"../../PowerShell/Microsoft/Graph-API/Email - Email Activity Count.ipynb\">E-mail Inbound/Outbound Activity Statistics</a></td>\n",
    "    <td>This notebook will query the email statistics for the organization and plot the total email sent/received</td>\n",
    "    <td><img src =\"https://img.shields.io/badge/TESTED-PASSED-GREEN.svg\"></td>\n",
    "  </tr>\n",
    "</table>"
   ]
  },
  {
   "cell_type": "markdown",
   "metadata": {},
   "source": [
    "<h2 style=\"margin-left:25px\">Power BI Reporting Example</h2>"
   ]
  },
  {
   "cell_type": "code",
   "execution_count": null,
   "metadata": {},
   "outputs": [],
   "source": [
    "#!html\n",
    "\n",
    "<iframe \n",
    "    width=\"1024\" \n",
    "    height=\"768\" \n",
    "    frameborder=\"0\" \n",
    "    allowFullScreen=\"true\"\n",
    "    src=\"https://app.powerbi.com/view?r=eyJrIjoiMDA0ZjBkZmYtNWE2OC00NmExLTlkZWQtYzNmZDBlYjk2ODEyIiwidCI6ImRlNDBjZjdlLWFkNWYtNDI0NS1hMzE3LTE0YmUzOWNiYjBlZiJ9\">\n",
    "</iframe>"
   ]
  }
 ],
 "metadata": {
  "kernelspec": {
   "display_name": ".NET (PowerShell)",
   "language": "PowerShell",
   "name": ".net-powershell"
  },
  "language_info": {
   "file_extension": ".ps1",
   "mimetype": "text/x-powershell",
   "name": "PowerShell",
   "pygments_lexer": "powershell",
   "version": "7.0"
  },
  "toc-autonumbering": true,
  "toc-showcode": false,
  "toc-showmarkdowntxt": true,
  "toc-showtags": false
 },
 "nbformat": 4,
 "nbformat_minor": 4
}
