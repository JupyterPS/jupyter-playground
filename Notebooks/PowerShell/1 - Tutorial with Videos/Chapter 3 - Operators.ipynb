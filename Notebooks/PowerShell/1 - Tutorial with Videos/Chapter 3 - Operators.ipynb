{
 "cells": [
  {
   "cell_type": "markdown",
   "metadata": {},
   "source": [
    "# Chapter 3: Operators\n",
    "- This tutorial was sourced from the great work done by http://GoalKicker.com/PowerShellBook and the content is written by the beautiful people at Stack Overflow.\n",
    "\n",
    "Table of Contents<br>\n",
    "1. [Comparison Operators](#1)\n",
    "2. [Arithmetic Operators](#2)\n",
    "3. [Assignment Operators](#3)\n",
    "4. [Redirection Operators](#4)\n",
    "5. [Mixing operand types, the types of the left operand dictatees the behavior](#5)\n",
    "6. [Logical Operators](#6)\n",
    "7. [String Manipulation Operators](#7)"
   ]
  },
  {
   "cell_type": "markdown",
   "metadata": {},
   "source": [
    "## 3.1: Comparison Operators"
   ]
  },
  {
   "cell_type": "markdown",
   "metadata": {},
   "source": [
    "PowerShell comparison operators are comprised of a leading dash (-) followed by a name (eq for equal, gt for\n",
    "greater than, etc...).<br>\n",
    "Names can be preceded by special characters to modify the behavior of the operator:\n",
    "```powershell\n",
    "i # Case-Insensitive Explicit (-ieq)\n",
    "c # Case-Sensitive Explicit (-ceq)\n",
    "```\n",
    "Case-Insensitive is the default if not specified, (\"a\" -eq \"A\") same as (\"a\" -ieq \"A\")."
   ]
  },
  {
   "cell_type": "markdown",
   "metadata": {},
   "source": [
    "Simple comparison operators (Run commands below)"
   ]
  },
  {
   "cell_type": "code",
   "execution_count": null,
   "metadata": {},
   "outputs": [],
   "source": [
    "2 -eq 2 # Equal to (==)\n",
    "2 -ne 4 # Not equal to (!=)\n",
    "5 -gt 2 # Greater-than (>)\n",
    "5 -ge 5 # Greater-than or equal to (>=)\n",
    "5 -lt 10 # Less-than (<)\n",
    "5 -le 5 # Less-than or equal to (<=)"
   ]
  },
  {
   "cell_type": "markdown",
   "metadata": {},
   "source": [
    "String comparison operators:"
   ]
  },
  {
   "cell_type": "code",
   "execution_count": null,
   "metadata": {},
   "outputs": [],
   "source": [
    "\"MyString\" -like \"String*\" # Match using the wildcard character (*)\n",
    "\"MyString\" -notlike \"Other*\" # Does not match using the wildcard character (*)\n",
    "\"MyString\" -match '^String$' # Matches a string using regular expressions\n",
    "\"MyString\" -notmatch '^Other$' # Does not match a string using regular expressions"
   ]
  },
  {
   "cell_type": "markdown",
   "metadata": {},
   "source": [
    "Connection comparison operators:"
   ]
  },
  {
   "cell_type": "code",
   "execution_count": null,
   "metadata": {},
   "outputs": [],
   "source": [
    "\"abc\", \"def\",\"blah\" -contains \"blah\"    # Returns true when the value (right) is present\n",
    "                                # in the array (left)\n",
    "\"abc\", \"def\" -notcontains \"123\" # Returns true when the value (right) is not present\n",
    "                                # in the array (left)\n",
    "\"def\" -in \"abc\", \"def\"          # Returns true when the value (left) is present\n",
    "                                # in the array (right)\n",
    "\"123\" -notin \"abc\", \"def\" # Returns true when the value (left) is not present\n",
    "                                # in the array (right)"
   ]
  },
  {
   "cell_type": "code",
   "execution_count": null,
   "metadata": {},
   "outputs": [],
   "source": [
    "\"poodle\" -in @('chihuahua','german shepard','poodle','husky')"
   ]
  },
  {
   "cell_type": "markdown",
   "metadata": {},
   "source": [
    "    If you need explanation of operators"
   ]
  },
  {
   "cell_type": "code",
   "execution_count": null,
   "metadata": {},
   "outputs": [],
   "source": [
    "## Run this if you want to see explaination of the top\n",
    "Import-Module \"./modules/tutorial.psm1\"; embedYoutube -youtubeId \"2Guf7fCGrmo\" | Out-Display"
   ]
  },
  {
   "cell_type": "markdown",
   "metadata": {},
   "source": [
    "## 3.2: Arithmetic Operators"
   ]
  },
  {
   "cell_type": "code",
   "execution_count": null,
   "metadata": {},
   "outputs": [],
   "source": [
    "1 + 2 # Addition\n",
    "1 - 2 # Subtraction\n",
    "-1 # Set negative value\n",
    "1 * 2 # Multiplication\n",
    "1 / 2 # Division\n",
    "10 % 3 # Modulus\n",
    "32 -shl 2 # Bitwise Shift-left\n",
    "32 -shr 1 # Bitwise Shift-right"
   ]
  },
  {
   "cell_type": "markdown",
   "metadata": {},
   "source": [
    "### 3.2.1: Shifting Example using Subnets"
   ]
  },
  {
   "cell_type": "code",
   "execution_count": null,
   "metadata": {},
   "outputs": [],
   "source": [
    "# /24 - 255 host addresses \n",
    "$shift = 3\n",
    "\n",
    "$hostIPs = 256 -shr $shift\n",
    "$networks = 256 / $hostIPs\n",
    "$subnetMask = 24 + $shift\n",
    "\n",
    "Write-Host \"The total number of networks are: \", $networks\n",
    "Write-Host \"The total number of host addresses are: \", $hostIPs\n",
    "Write-Host \"Subnet Mask is /$subnetMask or 255.255.255.$(256-$hostIPs)\""
   ]
  },
  {
   "cell_type": "markdown",
   "metadata": {},
   "source": [
    "## 3.3: Assignment Operators"
   ]
  },
  {
   "cell_type": "markdown",
   "metadata": {},
   "source": [
    "Simple Arithmetic:"
   ]
  },
  {
   "cell_type": "code",
   "execution_count": null,
   "metadata": {},
   "outputs": [],
   "source": [
    "$var = $var - 2\n",
    "$var -= 2"
   ]
  },
  {
   "cell_type": "code",
   "execution_count": null,
   "metadata": {},
   "outputs": [],
   "source": [
    "$var = 1; $var # Assignment. Sets the value of a variable to the specified value\n",
    "$var += 2; $var # Addition. Increases the value of a variable by the specified value\n",
    "$var -= 1; $var # Subtraction. Decreases the value of a variable by the specified value\n",
    "$var *= 2; $var # Multiplication. Multiplies the value of a variable by the specified value\n",
    "$var /= 2; $var # Division. Divides the value of a variable by the specified value\n",
    "$var %= 2; $var# Modulus. Divides the value of a variable by the specified value and then assigns the remainder (modulus) to the variabl"
   ]
  },
  {
   "cell_type": "code",
   "execution_count": null,
   "metadata": {},
   "outputs": [],
   "source": [
    "$var"
   ]
  },
  {
   "cell_type": "markdown",
   "metadata": {},
   "source": [
    "Increment and decrement:"
   ]
  },
  {
   "cell_type": "code",
   "execution_count": null,
   "metadata": {},
   "outputs": [],
   "source": [
    "$var = 5;\n",
    "$var++; $var # Increases the value of a variable, assignable property, or array element by 1\n",
    "$var--; $var # Decreases the value of a variable, assignable property, or array element by 1"
   ]
  },
  {
   "cell_type": "markdown",
   "metadata": {},
   "source": [
    "## 3.4: Redirection Operators"
   ]
  },
  {
   "cell_type": "markdown",
   "metadata": {},
   "source": [
    "Success output stream:"
   ]
  },
  {
   "cell_type": "code",
   "execution_count": null,
   "metadata": {},
   "outputs": [],
   "source": [
    "Success output stream:\n",
    "cmdlet > file  # Send success output to file, overwriting existing content\n",
    "cmdlet >> file # Send success output to file, appending to existing content\n",
    "cmdlet 1>&2 # Send success and error output to error stream\n",
    "Error output stream:\n",
    "cmdlet 2> file # Send error output to file, overwriting existing content\n",
    "cmdlet 2>> file # Send error output to file, appending to existing content\n",
    "cmdlet 2>&1 # Send success and error output to success output stream\n",
    "Warning output stream: (PowerShell 3.0+)\n",
    "cmdlet 3> file # Send warning output to file, overwriting existing content\n",
    "cmdlet 3>> file # Send warning output to file, appending to existing content\n",
    "cmdlet 3>&1 # Send success and warning output to success output stream\n",
    "Verbose output stream: (PowerShell 3.0+)\n",
    "cmdlet 4> file # Send verbose output to file, overwriting existing content\n",
    "cmdlet 4>> file # Send verbose output to file, appending to existing content\n",
    "cmdlet 4>&1 # Send success and verbose output to success output stream\n",
    "Debug output stream: (PowerShell 3.0+)\n",
    "cmdlet 5> file # Send debug output to file, overwriting existing content\n",
    "cmdlet 5>> file # Send debug output to file, appending to existing content\n",
    "cmdlet 5>&1 # Send success and debug output to success output stream\n",
    "Information output stream: (PowerShell 5.0+)\n",
    "cmdlet 6> file # Send information output to file, overwriting existing content\n",
    "cmdlet 6>> file # Send information output to file, appending to existing content\n",
    "cmdlet 6>&1 # Send success and information output to success output stream\n",
    "All output streams:\n",
    "cmdlet *> file # Send all output streams to file, overwriting existing content\n",
    "cmdlet *>> file # Send all output streams to file, appending to existing content\n",
    "cmdlet *>&1 # Send all output streams to success output stream\n",
    "Differences to the pipe operator (|)\n",
    "Redirection operators only redirect streams to files or streams to streams. The pipe operator pumps an object\n",
    "down the pipeline to a cmdlet or the output. How the pipeline works differs in general from how redirection works\n",
    "and can be read on Working with the PowerShell pipeline"
   ]
  },
  {
   "cell_type": "markdown",
   "metadata": {},
   "source": [
    "    Example"
   ]
  },
  {
   "cell_type": "code",
   "execution_count": null,
   "metadata": {},
   "outputs": [],
   "source": [
    "Write-Output \"Test\" > Chapter3_TestFile # Send success output to file, overwriting existing content\n",
    "Write-Output \"Test Append\" >> Chapter3_TestFile # Send success output to file, overwriting existing content\n",
    "dir 'C:\\', 'fakepath' 2>&1 >> Chapter3_TestFile\n",
    "Get-Content Chapter3_TestFile"
   ]
  },
  {
   "cell_type": "markdown",
   "metadata": {},
   "source": [
    "## 3.5: Mixing operand types, the type of the left operand dictates the behavior"
   ]
  },
  {
   "cell_type": "markdown",
   "metadata": {},
   "source": [
    "For Addition"
   ]
  },
  {
   "cell_type": "code",
   "execution_count": null,
   "metadata": {},
   "outputs": [],
   "source": [
    "\"4\" + 2 # Gives \"42\"\n",
    "4 + \"2\" # Gives 6"
   ]
  },
  {
   "cell_type": "code",
   "execution_count": null,
   "metadata": {},
   "outputs": [],
   "source": [
    "1,2,3 + \"Hello\" # Gives 1,2,3,\"Hello\""
   ]
  },
  {
   "cell_type": "code",
   "execution_count": null,
   "metadata": {},
   "outputs": [],
   "source": [
    "\"Hello \" + 1,2,3 # Gives \"Hello1 2 3\""
   ]
  },
  {
   "cell_type": "markdown",
   "metadata": {},
   "source": [
    "For Multiplication"
   ]
  },
  {
   "cell_type": "code",
   "execution_count": null,
   "metadata": {},
   "outputs": [],
   "source": [
    "\"3\" * 10 # Gives \"33\""
   ]
  },
  {
   "cell_type": "code",
   "execution_count": null,
   "metadata": {},
   "outputs": [],
   "source": [
    "2 * \"34\" # Gives 6"
   ]
  },
  {
   "cell_type": "code",
   "execution_count": null,
   "metadata": {},
   "outputs": [],
   "source": [
    "1,2,3 * 2 # Gives 1,2,3,1,2,3"
   ]
  },
  {
   "cell_type": "code",
   "execution_count": null,
   "metadata": {},
   "outputs": [],
   "source": [
    "2 * 1,2,3 # Gives an error op_Multiply is missing"
   ]
  },
  {
   "cell_type": "markdown",
   "metadata": {},
   "source": [
    "The impact may have hidden consequences on comparison operators:"
   ]
  },
  {
   "cell_type": "code",
   "execution_count": null,
   "metadata": {},
   "outputs": [],
   "source": [
    "$a = Read-Host \"Enter a number\" ## Enter 33\n",
    "$a -gt 5"
   ]
  },
  {
   "cell_type": "code",
   "execution_count": null,
   "metadata": {},
   "outputs": [],
   "source": [
    "5 -lt $a ## But go the other way"
   ]
  },
  {
   "cell_type": "markdown",
   "metadata": {},
   "source": [
    "## 3.6: Logical Operators"
   ]
  },
  {
   "cell_type": "code",
   "execution_count": null,
   "metadata": {},
   "outputs": [],
   "source": [
    "-and # Logical and\n",
    "-or # Logical or\n",
    "-xor # Logical exclusive or\n",
    "-not # Logical not\n",
    "! # Logical not"
   ]
  },
  {
   "cell_type": "markdown",
   "metadata": {},
   "source": [
    "## 3.7: String Manipulation Operators"
   ]
  },
  {
   "cell_type": "markdown",
   "metadata": {},
   "source": [
    "Replace operator:\n",
    "The -replace operator replaces a pattern in an input value using a regular expression. This operator uses two\n",
    "arguments (separated by a comma): a regular expression pattern and its replacement value (which is optional and\n",
    "an empty string by default)."
   ]
  },
  {
   "cell_type": "code",
   "execution_count": null,
   "metadata": {},
   "outputs": [],
   "source": [
    "\"Seattle is beautiful. The rain in Seattle\" -replace 'Seattle','Miami' #Returns: The hail in Seattle"
   ]
  },
  {
   "cell_type": "code",
   "execution_count": null,
   "metadata": {},
   "outputs": [],
   "source": [
    "\"kenmyer@contoso.com\" -replace '^[\\w]+@(.+)', '$1' #Returns: contoso.com"
   ]
  },
  {
   "cell_type": "markdown",
   "metadata": {},
   "source": [
    "Split and Join operators:\n",
    "The -split operator splits a string into an array of sub-strings."
   ]
  },
  {
   "cell_type": "code",
   "execution_count": null,
   "metadata": {},
   "outputs": [],
   "source": [
    "$whatever = \"A B C\" -split \" \" #Returns an array string collection object containing A,B and C."
   ]
  },
  {
   "cell_type": "code",
   "execution_count": null,
   "metadata": {},
   "outputs": [],
   "source": [
    "$whatever[0]"
   ]
  },
  {
   "cell_type": "markdown",
   "metadata": {},
   "source": [
    "The -join operator joins an array of strings into a single string."
   ]
  },
  {
   "cell_type": "code",
   "execution_count": null,
   "metadata": {},
   "outputs": [],
   "source": [
    "$test = \"E\",\"F\",\"G\" -join \":\" #Returns a single string: E:F:G"
   ]
  },
  {
   "cell_type": "code",
   "execution_count": null,
   "metadata": {},
   "outputs": [],
   "source": [
    "$test"
   ]
  },
  {
   "cell_type": "code",
   "execution_count": null,
   "metadata": {},
   "outputs": [],
   "source": [
    "$test -split \":\""
   ]
  },
  {
   "cell_type": "code",
   "execution_count": null,
   "metadata": {},
   "outputs": [],
   "source": [
    "## Run this if you want to see explaination of the top\n",
    "Import-Module \"./modules/tutorial.psm1\"; embedYoutube -youtubeId \"GCwJIhrC8zc\" | Out-Display"
   ]
  },
  {
   "cell_type": "code",
   "execution_count": null,
   "metadata": {},
   "outputs": [],
   "source": []
  }
 ],
 "metadata": {
  "kernelspec": {
   "display_name": ".NET (PowerShell)",
   "language": "PowerShell",
   "name": ".net-powershell"
  },
  "language_info": {
   "file_extension": ".ps1",
   "mimetype": "text/x-powershell",
   "name": "PowerShell",
   "pygments_lexer": "powershell",
   "version": "7.0"
  },
  "toc-autonumbering": false
 },
 "nbformat": 4,
 "nbformat_minor": 4
}
