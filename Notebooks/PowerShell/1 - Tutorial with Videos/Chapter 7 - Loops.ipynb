{
 "cells": [
  {
   "cell_type": "markdown",
   "metadata": {},
   "source": [
    "# Chapter 7: Loops\n",
    "\n",
    "- This tutorial was sourced from the great work done by http://GoalKicker.com/PowerShellBook and the content is written by the beautiful people at Stack Overflow.\n",
    "\n",
    "Table of Contents<br>\n",
    "1. [Foreach](#1)\n",
    "2. [For](#2)\n",
    "3. [ForEach() Method](#3)\n",
    "4. [ForEach-Object](#4)\n",
    "5. [Continue](#5)\n",
    "6. [Break](#6)\n",
    "7. [Simple Switch with Break](#7)\n",
    "8. [While](#8)\n",
    "9. [Do](#9)\n",
    "\n",
    "A loop is a sequence of instruction(s) that is continually repeated until a certain condition is reached. Being able to\n",
    "have your program repeatedly execute a block of code is one of the most basic but useful tasks in programming. A\n",
    "loop lets you write a very simple statement to produce a significantly greater result simply by repetition. If the\n",
    "condition has been reached, the next instruction \"falls through\" to the next sequential instruction or branches\n",
    "outside the loop."
   ]
  },
  {
   "cell_type": "markdown",
   "metadata": {},
   "source": [
    "## 7.1: Foreach"
   ]
  },
  {
   "cell_type": "markdown",
   "metadata": {},
   "source": [
    "ForEach has two different meanings in PowerShell. One is a keyword and the other is an alias for the ForEachObject cmdlet. The former is described here.\n",
    "This example demonstrates printing all items in an array to the console host:"
   ]
  },
  {
   "cell_type": "code",
   "execution_count": null,
   "metadata": {},
   "outputs": [],
   "source": [
    "$Names = @('Amy', 'Bob', 'Celine', 'David')\n",
    "ForEach ($Name in $Names)\n",
    "{\n",
    " Write-Host \"Hi, my name is $Name! My name character length is $($name.length)\"\n",
    "}"
   ]
  },
  {
   "cell_type": "markdown",
   "metadata": {},
   "source": [
    "This example demonstrates capturing the output of a ForEach loop:"
   ]
  },
  {
   "cell_type": "code",
   "execution_count": null,
   "metadata": {},
   "outputs": [],
   "source": [
    "$Numbers = ForEach ($Number in (1..20) )  {\n",
    " Write-host $Number\n",
    " #$Number # Alternatively, Write-Output $Number\n",
    "}"
   ]
  },
  {
   "cell_type": "markdown",
   "metadata": {},
   "source": [
    "Like the last example, this example, instead, demonstrates creating an array prior to storing the loop:"
   ]
  },
  {
   "cell_type": "code",
   "execution_count": null,
   "metadata": {},
   "outputs": [],
   "source": [
    "$Number = 0\n",
    "$Numbers = @()\n",
    "Write-Host \"Value of array prior to loop is $Number\"\n",
    "ForEach ($Number in 1..20)\n",
    "{\n",
    " $Numbers += $Number\n",
    " $Number\n",
    "}\n",
    "Write-Host \"The value of the array after the loop is $Number\""
   ]
  },
  {
   "cell_type": "markdown",
   "metadata": {},
   "source": [
    "## 7.2: For\n",
    "\n",
    "A typical use of the for loop is to operate on a subset of the values in an array. In most cases, if you want to iterate\n",
    "all values in an array, consider using a foreach statement."
   ]
  },
  {
   "cell_type": "code",
   "execution_count": null,
   "metadata": {},
   "outputs": [],
   "source": [
    "for($i = 0; $i -le 5; $i++){\n",
    " \"$i\"\n",
    "}"
   ]
  },
  {
   "cell_type": "markdown",
   "metadata": {},
   "source": [
    "## Section 7.3: ForEach() Method"
   ]
  },
  {
   "cell_type": "markdown",
   "metadata": {},
   "source": [
    "#Version > 4.0\n",
    "Instead of the ForEach-Object cmdlet, the here is also the possibility to use a ForEach method directly on object\n",
    "arrays like so."
   ]
  },
  {
   "cell_type": "code",
   "execution_count": null,
   "metadata": {},
   "outputs": [],
   "source": [
    "(1..10).ForEach(\n",
    "    {\n",
    "        Write-Host \"$_ : $_ * $_ = $($_*$_)\"\n",
    "        #$_ * $_\n",
    "    }\n",
    ")"
   ]
  },
  {
   "cell_type": "markdown",
   "metadata": {},
   "source": [
    "or - if desired - the parentheses around the script block can be omitted.\n",
    "<br>Both will have the same output"
   ]
  },
  {
   "cell_type": "code",
   "execution_count": null,
   "metadata": {},
   "outputs": [],
   "source": [
    "(1..10).ForEach{\n",
    "    Write-Host \"$_ : $_ * $_ = $($_*$_)\"\n",
    "}"
   ]
  },
  {
   "cell_type": "markdown",
   "metadata": {},
   "source": [
    "## Section 7.4: ForEach-Object"
   ]
  },
  {
   "cell_type": "markdown",
   "metadata": {},
   "source": [
    "The ForEach-Object cmdlet works similarly to the foreach statement, but takes its input from the pipeline."
   ]
  },
  {
   "cell_type": "markdown",
   "metadata": {},
   "source": [
    "Basic usage"
   ]
  },
  {
   "cell_type": "code",
   "execution_count": null,
   "metadata": {},
   "outputs": [],
   "source": [
    "$object | ForEach-Object {\n",
    " code_block\n",
    "}"
   ]
  },
  {
   "cell_type": "code",
   "execution_count": null,
   "metadata": {},
   "outputs": [],
   "source": [
    "(1..10) | ForEach-Object {\n",
    "    Write-Host \"$_ : $_ * $_ = $($_*$_)\"\n",
    "}"
   ]
  },
  {
   "cell_type": "markdown",
   "metadata": {},
   "source": [
    "Example:"
   ]
  },
  {
   "cell_type": "code",
   "execution_count": null,
   "metadata": {},
   "outputs": [],
   "source": [
    "$names = @(\"Any\",\"Bob\",\"Celine\",\"David\")\n",
    "$names | ForEach-Object {\n",
    " \"Hi, my name is $_!\"\n",
    "}"
   ]
  },
  {
   "cell_type": "markdown",
   "metadata": {},
   "source": [
    "Foreach-Object has two default aliases, <font color=green>foreach</font> and <font color=green>%</font> (shorthand syntax). Most common is <font color=green>%</font> because <font color=green>foreach</font> can\n",
    "be confused with the foreach statement. "
   ]
  },
  {
   "cell_type": "markdown",
   "metadata": {},
   "source": [
    "Examples:"
   ]
  },
  {
   "cell_type": "code",
   "execution_count": null,
   "metadata": {},
   "outputs": [],
   "source": [
    "$names | % {\n",
    " \"Hi, my name is $_!\"\n",
    "}\n",
    "$names | foreach {\n",
    " \"Hi, my name is $_!\"\n",
    "}"
   ]
  },
  {
   "cell_type": "markdown",
   "metadata": {},
   "source": [
    "#### Advanced usage"
   ]
  },
  {
   "cell_type": "markdown",
   "metadata": {},
   "source": [
    "Foreach-Object stands out from the alternative foreach solutions because it's a cmdlet which means it's designed\n",
    "to use the pipeline. Because of this, it has support for three scriptblocks just like a cmdlet or advanced function:"
   ]
  },
  {
   "cell_type": "markdown",
   "metadata": {},
   "source": [
    "<font color=green>Begin:</font> Executed once before looping through the items that arrive from the pipeline. Usually used to create\n",
    "functions for use in the loop, creating variables, opening connections (database, web +) etc.<br>\n",
    "<font color=green>Process:</font> Executed once per item arrived from the pipeline. \"Normal\" foreach codeblock. This is the default\n",
    "used in the examples above when the parameter isn't specified.<br>\n",
    "<font color=green>End:</font> Executed once after processing all items. Usually used to close connections, generate a report etc."
   ]
  },
  {
   "cell_type": "markdown",
   "metadata": {},
   "source": [
    "Example:"
   ]
  },
  {
   "cell_type": "code",
   "execution_count": null,
   "metadata": {},
   "outputs": [],
   "source": [
    "\"Any\",\"Bob\",\"Celine\",\"David\" | ForEach-Object -Begin {\n",
    "    Write-Host \"Beginning statement\"\n",
    "    $results = @()\n",
    "} -Process {\n",
    "    Write-Host \"Creating and storing message\"\n",
    "    #Create and store message\n",
    "    $results += \"Hi, my name is $_!\"\n",
    "} -End {\n",
    "    #Count messages and output\n",
    "    Write-Host \"Total messages: $($results.Count)\"\n",
    "    $results\n",
    "}"
   ]
  },
  {
   "cell_type": "markdown",
   "metadata": {},
   "source": [
    "## Section 7.5: Continue"
   ]
  },
  {
   "cell_type": "markdown",
   "metadata": {},
   "source": [
    "The Continue operator works in For, ForEach, While and Do loops. It skips the current iteration of the loop, jumping\n",
    "to the top of the innermost loop."
   ]
  },
  {
   "cell_type": "code",
   "execution_count": null,
   "metadata": {},
   "outputs": [],
   "source": [
    "$i =0\n",
    "while ($i -lt 20) {\n",
    " $i++\n",
    " if ($i -eq 7) { continue }\n",
    " Write-Host $I\n",
    "}\n",
    "#The above will output 1 to 20 to the console but miss out the number 7.\n",
    "#Note: When using a pipeline loop you should use return instead of Continue."
   ]
  },
  {
   "cell_type": "markdown",
   "metadata": {},
   "source": [
    "## 7.6: Break\n",
    "\n",
    "The break operator will exit a program loop immediately. It can be used in For, ForEach, While and Do loops or in a\n",
    "Switch Statement."
   ]
  },
  {
   "cell_type": "code",
   "execution_count": null,
   "metadata": {},
   "outputs": [],
   "source": [
    "$i = 0\n",
    "while ($i -lt 15) {\n",
    " $i++\n",
    " if ($i -eq 7) {break}\n",
    " Write-Host $i\n",
    "}"
   ]
  },
  {
   "cell_type": "markdown",
   "metadata": {},
   "source": [
    "The above will count to 15 but stop as soon as 7 is reached.\n",
    "Note: When using a pipeline loop, break will behave as continue. To simulate break in the pipeline loop you need\n",
    "to incorporate some additional logic, cmdlet, etc. It is easier to stick with non-pipeline loops if you need to use\n",
    "break."
   ]
  },
  {
   "cell_type": "markdown",
   "metadata": {},
   "source": [
    "Break Labels<br>\n",
    "\n",
    "    Break can also call a label that was placed in front of the instantiation of a loop:"
   ]
  },
  {
   "cell_type": "code",
   "execution_count": null,
   "metadata": {},
   "outputs": [],
   "source": [
    "$i = 0\n",
    ":mainLoop While ($i -lt 15) {\n",
    " Write-Host $i -ForegroundColor 'Cyan'\n",
    " $j = 0\n",
    " While ($j -lt 15) {\n",
    " Write-Host $j -ForegroundColor 'Magenta'\n",
    "  $k = $i*$j\n",
    " Write-Host $k -ForegroundColor 'Green'\n",
    " if ($k -gt 100) {\n",
    " break mainLoop\n",
    " }\n",
    " $j++\n",
    " }\n",
    " $i++\n",
    "}"
   ]
  },
  {
   "cell_type": "markdown",
   "metadata": {},
   "source": [
    "Note: This code will increment <font color=#5394d4>\\\\$i</font> to <font color=green>8</font> and <font color=#5394d4>\\\\$j</font> to <font color=green>13</font> which will cause <font color=#5394d4>\\\\$k</font> to equal <font color=green>104</font>. Since <font color=#5394d4>\\\\$</font> exceed <font color=green>100</font>, the code\n",
    "will then break out of both loops."
   ]
  },
  {
   "cell_type": "markdown",
   "metadata": {},
   "source": [
    "## Section 7.7: While"
   ]
  },
  {
   "cell_type": "markdown",
   "metadata": {},
   "source": [
    "A while loop will evaluate a condition and if true will perform an action. As long as the condition evaluates to true\n",
    "the action will continue to be performed."
   ]
  },
  {
   "cell_type": "code",
   "execution_count": null,
   "metadata": {},
   "outputs": [],
   "source": [
    "while(condition){\n",
    " code_block\n",
    "}"
   ]
  },
  {
   "cell_type": "code",
   "execution_count": null,
   "metadata": {},
   "outputs": [],
   "source": [
    "$i = 10\n",
    "while($i -ge 0){\n",
    " $i\n",
    " $i--\n",
    "}"
   ]
  },
  {
   "cell_type": "markdown",
   "metadata": {},
   "source": [
    "Unlike the Do-While loop the condition is evaluated prior to the action's first execution. The action will not be\n",
    "performed if the initial condition evaluates to false.\n",
    "Note: When evaluating the condition, PowerShell will treat the existence of a return object as true. This can be used\n",
    "in several ways but below is an example to monitor for a process. This example will spawn a notepad process and\n",
    "then sleep the current shell as long as that process is running. When you manually close the notepad instance the\n",
    "while condition will fail and the loop will break."
   ]
  },
  {
   "cell_type": "code",
   "execution_count": null,
   "metadata": {},
   "outputs": [],
   "source": [
    "Start-Process notepad.exe\n",
    "while(Get-Process notepad -ErrorAction SilentlyContinue){\n",
    " Start-Sleep -Milliseconds 500\n",
    "}"
   ]
  },
  {
   "cell_type": "markdown",
   "metadata": {},
   "source": [
    "## Section 7.8: Do"
   ]
  },
  {
   "cell_type": "markdown",
   "metadata": {},
   "source": [
    "Do-loops are useful when you always want to run a codeblock at least once. A Do-loop will evaluate the condition\n",
    "after executing the codeblock, unlike a while-loop which does it before executing the codeblock.\n",
    "You can use do-loops in two ways:"
   ]
  },
  {
   "cell_type": "markdown",
   "metadata": {},
   "source": [
    "    Loop while the condition is true:"
   ]
  },
  {
   "cell_type": "code",
   "execution_count": null,
   "metadata": {},
   "outputs": [],
   "source": [
    "Do {\n",
    " code_block\n",
    "} while (condition)"
   ]
  },
  {
   "cell_type": "markdown",
   "metadata": {},
   "source": [
    "Loop until the condition is true, in other words, loop while the condition is false:"
   ]
  },
  {
   "cell_type": "code",
   "execution_count": null,
   "metadata": {},
   "outputs": [],
   "source": [
    "Do {\n",
    " code_block\n",
    "} until (condition)"
   ]
  },
  {
   "cell_type": "markdown",
   "metadata": {},
   "source": [
    "Real Examples:"
   ]
  },
  {
   "cell_type": "code",
   "execution_count": null,
   "metadata": {},
   "outputs": [],
   "source": [
    "$i = 0\n",
    "Do {\n",
    " $i++\n",
    " \"Number $i\"\n",
    "} while ($i -ne 3)"
   ]
  },
  {
   "cell_type": "code",
   "execution_count": null,
   "metadata": {},
   "outputs": [],
   "source": [
    "$i = 0\n",
    "Do {\n",
    " $i++\n",
    " \"Number $i\"\n",
    "} until ($i -eq 3)"
   ]
  },
  {
   "cell_type": "markdown",
   "metadata": {},
   "source": [
    "Do-While and Do-Until are antonymous loops. If the code inside the same, the condition will be reversed. The\n",
    "example above illustrates this behaviour."
   ]
  },
  {
   "cell_type": "code",
   "execution_count": null,
   "metadata": {},
   "outputs": [],
   "source": [
    "## Run this if you want to see explaination of the top\n",
    "Import-Module \"./modules/tutorial.psm1\"; embedYoutube -youtubeId \"_WIZPgPB8Wk\" | Out-Display"
   ]
  }
 ],
 "metadata": {
  "kernelspec": {
   "display_name": ".NET (PowerShell)",
   "language": "PowerShell",
   "name": ".net-powershell"
  },
  "language_info": {
   "file_extension": ".ps1",
   "mimetype": "text/x-powershell",
   "name": "PowerShell",
   "pygments_lexer": "powershell",
   "version": "7.0"
  }
 },
 "nbformat": 4,
 "nbformat_minor": 4
}
