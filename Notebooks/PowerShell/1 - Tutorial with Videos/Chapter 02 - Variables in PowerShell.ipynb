{
 "cells": [
  {
   "cell_type": "markdown",
   "metadata": {},
   "source": [
    "# Chapter 2: Variables in PowerShell\n",
    "\n",
    "Variables are used for storing values. Let the value be of any type , we need to store it somewhere so that we can\n",
    "use it throughout the console/script. Variable names in PowerShell begin with a <font color=#5394d4>\\\\$,</font> as in <font color=#5394d4>\\\\$Variable1</font>, and values are\n",
    "assigned using <font color=green>=</font>, like <font color=#5394d4>\\\\$Variable1</font> <font color=green>=</font> <font color=#cf7c7b>\"Value 1\"</font>. PowerShell supports a huge number of variable types; such as text\n",
    "strings, integers, decimals, arrays, and even advanced types like version numbers or IP addresses."
   ]
  },
  {
   "cell_type": "markdown",
   "metadata": {},
   "source": [
    "## 2.1 Simple variable"
   ]
  },
  {
   "cell_type": "markdown",
   "metadata": {},
   "source": [
    "All variables in PowerShell begin with a US dollar sign <font color=#5394d4>\\$</font><br><br>\n",
    "The following statement allocates a variable called foo with a string value of \"bar\".\n",
    "\n",
    "```powershell\n",
    "$foo = \"bar\"\n",
    "```"
   ]
  },
  {
   "cell_type": "code",
   "execution_count": 2,
   "metadata": {},
   "outputs": [
    {
     "name": "stdout",
     "output_type": "stream",
     "text": [
      "bar\n"
     ]
    }
   ],
   "source": [
    "$foo = \"bar\"\n",
    "\n",
    "$foo"
   ]
  },
  {
   "cell_type": "markdown",
   "metadata": {},
   "source": [
    "## 2.2 Arrays"
   ]
  },
  {
   "cell_type": "markdown",
   "metadata": {},
   "source": [
    "Array declaration in Powershell is almost the same as instantiating any other variable, i.e. you use a <font color=#5394d4>\\\\$name</font> <font color=green>=</font> syntax\\.\n",
    "The items in the array are declared by separating them by commas(\\,)"
   ]
  },
  {
   "cell_type": "markdown",
   "metadata": {},
   "source": [
    "### 2.2.1 Array of Integers and Array of Strings"
   ]
  },
  {
   "cell_type": "markdown",
   "metadata": {},
   "source": [
    "Enter the following and then call your variable to see the result\n",
    "```powershell\n",
    "$myArrayOfInts = 1,2,3,4\n",
    "```"
   ]
  },
  {
   "cell_type": "code",
   "execution_count": null,
   "metadata": {},
   "outputs": [],
   "source": []
  },
  {
   "cell_type": "markdown",
   "metadata": {},
   "source": [
    "Enter the following and then call your variable to see the result\n",
    "```powershell\n",
    "$myArrayOfStrings = \"1\",\"2\",\"3\",\"4\"\n",
    "```"
   ]
  },
  {
   "cell_type": "code",
   "execution_count": null,
   "metadata": {},
   "outputs": [],
   "source": []
  },
  {
   "cell_type": "markdown",
   "metadata": {},
   "source": [
    "### 2.2.2 - Adding to an array"
   ]
  },
  {
   "cell_type": "markdown",
   "metadata": {},
   "source": [
    "Adding to an array is as simple as using the + operator:\n",
    "\n",
    "<code>$myArrayOfInts = $myArrayOfInts + 5</code>\n"
   ]
  },
  {
   "cell_type": "code",
   "execution_count": null,
   "metadata": {},
   "outputs": [],
   "source": []
  },
  {
   "cell_type": "markdown",
   "metadata": {},
   "source": [
    "Now call on the <font color=#5394d4>$myArrayOfInts</font> and review the results\n",
    "\n",
    "    result should now contains 1,2,3,4 & 5!\n",
    "\n",
    "```powershell\n",
    "$myArrayOfInts\n",
    "```"
   ]
  },
  {
   "cell_type": "code",
   "execution_count": null,
   "metadata": {},
   "outputs": [],
   "source": []
  },
  {
   "cell_type": "markdown",
   "metadata": {},
   "source": [
    "### 2.2.3 - Combining arrays together"
   ]
  },
  {
   "cell_type": "markdown",
   "metadata": {},
   "source": [
    "Build the first array:\n",
    "```powershell\n",
    "$firstArray = 1,2,3,4\n",
    "```"
   ]
  },
  {
   "cell_type": "code",
   "execution_count": null,
   "metadata": {},
   "outputs": [],
   "source": []
  },
  {
   "cell_type": "markdown",
   "metadata": {},
   "source": [
    "Build the second array:\n",
    "```powershell\n",
    "$secondArray = 5,6,7,8\n",
    "```"
   ]
  },
  {
   "cell_type": "code",
   "execution_count": null,
   "metadata": {},
   "outputs": [],
   "source": []
  },
  {
   "cell_type": "markdown",
   "metadata": {},
   "source": [
    "Now lets combine them!\n",
    "```\n",
    "$combinedArray = $firstArray + $secondArray\n",
    "```"
   ]
  },
  {
   "cell_type": "markdown",
   "metadata": {},
   "source": [
    "    Explanation Video if you want it"
   ]
  },
  {
   "cell_type": "code",
   "execution_count": null,
   "metadata": {},
   "outputs": [],
   "source": [
    "## Run this if you want to see explaination of the top\n",
    "Import-Module \"./modules/tutorial.psm1\"; embedYoutube -youtubeId \"1oqnVJuI4uM\" | Out-Display"
   ]
  },
  {
   "cell_type": "markdown",
   "metadata": {},
   "source": [
    "### 2.3 List Assignment of Multiple Variables"
   ]
  },
  {
   "cell_type": "markdown",
   "metadata": {},
   "source": [
    "Powershell allows multiple assignment of variables and treats almost everything like an array or list. This means that instead of doing something like this\n",
    "Run the following command:<br>\n",
    "\n",
    "<font color=#5394d4>\\\\$input</font> = \"foo.bar.baz\"<br>\n",
    "<font color=#5394d4>\\\\$parts</font> = \\\\$input.Split(\".\")<br>\n",
    "<font color=#5394d4>\\\\$foo</font> = \\\\$parts[0]<br>\n",
    "<font color=#5394d4>\\\\$bar</font> = \\\\$parts[1]<br>\n",
    "<font color=#5394d4>\\\\$baz</font> = \\\\$parts[2]<br>"
   ]
  },
  {
   "cell_type": "code",
   "execution_count": null,
   "metadata": {},
   "outputs": [],
   "source": []
  },
  {
   "cell_type": "markdown",
   "metadata": {},
   "source": [
    "You can simply do this:<br>\n",
    "<font color=#5394d4>\\\\$foo, \\\\$bar, \\\\$baz</font> <font color=purple>=</font> <font color=green>\\\\$input.</font>Split(\".\")"
   ]
  },
  {
   "cell_type": "code",
   "execution_count": null,
   "metadata": {},
   "outputs": [],
   "source": []
  },
  {
   "cell_type": "markdown",
   "metadata": {},
   "source": [
    "Since Powershell treats assignments in this manner like lists, if there are more values in the list than items in your\n",
    "list of variables to assign them to, the last variable becomes an array of the remaining values. \n",
    "This means you can also do things like this:\n",
    "```\n",
    "$input = \"foo.bar.baz\"\n",
    "$foo, $leftover = $input.Split(\".\") #Sets $foo = \"foo\", $leftover = [\"bar\",\"baz\"]\n",
    "$bar = $leftover[0] # $bar = \"bar\"\n",
    "$baz = $leftover[1] # $baz = \"baz\"\n",
    "```"
   ]
  },
  {
   "cell_type": "markdown",
   "metadata": {},
   "source": [
    "    Explainer Video if you want"
   ]
  },
  {
   "cell_type": "code",
   "execution_count": null,
   "metadata": {},
   "outputs": [],
   "source": [
    "## Run this if you want to see explaination of the top\n",
    "Import-Module \"./modules/tutorial.psm1\"; embedYoutube -youtubeId \"LjVPJeQ1IFA\" | Out-Display"
   ]
  },
  {
   "cell_type": "markdown",
   "metadata": {},
   "source": [
    "## 2.4: Scope"
   ]
  },
  {
   "cell_type": "markdown",
   "metadata": {},
   "source": [
    "The default scope for a variable is the enclosing container. If outside a script, or other container then the scope is\n",
    "Global. \n",
    "To specify a scope, it is prefixed to the variable name \n",
    "```powershell\n",
    "$scope:varname\n",
    "```"
   ]
  },
  {
   "cell_type": "code",
   "execution_count": null,
   "metadata": {},
   "outputs": [],
   "source": [
    "$foo = \"Global Scope\"\n",
    "\n",
    "function myFunc {\n",
    "    $foo = \"Function (local) scope\"\n",
    "    Write-Host $global:foo\n",
    "    Write-Host $local:foo\n",
    "    Write-Host $foo\n",
    "}\n",
    "\n",
    "myFunc\n",
    "Write-Host $local:foo\n",
    "Write-Host $foo"
   ]
  },
  {
   "cell_type": "code",
   "execution_count": 1,
   "metadata": {},
   "outputs": [
    {
     "data": {
      "text/html": [
       "\r\n",
       "<div>\r\n",
       "    <div id='dotnet-interactive-this-cell-1222.Microsoft.DotNet.Interactive.Http.HttpPort' style='display: none'>\r\n",
       "        The below script needs to be able to find the current output cell; this is an easy method to get it.\r\n",
       "    </div>\r\n",
       "    <script type='text/javascript'>\r\n",
       "async function probeAddresses(probingAddresses) {\r\n",
       "    function timeout(ms, promise) {\r\n",
       "        return new Promise(function (resolve, reject) {\r\n",
       "            setTimeout(function () {\r\n",
       "                reject(new Error('timeout'))\r\n",
       "            }, ms)\r\n",
       "            promise.then(resolve, reject)\r\n",
       "        })\r\n",
       "    }\r\n",
       "\r\n",
       "    if (Array.isArray(probingAddresses)) {\r\n",
       "        for (let i = 0; i < probingAddresses.length; i++) {\r\n",
       "\r\n",
       "            let rootUrl = probingAddresses[i];\r\n",
       "\r\n",
       "            if (!rootUrl.endsWith('/')) {\r\n",
       "                rootUrl = `${rootUrl}/`;\r\n",
       "            }\r\n",
       "\r\n",
       "            try {\r\n",
       "                let response = await timeout(1000, fetch(`${rootUrl}discovery`, {\r\n",
       "                    method: 'POST',\r\n",
       "                    cache: 'no-cache',\r\n",
       "                    mode: 'cors',\r\n",
       "                    timeout: 1000,\r\n",
       "                    headers: {\r\n",
       "                        'Content-Type': 'text/plain'\r\n",
       "                    },\r\n",
       "                    body: probingAddresses[i]\r\n",
       "                }));\r\n",
       "\r\n",
       "                if (response.status == 200) {\r\n",
       "                    return rootUrl;\r\n",
       "                }\r\n",
       "            }\r\n",
       "            catch (e) { }\r\n",
       "        }\r\n",
       "    }\r\n",
       "}\r\n",
       "\r\n",
       "function loadDotnetInteractiveApi() {\r\n",
       "    probeAddresses([\"http://172.16.200.148:1015/\", \"http://172.18.0.5:1015/\", \"http://127.0.0.1:1015/\"])\r\n",
       "        .then((root) => {\r\n",
       "        // use probing to find host url and api resources\r\n",
       "        // load interactive helpers and language services\r\n",
       "        let dotnetInteractiveRequire = require.config({\r\n",
       "        context: '1222.Microsoft.DotNet.Interactive.Http.HttpPort',\r\n",
       "                paths:\r\n",
       "            {\r\n",
       "                'dotnet-interactive': `${root}resources`\r\n",
       "                }\r\n",
       "        }) || require;\r\n",
       "\r\n",
       "            window.dotnetInteractiveRequire = dotnetInteractiveRequire;\r\n",
       "\r\n",
       "            window.configureRequireFromExtension = function(extensionName, extensionCacheBuster) {\r\n",
       "                let paths = {};\r\n",
       "                paths[extensionName] = `${root}extensions/${extensionName}/resources/`;\r\n",
       "                \r\n",
       "                let internalRequire = require.config({\r\n",
       "                    context: extensionCacheBuster,\r\n",
       "                    paths: paths,\r\n",
       "                    urlArgs: `cacheBuster=${extensionCacheBuster}`\r\n",
       "                    }) || require;\r\n",
       "\r\n",
       "                return internalRequire\r\n",
       "            };\r\n",
       "        \r\n",
       "            dotnetInteractiveRequire([\r\n",
       "                    'dotnet-interactive/dotnet-interactive'\r\n",
       "                ],\r\n",
       "                function (dotnet) {\r\n",
       "                    dotnet.init(window);\r\n",
       "                },\r\n",
       "                function (error) {\r\n",
       "                    console.log(error);\r\n",
       "                }\r\n",
       "            );\r\n",
       "        })\r\n",
       "        .catch(error => {console.log(error);});\r\n",
       "    }\r\n",
       "\r\n",
       "// ensure `require` is available globally\r\n",
       "if ((typeof(require) !==  typeof(Function)) || (typeof(require.config) !== typeof(Function))) {\r\n",
       "    let require_script = document.createElement('script');\r\n",
       "    require_script.setAttribute('src', 'https://cdnjs.cloudflare.com/ajax/libs/require.js/2.3.6/require.min.js');\r\n",
       "    require_script.setAttribute('type', 'text/javascript');\r\n",
       "    \r\n",
       "    \r\n",
       "    require_script.onload = function() {\r\n",
       "        loadDotnetInteractiveApi();\r\n",
       "    };\r\n",
       "\r\n",
       "    document.getElementsByTagName('head')[0].appendChild(require_script);\r\n",
       "}\r\n",
       "else {\r\n",
       "    loadDotnetInteractiveApi();\r\n",
       "}\r\n",
       "\r\n",
       "    </script>\r\n",
       "</div>"
      ]
     },
     "metadata": {},
     "output_type": "display_data"
    },
    {
     "data": {
      "text/html": [
       "\n",
       "<iframe src=\"https://giphy.com/embed/9UqRcQHzBou6A\" width=\"480\" height=\"202\" frameBorder=\"0\" class=\"giphy-embed\" allowFullScreen></iframe><p><a href=\"https://giphy.com/gifs/movie-leo-inception-9UqRcQHzBou6A\">via GIPHY</a></p>"
      ]
     },
     "metadata": {},
     "output_type": "display_data"
    }
   ],
   "source": [
    "#Its like inception. Here is an example\n",
    "#!html\n",
    "<iframe src=\"https://giphy.com/embed/9UqRcQHzBou6A\" width=\"480\" height=\"202\" frameBorder=\"0\" class=\"giphy-embed\" allowFullScreen></iframe><p><a href=\"https://giphy.com/gifs/movie-leo-inception-9UqRcQHzBou6A\">via GIPHY</a></p>"
   ]
  },
  {
   "cell_type": "code",
   "execution_count": 11,
   "metadata": {},
   "outputs": [
    {
     "name": "stdout",
     "output_type": "stream",
     "text": [
      "yellow\n",
      "red\n",
      "green\n",
      "blue\n"
     ]
    }
   ],
   "source": [
    "#dream within a dream\n",
    "function dreamOne {\n",
    "    $henry = \"yellow\"\n",
    "    function dreamTwo {\n",
    "        $sam = \"green\"\n",
    "        function dreamThree {\n",
    "            $sally = \"red\"\n",
    "            function dreamFour {\n",
    "                $bob = \"blue\"\n",
    "                \n",
    "                Write-Host $henry\n",
    "                Write-Host $sally\n",
    "                Write-Host $sam\n",
    "                Write-Host $bob\n",
    "            }\n",
    "            dreamFour\n",
    "        }\n",
    "        dreamThree\n",
    "    }\n",
    "    dreamTwo\n",
    "}\n",
    "\n",
    "dreamOne"
   ]
  },
  {
   "cell_type": "code",
   "execution_count": null,
   "metadata": {},
   "outputs": [],
   "source": [
    "## Run this if you want to see explaination of the top\n",
    "Import-Module \"./modules/tutorial.psm1\"; embedYoutube -youtubeId \"PGL_1UJPNqI\" | Out-Display"
   ]
  },
  {
   "cell_type": "markdown",
   "metadata": {},
   "source": [
    "## 2.5 Removing a variable"
   ]
  },
  {
   "cell_type": "markdown",
   "metadata": {},
   "source": [
    "To remove a variable from memory, one can use the Remove-Item cmdlet. Note: The variable name does NOT\n",
    "include the $.\n",
    "```powershell\n",
    "Remove-Item Variable:\\foo\n",
    "```"
   ]
  },
  {
   "cell_type": "code",
   "execution_count": null,
   "metadata": {},
   "outputs": [],
   "source": [
    "$var = \"Some Variable\" #Define variable 'var' containing the string 'Some Variable'\n",
    "$var #For test and show string 'Some Variable' on the console"
   ]
  },
  {
   "cell_type": "code",
   "execution_count": null,
   "metadata": {},
   "outputs": [],
   "source": [
    "Remove-Variable -Name var\n",
    "$var"
   ]
  },
  {
   "cell_type": "code",
   "execution_count": null,
   "metadata": {},
   "outputs": [],
   "source": [
    "#also can use alias 'rv'\n",
    "rv $var"
   ]
  }
 ],
 "metadata": {
  "kernelspec": {
   "display_name": ".NET (PowerShell)",
   "language": "PowerShell",
   "name": ".net-powershell"
  },
  "language_info": {
   "file_extension": ".ps1",
   "mimetype": "text/x-powershell",
   "name": "PowerShell",
   "pygments_lexer": "powershell",
   "version": "7.0"
  },
  "toc-autonumbering": false,
  "toc-showcode": false,
  "toc-showmarkdowntxt": true,
  "toc-showtags": false
 },
 "nbformat": 4,
 "nbformat_minor": 4
}
