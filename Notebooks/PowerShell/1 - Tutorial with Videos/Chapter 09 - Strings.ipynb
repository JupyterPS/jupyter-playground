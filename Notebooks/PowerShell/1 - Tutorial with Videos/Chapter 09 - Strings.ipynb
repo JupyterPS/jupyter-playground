{
 "cells": [
  {
   "cell_type": "markdown",
   "metadata": {},
   "source": [
    "# Chapter 9: Strings\n",
    "\n",
    "This tutorial was sourced from the great work done by http://GoalKicker.com/PowerShellBook and the content is written by the beautiful people at Stack Overflow.\n",
    "\n",
    "### Table of Contents\n",
    "1. [Multiline string](#1)\n",
    "2. [Here-string](#2)\n",
    "3. [Concatenating strings](#3)\n",
    "4. [Creating a basic string](#4)\n",
    "5. [Special characters](#5)\n",
    "6. [Creating a basic string](#6)\n",
    "7. [Format string](#7)"
   ]
  },
  {
   "cell_type": "markdown",
   "metadata": {},
   "source": [
    "## Section 9.1: Multiline string"
   ]
  },
  {
   "cell_type": "markdown",
   "metadata": {},
   "source": [
    "There are multiple ways to create a multiline string in PowerShell:<br>\n",
    "\n",
    "The '\\n' is the \"Line Feed\" and '\\r' is the carriage return.<br>Different operating systems will handle new lines in a different way.\n",
    "[Documentation Here](https://docs.microsoft.com/en-us/powershell/module/microsoft.powershell.core/about/about_special_characters?view=powershell-7)\n",
    "\n",
    "| OS | Command | Description |\n",
    "|---|---|---|\n",
    "|Windows| <center>\\`r\\`n <br>or<br>[Environment]::NewLine | Expects a newline to be combination of two characters. Im at the end of the line. goto the next line. |\n",
    "| Linux | <center> \\`n <br>or<br> [Environment]::NewLine | Uses a single '\\n' for a new line.\n",
    "| Classic Mac OS | <center> \\`r <br>or<br> | Uses a single '\\r' for a new line."
   ]
  },
  {
   "cell_type": "markdown",
   "metadata": {},
   "source": [
    "On windows\n",
    "```powershell\n",
    "\"Hello`r`nWorld\"   or   \"Hello{0}World\" -f [environment]::NewLine\n",
    "```"
   ]
  },
  {
   "cell_type": "code",
   "execution_count": null,
   "metadata": {},
   "outputs": [],
   "source": [
    "[environment]::NewLine -eq \"`r`n\"\n",
    "\"`nHello`r`nWorld\"\n",
    "\"`nHello{0}World\" -f [environment]::NewLine"
   ]
  },
  {
   "cell_type": "markdown",
   "metadata": {},
   "source": [
    "On Linux\n",
    "```powershell\n",
    "\"Hello`nWorld\"    or    \"Hello{0}World\" -f [environment]::NewLine\n",
    "```"
   ]
  },
  {
   "cell_type": "code",
   "execution_count": null,
   "metadata": {},
   "outputs": [],
   "source": [
    "[environment]::NewLine -eq \"`n\"\n",
    "\"`nHello`nWorld\"\n",
    "\"`nHello{0}World\" -f [environment]::NewLine"
   ]
  },
  {
   "cell_type": "markdown",
   "metadata": {},
   "source": [
    "Create a linebreak while defining a string (before closing quote)"
   ]
  },
  {
   "cell_type": "code",
   "execution_count": null,
   "metadata": {},
   "outputs": [],
   "source": [
    "\"Hello World\""
   ]
  },
  {
   "cell_type": "markdown",
   "metadata": {},
   "source": [
    "Using a here-string. This is the most common technique."
   ]
  },
  {
   "cell_type": "code",
   "execution_count": null,
   "metadata": {},
   "outputs": [],
   "source": [
    "@\"\n",
    "Hello\n",
    "World\n",
    "\"@"
   ]
  },
  {
   "cell_type": "markdown",
   "metadata": {},
   "source": [
    "## Section 9.2: Here-string\n",
    "Here-strings are very useful when creating multiline strings. One of the biggest benefits compared to other\n",
    "multiline strings are that you can use quotes without having to escape them using a backtick."
   ]
  },
  {
   "cell_type": "markdown",
   "metadata": {},
   "source": [
    "### Here-string\n",
    "\n",
    "Here-strings begin with @\" and a linebreak and end with \"@ on its own line. <br>\n",
    "<font color=yellow>(\"@must be first characters on the line, not even whitespace/tab).</font>\n",
    "```powershell\n",
    "@\"\n",
    "Simple\n",
    " Multiline string\n",
    "with \"quotes\"\n",
    "\"@\n",
    "```\n"
   ]
  },
  {
   "cell_type": "code",
   "execution_count": null,
   "metadata": {},
   "outputs": [],
   "source": [
    "$htmlCode = @\"\n",
    "\n",
    "<iframe \n",
    "    src=\"https://giphy.com/embed/W6jB4dyDSSogFvcpWi\" \n",
    "    width=\"480\"\n",
    "    height=\"480\" \n",
    "    frameBorder=\"0\" \n",
    "    class=\"giphy-embed\" \n",
    "    allowFullScreen></iframe>\n",
    "\n",
    "\"@\n",
    "\n",
    "$htmlCode | Out-Display"
   ]
  },
  {
   "cell_type": "markdown",
   "metadata": {},
   "source": [
    "### Literal here-string"
   ]
  },
  {
   "cell_type": "markdown",
   "metadata": {},
   "source": [
    "You could also create a literal here-string by using single quotes, when you don't want any expressions to be\n",
    "expanded just like a normal literal string.\n",
    "```powershell\n",
    "@'\n",
    "The following line won't be expanded\n",
    "$(Get-Date)\n",
    "because this is a literal here-string\n",
    "'@\n",
    "```"
   ]
  },
  {
   "cell_type": "code",
   "execution_count": null,
   "metadata": {},
   "outputs": [],
   "source": [
    "@'\n",
    "The following line won't be expanded\n",
    "$(Get-Date)\n",
    "because this is a literal here-string\n",
    "'@"
   ]
  },
  {
   "cell_type": "markdown",
   "metadata": {},
   "source": [
    "### Another Tip\n",
    "If you want to insert variables into a multi-line string. You cant use a literal string. "
   ]
  },
  {
   "cell_type": "code",
   "execution_count": null,
   "metadata": {},
   "outputs": [],
   "source": [
    "@\"\n",
    "Simple\n",
    " Multiline string\n",
    "with \"quotes\"\n",
    "\"@"
   ]
  },
  {
   "cell_type": "markdown",
   "metadata": {},
   "source": [
    "## Section 9.3: Concatenating strings\n",
    "Using variables in a string"
   ]
  },
  {
   "cell_type": "markdown",
   "metadata": {},
   "source": [
    "You can concatenate strings using variables inside a double-quoted string. This does not work with properties.\n",
    "```powershell\n",
    "#$$ powershell code\n",
    "$string1 = \"Power\"\n",
    "$string2 = \"Shell\"\n",
    "\"Greetings from $string1$string2\"\n",
    "```"
   ]
  },
  {
   "cell_type": "code",
   "execution_count": null,
   "metadata": {},
   "outputs": [],
   "source": [
    "#$$ powershell code\n",
    "$string1 = \"Power\"\n",
    "$string2 = \"Shell\"\n",
    "\"Greetings from $string1$string2\""
   ]
  },
  {
   "cell_type": "markdown",
   "metadata": {},
   "source": [
    "Using the + operator\n",
    "You can also join strings using the + operator.\n",
    "```powershell\n",
    "#$$ powershell code\n",
    "$string1 = \"Greetings from\"\n",
    "$string2 = \"PowerShell\"\n",
    "$string1 + \" \" + $string2\n",
    "```"
   ]
  },
  {
   "cell_type": "code",
   "execution_count": null,
   "metadata": {},
   "outputs": [],
   "source": [
    "$string1 = \"Greetings from\"\n",
    "$string2 = \"PowerShell\"\n",
    "$string1 + \" \" + $string2"
   ]
  },
  {
   "cell_type": "markdown",
   "metadata": {},
   "source": [
    "This also works with properties of objects.\n",
    "```powershell\n",
    "\"The title of this console is '\" + $host.Name + \"'\"\n",
    "```"
   ]
  },
  {
   "cell_type": "code",
   "execution_count": null,
   "metadata": {},
   "outputs": [],
   "source": [
    "\"The title of this console is '\" + $host.Name + \"'\""
   ]
  },
  {
   "cell_type": "markdown",
   "metadata": {},
   "source": [
    "Using subexpressions\n",
    "The output/result of a subexpressions \\\\$() can be used in a string. This is useful when accessing properties of an\n",
    "object or performing a complex expression. Subexpressions can contain multiple statements separated by\n",
    "semicolon ;\n",
    "```powershell\n",
    "\"Tomorrow is $((Get-Date).AddDays(1).DayOfWeek)\"\n",
    "```"
   ]
  },
  {
   "cell_type": "code",
   "execution_count": null,
   "metadata": {},
   "outputs": [],
   "source": [
    "\"Tomorrow is $((Get-Date).AddDays(1).DayOfWeek)\""
   ]
  },
  {
   "cell_type": "markdown",
   "metadata": {},
   "source": [
    "## Section 9.4: Special characters\n",
    "When used inside a double-quoted string, the escape character (backtick `) represents a special character.<br>\n",
    "[Documentation Here](https://docs.microsoft.com/en-us/powershell/module/microsoft.powershell.core/about/about_special_characters?view=powershell-7)\n",
    "```powershell\n",
    "`0 #Null\n",
    "`a #Alert/Beep\n",
    "`b #Backspace\n",
    "`f #Form feed (used for printer output)\n",
    "`n #New line\n",
    "`r #Carriage return\n",
    "`t #Horizontal tab\n",
    "`v #Vertical tab (used for printer output)\n",
    "```"
   ]
  },
  {
   "cell_type": "markdown",
   "metadata": {},
   "source": [
    "Example:\n",
    "```powershell\n",
    "> \"This`tuses`ttab`r`nThis is on a second line\"\n",
    "```"
   ]
  },
  {
   "cell_type": "code",
   "execution_count": null,
   "metadata": {},
   "outputs": [],
   "source": [
    "\"This`tuses`ttab`r`nThis is on a second line\""
   ]
  },
  {
   "cell_type": "markdown",
   "metadata": {},
   "source": [
    "You can also escape special characters with special meanings:\n",
    "```\n",
    "`# #Comment-operator\n",
    "`$ #Variable operator\n",
    "`` #Escape character\n",
    "`' #Single quote\n",
    "`\" #Double quote\n",
    "```"
   ]
  },
  {
   "cell_type": "markdown",
   "metadata": {},
   "source": [
    "## Section 9.5: Creating a basic string\n",
    "\n",
    "### String\n",
    "Strings are created by wrapping the text with double quotes. Double-quoted strings can evaluate variables and\n",
    "special characters.\n",
    "```powershell\n",
    "#$$ Powershell Code\n",
    "$myString = \"Some basic text\"\n",
    "$mySecondString = \"String with a $variable\"\n",
    "```"
   ]
  },
  {
   "cell_type": "code",
   "execution_count": null,
   "metadata": {},
   "outputs": [],
   "source": [
    "$myString = \"Some basic text\"\n",
    "$mySecondString = \"String with a $myString\"\n",
    "\n",
    "$mySecondString"
   ]
  },
  {
   "cell_type": "markdown",
   "metadata": {},
   "source": [
    "To use a double quote inside a string it needs to be escaped using the escape character, backtick (`). Single quotes can be used inside a double-quoted string.\n",
    "```powershell\n",
    "$myString = \"A `\"double quoted`\" string which also has 'single quotes'.\"\n",
    "```"
   ]
  },
  {
   "cell_type": "code",
   "execution_count": null,
   "metadata": {},
   "outputs": [],
   "source": [
    "$myString = \"A `\"double quoted`\" string which also has 'single quotes'.\"\n",
    "$myString"
   ]
  },
  {
   "cell_type": "markdown",
   "metadata": {},
   "source": [
    "### Literal String"
   ]
  },
  {
   "cell_type": "markdown",
   "metadata": {},
   "source": [
    "Literal strings are strings that doesn't evaluate variables and special characters. It's created using single quotes.\n",
    "```powershell\n",
    "#$$ Powershell Code\n",
    "$myLiteralString = 'Simple text including special characters (`n) and a $variable-reference'\n",
    "```"
   ]
  },
  {
   "cell_type": "code",
   "execution_count": null,
   "metadata": {},
   "outputs": [],
   "source": [
    "$myLiteralString = 'Simple text including special characters (`n) and a $variable-reference'"
   ]
  },
  {
   "cell_type": "markdown",
   "metadata": {},
   "source": [
    "To use single quotes inside a literal string, use double single quotes or a literal here-string. Double quotes can be\n",
    "used safely inside a literal string\n",
    "```powershell\n",
    "$myLiteralString = 'Simple string with ''single quotes'' and \"double quotes\".'\n",
    "```"
   ]
  },
  {
   "cell_type": "code",
   "execution_count": null,
   "metadata": {},
   "outputs": [],
   "source": [
    "$myLiteralString = 'Simple string with ''single quotes'' and \"double quotes\".'\n",
    "$myLiteralString"
   ]
  },
  {
   "cell_type": "markdown",
   "metadata": {},
   "source": [
    "## Section 9.6: Format string\n",
    "```powershell\n",
    "#$$ Powershell Code\n",
    "$hash = @{ city = 'Berlin' }\n",
    "$result = 'You should really visit {0}' -f $hash.city\n",
    "Write-Host $result #prints \"You should really visit Berlin\"\n",
    "```\n",
    "Format strings can be used with the -f operator or the static [String]::Format(string format, args) .NET\n",
    "method."
   ]
  },
  {
   "cell_type": "code",
   "execution_count": null,
   "metadata": {},
   "outputs": [],
   "source": [
    "$hash = @{ \n",
    "    city = 'Berlin'\n",
    "    anothercity = 'Miami'\n",
    "}\n",
    "$result = 'You should really visit {0} and {1}' -f $hash.city,$hash.anothercity\n",
    "Write-Host $result #prints \"You should really visit Berlin\""
   ]
  },
  {
   "cell_type": "markdown",
   "metadata": {},
   "source": [
    "    If you want to watch an explanation video. Run the cell below (Not available yet)"
   ]
  },
  {
   "cell_type": "code",
   "execution_count": null,
   "metadata": {},
   "outputs": [],
   "source": [
    "## Run this if you want to see explaination of the top\n",
    "Import-Module \"./modules/tutorial.psm1\"; embedYoutube -youtubeId \"bwHYfdi3kKY\" | Out-Display"
   ]
  }
 ],
 "metadata": {
  "kernelspec": {
   "display_name": ".NET (PowerShell)",
   "language": "PowerShell",
   "name": ".net-powershell"
  },
  "language_info": {
   "file_extension": ".ps1",
   "mimetype": "text/x-powershell",
   "name": "PowerShell",
   "pygments_lexer": "powershell",
   "version": "7.0"
  },
  "toc-autonumbering": false,
  "toc-showmarkdowntxt": false
 },
 "nbformat": 4,
 "nbformat_minor": 4
}
