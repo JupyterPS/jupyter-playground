{
 "cells": [
  {
   "cell_type": "markdown",
   "id": "featured-virtue",
   "metadata": {},
   "source": [
    "# Test if it works"
   ]
  },
  {
   "cell_type": "markdown",
   "id": "wrapped-leather",
   "metadata": {},
   "source": [
    "## Hello World Test"
   ]
  },
  {
   "cell_type": "markdown",
   "id": "rocky-morris",
   "metadata": {},
   "source": [
    "Press down to this cell and press \"shift\" + \"enter\""
   ]
  },
  {
   "cell_type": "code",
   "execution_count": null,
   "id": "taken-staff",
   "metadata": {},
   "outputs": [],
   "source": [
    "Write-Host \"Hello World\";"
   ]
  },
  {
   "cell_type": "markdown",
   "id": "dimensional-atlanta",
   "metadata": {},
   "source": [
    "## Run this to see the picture"
   ]
  },
  {
   "cell_type": "code",
   "execution_count": null,
   "id": "standing-rough",
   "metadata": {},
   "outputs": [],
   "source": [
    "#!html\n",
    "<iframe \n",
    "    src=\"https://giphy.com/embed/PnUatAYWMEMvmiwsyx\" \n",
    "    width=\"480\" \n",
    "    height=\"480\" \n",
    "    frameBorder=\"0\" \n",
    "    class=\"giphy-embed\" \n",
    "    allowFullScreen>\n",
    "</iframe>\n",
    "\n",
    "<p><a href=\"https://giphy.com/gifs/SpongeBobMovie-spongebob-squarepant-PnUatAYWMEMvmiwsyx\">via GIPHY</a></p>"
   ]
  },
  {
   "cell_type": "code",
   "execution_count": null,
   "id": "solid-canvas",
   "metadata": {},
   "outputs": [],
   "source": []
  }
 ],
 "metadata": {
  "kernelspec": {
   "display_name": ".NET (PowerShell)",
   "language": "PowerShell",
   "name": ".net-powershell"
  },
  "language_info": {
   "file_extension": ".ps1",
   "mimetype": "text/x-powershell",
   "name": "PowerShell",
   "pygments_lexer": "powershell",
   "version": "7.0"
  },
  "toc-showcode": false,
  "toc-showmarkdowntxt": false,
  "toc-showtags": false
 },
 "nbformat": 4,
 "nbformat_minor": 5
}
