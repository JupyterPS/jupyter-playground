{
 "cells": [
  {
   "cell_type": "markdown",
   "id": "premium-framing",
   "metadata": {},
   "source": [
    "# Pipelines\n",
    "#### Follow along and run the cells with shift + enter\n",
    "- [Windows Powershell Cheatsheet](https://www.theochem.ru.nl/~pwormer/teachmat/PS_cheat_sheet.html)"
   ]
  },
  {
   "cell_type": "markdown",
   "id": "religious-collaboration",
   "metadata": {},
   "source": [
    "<!-- #$$ -->\n",
    "```powershell\n",
    "Important: Cmdlets pass objects through pipelines, not a character stream as in Unix.\n",
    "The pipeline character is $|, it must be followed by a cmdlet. The passed pipeline object is referred to by the automatic variable $_ and its member member_name is accordingly referred to by $_.member_name.\n",
    "```"
   ]
  },
  {
   "cell_type": "code",
   "execution_count": null,
   "id": "molecular-market",
   "metadata": {},
   "outputs": [],
   "source": [
    "$fruits = @('apple','banana','cherry','orange')\n",
    "\n",
    "$fruits | ForEach-Object {\n",
    "    Write-Host \"$_ - hello\"\n",
    "}"
   ]
  },
  {
   "cell_type": "markdown",
   "id": "trained-transformation",
   "metadata": {},
   "source": [
    "<!-- #$$ -->\n",
    "```powershell\n",
    "The treatment of the passed object $_ depends on the cmdlet it is passed to. To illustrate this, it is noted that a PowerShell string is an object with many methods, one of them being .contains(\"substr\"). The method returns true if the string contains \"substr\" and false if not. In the following example the stuff between curly brackets is a script block which is a sequence of executable statements. Now pass the very same string object to two different cmdlets:\n",
    "    \"a string\" | Foreach-Object {$_.contains(\"ri\")} # -> True\n",
    "    \"a string\" | Where-Object   {$_.contains(\"ri\")} # -> \"a string\"\n",
    "```"
   ]
  },
  {
   "cell_type": "markdown",
   "id": "intense-plenty",
   "metadata": {},
   "source": [
    "<!-- #$$ -->\n",
    "```powershell\n",
    "The first cmdlet passes on the resulting boolean value which drops off the end of the pipeline and is then sent to the console.\n",
    "```"
   ]
  },
  {
   "cell_type": "code",
   "execution_count": null,
   "id": "transsexual-singer",
   "metadata": {},
   "outputs": [],
   "source": [
    "\"a string\" | Foreach-Object {$_.contains(\"ri\")} # -> True"
   ]
  },
  {
   "cell_type": "markdown",
   "id": "polished-hindu",
   "metadata": {},
   "source": [
    "<!-- #$$ -->\n",
    "```powershell\n",
    "The second cmdlet uses the boolean result to decide what to do: if true the string is passed on in the pipeline (and as it is at the end, it is sent to the console). If false where-object stops the pipeline and no console output is generated.\n",
    "```"
   ]
  },
  {
   "cell_type": "code",
   "execution_count": null,
   "id": "fitting-tribe",
   "metadata": {},
   "outputs": [],
   "source": [
    "\"a string\" | Where-Object   {$_.contains(\"ri\")} # -> \"a string\""
   ]
  },
  {
   "cell_type": "code",
   "execution_count": null,
   "id": "controlling-halifax",
   "metadata": {},
   "outputs": [],
   "source": []
  }
 ],
 "metadata": {
  "kernelspec": {
   "display_name": ".NET (PowerShell)",
   "language": "PowerShell",
   "name": ".net-powershell"
  },
  "language_info": {
   "file_extension": ".ps1",
   "mimetype": "text/x-powershell",
   "name": "PowerShell",
   "pygments_lexer": "powershell",
   "version": "7.0"
  }
 },
 "nbformat": 4,
 "nbformat_minor": 5
}
