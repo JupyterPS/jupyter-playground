{
 "cells": [
  {
   "cell_type": "markdown",
   "metadata": {},
   "source": [
    "# Outputting HTML in a PowerShell notebook <img src=\"https://raw.githubusercontent.com/PowerShell/PowerShell/master/assets/Powershell_black_64.png\" align=\"right\"/>"
   ]
  },
  {
   "cell_type": "markdown",
   "metadata": {},
   "source": [
    "## The magic of the `Out-Display` cmdlet"
   ]
  },
  {
   "cell_type": "markdown",
   "metadata": {},
   "source": [
    "### Displaying rich output"
   ]
  },
  {
   "cell_type": "markdown",
   "metadata": {},
   "source": [
    "If you want to write out a `string` as HTML, you can use the `Out-Display` cmdlet:"
   ]
  },
  {
   "cell_type": "code",
   "execution_count": 9,
   "metadata": {},
   "outputs": [
    {
     "data": {
      "text/html": [
       "<div class=\"dni-plaintext\">&lt;b&gt;test cool&lt;/b&gt;</div>"
      ]
     },
     "metadata": {},
     "output_type": "display_data"
    }
   ],
   "source": [
    "Out-Display '<b>test cool</b>' -MimeType text/html"
   ]
  },
  {
   "cell_type": "markdown",
   "metadata": {},
   "source": [
    "### Specifying a MIME type"
   ]
  },
  {
   "cell_type": "markdown",
   "metadata": {},
   "source": [
    "`Out-Display` also allows you to specify the MIME type which gives you the ability to:"
   ]
  },
  {
   "cell_type": "code",
   "execution_count": 1,
   "metadata": {},
   "outputs": [
    {
     "data": {
      "text/html": [
       "\r\n",
       "<div>\r\n",
       "    <div id='dotnet-interactive-this-cell-7307.Microsoft.DotNet.Interactive.Http.HttpPort' style='display: none'>\r\n",
       "        The below script needs to be able to find the current output cell; this is an easy method to get it.\r\n",
       "    </div>\r\n",
       "    <script type='text/javascript'>\r\n",
       "async function probeAddresses(probingAddresses) {\r\n",
       "    function timeout(ms, promise) {\r\n",
       "        return new Promise(function (resolve, reject) {\r\n",
       "            setTimeout(function () {\r\n",
       "                reject(new Error('timeout'))\r\n",
       "            }, ms)\r\n",
       "            promise.then(resolve, reject)\r\n",
       "        })\r\n",
       "    }\r\n",
       "\r\n",
       "    if (Array.isArray(probingAddresses)) {\r\n",
       "        for (let i = 0; i < probingAddresses.length; i++) {\r\n",
       "\r\n",
       "            let rootUrl = probingAddresses[i];\r\n",
       "\r\n",
       "            if (!rootUrl.endsWith('/')) {\r\n",
       "                rootUrl = `${rootUrl}/`;\r\n",
       "            }\r\n",
       "\r\n",
       "            try {\r\n",
       "                let response = await timeout(1000, fetch(`${rootUrl}discovery`, {\r\n",
       "                    method: 'POST',\r\n",
       "                    cache: 'no-cache',\r\n",
       "                    mode: 'cors',\r\n",
       "                    timeout: 1000,\r\n",
       "                    headers: {\r\n",
       "                        'Content-Type': 'text/plain'\r\n",
       "                    },\r\n",
       "                    body: probingAddresses[i]\r\n",
       "                }));\r\n",
       "\r\n",
       "                if (response.status == 200) {\r\n",
       "                    return rootUrl;\r\n",
       "                }\r\n",
       "            }\r\n",
       "            catch (e) { }\r\n",
       "        }\r\n",
       "    }\r\n",
       "}\r\n",
       "\r\n",
       "function loadDotnetInteractiveApi() {\r\n",
       "    probeAddresses([\"http://172.16.200.148:1008/\", \"http://172.18.0.5:1008/\", \"http://127.0.0.1:1008/\"])\r\n",
       "        .then((root) => {\r\n",
       "        // use probing to find host url and api resources\r\n",
       "        // load interactive helpers and language services\r\n",
       "        let dotnetInteractiveRequire = require.config({\r\n",
       "        context: '7307.Microsoft.DotNet.Interactive.Http.HttpPort',\r\n",
       "                paths:\r\n",
       "            {\r\n",
       "                'dotnet-interactive': `${root}resources`\r\n",
       "                }\r\n",
       "        }) || require;\r\n",
       "\r\n",
       "            window.dotnetInteractiveRequire = dotnetInteractiveRequire;\r\n",
       "\r\n",
       "            window.configureRequireFromExtension = function(extensionName, extensionCacheBuster) {\r\n",
       "                let paths = {};\r\n",
       "                paths[extensionName] = `${root}extensions/${extensionName}/resources/`;\r\n",
       "                \r\n",
       "                let internalRequire = require.config({\r\n",
       "                    context: extensionCacheBuster,\r\n",
       "                    paths: paths,\r\n",
       "                    urlArgs: `cacheBuster=${extensionCacheBuster}`\r\n",
       "                    }) || require;\r\n",
       "\r\n",
       "                return internalRequire\r\n",
       "            };\r\n",
       "        \r\n",
       "            dotnetInteractiveRequire([\r\n",
       "                    'dotnet-interactive/dotnet-interactive'\r\n",
       "                ],\r\n",
       "                function (dotnet) {\r\n",
       "                    dotnet.init(window);\r\n",
       "                },\r\n",
       "                function (error) {\r\n",
       "                    console.log(error);\r\n",
       "                }\r\n",
       "            );\r\n",
       "        })\r\n",
       "        .catch(error => {console.log(error);});\r\n",
       "    }\r\n",
       "\r\n",
       "// ensure `require` is available globally\r\n",
       "if ((typeof(require) !==  typeof(Function)) || (typeof(require.config) !== typeof(Function))) {\r\n",
       "    let require_script = document.createElement('script');\r\n",
       "    require_script.setAttribute('src', 'https://cdnjs.cloudflare.com/ajax/libs/require.js/2.3.6/require.min.js');\r\n",
       "    require_script.setAttribute('type', 'text/javascript');\r\n",
       "    \r\n",
       "    \r\n",
       "    require_script.onload = function() {\r\n",
       "        loadDotnetInteractiveApi();\r\n",
       "    };\r\n",
       "\r\n",
       "    document.getElementsByTagName('head')[0].appendChild(require_script);\r\n",
       "}\r\n",
       "else {\r\n",
       "    loadDotnetInteractiveApi();\r\n",
       "}\r\n",
       "\r\n",
       "    </script>\r\n",
       "</div>"
      ]
     },
     "metadata": {},
     "output_type": "display_data"
    },
    {
     "data": {
      "text/html": [
       "<div class=\"dni-plaintext\">&lt;b style=&quot;color:blue&quot;&gt;Hello!&lt;/b&gt;</div>"
      ]
     },
     "metadata": {},
     "output_type": "display_data"
    }
   ],
   "source": [
    "# Output HTML\n",
    "Out-Display '<b style=\"color:blue\">Hello!</b>'"
   ]
  },
  {
   "cell_type": "code",
   "execution_count": 2,
   "metadata": {},
   "outputs": [
    {
     "data": {
      "application/javascript": [
       "alert('Hello!');"
      ]
     },
     "metadata": {},
     "output_type": "display_data"
    },
    {
     "data": {
      "text/markdown": [
       "**BOLD** _ITALICS_"
      ]
     },
     "metadata": {},
     "output_type": "display_data"
    }
   ],
   "source": [
    "# Output JavaScript\n",
    "Out-Display \"alert('Hello!');\" -MimeType application/javascript\n",
    "\n",
    "# Output Markdown\n",
    "Out-Display \"**BOLD** _ITALICS_\" -MimeType text/markdown"
   ]
  },
  {
   "cell_type": "markdown",
   "metadata": {},
   "source": [
    "### Specifying a custom MIME type\n",
    "\n",
    "If you want to use your own MIME type on one not defined in `-MimeType` you can use the `-CustomMimeType` parameter:"
   ]
  },
  {
   "cell_type": "code",
   "execution_count": 10,
   "metadata": {},
   "outputs": [
    {
     "data": {
      "text/plain": []
     },
     "metadata": {},
     "output_type": "display_data"
    },
    {
     "data": {
      "text/html": [
       "<div class=\"dni-plaintext\">&lt;?xml version=&quot;1.0&quot; encoding=&quot;utf-8&quot;?&gt;\n",
       "&lt;!-- Generator: Adobe Illustrator 21.0.0, SVG Export Plug-In . SVG Version: 6.00 Build 0)  --&gt;\n",
       "&lt;svg version=&quot;1.1&quot; id=&quot;Layer_1&quot; xmlns=&quot;http://www.w3.org/2000/svg&quot; xmlns:xlink=&quot;http://www.w3.org/1999/xlink&quot; x=&quot;0px&quot; y=&quot;0px&quot;\n",
       "\t width=&quot;128px&quot; height=&quot;128px&quot; viewBox=&quot;0 0 128 128&quot; enable-background=&quot;new 0 0 128 128&quot; xml:space=&quot;preserve&quot;&gt;\n",
       "&lt;path fill=&quot;#59B4D9&quot; d=&quot;M111.761,56.531c0-10.772-4.692-20.482-12.18-27.29c-6.78-6.165-15.851-9.948-25.838-10.004v-0.003\n",
       "\tc-0.037,0-0.074,0.001-0.111,0.001c-0.037,0-0.074-0.001-0.111-0.001v0.003c-21.017,0.117-38.018,16.768-38.018,37.294\n",
       "\tc0,5.451,0.865,10.734,1.07,16.113c0.002-0.03,0.004-0.051,0.004-0.051s-0.001,0.021-0.004,0.051\n",
       "\tc0.007,0.176,0.019,0.351,0.024,0.526c0.102,3.41,0.259,6.825,0.572,10.223c1.357,9.026,5.379,21.891,16.887,31.289\n",
       "\tc5.455,4.455,12.313,8.737,19.356,8.755c0.036,0,0.073,0,0.109,0c0,0,0.111,0,0.222,0c0.039,0,0.078,0,0.116,0\n",
       "\tc7.037-0.018,13.891-4.295,19.343-8.745c11.477-9.366,15.512-22.178,16.883-31.203c0.319-3.43,0.479-6.877,0.581-10.319\n",
       "\tC110.833,67.609,111.761,62.16,111.761,56.531z&quot;/&gt;\n",
       "&lt;path opacity=&quot;0.75&quot; fill=&quot;#1E1E1E&quot; d=&quot;M73.412,125.5c-6.326-0.016-13.083-3.031-20.661-9.22\n",
       "\tc-11.989-9.791-16.2-23.121-17.621-32.579l-0.009-0.058l-0.005-0.059c-0.278-3.012-0.457-6.204-0.58-10.351\n",
       "\tc-0.003-0.084-0.026-0.572-0.026-0.572c-0.088-2.246-0.299-4.54-0.502-6.759c-0.279-3.037-0.567-6.177-0.567-9.37\n",
       "\tc0-20.907,16.873-38.131,38.018-39.294v-0.062l4.347-0.003v0.064c9.383,0.515,18.252,4.194,25.164,10.479\n",
       "\tc8.169,7.428,12.855,17.931,12.855,28.816c0,3.191-0.29,6.329-0.57,9.363c-0.223,2.409-0.452,4.9-0.525,7.338\n",
       "\tc-0.125,4.195-0.307,7.418-0.589,10.449l-0.006,0.059l-0.009,0.059c-1.433,9.433-5.653,22.726-17.618,32.491\n",
       "\tc-7.573,6.181-14.325,9.193-20.642,9.21H73.412z&quot;/&gt;\n",
       "&lt;path fill=&quot;#59B4D9&quot; d=&quot;M111.761,56.531c0-10.772-4.692-20.482-12.18-27.29c-6.78-6.165-15.851-9.948-25.838-10.004v-0.003\n",
       "\tc-0.037,0-0.074,0.001-0.111,0.001c-0.037,0-0.074-0.001-0.111-0.001v0.003c-21.017,0.117-38.018,16.768-38.018,37.294\n",
       "\tc0,5.451,0.865,10.734,1.07,16.113c0.002-0.03,0.004-0.051,0.004-0.051s-0.001,0.021-0.004,0.051\n",
       "\tc0.007,0.176,0.019,0.351,0.024,0.526c0.102,3.41,0.259,6.825,0.572,10.223c1.357,9.026,5.379,21.891,16.887,31.289\n",
       "\tc5.455,4.455,12.313,8.737,19.356,8.755c0.036,0,0.073,0,0.109,0c0,0,0.111,0,0.222,0c0.039,0,0.078,0,0.116,0\n",
       "\tc7.037-0.018,13.891-4.295,19.343-8.745c11.477-9.366,15.512-22.178,16.883-31.203c0.319-3.43,0.479-6.877,0.581-10.319\n",
       "\tC110.833,67.609,111.761,62.16,111.761,56.531z&quot;/&gt;\n",
       "&lt;path fill=&quot;#FFFFFF&quot; d=&quot;M37.367,48.443c-0.316,1.347-0.56,2.719-0.718,4.117c-0.019,0.178-0.04,0.355-0.056,0.533\n",
       "\tc-0.025,0.255-0.041,0.511-0.06,0.767c-0.029,0.415-0.059,0.83-0.075,1.25l48.838,26.924L48.298,109.02\n",
       "\tc1.359,1.597,2.771,3.093,4.462,4.561l46.094-31.24L37.367,48.443z&quot;/&gt;\n",
       "&lt;path opacity=&quot;0.8&quot; fill=&quot;#68217A&quot; d=&quot;M95.418,55.49c5.443,0,12.739,0.878,15.802,10l0-0.001c0.274-2.964,0.541-5.935,0.541-8.958\n",
       "\tc0-10.772-4.692-20.482-12.18-27.29C100.201,31.338,101.971,48.94,95.418,55.49z&quot;/&gt;\n",
       "&lt;path opacity=&quot;0.2&quot; fill=&quot;#1E1E1E&quot; d=&quot;M95.418,55.49c5.443,0,12.739,0.878,15.802,10l0-0.001c0.274-2.964,0.541-5.935,0.541-8.958\n",
       "\tc0-10.772-4.692-20.482-12.18-27.29C100.201,31.338,101.971,48.94,95.418,55.49z&quot;/&gt;\n",
       "&lt;path fill=&quot;#68217A&quot; d=&quot;M90.17,7.782C78.76-0.976,58.834-0.402,44.754,8.414C35.62,14.133,25.477,12.409,22.2,24.107\n",
       "\tc-0.617,2.202,0.261,10.129-3.104,15.755S6.33,50.065,5.344,59.903c-1.569,15.653,8.079,27.143,12.373,31.709\n",
       "\tc5.206,5.537,7.521,5.459,5.395,13.034c-1.056,3.762-1.895,7.636-1.895,11.564c0,7.993,0.607,9.043,7.205,9.043\n",
       "\tc11.121,0,17.71-0.471,21.245-14.692c-8.183-8.796-11.328-19.402-12.496-27.167c-0.313-3.399-0.471-6.813-0.572-10.223\n",
       "\tc-0.005-0.176-0.017-0.351-0.024-0.526c-0.002-0.055-0.006-0.11-0.009-0.165c0.004,0.038,0.009,0.075,0.012,0.114l8.776-10.934\n",
       "\tc4.18-5.208,11.087-6.453,17.759-6.146h0c12.294,0,27.745-3.755,35.233-17.736C106.189,23.129,97.252,13.219,90.17,7.782z&quot;/&gt;\n",
       "&lt;path opacity=&quot;0.3&quot; fill=&quot;#1E1E1E&quot; d=&quot;M90.17,7.782C78.76-0.976,58.834-0.402,44.754,8.414C35.62,14.133,25.477,12.409,22.2,24.107\n",
       "\tc-0.617,2.202,0.261,10.129-3.104,15.755S6.33,50.065,5.344,59.903c-1.569,15.653,8.079,27.143,12.373,31.709\n",
       "\tc5.206,5.537,7.521,5.459,5.395,13.034c-1.056,3.762-1.895,7.636-1.895,11.564c0,7.993,0.607,9.043,7.205,9.043\n",
       "\tc11.121,0,17.71-0.471,21.245-14.692c-8.183-8.796-11.328-19.402-12.496-27.167c-0.313-3.399-0.471-6.813-0.572-10.223\n",
       "\tc-0.005-0.176-0.017-0.351-0.024-0.526c-0.002-0.055-0.006-0.11-0.009-0.165c0.004,0.038,0.009,0.075,0.012,0.114l8.776-10.934\n",
       "\tc4.18-5.208,11.087-6.453,17.759-6.146h0c12.294,0,27.745-3.755,35.233-17.736C106.189,23.129,97.252,13.219,90.17,7.782z&quot;/&gt;\n",
       "&lt;path fill=&quot;#59B4D9&quot; d=&quot;M90.789,91.68c-2.305,0-4.367-0.453-6.128-1.347c-3.642-1.848-5.905-5.251-5.905-8.883v-1.383l1.107-0.828\n",
       "\tc0.054-0.04,6.373-4.452,13.166-7.266c6.205-2.57,13.39-4.183,13.693-4.25l4.099-0.912l-0.787,4.125\n",
       "\tc-0.056,0.293-1.352,6.82-6.195,10.534c-1.706,5.828-5.409,9.379-10.511,10.04C92.457,91.622,91.603,91.68,90.789,91.68\n",
       "\tL90.789,91.68z&quot;/&gt;\n",
       "&lt;path fill=&quot;#68217A&quot; d=&quot;M81.516,81.45c0,0,6.061-4.231,12.569-6.926c6.054-2.507,13.236-4.106,13.236-4.106s-1.227,6.429-5.89,9.367\n",
       "\tL81.516,81.45z&quot;/&gt;\n",
       "&lt;path opacity=&quot;0.4&quot; fill=&quot;#1E1E1E&quot; d=&quot;M81.516,81.45c0,0,6.061-4.231,12.569-6.926c6.054-2.507,13.236-4.106,13.236-4.106\n",
       "\ts-1.227,6.429-5.89,9.367L81.516,81.45z&quot;/&gt;\n",
       "&lt;path fill=&quot;#FFFFFF&quot; d=&quot;M92.971,88.772c5.655-0.733,8.541-5.803,9.121-13.318c0,0-4.082,0.48-10.861,2.602\n",
       "\tc-4.77,1.493-9.715,3.394-9.715,3.394c0,2.705,1.832,5.121,4.393,6.421C88.066,88.965,90.613,89.078,92.971,88.772z&quot;/&gt;\n",
       "&lt;path fill=&quot;#68217A&quot; d=&quot;M65.745,81.45c0,0-6.061-4.231-12.569-6.926c-6.054-2.507-13.236-4.106-13.236-4.106s1.227,6.429,5.89,9.367\n",
       "\tL65.745,81.45z&quot;/&gt;\n",
       "&lt;path opacity=&quot;0.4&quot; fill=&quot;#1E1E1E&quot; d=&quot;M65.745,81.45c0,0-6.061-4.231-12.569-6.926c-6.054-2.507-13.236-4.106-13.236-4.106\n",
       "\ts1.227,6.429,5.89,9.367L65.745,81.45z&quot;/&gt;\n",
       "&lt;path fill=&quot;#FFFFFF&quot; d=&quot;M54.29,88.772c-5.655-0.733-8.541-5.803-9.121-13.318c0,0,4.082,0.48,10.861,2.602\n",
       "\tc4.77,1.493,9.715,3.394,9.715,3.394c0,2.705-1.832,5.121-4.393,6.421C59.195,88.965,56.648,89.078,54.29,88.772z&quot;/&gt;\n",
       "&lt;path fill=&quot;#FFFFFF&quot; d=&quot;M103.869,102.068H81.516v6.27h17.947C101.171,106.309,102.627,104.201,103.869,102.068z&quot;/&gt;\n",
       "&lt;path fill=&quot;#EC008C&quot; d=&quot;M29.596,107.671c-0.236,7.214,3.282,11.828,7.445,14.201c-3.154-3.248-4.298-6.559-4.598-10.266\n",
       "\tc-0.446-5.499,4.26-5.388,3.049-15.364C34.15,85.193,21.27,71.336,27.273,58.588c4.025-8.547,13.882-8.104,18.661-8.404\n",
       "\tc6.918-0.435,13.689,1.507,20.636,1.102c10.592-0.617,25.215-11.439,29.54-18.066c-6.228,6.496-20.171,18.266-36.388,14.146\n",
       "\tc-8.651-2.198-17.725-3.594-26.377-0.861c-8.566,2.706-13.504,9.593-13.483,18.577c0.028,12.027,7.256,15.566,10.87,26.635\n",
       "\tC34.035,101.835,29.739,103.299,29.596,107.671z&quot;/&gt;\n",
       "&lt;path fill=&quot;#EC008C&quot; d=&quot;M28.084,38.708c5.91-4.71,12.752-3.908,16.365-2.635c5.23,1.842,6.561,4.502,13.934,7.263\n",
       "\tc7.949,2.976,17.003,2.296,31.201-5.913c0,0-18.846,11.869-33.069,1.776c-5.823-4.132-6.996-7.107-14.223-7.799\n",
       "\tC35.139,30.714,31.282,34.152,28.084,38.708z&quot;/&gt;\n",
       "&lt;path fill=&quot;#EC008C&quot; d=&quot;M64.671,12.632c0,0,30.747-9.182,34.183,14.978C98.854,27.611,98.097,10.833,64.671,12.632z&quot;/&gt;\n",
       "&lt;rect id=&quot;_x3C_Slice_x3E__7_&quot; fill=&quot;none&quot; width=&quot;128&quot; height=&quot;128&quot;/&gt;\n",
       "&lt;/svg&gt;\n",
       "</div>"
      ]
     },
     "metadata": {},
     "output_type": "display_data"
    }
   ],
   "source": [
    "Invoke-WebRequest https://raw.githubusercontent.com/PowerShell/PowerShell/master/assets/avatar_128.svg |\n",
    "    Select-Object -ExpandProperty Content |\n",
    "    Out-Display -CustomMimeType 'image/svg+xml'"
   ]
  },
  {
   "cell_type": "markdown",
   "metadata": {},
   "source": [
    "## Magic Commands\n",
    "\n",
    "There are also several magic commands that can be used to output HTML in your .NET notebook.\n",
    "\n",
    "You can output HTML..."
   ]
  },
  {
   "cell_type": "code",
   "execution_count": null,
   "metadata": {},
   "outputs": [],
   "source": [
    "#!html\n",
    "\n",
    "<h1><b>Hello!</b></h1>"
   ]
  },
  {
   "cell_type": "markdown",
   "metadata": {},
   "source": [
    "...or run JavaScript..."
   ]
  },
  {
   "cell_type": "code",
   "execution_count": 4,
   "metadata": {},
   "outputs": [
    {
     "ename": "Unhandled exception",
     "evalue": "System.TimeoutException: Timeout resolving the kernel's HTTP endpoint. Please try again.\n   at Microsoft.DotNet.Interactive.App.CommandLine.CommandLineParser.<>c__DisplayClass6_0.<SetUpFormatters>b__2(ScriptContent script, TextWriter writer) in D:\\workspace\\_work\\1\\s\\src\\dotnet-interactive\\CommandLine\\CommandLineParser.cs:line 566\n   at Microsoft.DotNet.Interactive.Formatting.Formatter.<>c__DisplayClass49_0`1.<Register>b__0(FormatContext context, Object value, TextWriter writer) in D:\\workspace\\_work\\1\\s\\src\\Microsoft.DotNet.Interactive.Formatting\\Formatter.cs:line 448\n   at Microsoft.DotNet.Interactive.Formatting.AnonymousTypeFormatter`1.Format(FormatContext context, T instance, TextWriter writer) in D:\\workspace\\_work\\1\\s\\src\\Microsoft.DotNet.Interactive.Formatting\\AnonymousTypeFormatter{T}.cs:line 31\n   at Microsoft.DotNet.Interactive.Formatting.TypeFormatter`1.Microsoft.DotNet.Interactive.Formatting.ITypeFormatter.Format(FormatContext context, Object instance, TextWriter writer) in D:\\workspace\\_work\\1\\s\\src\\Microsoft.DotNet.Interactive.Formatting\\TypeFormatter{T}.cs:line 24\n   at Microsoft.DotNet.Interactive.Formatting.Formatter`1.FormatTo(FormatContext context, T obj, TextWriter writer, String mimeType) in D:\\workspace\\_work\\1\\s\\src\\Microsoft.DotNet.Interactive.Formatting\\Formatter{T}.cs:line 61\n   at Microsoft.DotNet.Interactive.Formatting.Formatter.FormatTo[T](T obj, FormatContext context, TextWriter writer, String mimeType) in D:\\workspace\\_work\\1\\s\\src\\Microsoft.DotNet.Interactive.Formatting\\Formatter.cs:line 273\n   at Microsoft.DotNet.Interactive.Formatting.Formatter.ToDisplayString(Object obj, String mimeType) in D:\\workspace\\_work\\1\\s\\src\\Microsoft.DotNet.Interactive.Formatting\\Formatter.cs:line 232\n   at Microsoft.DotNet.Interactive.KernelInvocationContextExtensions.Display(KernelInvocationContext context, Object value, String mimeType) in D:\\workspace\\_work\\1\\s\\src\\Microsoft.DotNet.Interactive\\KernelInvocationContextExtensions.cs:line 23\n   at Microsoft.DotNet.Interactive.JavaScriptKernel.HandleAsync(SubmitCode command, KernelInvocationContext context) in D:\\workspace\\_work\\1\\s\\src\\Microsoft.DotNet.Interactive\\JavaScriptKernel.cs:line 24\n   at Microsoft.DotNet.Interactive.Kernel.<>c__DisplayClass55_0`1.<SetHandler>b__0(KernelCommand _, KernelInvocationContext context) in D:\\workspace\\_work\\1\\s\\src\\Microsoft.DotNet.Interactive\\Kernel.cs:line 527\n   at Microsoft.DotNet.Interactive.Commands.KernelCommand.InvokeAsync(KernelInvocationContext context) in D:\\workspace\\_work\\1\\s\\src\\Microsoft.DotNet.Interactive\\Commands\\KernelCommand.cs:line 50\n   at Microsoft.DotNet.Interactive.Kernel.HandleAsync(KernelCommand command, KernelInvocationContext context) in D:\\workspace\\_work\\1\\s\\src\\Microsoft.DotNet.Interactive\\Kernel.cs:line 295\n   at Microsoft.DotNet.Interactive.KernelCommandPipeline.<BuildPipeline>b__6_0(KernelCommand command, KernelInvocationContext context, KernelPipelineContinuation _) in D:\\workspace\\_work\\1\\s\\src\\Microsoft.DotNet.Interactive\\KernelCommandPipeline.cs:line 57\n   at Microsoft.DotNet.Interactive.KernelCommandPipeline.<>c__DisplayClass6_1.<<BuildPipeline>b__3>d.MoveNext() in D:\\workspace\\_work\\1\\s\\src\\Microsoft.DotNet.Interactive\\KernelCommandPipeline.cs:line 74\n--- End of stack trace from previous location ---\n   at Microsoft.DotNet.Interactive.CompositeKernel.LoadExtensions(KernelCommand command, KernelInvocationContext context, KernelPipelineContinuation next) in D:\\workspace\\_work\\1\\s\\src\\Microsoft.DotNet.Interactive\\CompositeKernel.cs:line 144\n   at Microsoft.DotNet.Interactive.KernelCommandPipeline.<>c__DisplayClass6_1.<<BuildPipeline>b__3>d.MoveNext() in D:\\workspace\\_work\\1\\s\\src\\Microsoft.DotNet.Interactive\\KernelCommandPipeline.cs:line 74\n--- End of stack trace from previous location ---\n   at Microsoft.DotNet.Interactive.Kernel.<AddDirectiveMiddlewareAndCommonCommandHandlers>b__21_0(KernelCommand originalCommand, KernelInvocationContext context, KernelPipelineContinuation next) in D:\\workspace\\_work\\1\\s\\src\\Microsoft.DotNet.Interactive\\Kernel.cs:line 110\n   at Microsoft.DotNet.Interactive.KernelCommandPipeline.<>c__DisplayClass6_1.<<BuildPipeline>b__3>d.MoveNext() in D:\\workspace\\_work\\1\\s\\src\\Microsoft.DotNet.Interactive\\KernelCommandPipeline.cs:line 74\n--- End of stack trace from previous location ---\n   at Microsoft.DotNet.Interactive.Kernel.SetKernel(KernelCommand command, KernelInvocationContext context, KernelPipelineContinuation next) in D:\\workspace\\_work\\1\\s\\src\\Microsoft.DotNet.Interactive\\Kernel.cs:line 202\n   at Microsoft.DotNet.Interactive.KernelCommandPipeline.<>c__DisplayClass6_0.<<BuildPipeline>g__Combine|2>d.MoveNext() in D:\\workspace\\_work\\1\\s\\src\\Microsoft.DotNet.Interactive\\KernelCommandPipeline.cs:line 70\n--- End of stack trace from previous location ---\n   at Microsoft.DotNet.Interactive.KernelCommandPipeline.<>c__DisplayClass6_0.<<BuildPipeline>g__Combine|2>d.MoveNext() in D:\\workspace\\_work\\1\\s\\src\\Microsoft.DotNet.Interactive\\KernelCommandPipeline.cs:line 70\n--- End of stack trace from previous location ---\n   at Microsoft.DotNet.Interactive.KernelCommandPipeline.<>c__DisplayClass6_0.<<BuildPipeline>g__Combine|2>d.MoveNext() in D:\\workspace\\_work\\1\\s\\src\\Microsoft.DotNet.Interactive\\KernelCommandPipeline.cs:line 70\n--- End of stack trace from previous location ---\n   at Microsoft.DotNet.Interactive.KernelCommandPipeline.SendAsync(KernelCommand command, KernelInvocationContext context) in D:\\workspace\\_work\\1\\s\\src\\Microsoft.DotNet.Interactive\\KernelCommandPipeline.cs:line 42",
     "output_type": "error",
     "traceback": [
      "System.TimeoutException: Timeout resolving the kernel's HTTP endpoint. Please try again.\n   at Microsoft.DotNet.Interactive.App.CommandLine.CommandLineParser.<>c__DisplayClass6_0.<SetUpFormatters>b__2(ScriptContent script, TextWriter writer) in D:\\workspace\\_work\\1\\s\\src\\dotnet-interactive\\CommandLine\\CommandLineParser.cs:line 566\n   at Microsoft.DotNet.Interactive.Formatting.Formatter.<>c__DisplayClass49_0`1.<Register>b__0(FormatContext context, Object value, TextWriter writer) in D:\\workspace\\_work\\1\\s\\src\\Microsoft.DotNet.Interactive.Formatting\\Formatter.cs:line 448\n   at Microsoft.DotNet.Interactive.Formatting.AnonymousTypeFormatter`1.Format(FormatContext context, T instance, TextWriter writer) in D:\\workspace\\_work\\1\\s\\src\\Microsoft.DotNet.Interactive.Formatting\\AnonymousTypeFormatter{T}.cs:line 31\n   at Microsoft.DotNet.Interactive.Formatting.TypeFormatter`1.Microsoft.DotNet.Interactive.Formatting.ITypeFormatter.Format(FormatContext context, Object instance, TextWriter writer) in D:\\workspace\\_work\\1\\s\\src\\Microsoft.DotNet.Interactive.Formatting\\TypeFormatter{T}.cs:line 24\n   at Microsoft.DotNet.Interactive.Formatting.Formatter`1.FormatTo(FormatContext context, T obj, TextWriter writer, String mimeType) in D:\\workspace\\_work\\1\\s\\src\\Microsoft.DotNet.Interactive.Formatting\\Formatter{T}.cs:line 61\n   at Microsoft.DotNet.Interactive.Formatting.Formatter.FormatTo[T](T obj, FormatContext context, TextWriter writer, String mimeType) in D:\\workspace\\_work\\1\\s\\src\\Microsoft.DotNet.Interactive.Formatting\\Formatter.cs:line 273\n   at Microsoft.DotNet.Interactive.Formatting.Formatter.ToDisplayString(Object obj, String mimeType) in D:\\workspace\\_work\\1\\s\\src\\Microsoft.DotNet.Interactive.Formatting\\Formatter.cs:line 232\n   at Microsoft.DotNet.Interactive.KernelInvocationContextExtensions.Display(KernelInvocationContext context, Object value, String mimeType) in D:\\workspace\\_work\\1\\s\\src\\Microsoft.DotNet.Interactive\\KernelInvocationContextExtensions.cs:line 23\n   at Microsoft.DotNet.Interactive.JavaScriptKernel.HandleAsync(SubmitCode command, KernelInvocationContext context) in D:\\workspace\\_work\\1\\s\\src\\Microsoft.DotNet.Interactive\\JavaScriptKernel.cs:line 24\n   at Microsoft.DotNet.Interactive.Kernel.<>c__DisplayClass55_0`1.<SetHandler>b__0(KernelCommand _, KernelInvocationContext context) in D:\\workspace\\_work\\1\\s\\src\\Microsoft.DotNet.Interactive\\Kernel.cs:line 527\n   at Microsoft.DotNet.Interactive.Commands.KernelCommand.InvokeAsync(KernelInvocationContext context) in D:\\workspace\\_work\\1\\s\\src\\Microsoft.DotNet.Interactive\\Commands\\KernelCommand.cs:line 50\n   at Microsoft.DotNet.Interactive.Kernel.HandleAsync(KernelCommand command, KernelInvocationContext context) in D:\\workspace\\_work\\1\\s\\src\\Microsoft.DotNet.Interactive\\Kernel.cs:line 295\n   at Microsoft.DotNet.Interactive.KernelCommandPipeline.<BuildPipeline>b__6_0(KernelCommand command, KernelInvocationContext context, KernelPipelineContinuation _) in D:\\workspace\\_work\\1\\s\\src\\Microsoft.DotNet.Interactive\\KernelCommandPipeline.cs:line 57\n   at Microsoft.DotNet.Interactive.KernelCommandPipeline.<>c__DisplayClass6_1.<<BuildPipeline>b__3>d.MoveNext() in D:\\workspace\\_work\\1\\s\\src\\Microsoft.DotNet.Interactive\\KernelCommandPipeline.cs:line 74\n--- End of stack trace from previous location ---\n   at Microsoft.DotNet.Interactive.CompositeKernel.LoadExtensions(KernelCommand command, KernelInvocationContext context, KernelPipelineContinuation next) in D:\\workspace\\_work\\1\\s\\src\\Microsoft.DotNet.Interactive\\CompositeKernel.cs:line 144\n   at Microsoft.DotNet.Interactive.KernelCommandPipeline.<>c__DisplayClass6_1.<<BuildPipeline>b__3>d.MoveNext() in D:\\workspace\\_work\\1\\s\\src\\Microsoft.DotNet.Interactive\\KernelCommandPipeline.cs:line 74\n--- End of stack trace from previous location ---\n   at Microsoft.DotNet.Interactive.Kernel.<AddDirectiveMiddlewareAndCommonCommandHandlers>b__21_0(KernelCommand originalCommand, KernelInvocationContext context, KernelPipelineContinuation next) in D:\\workspace\\_work\\1\\s\\src\\Microsoft.DotNet.Interactive\\Kernel.cs:line 110\n   at Microsoft.DotNet.Interactive.KernelCommandPipeline.<>c__DisplayClass6_1.<<BuildPipeline>b__3>d.MoveNext() in D:\\workspace\\_work\\1\\s\\src\\Microsoft.DotNet.Interactive\\KernelCommandPipeline.cs:line 74\n--- End of stack trace from previous location ---\n   at Microsoft.DotNet.Interactive.Kernel.SetKernel(KernelCommand command, KernelInvocationContext context, KernelPipelineContinuation next) in D:\\workspace\\_work\\1\\s\\src\\Microsoft.DotNet.Interactive\\Kernel.cs:line 202\n   at Microsoft.DotNet.Interactive.KernelCommandPipeline.<>c__DisplayClass6_0.<<BuildPipeline>g__Combine|2>d.MoveNext() in D:\\workspace\\_work\\1\\s\\src\\Microsoft.DotNet.Interactive\\KernelCommandPipeline.cs:line 70\n--- End of stack trace from previous location ---\n   at Microsoft.DotNet.Interactive.KernelCommandPipeline.<>c__DisplayClass6_0.<<BuildPipeline>g__Combine|2>d.MoveNext() in D:\\workspace\\_work\\1\\s\\src\\Microsoft.DotNet.Interactive\\KernelCommandPipeline.cs:line 70\n--- End of stack trace from previous location ---\n   at Microsoft.DotNet.Interactive.KernelCommandPipeline.<>c__DisplayClass6_0.<<BuildPipeline>g__Combine|2>d.MoveNext() in D:\\workspace\\_work\\1\\s\\src\\Microsoft.DotNet.Interactive\\KernelCommandPipeline.cs:line 70\n--- End of stack trace from previous location ---\n   at Microsoft.DotNet.Interactive.KernelCommandPipeline.SendAsync(KernelCommand command, KernelInvocationContext context) in D:\\workspace\\_work\\1\\s\\src\\Microsoft.DotNet.Interactive\\KernelCommandPipeline.cs:line 42",
      "   at Microsoft.DotNet.Interactive.App.CommandLine.CommandLineParser.<>c__DisplayClass6_0.<SetUpFormatters>b__2(ScriptContent script, TextWriter writer) in D:\\workspace\\_work\\1\\s\\src\\dotnet-interactive\\CommandLine\\CommandLineParser.cs:line 566",
      "   at Microsoft.DotNet.Interactive.Formatting.Formatter.<>c__DisplayClass49_0`1.<Register>b__0(FormatContext context, Object value, TextWriter writer) in D:\\workspace\\_work\\1\\s\\src\\Microsoft.DotNet.Interactive.Formatting\\Formatter.cs:line 448",
      "   at Microsoft.DotNet.Interactive.Formatting.AnonymousTypeFormatter`1.Format(FormatContext context, T instance, TextWriter writer) in D:\\workspace\\_work\\1\\s\\src\\Microsoft.DotNet.Interactive.Formatting\\AnonymousTypeFormatter{T}.cs:line 31",
      "   at Microsoft.DotNet.Interactive.Formatting.TypeFormatter`1.Microsoft.DotNet.Interactive.Formatting.ITypeFormatter.Format(FormatContext context, Object instance, TextWriter writer) in D:\\workspace\\_work\\1\\s\\src\\Microsoft.DotNet.Interactive.Formatting\\TypeFormatter{T}.cs:line 24",
      "   at Microsoft.DotNet.Interactive.Formatting.Formatter`1.FormatTo(FormatContext context, T obj, TextWriter writer, String mimeType) in D:\\workspace\\_work\\1\\s\\src\\Microsoft.DotNet.Interactive.Formatting\\Formatter{T}.cs:line 61",
      "   at Microsoft.DotNet.Interactive.Formatting.Formatter.FormatTo[T](T obj, FormatContext context, TextWriter writer, String mimeType) in D:\\workspace\\_work\\1\\s\\src\\Microsoft.DotNet.Interactive.Formatting\\Formatter.cs:line 273",
      "   at Microsoft.DotNet.Interactive.Formatting.Formatter.ToDisplayString(Object obj, String mimeType) in D:\\workspace\\_work\\1\\s\\src\\Microsoft.DotNet.Interactive.Formatting\\Formatter.cs:line 232",
      "   at Microsoft.DotNet.Interactive.KernelInvocationContextExtensions.Display(KernelInvocationContext context, Object value, String mimeType) in D:\\workspace\\_work\\1\\s\\src\\Microsoft.DotNet.Interactive\\KernelInvocationContextExtensions.cs:line 23",
      "   at Microsoft.DotNet.Interactive.JavaScriptKernel.HandleAsync(SubmitCode command, KernelInvocationContext context) in D:\\workspace\\_work\\1\\s\\src\\Microsoft.DotNet.Interactive\\JavaScriptKernel.cs:line 24",
      "   at Microsoft.DotNet.Interactive.Kernel.<>c__DisplayClass55_0`1.<SetHandler>b__0(KernelCommand _, KernelInvocationContext context) in D:\\workspace\\_work\\1\\s\\src\\Microsoft.DotNet.Interactive\\Kernel.cs:line 527",
      "   at Microsoft.DotNet.Interactive.Commands.KernelCommand.InvokeAsync(KernelInvocationContext context) in D:\\workspace\\_work\\1\\s\\src\\Microsoft.DotNet.Interactive\\Commands\\KernelCommand.cs:line 50",
      "   at Microsoft.DotNet.Interactive.Kernel.HandleAsync(KernelCommand command, KernelInvocationContext context) in D:\\workspace\\_work\\1\\s\\src\\Microsoft.DotNet.Interactive\\Kernel.cs:line 295",
      "   at Microsoft.DotNet.Interactive.KernelCommandPipeline.<BuildPipeline>b__6_0(KernelCommand command, KernelInvocationContext context, KernelPipelineContinuation _) in D:\\workspace\\_work\\1\\s\\src\\Microsoft.DotNet.Interactive\\KernelCommandPipeline.cs:line 57",
      "   at Microsoft.DotNet.Interactive.KernelCommandPipeline.<>c__DisplayClass6_1.<<BuildPipeline>b__3>d.MoveNext() in D:\\workspace\\_work\\1\\s\\src\\Microsoft.DotNet.Interactive\\KernelCommandPipeline.cs:line 74",
      "--- End of stack trace from previous location ---",
      "   at Microsoft.DotNet.Interactive.CompositeKernel.LoadExtensions(KernelCommand command, KernelInvocationContext context, KernelPipelineContinuation next) in D:\\workspace\\_work\\1\\s\\src\\Microsoft.DotNet.Interactive\\CompositeKernel.cs:line 144",
      "   at Microsoft.DotNet.Interactive.KernelCommandPipeline.<>c__DisplayClass6_1.<<BuildPipeline>b__3>d.MoveNext() in D:\\workspace\\_work\\1\\s\\src\\Microsoft.DotNet.Interactive\\KernelCommandPipeline.cs:line 74",
      "--- End of stack trace from previous location ---",
      "   at Microsoft.DotNet.Interactive.Kernel.<AddDirectiveMiddlewareAndCommonCommandHandlers>b__21_0(KernelCommand originalCommand, KernelInvocationContext context, KernelPipelineContinuation next) in D:\\workspace\\_work\\1\\s\\src\\Microsoft.DotNet.Interactive\\Kernel.cs:line 110",
      "   at Microsoft.DotNet.Interactive.KernelCommandPipeline.<>c__DisplayClass6_1.<<BuildPipeline>b__3>d.MoveNext() in D:\\workspace\\_work\\1\\s\\src\\Microsoft.DotNet.Interactive\\KernelCommandPipeline.cs:line 74",
      "--- End of stack trace from previous location ---",
      "   at Microsoft.DotNet.Interactive.Kernel.SetKernel(KernelCommand command, KernelInvocationContext context, KernelPipelineContinuation next) in D:\\workspace\\_work\\1\\s\\src\\Microsoft.DotNet.Interactive\\Kernel.cs:line 202",
      "   at Microsoft.DotNet.Interactive.KernelCommandPipeline.<>c__DisplayClass6_0.<<BuildPipeline>g__Combine|2>d.MoveNext() in D:\\workspace\\_work\\1\\s\\src\\Microsoft.DotNet.Interactive\\KernelCommandPipeline.cs:line 70",
      "--- End of stack trace from previous location ---",
      "   at Microsoft.DotNet.Interactive.KernelCommandPipeline.<>c__DisplayClass6_0.<<BuildPipeline>g__Combine|2>d.MoveNext() in D:\\workspace\\_work\\1\\s\\src\\Microsoft.DotNet.Interactive\\KernelCommandPipeline.cs:line 70",
      "--- End of stack trace from previous location ---",
      "   at Microsoft.DotNet.Interactive.KernelCommandPipeline.<>c__DisplayClass6_0.<<BuildPipeline>g__Combine|2>d.MoveNext() in D:\\workspace\\_work\\1\\s\\src\\Microsoft.DotNet.Interactive\\KernelCommandPipeline.cs:line 70",
      "--- End of stack trace from previous location ---",
      "   at Microsoft.DotNet.Interactive.KernelCommandPipeline.SendAsync(KernelCommand command, KernelInvocationContext context) in D:\\workspace\\_work\\1\\s\\src\\Microsoft.DotNet.Interactive\\KernelCommandPipeline.cs:line 42"
     ]
    }
   ],
   "source": [
    "#!javascript\n",
    "\n",
    "alert(\"hello\");"
   ]
  },
  {
   "cell_type": "markdown",
   "metadata": {},
   "source": [
    "...or render Markdown."
   ]
  },
  {
   "cell_type": "code",
   "execution_count": 5,
   "metadata": {},
   "outputs": [
    {
     "data": {
      "text/html": [
       "<p>Write a <strong>list</strong> ...</p>\n",
       "<ul>\n",
       "<li>first</li>\n",
       "<li>second</li>\n",
       "</ul>\n",
       "<p>...or a <em>table</em>...</p>\n",
       "<table>\n",
       "<thead>\n",
       "<tr>\n",
       "<th>Fruit</th>\n",
       "<th>Texture</th>\n",
       "</tr>\n",
       "</thead>\n",
       "<tbody>\n",
       "<tr>\n",
       "<td>apple</td>\n",
       "<td>smooth</td>\n",
       "</tr>\n",
       "<tr>\n",
       "<td>durian</td>\n",
       "<td>bumpy</td>\n",
       "</tr>\n",
       "</tbody>\n",
       "</table>\n"
      ]
     },
     "metadata": {},
     "output_type": "display_data"
    }
   ],
   "source": [
    "#!markdown\n",
    "\n",
    "Write a **list** ...\n",
    "* first\n",
    "* second\n",
    "\n",
    "...or a _table_...\n",
    "\n",
    "|Fruit    |Texture |\n",
    "|---------|--------|\n",
    "|apple    |smooth  |\n",
    "|durian   |bumpy   |"
   ]
  },
  {
   "cell_type": "code",
   "execution_count": null,
   "metadata": {},
   "outputs": [],
   "source": []
  }
 ],
 "metadata": {
  "kernelspec": {
   "display_name": ".NET (PowerShell)",
   "language": "PowerShell",
   "name": ".net-powershell"
  },
  "language_info": {
   "file_extension": ".ps1",
   "mimetype": "text/x-powershell",
   "name": "PowerShell",
   "pygments_lexer": "powershell",
   "version": "7.0"
  }
 },
 "nbformat": 4,
 "nbformat_minor": 4
}
