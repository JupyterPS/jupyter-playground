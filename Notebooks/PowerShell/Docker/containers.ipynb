{
 "cells": [
  {
   "cell_type": "markdown",
   "id": "violent-porter",
   "metadata": {},
   "source": [
    "# Containers - Things that can be done with Containers with Docker API\n",
    "\n",
    "- This uses the unix socket connection\n",
    "- Be sure to mount the docker socket to ensure you can communicate with the service \n",
    "- Example:    -v /var/run/docker.sock:/var/run/docker.sock"
   ]
  },
  {
   "cell_type": "markdown",
   "id": "disabled-citizenship",
   "metadata": {},
   "source": [
    "## Import Modules and credentials"
   ]
  },
  {
   "cell_type": "code",
   "execution_count": 2,
   "id": "adjusted-soundtrack",
   "metadata": {},
   "outputs": [
    {
     "name": "stdout",
     "output_type": "stream",
     "text": [
      "\u001b[93mThe following modules were imported successfully.\u001b[0m\n",
      "\u001b[92mcustom-docker.psm1, graph.psm1, pp-core.psm1\u001b[0m\n"
     ]
    }
   ],
   "source": [
    ". ~/Notebooks/PowerShell/custom-modules/preload"
   ]
  },
  {
   "cell_type": "markdown",
   "id": "fitting-handbook",
   "metadata": {},
   "source": [
    "## Get Count of Containers"
   ]
  },
  {
   "cell_type": "code",
   "execution_count": 190,
   "id": "appointed-haiti",
   "metadata": {},
   "outputs": [
    {
     "name": "stdout",
     "output_type": "stream",
     "text": [
      "\u001b[93mMaking  request at Docker API at http://localhost/containers/json?all=true\n",
      "\u001b[0m\n",
      "\u001b[91m                         \u001b[0m\n",
      "Containers: 27\n",
      "\n",
      "Id                                                               Names                                              Image\n",
      "--                                                               -----                                              -----                                                                              \n",
      "4d557c8675c05e958bad8aaa7d8587240f2ebdbd5eedcf3500bf219bfb817021 {/magical_matsumoto}                               sha256:53fcf4033482339e979cf885cb3dc8ae78bf11f350b40ce9e3bc6578ecaa544a            \n",
      "6967c65b5c6cd4344ada795354b5792c1c40bd65ca9513ba8a72b2088b71303d {/huginn_app.1.1upvrmfiu1we4oje9shqa1utv}          huginn/huginn:latest@sha256:439f5c5700fb30e2e48433817131bb7afefacac348f26d0ef79780…\n",
      "9144b60f14097e2aa5360c19801fa62520760988d0bdea01085c57f1b3e31be2 {/huginn_db-backup.1.r85a16i2pbrgvannw66ugyad2}    postgres:11@sha256:388663a6497e5d1b8f551ad6326d9e3ec142a9cff32575e17e7d0dc3245dd844\n",
      "d76de47dc510f4e4c2f97f96e74903b40f2359cb22d2289c4721905185a01969 {/duplicati_duplicati.1.pr0ke1kbm9ikihbpm8d2k52dk} linuxserver/duplicati:latest@sha256:99062a8860b9c6387a23a7d6458b80a05c18353fd896e2…\n",
      "af3c05f06766549b88713c3c71bcf412cd3d76c84e1e98035e19d8cd59d23b86 {/jackett_jackett.1.tv38w5wclxl4cxyd8yjcttidr}     linuxserver/jackett:latest@sha256:c64ac5af3f2f6d3d4198aa5910e64b083ce59bdd61dbbe8a…\n",
      "\n"
     ]
    }
   ],
   "source": [
    "$containers = Invoke-DockerAPI -path \"containers/json?all=true\"\n",
    "\n",
    "## Select first 5 of the list\n",
    "Write-Host \"Containers: $($containers.count)\"\n",
    "$containers | Select -first 5 | FT"
   ]
  },
  {
   "cell_type": "markdown",
   "id": "approved-awareness",
   "metadata": {},
   "source": [
    "## Find Containers exited or not running"
   ]
  },
  {
   "cell_type": "code",
   "execution_count": 188,
   "id": "natural-detail",
   "metadata": {},
   "outputs": [],
   "source": [
    "$notRunning = $containers | Where-Object {$_.state -ne \"running\"}\n",
    "$notRunning | FT"
   ]
  },
  {
   "cell_type": "markdown",
   "id": "south-costume",
   "metadata": {},
   "source": [
    "## Loop through containers not running and delete them"
   ]
  },
  {
   "cell_type": "code",
   "execution_count": 189,
   "id": "included-contribution",
   "metadata": {},
   "outputs": [
    {
     "name": "stdout",
     "output_type": "stream",
     "text": [
      "\u001b[93mMaking DELETE request at Docker API at http://localhost/containers/\n",
      "\u001b[0m\n",
      "\u001b[93mDeleting image....... May take a bit if its a big image\u001b[0m\n",
      "\u001b[91minvalid name or ID supplied: \"\"\u001b[0m\n",
      "\n",
      "message\n",
      "-------\n",
      "invalid name or ID supplied: \"\"\n",
      "\n"
     ]
    }
   ],
   "source": [
    "$notRunning | ForEach-Object {\n",
    "    $removeId = $_.Id\n",
    "    Invoke-DockerAPI -method \"DELETE\" -path \"containers/$removeId\"\n",
    "}"
   ]
  }
 ],
 "metadata": {
  "kernelspec": {
   "display_name": ".NET (PowerShell)",
   "language": "PowerShell",
   "name": ".net-powershell"
  },
  "language_info": {
   "file_extension": ".ps1",
   "mimetype": "text/x-powershell",
   "name": "PowerShell",
   "pygments_lexer": "powershell",
   "version": "7.0"
  }
 },
 "nbformat": 4,
 "nbformat_minor": 5
}
