{
 "cells": [
  {
   "cell_type": "markdown",
   "id": "decreased-speaking",
   "metadata": {},
   "source": [
    "# Create Apache HTTPD Docker container via API"
   ]
  },
  {
   "cell_type": "markdown",
   "id": "several-orlando",
   "metadata": {},
   "source": [
    "## Import Modules and credentials"
   ]
  },
  {
   "cell_type": "code",
   "execution_count": 26,
   "id": "supreme-monkey",
   "metadata": {},
   "outputs": [
    {
     "name": "stdout",
     "output_type": "stream",
     "text": [
      "\u001b[93mThe following modules were imported successfully.\u001b[0m\n",
      "\u001b[92mcustom-docker.psm1, graph.psm1, pp-core.psm1\u001b[0m\n"
     ]
    }
   ],
   "source": [
    ". ~/Notebooks/PowerShell/custom-modules/preload"
   ]
  },
  {
   "cell_type": "markdown",
   "id": "married-ireland",
   "metadata": {},
   "source": [
    "## Pull latest apache image"
   ]
  },
  {
   "cell_type": "code",
   "execution_count": null,
   "id": "permanent-thanks",
   "metadata": {},
   "outputs": [],
   "source": [
    "## Pull latest image\n",
    "Add-DockerImage -name \"httpd:latest\""
   ]
  },
  {
   "cell_type": "markdown",
   "id": "confidential-guest",
   "metadata": {},
   "source": [
    "## Create test container with httpd:latest image"
   ]
  },
  {
   "cell_type": "code",
   "execution_count": 101,
   "id": "static-samuel",
   "metadata": {},
   "outputs": [
    {
     "name": "stdout",
     "output_type": "stream",
     "text": [
      "{\n",
      "    \\\"image\\\" : \\\"httpd:latest\\\",\n",
      "    \\\"ExposedPorts\\\" : {\n",
      "        \\\"80/tcp\\\" : {}\n",
      "    },\n",
      "    \\\"HostConfig\\\" : {\n",
      "        \\\"PortBindings\\\" : {\n",
      "            \\\"80/tcp\\\" : [\n",
      "                {\n",
      "                  \\\"HostIp\\\": \\\"\\\",\n",
      "                  \\\"HostPort\\\": \\\"48598\\\"\n",
      "                }\n",
      "            ]\n",
      "        }\n",
      "    }\n",
      "}\n",
      "\u001b[93mMaking POST request at Docker API at http://localhost/containers/create?name=test5\n",
      "\u001b[0m\n",
      "\n",
      "Id                                                               Warnings\n",
      "--                                                               --------\n",
      "24746bc796007763c914f641f564a19ac32790b21e5d410f3a376f8767830334 {}\n",
      "\n"
     ]
    }
   ],
   "source": [
    "$image = \"httpd:latest\"\n",
    "\n",
    "$json = @\"\n",
    "{\n",
    "    \"image\" : \"$image\",\n",
    "    \"ExposedPorts\" : {\n",
    "        \"80/tcp\" : {}\n",
    "    },\n",
    "    \"HostConfig\" : {\n",
    "        \"PortBindings\" : {\n",
    "            \"80/tcp\" : [\n",
    "                {\n",
    "                  \"HostIp\": \"\",\n",
    "                  \"HostPort\": \"48598\"\n",
    "                }\n",
    "            ]\n",
    "        }\n",
    "    }\n",
    "}\n",
    "\"@\n",
    "$body = ( $json -replace '\"', '\\\"' )\n",
    "$body\n",
    "\n",
    "Invoke-DockerAPI -path \"containers/create?name=test5\" -method \"POST\" -body $body"
   ]
  },
  {
   "cell_type": "markdown",
   "id": "varying-recognition",
   "metadata": {},
   "source": [
    "## Search for container"
   ]
  },
  {
   "cell_type": "code",
   "execution_count": 97,
   "id": "changed-assets",
   "metadata": {},
   "outputs": [
    {
     "name": "stdout",
     "output_type": "stream",
     "text": [
      "\u001b[93mMaking  request at Docker API at http://localhost/containers/json?all=true\n",
      "\u001b[0m\n",
      "\u001b[91m                    \u001b[0m\n",
      "\n",
      "Id              : a2851bfa5cdae13a632831bd7397cad011a6cd4124a15b63098dfe9eb7ee0f1e\n",
      "Names           : {/test3}\n",
      "Image           : httpd:latest\n",
      "ImageID         : sha256:464fdc577ef4d4ba06050b76a95ffee72d280f7aaa4291f7f4827fca7a00ed0f\n",
      "Command         : httpd-foreground\n",
      "Created         : 1613005562\n",
      "Ports           : {}\n",
      "Labels          : \n",
      "State           : created\n",
      "Status          : Created\n",
      "HostConfig      : @{NetworkMode=default}\n",
      "NetworkSettings : @{Networks=}\n",
      "Mounts          : {}\n",
      "\n",
      "Id              : f25769c2f6b6f1c884fec680d5692fa10fb08b563dfcc1ebacbae123bea6b049\n",
      "Names           : {/test2}\n",
      "Image           : httpd:latest\n",
      "ImageID         : sha256:464fdc577ef4d4ba06050b76a95ffee72d280f7aaa4291f7f4827fca7a00ed0f\n",
      "Command         : httpd-foreground\n",
      "Created         : 1613002129\n",
      "Ports           : {}\n",
      "Labels          : \n",
      "State           : created\n",
      "Status          : Created\n",
      "HostConfig      : @{NetworkMode=default}\n",
      "NetworkSettings : @{Networks=}\n",
      "Mounts          : {}\n",
      "\n",
      "Id              : 1648f21fe94a03ecabd20150af15208f1e3b5ec32b1ed528bcc08f9a7c8a549e\n",
      "Names           : {/test}\n",
      "Image           : httpd:latest\n",
      "ImageID         : sha256:464fdc577ef4d4ba06050b76a95ffee72d280f7aaa4291f7f4827fca7a00ed0f\n",
      "Command         : httpd-foreground\n",
      "Created         : 1613002109\n",
      "Ports           : {@{PrivatePort=6789; Type=tcp}, @{PrivatePort=80; Type=tcp}}\n",
      "Labels          : \n",
      "State           : running\n",
      "Status          : Up 3 minutes\n",
      "HostConfig      : @{NetworkMode=default}\n",
      "NetworkSettings : @{Networks=}\n",
      "Mounts          : {}\n",
      "\n",
      "\n"
     ]
    }
   ],
   "source": [
    "$containers = Invoke-DockerAPI -path \"containers/json?all=true\"\n",
    "$containers | Where-Object {$_.Image -eq \"httpd:latest\"}"
   ]
  },
  {
   "cell_type": "code",
   "execution_count": null,
   "id": "infrared-miracle",
   "metadata": {},
   "outputs": [],
   "source": [
    "$id = $containers | Where-Object {$_.Image -eq \"httpd:latest\"}\n",
    "Invoke-DockerAPI -path \"containers/$($id.id)\" -method \"DELETE\""
   ]
  },
  {
   "cell_type": "code",
   "execution_count": 40,
   "id": "processed-colon",
   "metadata": {},
   "outputs": [
    {
     "name": "stdout",
     "output_type": "stream",
     "text": [
      "\u001b[93mMaking  request at Docker API at http://localhost/containers/json\n",
      "\u001b[0m\n",
      "\u001b[91m                \u001b[0m\n",
      "\n",
      "Id                                                               Names                                                                    Image\n",
      "--                                                               -----                                                                    -----                                                        \n",
      "00561ac100914f0d234232284802ca6ec62311133d5571f83032f70a6b0cc29d {/jupyterlab_app.1.vfi9vnahw3y9svj1iiyybcm3d}                            teachjing/jupyter-playground:latest@sha256:2edf55f0fd601e93a…\n",
      "13fbd7c8b9ed0d0e695cbcc299ac5f0417faffa19234d708e68edd0ebbb24b89 {/calibre-web_app.1.q6y5xg7k9ad2ozf7o1j55awct}                           ghcr.io/linuxserver/calibre-web:latest@sha256:c8ede8ff76b532…\n",
      "68e1af44d89c26332a572506c70d55f1d698adb742533e7722c19ce9f58fdaa3 {/autoloader_rtorrent.1.u5z7b00r18ug306an4u4rnqha}                       linuxserver/rutorrent:latest@sha256:4aa20c1cc179632a7435d3c1…\n",
      "90cf9d4873276700c383ec8af017e06485cadfb4626ebcdfd7380cf1ac2ffb2e {/autoloader_ombi.1.xtjd0atrxy3bq02hg5rdy9fmp}                           linuxserver/ombi:latest@sha256:d3b7dfeb1390b580fe6fa58fe7921…\n",
      "af95188b30359c79dae46732b2a85373dff7c2530336c0210ec3aa2b069f619a {/autoloader_cyberchef.1.7g3499s3jm4pohnwo2g4wna11}                      mpepping/cyberchef:latest@sha256:f2b8fd70937da297ea1318a0d6f…\n",
      "b083ac8d44aa0d57c9a51c0705f84ab3da8cc21130673dff00256843fd5f083c {/ceph-31b166ea-6592-11eb-85aa-5254001c2272-osd.1}                       docker.io/ceph/ceph:v15                                      \n",
      "6adf779db94f5f4cc268d55264a64609f8f1199f568a01af3cff9a72a2ca3a05 {/traefikv2_app.5j73yhgfnabz8wsuz1x1k44vl.u1ktph4767wf5j3u2dfces7fa}     traefik:v2.4@sha256:b521e1ee5a19c145d153b72f8baebdad68d677ac…\n",
      "805d5f4d2f71c34e6a90bfa5e14653f18d3e1e4b0f61ffdca6d048356bb441ce {/autoloader_agent.5j73yhgfnabz8wsuz1x1k44vl.kavcpyb5zx4bpmgajj2p3l4m6}  portainer/agent:latest@sha256:397d3dea42d1bfceebe9ab481ef74e…\n",
      "2d7d19c66a948ce96ffc562f7a374d67134ac3c39707c977d860cd6b2dab8df9 {/ceph-31b166ea-6592-11eb-85aa-5254001c2272-mds.data.unraid2-ds1.pewtwi} docker.io/ceph/ceph:v15                                      \n",
      "60e47dc0f691d3f12b7ff61d42dd1eb40851994c3bde6ff6f53be075826b2f30 {/ceph-31b166ea-6592-11eb-85aa-5254001c2272-mds.data.unraid2-ds1.mglvod} docker.io/ceph/ceph:v15                                      \n",
      "cbc7cc06d59b1cd49a18647a4307345df367e96bd4392d4269596564bdd3cb2e {/ceph-31b166ea-6592-11eb-85aa-5254001c2272-crash.unraid2-ds1}           docker.io/ceph/ceph:v15                                      \n",
      "c7df5d1046bce0f354cdec9b900b508077852fd6481181274bae7fa4f2e73af9 {/ceph-31b166ea-6592-11eb-85aa-5254001c2272-mon.unraid2-ds1}             docker.io/ceph/ceph:v15                                      \n",
      "245b46b6648f3b38177d487f0fb98dd21259e7fa66e7e0ef2c56d7b34aa2e856 {/ceph-31b166ea-6592-11eb-85aa-5254001c2272-mds.data.unraid2-ds1.sbacgx} docker.io/ceph/ceph:v15                                      \n",
      "a3948decc71d888ae3566dadd3324aba2a0f8ed6ecf4b75416ff5e3fff16a63c {/ceph-31b166ea-6592-11eb-85aa-5254001c2272-mds.data.unraid2-ds1.saxugt} docker.io/ceph/ceph:v15                                      \n",
      "6cc27bd58dbed5c6de4dac348d2bce64451a34d03d3287dc610dc21eba17d7bc {/ceph-31b166ea-6592-11eb-85aa-5254001c2272-node-exporter.unraid2-ds1}   docker.io/prom/node-exporter:v0.18.1                         \n",
      "caadea4c1d9b951eb8938768775f2a36be8403cd6f687f15e4f094884f42fdff {/ceph-31b166ea-6592-11eb-85aa-5254001c2272-prometheus.unraid2-ds1}      docker.io/prom/prometheus:v2.18.1                            \n",
      "b555d2f0dbd6de0ad79efda410d1d46677d54b0c473a8ae76149fcb14ec03b22 {/keepalived}                                                            osixia/keepalived:2.0.20                                     \n",
      "\n"
     ]
    }
   ],
   "source": [
    "$test = Invoke-DockerAPI -path \"containers/json\" \n",
    "$test | FT\n",
    "#Invoke-DockerAPI -path \"containers/f25769c2f6b6f1c884fec680d5692fa10fb08b563dfcc1ebacbae123bea6b049/json\""
   ]
  },
  {
   "cell_type": "code",
   "execution_count": 76,
   "id": "common-tyler",
   "metadata": {},
   "outputs": [
    {
     "name": "stdout",
     "output_type": "stream",
     "text": [
      "\u001b[93mMaking  request at Docker API at http://localhost/containers/6adf779db94f5f4cc268d55264a64609f8f1199f568a01af3cff9a72a2ca3a05/json\n",
      "\u001b[0m\n",
      "{\n",
      "  \"443/tcp\": [\n",
      "    {\n",
      "      \"HostIp\": \"\",\n",
      "      \"HostPort\": \"443\"\n",
      "    }\n",
      "  ],\n",
      "  \"80/tcp\": [\n",
      "    {\n",
      "      \"HostIp\": \"\",\n",
      "      \"HostPort\": \"80\"\n",
      "    }\n",
      "  ]\n",
      "}\n"
     ]
    }
   ],
   "source": [
    "$test = Invoke-DockerAPI -path \"containers/6adf779db94f5f4cc268d55264a64609f8f1199f568a01af3cff9a72a2ca3a05/json\"\n",
    "$test.HostConfig.PortBindings | ConvertTo-JSON"
   ]
  },
  {
   "cell_type": "code",
   "execution_count": 102,
   "id": "orange-responsibility",
   "metadata": {},
   "outputs": [],
   "source": [
    "\n",
    "\n",
    "#Invoke-DockerAPI -method POST -path \"containers/v1.41/1648f21fe94a03ecabd20150af15208f1e3b5ec32b1ed528bcc08f9a7c8a549e/start\"\n",
    "\n",
    "curl -s -X POST --unix-socket /var/run/docker.sock \"http://localhost/containers/24746bc796007763c914f641f564a19ac32790b21e5d410f3a376f8767830334/start\""
   ]
  },
  {
   "cell_type": "code",
   "execution_count": 105,
   "id": "martial-marathon",
   "metadata": {},
   "outputs": [
    {
     "name": "stdout",
     "output_type": "stream",
     "text": [
      "\u001b[93mMaking  request at Docker API at http://localhost/containers/24746bc796007763c914f641f564a19ac32790b21e5d410f3a376f8767830334/json\n",
      "\u001b[0m\n",
      "\n",
      "Id              : 24746bc796007763c914f641f564a19ac32790b21e5d410f3a376f8767830334\n",
      "Created         : 2021-02-11T01:16:23.066088387Z\n",
      "Path            : httpd-foreground\n",
      "Args            : {}\n",
      "State           : @{Status=running; Running=True; Paused=False; Restarting=False; OOMKilled=False; Dead=False; Pid=2810; ExitCode=0; Error=; StartedAt=2021-02-11T01:16:42.116847939Z; \n",
      "                  FinishedAt=1/1/0001 12:00:00 AM}\n",
      "Image           : sha256:464fdc577ef4d4ba06050b76a95ffee72d280f7aaa4291f7f4827fca7a00ed0f\n",
      "ResolvConfPath  : /var/lib/docker/containers/24746bc796007763c914f641f564a19ac32790b21e5d410f3a376f8767830334/resolv.conf\n",
      "HostnamePath    : /var/lib/docker/containers/24746bc796007763c914f641f564a19ac32790b21e5d410f3a376f8767830334/hostname\n",
      "HostsPath       : /var/lib/docker/containers/24746bc796007763c914f641f564a19ac32790b21e5d410f3a376f8767830334/hosts\n",
      "LogPath         : /var/lib/docker/containers/24746bc796007763c914f641f564a19ac32790b21e5d410f3a376f8767830334/24746bc796007763c914f641f564a19ac32790b21e5d410f3a376f8767830334-json.log\n",
      "Name            : /test5\n",
      "RestartCount    : 0\n",
      "Driver          : overlay2\n",
      "Platform        : linux\n",
      "MountLabel      : \n",
      "ProcessLabel    : \n",
      "AppArmorProfile : docker-default\n",
      "ExecIDs         : \n",
      "HostConfig      : @{Binds=; ContainerIDFile=; LogConfig=; NetworkMode=default; PortBindings=; RestartPolicy=; AutoRemove=False; VolumeDriver=; VolumesFrom=; CapAdd=; CapDrop=; CgroupnsMode=host; \n",
      "                  Dns=; DnsOptions=; DnsSearch=; ExtraHosts=; GroupAdd=; IpcMode=private; Cgroup=; Links=; OomScoreAdj=0; PidMode=; Privileged=False; PublishAllPorts=False; ReadonlyRootfs=False; \n",
      "                  SecurityOpt=; UTSMode=; UsernsMode=; ShmSize=67108864; Runtime=runc; ConsoleSize=System.Object[]; Isolation=; CpuShares=0; Memory=0; NanoCpus=0; CgroupParent=; BlkioWeight=0; \n",
      "                  BlkioWeightDevice=; BlkioDeviceReadBps=; BlkioDeviceWriteBps=; BlkioDeviceReadIOps=; BlkioDeviceWriteIOps=; CpuPeriod=0; CpuQuota=0; CpuRealtimePeriod=0; CpuRealtimeRuntime=0; \n",
      "                  CpusetCpus=; CpusetMems=; Devices=; DeviceCgroupRules=; DeviceRequests=; KernelMemory=0; KernelMemoryTCP=0; MemoryReservation=0; MemorySwap=0; MemorySwappiness=; \n",
      "                  OomKillDisable=False; PidsLimit=; Ulimits=; CpuCount=0; CpuPercent=0; IOMaximumIOps=0; IOMaximumBandwidth=0; MaskedPaths=System.Object[]; ReadonlyPaths=System.Object[]}\n",
      "GraphDriver     : @{Data=; Name=overlay2}\n",
      "Mounts          : {}\n",
      "Config          : @{Hostname=24746bc79600; Domainname=; User=; AttachStdin=False; AttachStdout=False; AttachStderr=False; ExposedPorts=; Tty=False; OpenStdin=False; StdinOnce=False; \n",
      "                  Env=System.Object[]; Cmd=System.Object[]; Image=httpd:latest; Volumes=; WorkingDir=/usr/local/apache2; Entrypoint=; OnBuild=; Labels=; StopSignal=SIGWINCH}\n",
      "NetworkSettings : @{Bridge=; SandboxID=6890bd64c1d4a99781d5a3214165296b304a5f96b812e785f6d40fb803e94193; HairpinMode=False; LinkLocalIPv6Address=; LinkLocalIPv6PrefixLen=0; Ports=; \n",
      "                  SandboxKey=/var/run/docker/netns/6890bd64c1d4; SecondaryIPAddresses=; SecondaryIPv6Addresses=; EndpointID=5705b22c7df2872f101a46378fce857e6918d367b6e89d004352478738601eec; \n",
      "                  Gateway=172.17.0.1; GlobalIPv6Address=; GlobalIPv6PrefixLen=0; IPAddress=172.17.0.3; IPPrefixLen=16; IPv6Gateway=; MacAddress=02:42:ac:11:00:03; Networks=}\n",
      "\n",
      "\n"
     ]
    }
   ],
   "source": [
    "$test = Invoke-DockerAPI -path \"containers/24746bc796007763c914f641f564a19ac32790b21e5d410f3a376f8767830334/json\"\n",
    "$test | FL *"
   ]
  },
  {
   "cell_type": "code",
   "execution_count": 119,
   "id": "complicated-auckland",
   "metadata": {},
   "outputs": [
    {
     "name": "stdout",
     "output_type": "stream",
     "text": [
      "<html><body><h1>It works!</h1></body></html>\n"
     ]
    }
   ],
   "source": [
    "$test = curl -s http://10.60.0.32:48598\n",
    "\n",
    "$test"
   ]
  },
  {
   "cell_type": "code",
   "execution_count": 115,
   "id": "configured-associate",
   "metadata": {},
   "outputs": [
    {
     "name": "stdout",
     "output_type": "stream",
     "text": [
      "\n",
      "NAME\n",
      "    Out-Display\n",
      "    \n",
      "SYNTAX\n",
      "    Out-Display [-InputObject] <Object> [[-MimeType] {application/javascript | application/json | text/html | text/markdown | text/plain}] [-PassThru] [<CommonParameters>]\n",
      "    \n",
      "    Out-Display [-InputObject] <Object> [[-CustomMimeType] <string>] [-PassThru] [<CommonParameters>]\n",
      "    \n",
      "\n",
      "ALIASES\n",
      "    od\n",
      "    \n",
      "\n",
      "REMARKS\n",
      "    None\n",
      "\n",
      "\n"
     ]
    }
   ],
   "source": [
    "get-help out-display"
   ]
  },
  {
   "cell_type": "code",
   "execution_count": null,
   "id": "lyric-bachelor",
   "metadata": {},
   "outputs": [],
   "source": []
  }
 ],
 "metadata": {
  "kernelspec": {
   "display_name": ".NET (PowerShell)",
   "language": "PowerShell",
   "name": ".net-powershell"
  },
  "language_info": {
   "file_extension": ".ps1",
   "mimetype": "text/x-powershell",
   "name": "PowerShell",
   "pygments_lexer": "powershell",
   "version": "7.0"
  }
 },
 "nbformat": 4,
 "nbformat_minor": 5
}
