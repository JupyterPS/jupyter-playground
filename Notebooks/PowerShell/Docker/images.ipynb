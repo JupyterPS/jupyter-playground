{
 "cells": [
  {
   "cell_type": "markdown",
   "id": "modified-institution",
   "metadata": {},
   "source": [
    "# Images\n",
    "- This uses the unix socket connection\n",
    "- Be sure to mount the docker socket to ensure you can communicate with the service \n",
    "- Example:    -v /var/run/docker.sock:/var/run/docker.sock"
   ]
  },
  {
   "cell_type": "markdown",
   "id": "everyday-affiliation",
   "metadata": {},
   "source": [
    "## Pull latest 'nginx' image from Docker Registry"
   ]
  },
  {
   "cell_type": "code",
   "execution_count": 1,
   "id": "brown-ecuador",
   "metadata": {},
   "outputs": [
    {
     "data": {
      "text/html": [
       "\r\n",
       "<div>\r\n",
       "    <div id='dotnet-interactive-this-cell-28989.Microsoft.DotNet.Interactive.Http.HttpPort' style='display: none'>\r\n",
       "        The below script needs to be able to find the current output cell; this is an easy method to get it.\r\n",
       "    </div>\r\n",
       "    <script type='text/javascript'>\r\n",
       "async function probeAddresses(probingAddresses) {\r\n",
       "    function timeout(ms, promise) {\r\n",
       "        return new Promise(function (resolve, reject) {\r\n",
       "            setTimeout(function () {\r\n",
       "                reject(new Error('timeout'))\r\n",
       "            }, ms)\r\n",
       "            promise.then(resolve, reject)\r\n",
       "        })\r\n",
       "    }\r\n",
       "\r\n",
       "    if (Array.isArray(probingAddresses)) {\r\n",
       "        for (let i = 0; i < probingAddresses.length; i++) {\r\n",
       "\r\n",
       "            let rootUrl = probingAddresses[i];\r\n",
       "\r\n",
       "            if (!rootUrl.endsWith('/')) {\r\n",
       "                rootUrl = `${rootUrl}/`;\r\n",
       "            }\r\n",
       "\r\n",
       "            try {\r\n",
       "                let response = await timeout(1000, fetch(`${rootUrl}discovery`, {\r\n",
       "                    method: 'POST',\r\n",
       "                    cache: 'no-cache',\r\n",
       "                    mode: 'cors',\r\n",
       "                    timeout: 1000,\r\n",
       "                    headers: {\r\n",
       "                        'Content-Type': 'text/plain'\r\n",
       "                    },\r\n",
       "                    body: probingAddresses[i]\r\n",
       "                }));\r\n",
       "\r\n",
       "                if (response.status == 200) {\r\n",
       "                    return rootUrl;\r\n",
       "                }\r\n",
       "            }\r\n",
       "            catch (e) { }\r\n",
       "        }\r\n",
       "    }\r\n",
       "}\r\n",
       "\r\n",
       "function loadDotnetInteractiveApi() {\r\n",
       "    probeAddresses([\"http://172.16.200.148:1012/\", \"http://172.18.0.5:1012/\", \"http://127.0.0.1:1012/\"])\r\n",
       "        .then((root) => {\r\n",
       "        // use probing to find host url and api resources\r\n",
       "        // load interactive helpers and language services\r\n",
       "        let dotnetInteractiveRequire = require.config({\r\n",
       "        context: '28989.Microsoft.DotNet.Interactive.Http.HttpPort',\r\n",
       "                paths:\r\n",
       "            {\r\n",
       "                'dotnet-interactive': `${root}resources`\r\n",
       "                }\r\n",
       "        }) || require;\r\n",
       "\r\n",
       "            window.dotnetInteractiveRequire = dotnetInteractiveRequire;\r\n",
       "\r\n",
       "            window.configureRequireFromExtension = function(extensionName, extensionCacheBuster) {\r\n",
       "                let paths = {};\r\n",
       "                paths[extensionName] = `${root}extensions/${extensionName}/resources/`;\r\n",
       "                \r\n",
       "                let internalRequire = require.config({\r\n",
       "                    context: extensionCacheBuster,\r\n",
       "                    paths: paths,\r\n",
       "                    urlArgs: `cacheBuster=${extensionCacheBuster}`\r\n",
       "                    }) || require;\r\n",
       "\r\n",
       "                return internalRequire\r\n",
       "            };\r\n",
       "        \r\n",
       "            dotnetInteractiveRequire([\r\n",
       "                    'dotnet-interactive/dotnet-interactive'\r\n",
       "                ],\r\n",
       "                function (dotnet) {\r\n",
       "                    dotnet.init(window);\r\n",
       "                },\r\n",
       "                function (error) {\r\n",
       "                    console.log(error);\r\n",
       "                }\r\n",
       "            );\r\n",
       "        })\r\n",
       "        .catch(error => {console.log(error);});\r\n",
       "    }\r\n",
       "\r\n",
       "// ensure `require` is available globally\r\n",
       "if ((typeof(require) !==  typeof(Function)) || (typeof(require.config) !== typeof(Function))) {\r\n",
       "    let require_script = document.createElement('script');\r\n",
       "    require_script.setAttribute('src', 'https://cdnjs.cloudflare.com/ajax/libs/require.js/2.3.6/require.min.js');\r\n",
       "    require_script.setAttribute('type', 'text/javascript');\r\n",
       "    \r\n",
       "    \r\n",
       "    require_script.onload = function() {\r\n",
       "        loadDotnetInteractiveApi();\r\n",
       "    };\r\n",
       "\r\n",
       "    document.getElementsByTagName('head')[0].appendChild(require_script);\r\n",
       "}\r\n",
       "else {\r\n",
       "    loadDotnetInteractiveApi();\r\n",
       "}\r\n",
       "\r\n",
       "    </script>\r\n",
       "</div>"
      ]
     },
     "metadata": {},
     "output_type": "display_data"
    },
    {
     "name": "stdout",
     "output_type": "stream",
     "text": [
      "\u001b[91mAdd-DockerImage: \n",
      "\u001b[96mLine |\n",
      "\u001b[96m   2 | \u001b[0m \u001b[96mAdd-DockerImage\u001b[0m -name \"nginx:latest\"\n",
      "\u001b[96m     | \u001b[91m ~~~~~~~~~~~~~~~\n",
      "\u001b[91m\u001b[96m     | \u001b[91mThe term 'Add-DockerImage' is not recognized as a name of a cmdlet, function, script file, or executable program.\n",
      "Check the spelling of the name, or if a path was included, verify that the path is correct and try again.\u001b[0m\n"
     ]
    }
   ],
   "source": [
    "## Pull latest image\n",
    "Add-DockerImage -name \"nginx:latest\"\n",
    "#curl -XPOST --unix-socket /var/run/docker.sock http://localhost/images/create?fromImage=nginx:latest"
   ]
  },
  {
   "cell_type": "markdown",
   "id": "banner-tonight",
   "metadata": {},
   "source": [
    "## Create a container from 'nginx' image"
   ]
  },
  {
   "cell_type": "code",
   "execution_count": 151,
   "id": "preceding-nevada",
   "metadata": {},
   "outputs": [
    {
     "name": "stdout",
     "output_type": "stream",
     "text": [
      "{\n",
      "  \\\"image\\\": \\\"nginx\\\"\n",
      "}\n",
      "  % Total    % Received % Xferd  Average Speed   Time    Time     Time  Current\n",
      "                                 Dload  Upload   Total   Spent    Left  Speed\n",
      "\n",
      "  0     0    0     0    0     0      0      0 --:--:-- --:--:-- --:--:--     0\n",
      "100    22    0     0  100    22      0    110 --:--:-- --:--:-- --:--:--   109\n",
      "100   110  100    88  100    22    186     46 --:--:-- --:--:-- --:--:--   232\n",
      "{\"Id\":\"82b57d8d3504e6f9157316b78f3b4862579e0cc0425c196dddeda460085f8a35\",\"Warnings\":[]}\n"
     ]
    }
   ],
   "source": [
    "## Create an NGINX Container\n",
    "$name = \"nginx3\"\n",
    "$image = \"nginx\"\n",
    "\n",
    "$url = \"http://localhost/v1.29/containers/create?name=$name\"\n",
    "\n",
    "$header = @{\n",
    "    \"Content-Type\" = \"application/json\"\n",
    "}; $header = ($header | ConvertTo-JSON)\n",
    "\n",
    "$body = @{\n",
    "    image = \"$image\"\n",
    "}; $body = ( ($body | ConvertTo-JSON) -replace '\"', '\\\"' )\n",
    "$body\n",
    "\n",
    "$test = curl -X POST --unix-socket /var/run/docker.sock --header \"Content-Type: application/json\" --data $body $url\n",
    "$test"
   ]
  },
  {
   "cell_type": "markdown",
   "id": "circular-winner",
   "metadata": {},
   "source": [
    "## Find all containers that match 'nginx' image"
   ]
  },
  {
   "cell_type": "code",
   "execution_count": 157,
   "id": "distributed-vancouver",
   "metadata": {},
   "outputs": [],
   "source": [
    "## Find all containers on any swarm node that match 'nginx'\n",
    "$Response = curl -s --unix-socket /var/run/docker.sock 'http://localhost/containers/json?all=true'\n",
    "$containers = ($Response | ConvertFrom-JSON | Where-object {$_.Image -contains \"nginx\"})\n",
    "\n",
    "## Filter and convert to table\n",
    "$filter = @('Names','Image','Label')\n",
    "$Containers | FT"
   ]
  },
  {
   "cell_type": "markdown",
   "id": "fleet-patrol",
   "metadata": {},
   "source": [
    "## Check if container exists now"
   ]
  },
  {
   "cell_type": "code",
   "execution_count": 15,
   "id": "hungry-repository",
   "metadata": {},
   "outputs": [
    {
     "name": "stdout",
     "output_type": "stream",
     "text": [
      "  % Total    % Received % Xferd  Average Speed   Time    Time     Time  Current\n",
      "                                 Dload  Upload   Total   Spent    Left  Speed\n",
      "\n",
      "  0     0    0     0    0     0      0      0 --:--:-- --:--:-- --:--:--     0\n",
      "100 71285    0 71285    0     0  1513k      0 --:--:-- --:--:-- --:--:-- 1546k\n"
     ]
    }
   ],
   "source": [
    "## Find all containers on any swarm node that match 'nginx'\n",
    "$Response = curl --unix-socket /var/run/docker.sock 'http://localhost/containers/json?all=true'\n",
    "$containers = ($Response | ConvertFrom-JSON)\n",
    "\n",
    "## Filter and convert to table\n",
    "$filter = @('Names','Image','Label')\n",
    "$Containers | Where-Object {$_.Image -contains \"nginx\"} | FT"
   ]
  },
  {
   "cell_type": "code",
   "execution_count": null,
   "id": "endangered-commission",
   "metadata": {},
   "outputs": [],
   "source": []
  }
 ],
 "metadata": {
  "kernelspec": {
   "display_name": ".NET (PowerShell)",
   "language": "PowerShell",
   "name": ".net-powershell"
  },
  "language_info": {
   "file_extension": ".ps1",
   "mimetype": "text/x-powershell",
   "name": "PowerShell",
   "pygments_lexer": "powershell",
   "version": "7.0"
  }
 },
 "nbformat": 4,
 "nbformat_minor": 5
}
