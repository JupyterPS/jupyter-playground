{
 "cells": [
  {
   "cell_type": "markdown",
   "id": "quantitative-herald",
   "metadata": {},
   "source": [
    "# Docker Maintenance\n",
    "- This uses the unix socket connection\n",
    "- Be sure to mount the docker socket to ensure you can communicate with the service \n",
    "- Example:    -v /var/run/docker.sock:/var/run/docker.sock"
   ]
  },
  {
   "cell_type": "code",
   "execution_count": 8,
   "id": "velvet-booth",
   "metadata": {},
   "outputs": [
    {
     "name": "stdout",
     "output_type": "stream",
     "text": [
      "\u001b[93mThe following modules were imported successfully.\u001b[0m\n",
      "\u001b[92mcustom-docker.psm1, graph.psm1, pp-core.psm1\u001b[0m\n"
     ]
    }
   ],
   "source": [
    ". ~/Notebooks/PowerShell/custom-modules/preload"
   ]
  },
  {
   "cell_type": "code",
   "execution_count": 9,
   "id": "ranging-confidentiality",
   "metadata": {},
   "outputs": [
    {
     "name": "stdout",
     "output_type": "stream",
     "text": [
      "\u001b[93mAdding Image: http://localhost/images/prune\n",
      "\u001b[0m\n",
      "\n",
      "ImagesDeleted SpaceReclaimed\n",
      "------------- --------------\n",
      "                           0\n",
      "\n"
     ]
    }
   ],
   "source": [
    "Invoke-DockerImagePrune"
   ]
  },
  {
   "cell_type": "code",
   "execution_count": null,
   "id": "electric-municipality",
   "metadata": {},
   "outputs": [],
   "source": []
  }
 ],
 "metadata": {
  "kernelspec": {
   "display_name": ".NET (PowerShell)",
   "language": "PowerShell",
   "name": ".net-powershell"
  },
  "language_info": {
   "file_extension": ".ps1",
   "mimetype": "text/x-powershell",
   "name": "PowerShell",
   "pygments_lexer": "powershell",
   "version": "7.0"
  }
 },
 "nbformat": 4,
 "nbformat_minor": 5
}
