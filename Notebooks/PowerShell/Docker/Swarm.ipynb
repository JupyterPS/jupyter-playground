{
 "cells": [
  {
   "cell_type": "markdown",
   "id": "consistent-cable",
   "metadata": {},
   "source": [
    "# Swarm Docker API - Things that can be done with SWARM with Docker API\n",
    "\n",
    "- This uses the unix socket connection\n",
    "- Be sure to mount the docker socket to ensure you can communicate with the service \n",
    "- Example:    -v /var/run/docker.sock:/var/run/docker.sock"
   ]
  },
  {
   "cell_type": "markdown",
   "id": "compliant-beaver",
   "metadata": {},
   "source": [
    "## Get swarm information"
   ]
  },
  {
   "cell_type": "code",
   "execution_count": 3,
   "id": "loving-assets",
   "metadata": {},
   "outputs": [
    {
     "name": "stdout",
     "output_type": "stream",
     "text": [
      "  % Total    % Received % Xferd  Average Speed   Time    Time     Time  Current\n",
      "                                 Dload  Upload   Total   Spent    Left  Speed\n",
      "\n",
      "  0     0    0     0    0     0      0      0 --:--:-- --:--:-- --:--:--     0\n",
      "100  1617  100  1617    0     0   394k      0 --:--:-- --:--:-- --:--:--  394k\n",
      "\n",
      "ID                     : f5nus1c3ew3j23t73rpvqajw1\n",
      "Version                : @{Index=40546}\n",
      "CreatedAt              : 2021-02-02T20:05:35.224328893Z\n",
      "UpdatedAt              : 2021-02-10T08:16:18.117394315Z\n",
      "Spec                   : @{Name=default; Labels=; Orchestration=; Raft=; Dispatcher=; CAConfig=; \n",
      "                         TaskDefaults=; EncryptionConfig=}\n",
      "TLSInfo                : @{TrustRoot=-----BEGIN CERTIFICATE-----\n",
      "                         MIIBazCCARCgAwIBAgIUas7/ZWZeLffJVRj7w0UcyrchBmcwCgYIKoZIzj0EAwIw\n",
      "                         EzERMA8GA1UEAxMIc3dhcm0tY2EwHhcNMjEwMjAyMjAwMTAwWhcNNDEwMTI4MjAw\n",
      "                         MTAwWjATMREwDwYDVQQDEwhzd2FybS1jYTBZMBMGByqGSM49AgEGCCqGSM49AwEH\n",
      "                         A0IABE/DwhIv6LcQ3vYYT4ZytfFoafGAmiUck6wlL60QvaeICpuWYj2o8eblj8cV\n",
      "                         5g34Cfw+U76Jshjhk3KnpfhKK6ijQjBAMA4GA1UdDwEB/wQEAwIBBjAPBgNVHRMB\n",
      "                         Af8EBTADAQH/MB0GA1UdDgQWBBTITGLdRXfd9v5HQn1+lXtHdw0VVzAKBggqhkjO\n",
      "                         PQQDAgNJADBGAiEAlS+LL9lvnV2Hw5v+nvDBKkd5Td3aX+8fmWRYOvI1SqkCIQCc\n",
      "                         8pNfhUGQTm7uzQy6/ombWaFsEWbHgMIXpmnr85z7Cg==\n",
      "                         -----END CERTIFICATE-----\n",
      "                         ; CertIssuerSubject=MBMxETAPBgNVBAMTCHN3YXJtLWNh; CertIssuerPublicKey=MFkw\n",
      "                         EwYHKoZIzj0CAQYIKoZIzj0DAQcDQgAET8PCEi/otxDe9hhPhnK18Whp8YCaJRyTrCUvrRC9p4\n",
      "                         gKm5ZiPajx5uWPxxXmDfgJ/D5TvomyGOGTcqel+EorqA==}\n",
      "RootRotationInProgress : False\n",
      "DefaultAddrPool        : {10.0.0.0/8}\n",
      "SubnetSize             : 24\n",
      "DataPathPort           : 4789\n",
      "JoinTokens             : @{Worker=SWMTKN-1-3osoj86n4ztgpo2fhxsvj8f9ao7u2l0qs7qo6eewambzeikgo3-8nq3w\n",
      "                         k1t9vrano04ch29kd70n; Manager=SWMTKN-1-3osoj86n4ztgpo2fhxsvj8f9ao7u2l0qs7q\n",
      "                         o6eewambzeikgo3-0ox1aak0lbzqozfk60nowoyim}\n",
      "\n",
      "\n"
     ]
    }
   ],
   "source": [
    "## Get Swarm Info\n",
    "$Response = curl --unix-socket /var/run/docker.sock http://localhost/swarm\n",
    "$Response | ConvertFrom-JSON | FL"
   ]
  },
  {
   "cell_type": "markdown",
   "id": "temporal-chapel",
   "metadata": {},
   "source": [
    "## Get list of nodes"
   ]
  },
  {
   "cell_type": "code",
   "execution_count": 9,
   "id": "developmental-custom",
   "metadata": {},
   "outputs": [
    {
     "name": "stdout",
     "output_type": "stream",
     "text": [
      "  % Total    % Received % Xferd  Average Speed   Time    Time     Time  Current\n",
      "                                 Dload  Upload   Total   Spent    Left  Speed\n",
      "\n",
      "  0     0    0     0    0     0      0      0 --:--:-- --:--:-- --:--:--     0\n",
      "100  5663    0  5663    0     0  1106k      0 --:--:-- --:--:-- --:--:-- 1106k\n",
      "\n",
      "ID            : 5j73yhgfnabz8wsuz1x1k44vl\n",
      "Version       : @{Index=40721}\n",
      "CreatedAt     : 2021-02-02T20:05:36.900346056Z\n",
      "UpdatedAt     : 2021-02-10T18:41:37.643445185Z\n",
      "Spec          : @{Labels=; Role=manager; Availability=active}\n",
      "Description   : @{Hostname=unraid2-ds1; Platform=; Resources=; Engine=; TLSInfo=}\n",
      "Status        : @{State=ready; Addr=10.60.0.32}\n",
      "ManagerStatus : @{Reachability=reachable; Addr=10.60.0.32:2377}\n",
      "\n",
      "ID            : l65gl9zdng25ewjzet5oaag00\n",
      "Version       : @{Index=40726}\n",
      "CreatedAt     : 2021-02-02T20:05:37.073158883Z\n",
      "UpdatedAt     : 2021-02-10T18:41:46.93272375Z\n",
      "Spec          : @{Labels=; Role=manager; Availability=active}\n",
      "Description   : @{Hostname=proxmox-ds1; Platform=; Resources=; Engine=; TLSInfo=}\n",
      "Status        : @{State=ready; Addr=10.60.0.33}\n",
      "ManagerStatus : @{Leader=True; Reachability=reachable; Addr=10.60.0.33:2377}\n",
      "\n",
      "ID            : v38jc6feitd0q95emnm8t2ul8\n",
      "Version       : @{Index=40568}\n",
      "CreatedAt     : 2021-02-02T20:05:35.224460754Z\n",
      "UpdatedAt     : 2021-02-10T16:28:13.269852782Z\n",
      "Spec          : @{Labels=; Role=manager; Availability=active}\n",
      "Description   : @{Hostname=unraid1-ds1; Platform=; Resources=; Engine=; TLSInfo=}\n",
      "Status        : @{State=ready; Addr=10.60.0.31}\n",
      "ManagerStatus : @{Reachability=reachable; Addr=10.60.0.31:2377}\n",
      "\n",
      "\n"
     ]
    }
   ],
   "source": [
    "## Get Nodes\n",
    "$Response = curl --unix-socket /var/run/docker.sock http://localhost/nodes\n",
    "$Response | ConvertFrom-JSON | FL\n",
    "$nodes = ($Response | ConvertFrom-JSON)"
   ]
  },
  {
   "cell_type": "markdown",
   "id": "prime-valve",
   "metadata": {},
   "source": [
    "## Get specific Node details"
   ]
  },
  {
   "cell_type": "code",
   "execution_count": 13,
   "id": "linear-bahamas",
   "metadata": {},
   "outputs": [
    {
     "name": "stdout",
     "output_type": "stream",
     "text": [
      "5j73yhgfnabz8wsuz1x1k44vl\n",
      "  % Total    % Received % Xferd  Average Speed   Time    Time     Time  Current\n",
      "                                 Dload  Upload   Total   Spent    Left  Speed\n",
      "\n",
      "  0     0    0     0    0     0      0      0 --:--:-- --:--:-- --:--:--     0\n",
      "100  1884  100  1884    0     0   367k      0 --:--:-- --:--:-- --:--:--  459k\n",
      "\n",
      "ID            : 5j73yhgfnabz8wsuz1x1k44vl\n",
      "Version       : @{Index=40721}\n",
      "CreatedAt     : 2021-02-02T20:05:36.900346056Z\n",
      "UpdatedAt     : 2021-02-10T18:41:37.643445185Z\n",
      "Spec          : @{Labels=; Role=manager; Availability=active}\n",
      "Description   : @{Hostname=unraid2-ds1; Platform=; Resources=; Engine=; TLSInfo=}\n",
      "Status        : @{State=ready; Addr=10.60.0.32}\n",
      "ManagerStatus : @{Reachability=reachable; Addr=10.60.0.32:2377}\n",
      "\n",
      "\n"
     ]
    }
   ],
   "source": [
    "## Get Node details\n",
    "$nodes[0].ID\n",
    "$Response = curl --unix-socket /var/run/docker.sock http://localhost/nodes/$($nodes[0].ID)\n",
    "$Response | ConvertFrom-JSON | FL *"
   ]
  },
  {
   "cell_type": "markdown",
   "id": "possible-storage",
   "metadata": {},
   "source": [
    "## Find all containers that match 'nginx' image"
   ]
  },
  {
   "cell_type": "code",
   "execution_count": 39,
   "id": "assisted-prediction",
   "metadata": {},
   "outputs": [
    {
     "name": "stdout",
     "output_type": "stream",
     "text": [
      "  % Total    % Received % Xferd  Average Speed   Time    Time     Time  Current\n",
      "                                 Dload  Upload   Total   Spent    Left  Speed\n",
      "\n",
      "  0     0    0     0    0     0      0      0 --:--:-- --:--:-- --:--:--     0\n",
      "100 73432    0 73432    0     0  1749k      0 --:--:-- --:--:-- --:--:-- 1707k\n",
      "100 73432    0 73432    0     0  1749k      0 --:--:-- --:--:-- --:--:-- 1707k\n",
      "\n",
      "Id                                                               Names               Image ImageID\n",
      "--                                                               -----               ----- ------- \n",
      "59f5e67917a98f48519804e8caedb59ab27684a26e0903e3f77f0c622125cbab {/nginx}            nginx sha256:…\n",
      "592bd8a128da2f089658d43f6c1bf73d6bb2f6bbfac9cd96015947333f23a9a1 {/cranky_yalow}     nginx sha256:…\n",
      "3584a28015be602f2c7a9eb9448527c05dfbb534d8df67ef3cff704ad95ba9a3 {/cranky_antonelli} nginx sha256:…\n",
      "\n"
     ]
    }
   ],
   "source": [
    "## Find all containers on any swarm node that match 'nginx'\n",
    "$Response = curl --unix-socket /var/run/docker.sock 'http://localhost/containers/json?all=true'\n",
    "$containers = ($Response | ConvertFrom-JSON)\n",
    "\n",
    "## Filter and convert to table\n",
    "$filter = @('Names','Image','Label')\n",
    "$Containers | Where-Object {$_.Image -contains \"nginx\"} | FT"
   ]
  },
  {
   "cell_type": "markdown",
   "id": "committed-client",
   "metadata": {},
   "source": [
    "## Remove Container ID"
   ]
  },
  {
   "cell_type": "code",
   "execution_count": 50,
   "id": "general-anchor",
   "metadata": {},
   "outputs": [
    {
     "name": "stdout",
     "output_type": "stream",
     "text": [
      "\n",
      "Id              : 3584a28015be602f2c7a9eb9448527c05dfbb534d8df67ef3cff704ad95ba9a3\n",
      "Names           : {/cranky_antonelli}\n",
      "Image           : nginx\n",
      "ImageID         : sha256:298ec0e28760b8eb1aad79711dc29c19041c61d7cf342dd1f445e91f30500549\n",
      "Command         : /docker-entrypoint.sh nginx -g 'daemon off;'\n",
      "Created         : 1612975858\n",
      "Ports           : {}\n",
      "Labels          : @{maintainer=NGINX Docker Maintainers <docker-maint@nginx.com>}\n",
      "State           : created\n",
      "Status          : Created\n",
      "HostConfig      : @{NetworkMode=default}\n",
      "NetworkSettings : @{Networks=}\n",
      "Mounts          : {}\n",
      "\n",
      "  % Total    % Received % Xferd  Average Speed   Time    Time     Time  Current\n",
      "                                 Dload  Upload   Total   Spent    Left  Speed\n",
      "\n",
      "  0     0    0     0    0     0      0      0 --:--:-- --:--:-- --:--:--     0\n",
      "  0     0    0     0    0     0      0      0 --:--:-- --:--:-- --:--:--     0\n",
      "\n"
     ]
    }
   ],
   "source": [
    "## Identify Container to be removed\n",
    "$removeContainerID = $containers[0]\n",
    "$removeContainerID\n",
    "$Response = curl -X DELETE --unix-socket /var/run/docker.sock \"http://localhost/containers/$($removeContainerID.Id)\"\n",
    "$Response"
   ]
  },
  {
   "cell_type": "markdown",
   "id": "japanese-triumph",
   "metadata": {},
   "source": [
    "## Check if container exists now"
   ]
  },
  {
   "cell_type": "code",
   "execution_count": 51,
   "id": "immediate-wireless",
   "metadata": {},
   "outputs": [
    {
     "name": "stdout",
     "output_type": "stream",
     "text": [
      "  % Total    % Received % Xferd  Average Speed   Time    Time     Time  Current\n",
      "                                 Dload  Upload   Total   Spent    Left  Speed\n",
      "\n",
      "  0     0    0     0    0     0      0      0 --:--:-- --:--:-- --:--:--     0\n",
      "100 71287    0 71287    0     0  1420k      0 --:--:-- --:--:-- --:--:-- 1420k\n"
     ]
    }
   ],
   "source": [
    "## Find all containers on any swarm node that match 'nginx'\n",
    "$Response = curl --unix-socket /var/run/docker.sock 'http://localhost/containers/json?all=true'\n",
    "$containers = ($Response | ConvertFrom-JSON)\n",
    "\n",
    "## Filter and convert to table\n",
    "$filter = @('Names','Image','Label')\n",
    "$Containers | Where-Object {$_.Image -contains \"nginx\"} | FT"
   ]
  },
  {
   "cell_type": "code",
   "execution_count": null,
   "id": "assured-difficulty",
   "metadata": {},
   "outputs": [],
   "source": []
  }
 ],
 "metadata": {
  "kernelspec": {
   "display_name": ".NET (PowerShell)",
   "language": "PowerShell",
   "name": ".net-powershell"
  },
  "language_info": {
   "file_extension": ".ps1",
   "mimetype": "text/x-powershell",
   "name": "PowerShell",
   "pygments_lexer": "powershell",
   "version": "7.0"
  }
 },
 "nbformat": 4,
 "nbformat_minor": 5
}
