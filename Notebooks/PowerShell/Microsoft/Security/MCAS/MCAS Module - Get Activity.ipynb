{
 "cells": [
  {
   "cell_type": "markdown",
   "metadata": {},
   "source": [
    "# MCAS PS Module - Import Module and Authenticate"
   ]
  },
  {
   "cell_type": "markdown",
   "metadata": {},
   "source": [
    "## Import [Unofficial] MCAS Powershell module from Github Repository\n",
    "[MCAS Powershell Module [Unofficial] - Github Repo](https://github.com/microsoft/MCAS)"
   ]
  },
  {
   "cell_type": "code",
   "execution_count": null,
   "metadata": {},
   "outputs": [],
   "source": [
    "$host.UI.RawUI.BufferSize = [System.Management.Automation.Host.Size]::new(200, 50) ## Corrects the output\n",
    "Install-Module MCAS\n",
    "#Import-Module MCAS \n",
    "\n",
    "# Grabbing commands available\n",
    "Get-Command -module \"MCAS\" | Select-Object -Property Name | Format-Wide -Column 4\n",
    "Out-Display -input \"Type <font color=Yellow>'Get-Help &lt;command&gt; -Examples</font>' to get help on any modules\""
   ]
  },
  {
   "cell_type": "markdown",
   "metadata": {},
   "source": [
    "## Configure Variables and store credentials in XML file"
   ]
  },
  {
   "cell_type": "code",
   "execution_count": null,
   "metadata": {},
   "outputs": [],
   "source": [
    "$tenantUri = \"domain.us3.portal.cloudappsecurity.com\""
   ]
  },
  {
   "cell_type": "code",
   "execution_count": null,
   "metadata": {},
   "outputs": [],
   "source": [
    "$tenantName = ($tenantUri -replace \"https://\" | % {$_ -match \"(.*).portal.cloudappsecurity.com\"})\n",
    "if ($Matches[1]) {$tenantName = $Matches[1]} \n",
    "\n",
    "$path = New-Item -ItemType Directory -Force -Path \".\\Credentials\"\n",
    "$credentialPath = \".\\$($path.name)\\$tenantName.credential\"\n",
    "$credentialPath"
   ]
  },
  {
   "cell_type": "markdown",
   "metadata": {},
   "source": [
    "## Import Credentials"
   ]
  },
  {
   "cell_type": "code",
   "execution_count": null,
   "metadata": {},
   "outputs": [],
   "source": [
    "## Import MCAS Credential or add credential if does not exist\n",
    "if( (Test-Path $credentialPath -PathType Leaf) ) {\n",
    "    $CASCredential = Import-Clixml $credentialPath -ErrorAction SilentlyContinue\n",
    "} else {\n",
    "    Get-MCASCredential -tenantUri $tenantUri -PassThru | Export-CliXml \".\\Credentials\\$($Matches[1]).credential\" -Force\n",
    "    Write-Host \"Stored credentials in $credentialPath\"\n",
    "}"
   ]
  },
  {
   "cell_type": "markdown",
   "metadata": {},
   "source": [
    "## Query MCAS REST API and determine if credentials exists"
   ]
  },
  {
   "cell_type": "code",
   "execution_count": null,
   "metadata": {},
   "outputs": [],
   "source": [
    "$MCASPolicies = Get-MCASPolicy\n",
    "Write-Host -Foreground green \"`n $($MCASPolicies.count) MCAS Policies Retrieved`n\"\n",
    "\n",
    "$MCASPolicies | Group-Object -Property policyType -NoElement | Sort-Object -Property Count -Descending | Select-Object Name,Count"
   ]
  },
  {
   "cell_type": "markdown",
   "metadata": {},
   "source": [
    "## Pull all the Session policies"
   ]
  },
  {
   "cell_type": "code",
   "execution_count": null,
   "metadata": {},
   "outputs": [],
   "source": [
    "$filterPolicy = \"SESSION\"\n",
    "$MCASPolicies | Where-Object {$_.policyType -eq $filterPolicy} | Select-Object name | FT"
   ]
  },
  {
   "cell_type": "code",
   "execution_count": null,
   "metadata": {},
   "outputs": [],
   "source": [
    "$filterPolicyName = \"*DEMO*\"\n",
    "$MCASPolicies | Where-Object {$_.name -like $filterPolicyName} | FL"
   ]
  },
  {
   "cell_type": "code",
   "execution_count": null,
   "metadata": {},
   "outputs": [],
   "source": []
  }
 ],
 "metadata": {
  "kernelspec": {
   "display_name": ".NET (PowerShell)",
   "language": "PowerShell",
   "name": ".net-powershell"
  },
  "language_info": {
   "file_extension": ".ps1",
   "mimetype": "text/x-powershell",
   "name": "PowerShell",
   "pygments_lexer": "powershell",
   "version": "7.0"
  }
 },
 "nbformat": 4,
 "nbformat_minor": 4
}
