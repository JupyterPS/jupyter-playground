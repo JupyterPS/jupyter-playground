{
 "cells": [
  {
   "cell_type": "markdown",
   "metadata": {},
   "source": [
    "# Querying Azure Sentinel via REST API using a Personal Access Token (PAT)\n",
    "\n",
    "<table align=\"left\" style=\"margin-left:25px\">\n",
    "  <tr>\n",
    "    <th>Type</th>\n",
    "    <th>Title</th>\n",
    "    <th>Description</th>\n",
    "  </tr>\n",
    "  <tr>\n",
    "      <td>Documentation</td>\n",
    "      <td><b><a href=\"https://techcommunity.microsoft.com/t5/azure-sentinel/extending-azure-sentinel-apis-integration-and-management/ba-p/1116885\">Extending Azure Sentinel: APIs, Integration and management automation</a></td>\n",
    "    <td>Its highly recommended to follow this guide to get familiar with navigating and using Jupyter Notebooks. </td>\n",
    "  </tr>\n",
    "  <tr>\n",
    "      <td>Tech Community</td>\n",
    "    <td><b><a href=\"../../PowerShell/Getting-Started-README.ipynb\">Access Azure Sentinel Log Analytics via API (Part 1)</a></td>\n",
    "    <td>@rinure wrote a good article explaining how to query the API. Use this as a reference to understand how to query the Azure Sentinel API. </td>\n",
    "  </tr>\n",
    "</table> "
   ]
  },
  {
   "cell_type": "markdown",
   "metadata": {},
   "source": [
    "## Set your variables here"
   ]
  },
  {
   "cell_type": "code",
   "execution_count": 9,
   "metadata": {},
   "outputs": [],
   "source": [
    "############ This is the credentials used to authenticate with the Graph API ###################\n",
    "#$credentials = @{\n",
    "#    tenantDomain = \"domain.com\"\n",
    "#    tenantId = \"xxxxxxx-xxxx-xxxx-xxxx-xxxxxxxx\"        ## AAD Tenant ID\n",
    "#    client_id = \"ae4fa870-23af-4ae5-a6ed-xxxxx\"     ## Application Client ID\n",
    "#    client_secret = \"x~xxxxxxx~xxxxx~xxxxxxxxx-xxx\"   ## Application Client Secret\n",
    "#}\n",
    "\n",
    "$sentinelWorkspaceId = \"a8960181-0bde-4955-9f94-2c12a36cc900\""
   ]
  },
  {
   "cell_type": "markdown",
   "metadata": {},
   "source": [
    "## Import required modules"
   ]
  },
  {
   "cell_type": "code",
   "execution_count": 2,
   "metadata": {},
   "outputs": [
    {
     "name": "stdout",
     "output_type": "stream",
     "text": [
      "\n",
      "CommandType     Name                                               Version    Source\n",
      "-----------     ----                                               -------    ------\n",
      "Function        Get-DecryptedStringUsingMasterPassword             0.0        pp-core\n",
      "Function        Get-EncryptedStringUsingMasterPassword             0.0        pp-core\n",
      "Function        Get-HashOfString                                   0.0        pp-core\n",
      "Function        Get-MasterPassword                                 0.0        pp-core\n",
      "Function        Get-StoredCredentials                              0.0        pp-core\n",
      "Function        Invoke-CheckCredentials                            0.0        pp-core\n",
      "Function        New-StoreCredentials                               0.0        pp-core\n",
      "Function        Get-MSGraphAuthToken                               0.0        graph\n",
      "Function        Invoke-GraphAuthentication                         0.0        graph\n",
      "Function        Invoke-MSGraphQuery                                0.0        graph\n",
      "\u001b[96m\n",
      "Please enter a master password that will be used to encrypt/decrypt this credential\u001b[0m\n"
     ]
    },
    {
     "name": "stdin",
     "output_type": "stream",
     "text": [
      " ·········\n"
     ]
    },
    {
     "name": "stdout",
     "output_type": "stream",
     "text": [
      "\n"
     ]
    }
   ],
   "source": [
    "$modules = @('pp-core','graph') ## These are the modules to import \n",
    "$credentialPath = \"~/.credentials/graph.credential\" ## Where to store credentials\n",
    "################## Import Graph Authentication Module #############################\n",
    "ForEach ($module in $modules) {\n",
    "    Import-Module \"~/Notebooks/Powershell-Playground/PowerShell/custom-modules/$module\" -Force  ## import module \n",
    "    Get-Command -Module \"$module\"                                                        ## list commands in this module \n",
    "}\n",
    "\n",
    "$credentials = New-StoreCredentials -credentialPath $credentialPath -credentialArray $credentials"
   ]
  },
  {
   "cell_type": "code",
   "execution_count": 4,
   "metadata": {},
   "outputs": [
    {
     "name": "stdout",
     "output_type": "stream",
     "text": [
      "\u001b[92m\n",
      "Authentication Parameters detected\u001b[0m\n",
      "Personal Access Token (PAT) grant_type\n",
      "\n",
      "----------------------------------------------------------------------------\n",
      "Authentiating with Microsoft Graph API using a Personal Access Token (PAT)\n",
      "\u001b[37mhttps://docs.microsoft.com/en-us/azure/storage/common/storage-auth-aad-app\u001b[0m\n",
      "----------------------------------------------------------------------------\n",
      "Requesting Token at https://login.microsoftonline.com/de40cf7e-ad5f-4245-a317-14be39cbb0ef/oauth2/token\n",
      "\u001b[92m\n",
      "\n",
      "Received Token!\u001b[0m\n",
      "\u001b[92mConnected and Access Token received and will expire \u001b[0m\n"
     ]
    }
   ],
   "source": [
    "## Get a token if authenticates properly.\n",
    "$authParams = @{\n",
    "    tenantId = $credentials.tenantId\n",
    "    client_id = $credentials.client_id\n",
    "    client_secret = $credentials.client_secret\n",
    "    resource = \"https://api.loganalytics.io\"    ## resource Dont change since we want to query MDATP REST API Resource\n",
    "    grant_type = \"client_credentials\"  ## This is using a appliation ID and secret to authenticate\n",
    "}\n",
    "\n",
    "$tokenResponse = Invoke-GraphAuthentication -authParams $authParams"
   ]
  },
  {
   "cell_type": "markdown",
   "metadata": {},
   "source": [
    "### Put your Azure Sentinel Hunting Query here"
   ]
  },
  {
   "cell_type": "code",
   "execution_count": 6,
   "metadata": {},
   "outputs": [
    {
     "name": "stdout",
     "output_type": "stream",
     "text": [
      "\u001b[93m\n",
      "Query\u001b[0m\n",
      "\n",
      "SecurityAlert\n",
      "\n",
      "\u001b[93mJSON\u001b[0m\n",
      "{\n",
      "  \"query\": \"\\nSecurityAlert\\n\",\n",
      "  \"timespan\": \"\"\n",
      "}\n"
     ]
    }
   ],
   "source": [
    "## Enter your query here\n",
    "$query = @\"\n",
    "\n",
    "SecurityAlert\n",
    "\n",
    "\"@\n",
    "\n",
    "$timeSpan = \"\" ## You can leave blank or specify a date. But something HAS to be there. \n",
    " \n",
    "## This is the query converted to JSON format\n",
    "$body = (@{\n",
    "   query = $Query\n",
    "   timespan = $timeSpan  \n",
    "} | ConvertTO-JSON)\n",
    "Write-Host -ForeGround Yellow \"`nQuery\"; $Query\n",
    "Write-Host -ForeGround Yellow \"JSON\"; $body"
   ]
  },
  {
   "cell_type": "markdown",
   "metadata": {},
   "source": [
    "## Query Graph API and insert into $graphresponse variable"
   ]
  },
  {
   "cell_type": "code",
   "execution_count": 12,
   "metadata": {},
   "outputs": [
    {
     "name": "stdout",
     "output_type": "stream",
     "text": [
      "a8960181-0bde-4955-9f94-2c12a36cc900\n",
      "\n",
      "Wednesday, June 10, 2020 7:43:02 PM\n",
      "DLP - Sharepoint - Financial sensitive file(s) shared externally\n",
      "DLP - Sharepoint - Financial sensitive file(s) shared externally\n",
      "High\n",
      "File policy 'DLP - Sharepoint - Financial sensitive file(s) shared externally' was matched by 'Credit_Card_Form_SP_20200610-T0239.docx'\n",
      "MCAS\n",
      "Microsoft\n",
      "B782FAF8-F546-37A1-979B-340DE4AFF1C2\n",
      "56fb8160-5d9c-c29b-be35-be169678b9bf\n",
      "\n",
      "\n",
      "MCAS_ALERT_CABINET_EVENT_MATCH_FILE\n",
      "Unknown\n",
      "\n",
      "False\n",
      "Wednesday, June 10, 2020 7:42:56 PM\n",
      "Wednesday, June 10, 2020 7:42:56 PM\n",
      "Wednesday, June 10, 2020 7:43:02 PM\n",
      "\n",
      "{\n",
      "  \"Cloud Applications\": \"Microsoft SharePoint Online\"\n",
      "}\n",
      "[\n",
      "  {\n",
      "    \"$id\": \"3\",\n",
      "    \"AppId\": 20892,\n",
      "    \"Name\": \"Microsoft SharePoint Online\",\n",
      "    \"InstanceName\": \"Microsoft SharePoint Online\",\n",
      "    \"Type\": \"cloud-application\"\n",
      "  },\n",
      "  {\n",
      "    \"$id\": \"4\",\n",
      "    \"Name\": \"bob\",\n",
      "    \"UPNSuffix\": \"jingtoso.com\",\n",
      "    \"AadUserId\": \"6836ed6d-2a15-4889-ad24-fbda46b5ffda\",\n",
      "    \"Type\": \"account\"\n",
      "  }\n",
      "]\n",
      "Detection\n",
      "\n",
      "\n",
      "[\n",
      "  {\n",
      "    \"Href\": \"https://skyserver.portal.cloudappsecurity.com/#/policy/?id=eq(5e2781b30d60ec20fe2951a2,)\",\n",
      "    \"Category\": null,\n",
      "    \"Label\": \"Cloud App Security policy ID\",\n",
      "    \"Type\": \"webLink\"\n",
      "  },\n",
      "  {\n",
      "    \"Href\": \"https://skyserver.portal.cloudappsecurity.com/#/alerts/5ee137c036159cde5db29d6b\",\n",
      "    \"Category\": null,\n",
      "    \"Label\": \"Cloud App Security alert ID\",\n",
      "    \"Type\": \"webLink\"\n",
      "  }\n",
      "]\n",
      "Microsoft Cloud App Security\n",
      "\n",
      "\n",
      "SecurityAlert\n",
      "\n"
     ]
    }
   ],
   "source": [
    "$URI = \"https://api.loganalytics.io/v1/workspaces/$sentinelWorkspaceId/query\"\n",
    "$header = @{ \n",
    "    'Content-Type' = 'application/json'\n",
    "    Accept = 'application/json'\n",
    "    Authorization = \"Bearer $($tokenResponse.access_token)\" \n",
    "}\n",
    "\n",
    "$Result = (Invoke-RestMethod -Method POST -Uri $URI -Headers $header -body $body -ErrorAction Stop)\n",
    "$Result.tables.rows | Select -First 1"
   ]
  },
  {
   "cell_type": "code",
   "execution_count": null,
   "metadata": {},
   "outputs": [],
   "source": []
  }
 ],
 "metadata": {
  "kernelspec": {
   "display_name": ".NET (PowerShell)",
   "language": "PowerShell",
   "name": ".net-powershell"
  },
  "language_info": {
   "file_extension": ".ps1",
   "mimetype": "text/x-powershell",
   "name": "PowerShell",
   "pygments_lexer": "powershell",
   "version": "7.0"
  }
 },
 "nbformat": 4,
 "nbformat_minor": 4
}
