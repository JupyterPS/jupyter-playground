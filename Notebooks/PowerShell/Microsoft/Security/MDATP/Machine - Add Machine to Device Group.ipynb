{
 "cells": [
  {
   "cell_type": "markdown",
   "metadata": {},
   "source": [
    "# Add/Remove Machine to Device Groups based on Machine Tag\n",
    "\n",
    "    Author: Jing Nghik\n",
    "    Last Updated 6/23/2020\n",
    "\n",
    "Purpose: This notebook is used to add device's to a certain group based on the machine tag.\n",
    "\n",
    "## Requirements: \n",
    "\n",
    "[Machine groups already pre-configured by Device tag](https://docs.microsoft.com/en-us/windows/security/threat-protection/microsoft-defender-atp/machine-groups)\n",
    "\n",
    "    You need to have the machine groups already configured that filter based on the device tag element.\n",
    "\n",
    "[Proper MDATP API Token](https://docs.microsoft.com/en-us/windows/security/threat-protection/microsoft-defender-atp/exposed-apis-create-app-webapp)\n",
    "        \n",
    "    Microsoft Defender ATP exposes much of its data and actions through a set of programmatic APIs. Those APIs will help you automate work flows and innovate based on Microsoft Defender ATP capabilities."
   ]
  },
  {
   "cell_type": "markdown",
   "metadata": {},
   "source": [
    "\n",
    "## Replace variables with pertaining to your environment"
   ]
  },
  {
   "cell_type": "code",
   "execution_count": 40,
   "metadata": {},
   "outputs": [],
   "source": [
    "############ This is the credentials used to authenticate with the Graph API ###################\n",
    "$credentials = @{\n",
    "    tenantDomain = \"domain.com\"\n",
    "    tenantId = \"xxxxxxx-xxxx-xxxx-xxxx-xxxxxxxx\"        ## AAD Tenant ID\n",
    "    client_id = \"ae4fa870-23af-4ae5-a6ed-xxxxx\"     ## Application Client ID\n",
    "    client_secret = \"x~xxxxxxx~xxxxx~xxxxxxxxx-xxx\"   ## Application Client Secret\n",
    "}"
   ]
  },
  {
   "cell_type": "markdown",
   "metadata": {},
   "source": [
    "## Import required modules and credentials"
   ]
  },
  {
   "cell_type": "code",
   "execution_count": 11,
   "metadata": {},
   "outputs": [
    {
     "name": "stdout",
     "output_type": "stream",
     "text": [
      "\n",
      "CommandType     Name                                               Version    Source\n",
      "-----------     ----                                               -------    ------\n",
      "Function        Get-DecryptedStringUsingMasterPassword             0.0        pp-core\n",
      "Function        Get-EncryptedStringUsingMasterPassword             0.0        pp-core\n",
      "Function        Get-HashOfString                                   0.0        pp-core\n",
      "Function        Get-MasterPassword                                 0.0        pp-core\n",
      "Function        Get-StoredCredentials                              0.0        pp-core\n",
      "Function        Invoke-CheckCredentials                            0.0        pp-core\n",
      "Function        New-StoreCredentials                               0.0        pp-core\n",
      "Function        Get-MSGraphAuthToken                               0.0        graph\n",
      "Function        Invoke-GraphAuthentication                         0.0        graph\n",
      "Function        Invoke-MSGraphQuery                                0.0        graph\n",
      "\u001b[91mNew-StoreCredentials: \n",
      "\u001b[96mLine |\n",
      "\u001b[96m   9 | \u001b[0m … entials -credentialPath $credentialPath -credentialArray \u001b[96m$credentials\u001b[0m\n",
      "\u001b[96m     | \u001b[91m                                                            ~~~~~~~~~~~~\n",
      "\u001b[91m\u001b[96m     | \u001b[91mCannot process argument transformation on parameter 'credentialArray'. Cannot convert value \"@{client_secret=5~Q5En6ecx9d~ZtuqPf~YRBLw5S858-7WS; tenantId=de40cf7e-ad5f-4245-a317-14be39cbb0ef; tenantDomain=jingtoso.com; client_id=ae4fa870-23af-4ae5-a6ed-5ab1811858c7}\" to type \"System.Collections.Hashtable\". Error: \"Cannot convert the \"@{client_secret=5~Q5En6ecx9d~ZtuqPf~YRBLw5S858-7WS; tenantId=de40cf7e-ad5f-4245-a317-14be39cbb0ef; tenantDomain=jingtoso.com; client_id=ae4fa870-23af-4ae5-a6ed-5ab1811858c7}\" value of type \"System.Management.Automation.PSCustomObject\" to type \"System.Collections.Hashtable\".\"\u001b[0m\n",
      "\n"
     ]
    }
   ],
   "source": [
    "$modules = @('pp-core','graph') ## These are the modules to import \n",
    "$credentialPath = \"~/.credentials/graph.credential\" ## Where to store credentials\n",
    "################## Import Graph Authentication Module #############################\n",
    "ForEach ($module in $modules) {\n",
    "    Import-Module \"~/Notebooks/Powershell-Playground/PowerShell/custom-modules/$module\" -Force  ## import module \n",
    "    Get-Command -Module \"$module\"                                                        ## list commands in this module \n",
    "}\n",
    "\n",
    "$credentials = New-StoreCredentials -credentialPath $credentialPath -credentialArray $credentials"
   ]
  },
  {
   "cell_type": "markdown",
   "metadata": {},
   "source": [
    "## Authenticate with Graph API and get access Token for MDATP Resource"
   ]
  },
  {
   "cell_type": "code",
   "execution_count": 10,
   "metadata": {},
   "outputs": [
    {
     "name": "stdout",
     "output_type": "stream",
     "text": [
      "\n",
      "Name                           Value\n",
      "----                           -----\n",
      "grant_type                     client_credentials\n",
      "client_id                      ae4fa870-23af-4ae5-a6ed-5ab1811858c7\n",
      "resource                       https://api.securitycenter.windows.com\n",
      "client_secret                  5~Q5En6ecx9d~ZtuqPf~YRBLw5S858-7WS\n",
      "tenantId                       de40cf7e-ad5f-4245-a317-14be39cbb0ef\n",
      "\u001b[92m\n",
      "Authentication Parameters detected\u001b[0m\n",
      "Personal Access Token (PAT) grant_type\n",
      "\n",
      "----------------------------------------------------------------------------\n",
      "Authentiating with Microsoft Graph API using a Personal Access Token (PAT)\n",
      "\u001b[37mhttps://docs.microsoft.com/en-us/azure/storage/common/storage-auth-aad-app\u001b[0m\n",
      "----------------------------------------------------------------------------\n",
      "Requesting Token at https://login.microsoftonline.com/de40cf7e-ad5f-4245-a317-14be39cbb0ef/oauth2/token\n",
      "\u001b[92m\n",
      "\n",
      "Received Token!\u001b[0m\n",
      "\u001b[92mConnected and Access Token received and will expire \u001b[0m\n",
      "\n",
      "token_type     : Bearer\n",
      "expires_in     : 3599\n",
      "ext_expires_in : 3599\n",
      "expires_on     : 1593207926\n",
      "not_before     : 1593204026\n",
      "resource       : https://api.securitycenter.windows.com\n",
      "access_token   : eyJ0eXAiOiJKV1QiLCJhbGciOiJSUzI1NiIsIng1dCI6IlNzWnNCTmhaY0YzUTlTNHRycFFCVEJ5TlJSSS\n",
      "                 IsImtpZCI6IlNzWnNCTmhaY0YzUTlTNHRycFFCVEJ5TlJSSSJ9.eyJhdWQiOiJodHRwczovL2FwaS5zZWN\n",
      "                 1cml0eWNlbnRlci53aW5kb3dzLmNvbSIsImlzcyI6Imh0dHBzOi8vc3RzLndpbmRvd3MubmV0L2RlNDBjZ\n",
      "                 jdlLWFkNWYtNDI0NS1hMzE3LTE0YmUzOWNiYjBlZi8iLCJpYXQiOjE1OTMyMDQwMjYsIm5iZiI6MTU5MzI\n",
      "                 wNDAyNiwiZXhwIjoxNTkzMjA3OTI2LCJhaW8iOiJFMkJnWU9pNC8xRHorOVhpaUlMTVBjdXZYbkJ1QUFBP\n",
      "                 SIsImFwcGlkIjoiYWU0ZmE4NzAtMjNhZi00YWU1LWE2ZWQtNWFiMTgxMTg1OGM3IiwiYXBwaWRhY3IiOiI\n",
      "                 xIiwiaWRwIjoiaHR0cHM6Ly9zdHMud2luZG93cy5uZXQvZGU0MGNmN2UtYWQ1Zi00MjQ1LWEzMTctMTRiZ\n",
      "                 TM5Y2JiMGVmLyIsIm9pZCI6IjMwYzExZThiLWMwZGItNDkwMC05MDUwLTg5MmZlZmEwYjNmMCIsInJvbGV\n",
      "                 zIjpbIkV2ZW50LldyaXRlIiwiVXJsLlJlYWQuQWxsIiwiSXAuUmVhZC5BbGwiLCJUaS5SZWFkV3JpdGUiL\n",
      "                 CJUaS5SZWFkLkFsbCIsIlVzZXIuUmVhZC5BbGwiLCJNYWNoaW5lLlJlYWRXcml0ZS5BbGwiLCJTZWN1cml\n",
      "                 0eVJlY29tbWVuZGF0aW9uLlJlYWQuQWxsIiwiQWxlcnQuUmVhZC5BbGwiLCJTb2Z0d2FyZS5SZWFkLkFsb\n",
      "                 CIsIlNlY3VyaXR5Q29uZmlndXJhdGlvbi5SZWFkLkFsbCIsIkZpbGUuUmVhZC5BbGwiLCJWdWxuZXJhYml\n",
      "                 saXR5LlJlYWQuQWxsIiwiTWFjaGluZS5SZWFkLkFsbCIsIlNjb3JlLlJlYWQuQWxsIiwiQWxlcnQuUmVhZ\n",
      "                 FdyaXRlLkFsbCIsIkFkdmFuY2VkUXVlcnkuUmVhZC5BbGwiXSwic3ViIjoiMzBjMTFlOGItYzBkYi00OTA\n",
      "                 wLTkwNTAtODkyZmVmYTBiM2YwIiwidGlkIjoiZGU0MGNmN2UtYWQ1Zi00MjQ1LWEzMTctMTRiZTM5Y2JiM\n",
      "                 GVmIiwidXRpIjoib1dZUXFhTk9PMDZqeUVub0dJeWlBUSIsInZlciI6IjEuMCJ9.GQJR6B15Q93cqG-z8W\n",
      "                 J1CwjJjUUzhcS7TUlOdWi3bD1XuBtkpt5x1jtQ4_4jUeUQDFEJe68UIqyPbAXtv_bGs6jG26d1r-02aoKc\n",
      "                 h6pmftA4bhgE-_vIPORbm-I6Xjbfs4RkPJnugM1xecCYpCvU0an_OEJRcgHNAYRGT8zEbXmkgv5aw9IRYO\n",
      "                 puBplRzAKuW7dX9s6_Aq133uGfdiNRUoTNR8OGJ33t2iOaRP180wsg9GtFAQHqL1bunNTLLpHUFW60d2Il\n",
      "                 4Thtji47ArgDEG1NNqkBfxvIb48w1QFfjQ5UnQaRezl7gHJaHaw-DuEyOhBKwb3MYLKvLscxzOL5bA\n",
      "\n",
      "\n"
     ]
    }
   ],
   "source": [
    "## Get a token if authenticates properly.\n",
    "$authParams = @{\n",
    "    tenantId = $credentials.tenantId\n",
    "    client_id = $credentials.client_id\n",
    "    client_secret = $credentials.client_secret\n",
    "    resource = \"https://api.securitycenter.windows.com\"    ## resource Dont change since we want to query MDATP REST API Resource\n",
    "    grant_type = \"client_credentials\"  ## This is using a appliation ID and secret to authenticate\n",
    "}; $authParams\n",
    "\n",
    "$tokenResponse = Invoke-GraphAuthentication -authParams $authParams\n",
    "$tokenResponse"
   ]
  },
  {
   "cell_type": "code",
   "execution_count": 6,
   "metadata": {},
   "outputs": [
    {
     "name": "stdout",
     "output_type": "stream",
     "text": [
      "\n",
      "id                                       computerDnsName   machineTags\n",
      "--                                       ---------------   -----------\n",
      "fcb604d2f2b895cdbb296ee64040a4693ef230ab bdlabs-cent7-1    {}\n",
      "bffd249f248a1d1b95e5f90922c9a1df776de35f jing-lab          {}\n",
      "d1447e0ab03ed0f39c9e2e0a3ac3cc36cc8ecf78 jingtoso-desktop1 {group1}\n",
      "a8fe7113c8bab16e43a818f0a972515da82e94f8 win10-oobe-test   {group1, group2}\n",
      "4bfbac0c45e72411f445eed810f4a423be2a335d jingtoso-pc1      {group2}\n",
      "\n"
     ]
    }
   ],
   "source": [
    "## This is the authentication header for REST API Call\n",
    "$authHeader = @{ \n",
    "    'Content-Type' = 'application/json'\n",
    "    Accept = 'application/json'\n",
    "    Authorization = \"Bearer $($tokenResponse.access_token)\" \n",
    "}\n",
    "\n",
    "## The following commands will query the graph API and output the first 5 machines in table format\n",
    "$URI = \"https://api-us.securitycenter.windows.com/api/machines\"\n",
    "$Response = (Invoke-RestMethod -Method GET -Uri $URI -Headers $authHeader -body $body -ErrorAction Stop)\n",
    "$Response.value | Select-Object -First 5 | Select-Object @('id','computerDnsName','machineTags') | FT"
   ]
  },
  {
   "cell_type": "markdown",
   "metadata": {},
   "source": [
    "## Identify machine, tag, and whether to add or remove the tag on the machine"
   ]
  },
  {
   "cell_type": "code",
   "execution_count": 7,
   "metadata": {},
   "outputs": [],
   "source": [
    "$machineId = \"4bfbac0c45e72411f445eed810f4a423be2a335d\"  ## Machine ID to add or remove device group\n",
    "$machineTag = \"group1\"\n",
    "$action = \"Add\" ## This can be add or remove"
   ]
  },
  {
   "cell_type": "markdown",
   "metadata": {},
   "source": [
    "## Add/Remove machine based on above variables"
   ]
  },
  {
   "cell_type": "code",
   "execution_count": 8,
   "metadata": {},
   "outputs": [
    {
     "name": "stdout",
     "output_type": "stream",
     "text": [
      "{\n",
      "  \"Value\": \"group1\",\n",
      "  \"Action\": \"Add\"\n",
      "}\n",
      "https://api-us.securitycenter.windows.com/api/machines/4bfbac0c45e72411f445eed810f4a423be2a335d/tags\n"
     ]
    }
   ],
   "source": [
    "####### Creates the json body ####################\n",
    "$jsonBody = @{\n",
    "    Value = $machineTag\n",
    "    Action = $action\n",
    "}\n",
    "$jsonBody = ($jsonbody | ConvertTo-JSON); $jsonBody\n",
    "\n",
    "####### Calls MDATP Rest API and either add or remove machine tag #################\n",
    "$URI = \"https://api-us.securitycenter.windows.com/api/machines/$machineId/tags\"; $URI\n",
    "$Response = Invoke-RestMethod -Method POST -Uri $URI -Headers $authHeader -body $jsonBody -ErrorAction Stop"
   ]
  },
  {
   "cell_type": "markdown",
   "metadata": {},
   "source": [
    "## Get Machine list again to verify"
   ]
  },
  {
   "cell_type": "code",
   "execution_count": 9,
   "metadata": {},
   "outputs": [
    {
     "name": "stdout",
     "output_type": "stream",
     "text": [
      "\n",
      "id                                       computerDnsName   machineTags\n",
      "--                                       ---------------   -----------\n",
      "fcb604d2f2b895cdbb296ee64040a4693ef230ab bdlabs-cent7-1    {}\n",
      "bffd249f248a1d1b95e5f90922c9a1df776de35f jing-lab          {}\n",
      "d1447e0ab03ed0f39c9e2e0a3ac3cc36cc8ecf78 jingtoso-desktop1 {group1}\n",
      "a8fe7113c8bab16e43a818f0a972515da82e94f8 win10-oobe-test   {group1, group2}\n",
      "4bfbac0c45e72411f445eed810f4a423be2a335d jingtoso-pc1      {group1, group2}\n",
      "35c817f459246946bb02e9832e46c8e3260fe9dd jings-desktop     {group2}\n",
      "\n"
     ]
    }
   ],
   "source": [
    "$URI = \"https://api-us.securitycenter.windows.com/api/machines\"\n",
    "$Response = (Invoke-RestMethod -Method GET -Uri $URI -Headers $authHeader -body $body -ErrorAction Stop)\n",
    "$Response.value | Select-Object @('id','computerDnsName','machineTags') | FT"
   ]
  },
  {
   "cell_type": "code",
   "execution_count": null,
   "metadata": {},
   "outputs": [],
   "source": []
  }
 ],
 "metadata": {
  "kernelspec": {
   "display_name": ".NET (PowerShell)",
   "language": "PowerShell",
   "name": ".net-powershell"
  },
  "language_info": {
   "file_extension": ".ps1",
   "mimetype": "text/x-powershell",
   "name": "PowerShell",
   "pygments_lexer": "powershell",
   "version": "7.0"
  },
  "toc-autonumbering": true,
  "toc-showmarkdowntxt": true
 },
 "nbformat": 4,
 "nbformat_minor": 4
}
