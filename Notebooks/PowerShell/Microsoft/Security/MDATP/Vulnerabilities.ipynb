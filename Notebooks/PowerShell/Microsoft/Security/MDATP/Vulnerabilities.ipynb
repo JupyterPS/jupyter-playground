{
 "cells": [
  {
   "cell_type": "markdown",
   "metadata": {},
   "source": [
    "# Get Security Recommendations\n",
    "\n",
    "    Author: Jing Nghik\n",
    "    Last Updated 2/9/2021\n",
    "\n",
    "Purpose: This notebook is an example to get vulnerabilities\n",
    "\n",
    "## Requirements: \n",
    "\n",
    "### Scopes Required\n",
    "- SecurityRecommendation.Read\n",
    "- SecurityRecommendation.Read.All\n",
    "\n",
    "### A client AppID/Secret or Device Code Authentication\n",
    "[Proper MDATP API Token](https://docs.microsoft.com/en-us/windows/security/threat-protection/microsoft-defender-atp/exposed-apis-create-app-webapp)\n",
    "        \n",
    "    Microsoft Defender ATP exposes much of its data and actions through a set of programmatic APIs. Those APIs will help you automate work flows and innovate based on Microsoft Defender ATP capabilities."
   ]
  },
  {
   "cell_type": "markdown",
   "metadata": {},
   "source": [
    "## Set Variables and Import required modules and credentials "
   ]
  },
  {
   "cell_type": "code",
   "execution_count": 5,
   "metadata": {},
   "outputs": [
    {
     "name": "stdout",
     "output_type": "stream",
     "text": [
      "\n",
      "CommandType     Name                                               Version    Source\n",
      "-----------     ----                                               -------    ------\n",
      "Function        Get-DecryptedStringUsingMasterPassword             0.0        pp-core\n",
      "Function        Get-EncryptedStringUsingMasterPassword             0.0        pp-core\n",
      "Function        Get-HashOfString                                   0.0        pp-core\n",
      "Function        Get-MasterPassword                                 0.0        pp-core\n",
      "Function        Get-StoredCredentials                              0.0        pp-core\n",
      "Function        Invoke-CheckCredentials                            0.0        pp-core\n",
      "Function        New-StoreCredentials                               0.0        pp-core\n",
      "Function        Get-MSGraphAuthToken                               0.0        graph\n",
      "Function        Invoke-GraphAuthentication                         0.0        graph\n",
      "Function        Invoke-MSGraphQuery                                0.0        graph\n",
      "\n"
     ]
    }
   ],
   "source": [
    "## Change these if required\n",
    "$resource = \"https://api.securitycenter.windows.com\" ## resource Dont change since we want to query MDATP REST API Resource\n",
    "$grant_type = \"client_credentials\" ## This is using a device_code flow (supports: client_credentials, device_code)\n",
    "\n",
    "## Dont really need to change these unless necessary\n",
    "$VerbosePreference = \"ignore\"   ## Set to 'continue to get verbose output'\n",
    "## This will run a script to import the required modules and credentials stored in the \"credential\" file\n",
    "$scriptPath = \"~/Notebooks/PowerShell/custom-modules/import.ps1\"; . $scriptPath  # this will run the script"
   ]
  },
  {
   "cell_type": "markdown",
   "metadata": {},
   "source": [
    "## Authenticate with Graph API and get access Token for MDATP Resource"
   ]
  },
  {
   "cell_type": "code",
   "execution_count": 6,
   "metadata": {},
   "outputs": [
    {
     "name": "stdout",
     "output_type": "stream",
     "text": [
      "\u001b[92m\n",
      "Authentication Parameters detected\u001b[0m\n",
      "Personal Access Token (PAT) grant_type\n",
      "\n",
      "----------------------------------------------------------------------------\n",
      "Authentiating with Microsoft Graph API using a Personal Access Token (PAT)\n",
      "\u001b[37mhttps://docs.microsoft.com/en-us/azure/storage/common/storage-auth-aad-app\u001b[0m\n",
      "----------------------------------------------------------------------------\n",
      "Requesting Token at https://login.microsoftonline.com/e4194ef7-b5d7-4db1-b7e9-a73af406f276/oauth2/token\n",
      "\u001b[92m\n",
      "\n",
      "Received Token!\u001b[0m\n",
      "\u001b[93mConnected and Access Token received and will expire 1612917907\u001b[0m\n",
      "\n",
      "Name                           Value\n",
      "----                           -----\n",
      "Content-Type                   application/json\n",
      "Accept                         application/json\n",
      "Authorization                  Bearer eyJ0eXAiOiJKV1QiLCJhbGciOiJSUzI1NiIsIng1dCI6Im5PbzNaRHJPRFhFSzFqS1doWHNsSFJfS1hFZyIsImtpZCI6Im5PbzNaRHJPRFhFSzFqS1doWHNsSFJfS1hFZyJ9.eyJhdWQiOiJodHRwczovL2FwaS5…\n",
      "\n"
     ]
    }
   ],
   "source": [
    "## Get a token if authenticates properly. \n",
    "\n",
    "$authParams = @{\n",
    "    tenantId = $credentials.tenantId\n",
    "    client_id = $credentials.client_id\n",
    "    client_secret = $credentials.client_secret\n",
    "    resource = $resource  ## resource Dont change since we want to query MDATP REST API Resource\n",
    "    grant_type = $grant_type  ## This is using a device_code flow (supports: client_credentials, device_code)\n",
    "    #scope = \"https://api.securitycenter.microsoft.com/Machine.ReadWrite.All\" ## set the scope\n",
    "};\n",
    "\n",
    "## this will authenticate with Graph API and token will be stored in <tokenResponse> variable.\n",
    "$token = (Invoke-GraphAuthentication -authParams $authParams)\n",
    "\n",
    "## This is the authentication header for REST API Call\n",
    "if ($token.access_token -ne $null) {\n",
    "    $authHeader = @{ \n",
    "        'Content-Type' = 'application/json'\n",
    "        Accept = 'application/json'\n",
    "        Authorization = \"Bearer $($token.access_token)\" \n",
    "    }\n",
    "}; $authHeader"
   ]
  },
  {
   "cell_type": "markdown",
   "metadata": {},
   "source": [
    "## Gets top 10 security recommendations"
   ]
  },
  {
   "cell_type": "code",
   "execution_count": 7,
   "metadata": {},
   "outputs": [
    {
     "name": "stdout",
     "output_type": "stream",
     "text": [
      "URI: https://api.securitycenter.windows.com/api/vulnerabilities?top=10\n",
      "\n",
      "id             name           description                                                                    severity exposedMachines\n",
      "--             ----           -----------                                                                    -------- ---------------\n",
      "CVE-2021-24082 CVE-2021-24082 Microsoft.PowerShell.Utility Module WDAC Security Feature Bypass Vulnerability Medium                 1\n",
      "CVE-2021-24081 CVE-2021-24081 Microsoft Windows Codecs Library Remote Code Execution Vulnerability           High                   1\n",
      "CVE-2021-24096 CVE-2021-24096 Windows Kernel Elevation of Privilege Vulnerability                            High                   1\n",
      "CVE-2021-24084 CVE-2021-24084 Windows Mobile Device Management Information Disclosure Vulnerability          Medium                 1\n",
      "CVE-2021-24093 CVE-2021-24093 Windows Graphics Component Remote Code Execution Vulnerability                 High                   1\n",
      "CVE-2021-24088 CVE-2021-24088 Windows Local Spooler Remote Code Execution Vulnerability                      High                   1\n",
      "CVE-2021-25195 CVE-2021-25195 Windows PKU2U Elevation of Privilege Vulnerability                             High                   1\n",
      "CVE-2021-24091 CVE-2021-24091 Windows Camera Codec Pack Remote Code Execution Vulnerability                  High                   1\n",
      "CVE-2021-24086 CVE-2021-24086 Windows TCP/IP Denial of Service Vulnerability                                 High                   1\n",
      "CVE-2021-24094 CVE-2021-24094 Windows TCP/IP Remote Code Execution Vulnerability                             Critical               1\n",
      "\n"
     ]
    }
   ],
   "source": [
    "## Set the path you want to query\n",
    "$endpoint = \"vulnerabilities?top=10\"\n",
    "$method = \"GET\"\n",
    "\n",
    "## The following commands will query the graph API and output the first 5 machines in table format\n",
    "$uri = \"$($resource)/api/$endpoint\"; Write-Host \"URI: $uri\"\n",
    "$Response = (Invoke-RestMethod -Method $method -Uri $uri -Headers $authHeader -ErrorAction Stop)\n",
    "\n",
    "## Filter results only for these columns\n",
    "$Response = ($Response.value | Select-Object @('id','name','description','severity','exposedMachines'))\n",
    "\n",
    "## Grab first 10 and convert results to table format\n",
    "$Response | Select -first 10 | FT"
   ]
  },
  {
   "cell_type": "code",
   "execution_count": null,
   "metadata": {},
   "outputs": [],
   "source": []
  }
 ],
 "metadata": {
  "kernelspec": {
   "display_name": ".NET (PowerShell)",
   "language": "PowerShell",
   "name": ".net-powershell"
  },
  "language_info": {
   "file_extension": ".ps1",
   "mimetype": "text/x-powershell",
   "name": "PowerShell",
   "pygments_lexer": "powershell",
   "version": "7.0"
  },
  "toc-autonumbering": true,
  "toc-showmarkdowntxt": true
 },
 "nbformat": 4,
 "nbformat_minor": 4
}
