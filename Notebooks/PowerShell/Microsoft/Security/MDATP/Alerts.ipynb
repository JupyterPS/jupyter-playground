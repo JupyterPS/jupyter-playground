{
 "cells": [
  {
   "cell_type": "markdown",
   "metadata": {},
   "source": [
    "# Alerts\n",
    "\n",
    "    Author: Jing Nghik\n",
    "    Last Updated 2/9/2020\n",
    "\n",
    "Purpose: This notebook is used to add device's to a certain group based on the machine tag.\n",
    "\n",
    "## Requirements: \n",
    "\n",
    "### Scopes Required\n",
    "- Alert.Read.All\n",
    "- Alert.ReadWrite.All\n",
    "\n",
    "### A client AppID/Secret or Device Code Authentication\n",
    "[Proper MDATP API Token](https://docs.microsoft.com/en-us/windows/security/threat-protection/microsoft-defender-atp/exposed-apis-create-app-webapp)\n",
    "        \n",
    "    Microsoft Defender ATP exposes much of its data and actions through a set of programmatic APIs. Those APIs will help you automate work flows and innovate based on Microsoft Defender ATP capabilities."
   ]
  },
  {
   "cell_type": "markdown",
   "metadata": {},
   "source": [
    "## Set Variables and Import required modules and credentials "
   ]
  },
  {
   "cell_type": "code",
   "execution_count": null,
   "metadata": {},
   "outputs": [],
   "source": [
    "## Change these if required\n",
    "$resource = \"https://api.securitycenter.windows.com\" ## resource Dont change since we want to query MDATP REST API Resource\n",
    "$grant_type = \"client_credentials\" ## This is using a device_code flow (supports: client_credentials, device_code)\n",
    "\n",
    "## Dont really need to change these unless necessary\n",
    "$VerbosePreference = \"ignore\"   ## Set to 'continue to get verbose output'\n",
    "## This will run a script to import the required modules and credentials stored in the \"credential\" file\n",
    "$scriptPath = \"~/Notebooks/PowerShell/custom-modules/import.ps1\"; . $scriptPath  # this will run the script"
   ]
  },
  {
   "cell_type": "markdown",
   "metadata": {},
   "source": [
    "## Authenticate with Graph API and get access Token for MDATP Resource"
   ]
  },
  {
   "cell_type": "code",
   "execution_count": null,
   "metadata": {},
   "outputs": [],
   "source": [
    "## Get a token if authenticates properly. \n",
    "\n",
    "$authParams = @{\n",
    "    tenantId = $credentials.tenantId\n",
    "    client_id = $credentials.client_id\n",
    "    client_secret = $credentials.client_secret\n",
    "    resource = $resource  ## resource Dont change since we want to query MDATP REST API Resource\n",
    "    grant_type = $grant_type  ## This is using a device_code flow (supports: client_credentials, device_code)\n",
    "    #scope = \"https://api.securitycenter.microsoft.com/Machine.ReadWrite.All\" ## set the scope\n",
    "};\n",
    "\n",
    "## this will authenticate with Graph API and token will be stored in <tokenResponse> variable.\n",
    "$token = (Invoke-GraphAuthentication -authParams $authParams)\n",
    "\n",
    "## This is the authentication header for REST API Call\n",
    "if ($token.access_token -ne $null) {\n",
    "    $authHeader = @{ \n",
    "        'Content-Type' = 'application/json'\n",
    "        Accept = 'application/json'\n",
    "        Authorization = \"Bearer $($token.access_token)\" \n",
    "    }\n",
    "}; $authHeader"
   ]
  },
  {
   "cell_type": "markdown",
   "metadata": {},
   "source": [
    "## Gets the top 10 alerts"
   ]
  },
  {
   "cell_type": "code",
   "execution_count": 95,
   "metadata": {},
   "outputs": [
    {
     "name": "stdout",
     "output_type": "stream",
     "text": [
      "https://api.securitycenter.windows.com/api/alerts?top=10\n",
      "\n",
      "@odata.context                                              value\n",
      "--------------                                              -----\n",
      "https://api.securitycenter.windows.com/api/$metadata#Alerts {}\n",
      "\n"
     ]
    }
   ],
   "source": [
    "## Set the path you want to query\n",
    "$endpoint = \"api/alerts?top=10\"\n",
    "$method = \"GET\"\n",
    "\n",
    "## The following commands will query the graph API and output the first 5 machines in table format\n",
    "$uri = \"$($resource)/$endpoint\"; $uri\n",
    "$Response = (Invoke-RestMethod -Method $method -Uri $uri -Headers $authHeader -ErrorAction Stop)\n",
    "$Response\n"
   ]
  },
  {
   "cell_type": "markdown",
   "metadata": {},
   "source": [
    "## Create Alert by Reference \n",
    "- https://docs.microsoft.com/en-us/windows/security/threat-protection/microsoft-defender-atp/create-alert-by-reference"
   ]
  },
  {
   "cell_type": "code",
   "execution_count": 99,
   "metadata": {},
   "outputs": [
    {
     "name": "stdout",
     "output_type": "stream",
     "text": [
      "https://api.securitycenter.windows.com/api/alerts/CreateAlertByReference\n",
      "\u001b[91mInvoke-RestMethod: \n",
      "\u001b[96mLine |\n",
      "\u001b[96m  19 | \u001b[0m … Response = (\u001b[96mInvoke-RestMethod -Method $method -Uri $uri -Headers $aut\u001b[0m …\n",
      "\u001b[96m     | \u001b[91m               ~~~~~~~~~~~~~~~~~~~~~~~~~~~~~~~~~~~~~~~~~~~~~~~~~~~~~~~~~\n",
      "\u001b[91m\u001b[96m     | \u001b[91m{\"error\":{\"code\":\"InvalidInput\",\"message\":\"reportId is not in the correct format, expected long\",\"target\":\"9d072c8d-5a95-4fe1-8818-297ce855a812\"}}\u001b[0m\n",
      "{\n",
      "  \"@odata.context\": \"https://api.securitycenter.windows.com/api/$metadata#Alerts\",\n",
      "  \"value\": []\n",
      "}\n"
     ]
    }
   ],
   "source": [
    "$endpoint = \"api/alerts/CreateAlertByReference\"\n",
    "$method = \"POST\"\n",
    "\n",
    "$jsonBody = @\"\n",
    "{\n",
    "  \"reportId\": \"{ReportId of the associated event}\",\n",
    "  \"eventTime\": \"2018-08-03T16:45:21.7115183Z\",\n",
    "  \"machineId\": \"cb5402466f9427f3ea03c81c872ff9be0ce4b03b\",\n",
    "  \"severity\": \"Low\",\n",
    "  \"title\": \"test alert\",\n",
    "  \"description\": \"test alert\",\n",
    "  \"recommendedAction\": \"test alert\",\n",
    "  \"category\": \"SuspiciousActivity\"\n",
    "}\n",
    "\"@\n",
    "\n",
    "## The following commands will query the graph API and output the first 5 machines in table format\n",
    "$uri = \"$($resource)/$endpoint\"; $uri\n",
    "$Response = (Invoke-RestMethod -Method $method -Uri $uri -Headers $authHeader -body $jsonBody -ErrorAction Stop)\n",
    "($Response | ConvertTO-JSON)"
   ]
  },
  {
   "cell_type": "code",
   "execution_count": null,
   "metadata": {},
   "outputs": [],
   "source": []
  }
 ],
 "metadata": {
  "kernelspec": {
   "display_name": ".NET (PowerShell)",
   "language": "PowerShell",
   "name": ".net-powershell"
  },
  "language_info": {
   "file_extension": ".ps1",
   "mimetype": "text/x-powershell",
   "name": "PowerShell",
   "pygments_lexer": "powershell",
   "version": "7.0"
  },
  "toc-autonumbering": true,
  "toc-showmarkdowntxt": true
 },
 "nbformat": 4,
 "nbformat_minor": 4
}
