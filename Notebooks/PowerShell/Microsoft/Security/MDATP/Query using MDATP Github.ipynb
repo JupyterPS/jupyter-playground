{
 "cells": [
  {
   "cell_type": "markdown",
   "metadata": {},
   "source": [
    "# MDATP - Use query from Github Repository"
   ]
  },
  {
   "cell_type": "code",
   "execution_count": 1,
   "metadata": {},
   "outputs": [
    {
     "data": {
      "text/html": [
       "\r\n",
       "<div>\r\n",
       "    <div id='dotnet-interactive-this-cell-7130.Microsoft.DotNet.Interactive.Http.HttpPort' style='display: none'>\r\n",
       "        The below script needs to be able to find the current output cell; this is an easy method to get it.\r\n",
       "    </div>\r\n",
       "    <script type='text/javascript'>\r\n",
       "async function probeAddresses(probingAddresses) {\r\n",
       "    function timeout(ms, promise) {\r\n",
       "        return new Promise(function (resolve, reject) {\r\n",
       "            setTimeout(function () {\r\n",
       "                reject(new Error('timeout'))\r\n",
       "            }, ms)\r\n",
       "            promise.then(resolve, reject)\r\n",
       "        })\r\n",
       "    }\r\n",
       "\r\n",
       "    if (Array.isArray(probingAddresses)) {\r\n",
       "        for (let i = 0; i < probingAddresses.length; i++) {\r\n",
       "\r\n",
       "            let rootUrl = probingAddresses[i];\r\n",
       "\r\n",
       "            if (!rootUrl.endsWith('/')) {\r\n",
       "                rootUrl = `${rootUrl}/`;\r\n",
       "            }\r\n",
       "\r\n",
       "            try {\r\n",
       "                let response = await timeout(1000, fetch(`${rootUrl}discovery`, {\r\n",
       "                    method: 'POST',\r\n",
       "                    cache: 'no-cache',\r\n",
       "                    mode: 'cors',\r\n",
       "                    timeout: 1000,\r\n",
       "                    headers: {\r\n",
       "                        'Content-Type': 'text/plain'\r\n",
       "                    },\r\n",
       "                    body: probingAddresses[i]\r\n",
       "                }));\r\n",
       "\r\n",
       "                if (response.status == 200) {\r\n",
       "                    return rootUrl;\r\n",
       "                }\r\n",
       "            }\r\n",
       "            catch (e) { }\r\n",
       "        }\r\n",
       "    }\r\n",
       "}\r\n",
       "\r\n",
       "function loadDotnetInteractiveApi() {\r\n",
       "    probeAddresses([\"http://172.17.0.2:1003/\", \"http://127.0.0.1:1003/\"])\r\n",
       "        .then((root) => {\r\n",
       "        // use probing to find host url and api resources\r\n",
       "        // load interactive helpers and language services\r\n",
       "        let dotnetInteractiveRequire = require.config({\r\n",
       "        context: '7130.Microsoft.DotNet.Interactive.Http.HttpPort',\r\n",
       "                paths:\r\n",
       "            {\r\n",
       "                'dotnet-interactive': `${root}resources`\r\n",
       "                }\r\n",
       "        }) || require;\r\n",
       "\r\n",
       "            window.dotnetInteractiveRequire = dotnetInteractiveRequire;\r\n",
       "\r\n",
       "            window.configureRequireFromExtension = function(extensionName, extensionCacheBuster) {\r\n",
       "                let paths = {};\r\n",
       "                paths[extensionName] = `${root}extensions/${extensionName}/resources/`;\r\n",
       "                \r\n",
       "                let internalRequire = require.config({\r\n",
       "                    context: extensionCacheBuster,\r\n",
       "                    paths: paths,\r\n",
       "                    urlArgs: `cacheBuster=${extensionCacheBuster}`\r\n",
       "                    }) || require;\r\n",
       "\r\n",
       "                return internalRequire\r\n",
       "            };\r\n",
       "        \r\n",
       "            dotnetInteractiveRequire([\r\n",
       "                    'dotnet-interactive/dotnet-interactive'\r\n",
       "                ],\r\n",
       "                function (dotnet) {\r\n",
       "                    dotnet.init(window);\r\n",
       "                },\r\n",
       "                function (error) {\r\n",
       "                    console.log(error);\r\n",
       "                }\r\n",
       "            );\r\n",
       "        })\r\n",
       "        .catch(error => {console.log(error);});\r\n",
       "    }\r\n",
       "\r\n",
       "// ensure `require` is available globally\r\n",
       "if ((typeof(require) !==  typeof(Function)) || (typeof(require.config) !== typeof(Function))) {\r\n",
       "    let require_script = document.createElement('script');\r\n",
       "    require_script.setAttribute('src', 'https://cdnjs.cloudflare.com/ajax/libs/require.js/2.3.6/require.min.js');\r\n",
       "    require_script.setAttribute('type', 'text/javascript');\r\n",
       "    \r\n",
       "    \r\n",
       "    require_script.onload = function() {\r\n",
       "        loadDotnetInteractiveApi();\r\n",
       "    };\r\n",
       "\r\n",
       "    document.getElementsByTagName('head')[0].appendChild(require_script);\r\n",
       "}\r\n",
       "else {\r\n",
       "    loadDotnetInteractiveApi();\r\n",
       "}\r\n",
       "\r\n",
       "    </script>\r\n",
       "</div>"
      ]
     },
     "metadata": {},
     "output_type": "display_data"
    },
    {
     "name": "stdout",
     "output_type": "stream",
     "text": [
      "\n",
      "CommandType     Name                                               Version    Source\n",
      "-----------     ----                                               -------    ------\n",
      "Function        Get-DecryptedStringUsingMasterPassword             0.0        pp-core\n",
      "Function        Get-EncryptedStringUsingMasterPassword             0.0        pp-core\n",
      "Function        Get-HashOfString                                   0.0        pp-core\n",
      "Function        Get-MasterPassword                                 0.0        pp-core\n",
      "Function        Get-StoredCredentials                              0.0        pp-core\n",
      "Function        Invoke-CheckCredentials                            0.0        pp-core\n",
      "Function        New-StoreCredentials                               0.0        pp-core\n",
      "Function        Get-MSGraphAuthToken                               0.0        graph\n",
      "Function        Invoke-GraphAuthentication                         0.0        graph\n",
      "Function        Invoke-MSGraphQuery                                0.0        graph\n",
      "\n"
     ]
    }
   ],
   "source": [
    "## This will run a script to import the required modules and credentials stored in the \"credential\" file\n",
    "$scriptPath = \"~/Notebooks/PowerShell/custom-modules/import.ps1\"\n",
    ". $scriptPath  # this will run the script"
   ]
  },
  {
   "cell_type": "markdown",
   "metadata": {},
   "source": [
    "## Pull raw query from Github\n",
    "Be sure to provide the <font color=Green><b>RAW Content</b></font> and not a the github link of the source"
   ]
  },
  {
   "cell_type": "code",
   "execution_count": 2,
   "metadata": {},
   "outputs": [
    {
     "data": {
      "text/plain": []
     },
     "metadata": {},
     "output_type": "display_data"
    },
    {
     "name": "stdout",
     "output_type": "stream",
     "text": [
      "// This query finds network communication to specific URL\n",
      "// Please note that in line #7 it filters RemoteUrl using has operator, which looks for a \"whole term\" and runs faster.\n",
      "// Example: RemoteUrl has \"microsoft\" matches \"www.microsoft.com\" but not \"microsoftonline.com\"\n",
      "let partialRemoteUrlToDetect = \"microsoft.com\"; // Change this to a URL you'd like to find machines connecting to\n",
      "DeviceNetworkEvents  \n",
      "| where Timestamp > ago(7d)\n",
      "and RemoteUrl has partialRemoteUrlToDetect // Can be changed to \"contains\" operator as explained above\n",
      "| project Timestamp, DeviceName, DeviceId, ReportId\n",
      "| top 100 by Timestamp desc\n",
      "\n"
     ]
    }
   ],
   "source": [
    "$rawGithubLink = \"https://raw.githubusercontent.com/microsoft/Microsoft-threat-protection-Hunting-Queries/master/Discovery/URL%20Detection.txt\"\n",
    "$Response = Invoke-WebRequest -Method GET -URI $rawGithubLink\n",
    "$body = (@{'Query' = $Response.Content}) | ConvertTO-JSON;\n",
    "$Response.Content"
   ]
  },
  {
   "cell_type": "markdown",
   "metadata": {},
   "source": [
    "## Put your Hunting Query here"
   ]
  },
  {
   "cell_type": "code",
   "execution_count": 7,
   "metadata": {},
   "outputs": [
    {
     "name": "stdout",
     "output_type": "stream",
     "text": [
      "{\n",
      "  \"Query\": \"// This query finds network communication to specific URL\\n// Please note that in line #7 it filters RemoteUrl using has operator, which looks for a \\\"whole term\\\" and runs faster.\\n// Example: RemoteUrl has \\\"microsoft\\\" matches \\\"www.microsoft.com\\\" but not \\\"microsoftonline.com\\\"\\nlet partialRemoteUrlToDetect = \\\"microsoft.com\\\"; // Change this to a URL you'd like to find machines connecting to\\nDeviceNetworkEvents  \\n| where Timestamp > ago(7d)\\nand RemoteUrl has partialRemoteUrlToDetect // Can be changed to \\\"contains\\\" operator as explained above\\n| project Timestamp, DeviceName, DeviceId, ReportId\\n| top 100 by Timestamp desc\\n\"\n",
      "}\n"
     ]
    }
   ],
   "source": [
    "## Enter your query here below $Query\n",
    "$body = (@{'Query' = $Response.Content}) | ConvertTO-JSON;\n",
    "$body"
   ]
  },
  {
   "cell_type": "markdown",
   "metadata": {},
   "source": [
    "## Query the MDATP API Grab report schema "
   ]
  },
  {
   "cell_type": "code",
   "execution_count": 8,
   "metadata": {},
   "outputs": [
    {
     "name": "stdout",
     "output_type": "stream",
     "text": [
      "\n",
      "Name                           Value\n",
      "----                           -----\n",
      "Content-Type                   application/json\n",
      "Authorization                  Bearer \n",
      "Accept                         application/json\n",
      "\u001b[91mInvoke-RestMethod: \n",
      "\u001b[96mLine |\n",
      "\u001b[96m   7 | \u001b[0m $Result = (\u001b[96mInvoke-RestMethod -Method POST -Uri $URI -Headers $authHea\u001b[0m …\n",
      "\u001b[96m     | \u001b[91m            ~~~~~~~~~~~~~~~~~~~~~~~~~~~~~~~~~~~~~~~~~~~~~~~~~~~~~~~~~~\n",
      "\u001b[91m\u001b[96m     | \u001b[91mResponse status code does not indicate success: 401 (Unauthorized).\u001b[0m\n",
      "\n"
     ]
    }
   ],
   "source": [
    "$URI = \"https://api.securitycenter.windows.com/api/advancedqueries/run\"\n",
    "$authHeader = @{ \n",
    "    'Content-Type' = 'application/json'\n",
    "    Accept = 'application/json'\n",
    "    Authorization = \"Bearer $($tokenResponse.access_token)\" }\n",
    "$authHeader\n",
    "$Result = (Invoke-RestMethod -Method POST -Uri $URI -Headers $authHeader -body $body -ErrorAction Stop)\n",
    "$Result"
   ]
  },
  {
   "cell_type": "code",
   "execution_count": null,
   "metadata": {},
   "outputs": [],
   "source": []
  },
  {
   "cell_type": "markdown",
   "metadata": {},
   "source": [
    "## Parse report"
   ]
  },
  {
   "cell_type": "code",
   "execution_count": 7,
   "metadata": {},
   "outputs": [
    {
     "name": "stdout",
     "output_type": "stream",
     "text": [
      "\n",
      "Timestamp             DeviceName        ActionType RemoteIP\n",
      "---------             ----------        ---------- --------\n",
      "6/24/2020 7:12:32 PM  win10-oobe-test              \n",
      "6/24/2020 7:12:30 PM  win10-oobe-test              \n",
      "6/24/2020 7:12:29 PM  win10-oobe-test              \n",
      "6/24/2020 7:02:17 PM  jingtoso-desktop1            \n",
      "6/24/2020 6:48:40 PM  win10-oobe-test              \n",
      "6/24/2020 6:40:39 PM  win10-oobe-test              \n",
      "6/24/2020 6:38:11 PM  jingtoso-desktop1            \n",
      "6/24/2020 6:18:44 PM  win10-oobe-test              \n",
      "6/24/2020 6:18:24 PM  win10-oobe-test              \n",
      "6/24/2020 6:18:23 PM  win10-oobe-test              \n",
      "6/24/2020 6:18:16 PM  win10-oobe-test              \n",
      "6/24/2020 6:18:15 PM  win10-oobe-test              \n",
      "6/24/2020 6:13:13 PM  win10-oobe-test              \n",
      "6/24/2020 5:58:32 PM  win10-oobe-test              \n",
      "6/24/2020 5:57:34 PM  win10-oobe-test              \n",
      "6/24/2020 5:36:50 PM  jing-lab                     \n",
      "6/24/2020 5:24:09 PM  win10-oobe-test              \n",
      "6/24/2020 5:10:50 PM  win10-oobe-test              \n",
      "6/24/2020 5:08:33 PM  win10-oobe-test              \n",
      "6/24/2020 5:07:47 PM  jingtoso-desktop1            \n",
      "6/24/2020 4:55:09 PM  jing-lab                     \n",
      "6/24/2020 4:48:30 PM  jingtoso-desktop1            \n",
      "6/24/2020 4:43:13 PM  win10-oobe-test              \n",
      "6/24/2020 4:32:39 PM  jingtoso-desktop1            \n",
      "6/24/2020 4:13:13 PM  win10-oobe-test              \n",
      "6/24/2020 4:02:11 PM  win10-oobe-test              \n",
      "6/24/2020 3:43:13 PM  win10-oobe-test              \n",
      "6/24/2020 3:43:13 PM  win10-oobe-test              \n",
      "6/24/2020 3:18:50 PM  jingtoso-desktop1            \n",
      "6/24/2020 3:14:01 PM  win10-oobe-test              \n",
      "6/24/2020 3:13:13 PM  win10-oobe-test              \n",
      "6/24/2020 3:07:13 PM  jingtoso-desktop1            \n",
      "6/24/2020 2:54:51 PM  jingtoso-desktop1            \n",
      "6/24/2020 2:53:55 PM  win10-oobe-test              \n",
      "6/24/2020 2:46:51 PM  jing-lab                     \n",
      "6/24/2020 2:21:51 PM  win10-oobe-test              \n",
      "6/24/2020 2:19:48 PM  win10-oobe-test              \n",
      "6/24/2020 2:04:42 PM  jingtoso-desktop1            \n",
      "6/24/2020 1:34:37 PM  jingtoso-desktop1            \n",
      "6/24/2020 1:19:58 PM  jing-lab                     \n",
      "6/24/2020 1:14:32 PM  win10-oobe-test              \n",
      "6/24/2020 1:11:45 PM  jing-lab                     \n",
      "6/24/2020 1:11:37 PM  win10-oobe-test              \n",
      "6/24/2020 12:47:34 PM win10-oobe-test              \n",
      "6/24/2020 12:45:33 PM win10-oobe-test              \n",
      "6/24/2020 12:43:12 PM win10-oobe-test              \n",
      "6/24/2020 12:41:45 PM jing-lab                     \n",
      "6/24/2020 11:43:25 AM win10-oobe-test              \n",
      "6/24/2020 11:43:12 AM win10-oobe-test              \n",
      "6/24/2020 11:43:11 AM win10-oobe-test              \n",
      "6/24/2020 11:40:17 AM jingtoso-desktop1            \n",
      "6/24/2020 11:33:24 AM win10-oobe-test              \n",
      "6/24/2020 11:13:11 AM win10-oobe-test              \n",
      "6/24/2020 10:43:11 AM win10-oobe-test              \n",
      "6/24/2020 10:43:11 AM win10-oobe-test              \n",
      "6/24/2020 10:42:38 AM jingtoso-desktop1            \n",
      "6/24/2020 10:23:33 AM win10-oobe-test              \n",
      "6/24/2020 10:08:04 AM jingtoso-desktop1            \n",
      "6/24/2020 9:54:00 AM  jingtoso-desktop1            \n",
      "6/24/2020 9:53:33 AM  jing-lab                     \n",
      "6/24/2020 9:43:11 AM  win10-oobe-test              \n",
      "6/24/2020 9:41:20 AM  jingtoso-desktop1            \n",
      "6/24/2020 9:37:39 AM  jingtoso-desktop1            \n",
      "6/24/2020 9:36:55 AM  win10-oobe-test              \n",
      "6/24/2020 8:43:11 AM  win10-oobe-test              \n",
      "6/24/2020 8:28:45 AM  win10-oobe-test              \n",
      "6/24/2020 8:18:10 AM  jing-lab                     \n",
      "6/24/2020 8:10:41 AM  win10-oobe-test              \n",
      "6/24/2020 7:56:39 AM  win10-oobe-test              \n",
      "6/24/2020 7:53:00 AM  jingtoso-desktop1            \n",
      "6/24/2020 7:52:59 AM  jingtoso-desktop1            \n",
      "6/24/2020 7:46:38 AM  win10-oobe-test              \n",
      "6/24/2020 7:06:30 AM  win10-oobe-test              \n",
      "6/24/2020 7:02:01 AM  jingtoso-desktop1            \n",
      "6/24/2020 6:52:05 AM  jingtoso-desktop1            \n",
      "6/24/2020 6:43:10 AM  win10-oobe-test              \n",
      "6/24/2020 6:42:26 AM  win10-oobe-test              \n",
      "6/24/2020 6:32:19 AM  jing-lab                     \n",
      "6/24/2020 6:26:59 AM  jingtoso-desktop1            \n",
      "6/24/2020 6:22:12 AM  win10-oobe-test              \n",
      "6/24/2020 6:13:10 AM  win10-oobe-test              \n",
      "6/24/2020 6:13:10 AM  win10-oobe-test              \n",
      "6/24/2020 6:02:01 AM  jingtoso-desktop1            \n",
      "6/24/2020 5:52:48 AM  jingtoso-desktop1            \n",
      "6/24/2020 5:43:10 AM  win10-oobe-test              \n",
      "6/24/2020 5:32:01 AM  jingtoso-desktop1            \n",
      "6/24/2020 5:22:37 AM  jingtoso-desktop1            \n",
      "6/24/2020 5:13:10 AM  win10-oobe-test              \n",
      "6/24/2020 5:11:37 AM  jingtoso-desktop1            \n",
      "6/24/2020 5:08:05 AM  jingtoso-desktop1            \n",
      "6/24/2020 5:08:03 AM  jingtoso-desktop1            \n",
      "6/24/2020 5:04:11 AM  win10-oobe-test              \n",
      "6/24/2020 4:43:10 AM  win10-oobe-test              \n",
      "6/24/2020 4:36:36 AM  win10-oobe-test              \n",
      "6/24/2020 4:32:24 AM  win10-oobe-test              \n",
      "6/24/2020 4:32:06 AM  win10-oobe-test              \n",
      "6/24/2020 4:30:06 AM  win10-oobe-test              \n",
      "6/24/2020 4:27:07 AM  jingtoso-desktop1            \n",
      "6/24/2020 4:26:05 AM  win10-oobe-test              \n",
      "6/24/2020 4:15:49 AM  jingtoso-desktop1            \n",
      "\n"
     ]
    }
   ],
   "source": [
    "$includeColumns = @('Timestamp','DeviceName','ActionType','RemoteIP')\n",
    "$Result.Results | Select-Object -Property $includeColumns"
   ]
  },
  {
   "cell_type": "code",
   "execution_count": null,
   "metadata": {},
   "outputs": [],
   "source": []
  }
 ],
 "metadata": {
  "kernelspec": {
   "display_name": ".NET (PowerShell)",
   "language": "PowerShell",
   "name": ".net-powershell"
  },
  "language_info": {
   "file_extension": ".ps1",
   "mimetype": "text/x-powershell",
   "name": "PowerShell",
   "pygments_lexer": "powershell",
   "version": "7.0"
  }
 },
 "nbformat": 4,
 "nbformat_minor": 4
}
