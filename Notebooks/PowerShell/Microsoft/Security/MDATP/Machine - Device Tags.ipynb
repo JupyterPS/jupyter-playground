{
 "cells": [
  {
   "cell_type": "markdown",
   "metadata": {},
   "source": [
    "# Add/Remove Machine to Device Groups based on Machine Tag\n",
    "\n",
    "    Author: Jing Nghik\n",
    "    Last Updated 6/23/2020\n",
    "\n",
    "Purpose: This notebook is used to add device's to a certain group based on the machine tag.\n",
    "\n",
    "## Requirements: \n",
    "\n",
    "[Machine groups already pre-configured by Device tag](https://docs.microsoft.com/en-us/windows/security/threat-protection/microsoft-defender-atp/machine-groups)\n",
    "\n",
    "    You need to have the machine groups already configured that filter based on the device tag element.\n",
    "\n",
    "[Proper MDATP API Token](https://docs.microsoft.com/en-us/windows/security/threat-protection/microsoft-defender-atp/exposed-apis-create-app-webapp)\n",
    "        \n",
    "    Microsoft Defender ATP exposes much of its data and actions through a set of programmatic APIs. Those APIs will help you automate work flows and innovate based on Microsoft Defender ATP capabilities."
   ]
  },
  {
   "cell_type": "markdown",
   "metadata": {},
   "source": [
    "## Import required modules and credentials "
   ]
  },
  {
   "cell_type": "code",
   "execution_count": 4,
   "metadata": {},
   "outputs": [
    {
     "name": "stdout",
     "output_type": "stream",
     "text": [
      "\n",
      "CommandType     Name                                               Version    Source\n",
      "-----------     ----                                               -------    ------\n",
      "Function        Get-DecryptedStringUsingMasterPassword             0.0        pp-core\n",
      "Function        Get-EncryptedStringUsingMasterPassword             0.0        pp-core\n",
      "Function        Get-HashOfString                                   0.0        pp-core\n",
      "Function        Get-MasterPassword                                 0.0        pp-core\n",
      "Function        Get-StoredCredentials                              0.0        pp-core\n",
      "Function        Invoke-CheckCredentials                            0.0        pp-core\n",
      "Function        New-StoreCredentials                               0.0        pp-core\n",
      "Function        Get-MSGraphAuthToken                               0.0        graph\n",
      "Function        Invoke-GraphAuthentication                         0.0        graph\n",
      "Function        Invoke-MSGraphQuery                                0.0        graph\n",
      "\n"
     ]
    }
   ],
   "source": [
    "$VerbosePreference = \"ignore\"   ## Set to 'continue to get verbose output'\n",
    "\n",
    "## This will run a script to import the required modules and credentials stored in the \"credential\" file\n",
    "$scriptPath = \"~/Notebooks/PowerShell/custom-modules/import.ps1\"; . $scriptPath  # this will run the script"
   ]
  },
  {
   "cell_type": "markdown",
   "metadata": {},
   "source": [
    "## Authenticate with Graph API and get access Token for MDATP Resource"
   ]
  },
  {
   "cell_type": "code",
   "execution_count": 5,
   "metadata": {},
   "outputs": [
    {
     "name": "stdout",
     "output_type": "stream",
     "text": [
      "\u001b[92m\n",
      "Authentication Parameters detected\u001b[0m\n",
      "Personal Access Token (PAT) grant_type\n",
      "\n",
      "----------------------------------------------------------------------------\n",
      "Authentiating with Microsoft Graph API using a Personal Access Token (PAT)\n",
      "\u001b[37mhttps://docs.microsoft.com/en-us/azure/storage/common/storage-auth-aad-app\u001b[0m\n",
      "----------------------------------------------------------------------------\n",
      "Requesting Token at https://login.microsoftonline.com/e4194ef7-b5d7-4db1-b7e9-a73af406f276/oauth2/token\n",
      "\u001b[92m\n",
      "\n",
      "Received Token!\u001b[0m\n",
      "\u001b[93mConnected and Access Token received and will expire 1612917847\u001b[0m\n",
      "eyJ0eXAiOiJKV1QiLCJhbGciOiJSUzI1NiIsIng1dCI6Im5PbzNaRHJPRFhFSzFqS1doWHNsSFJfS1hFZyIsImtpZCI6Im5PbzNaRHJPRFhFSzFqS1doWHNsSFJfS1hFZyJ9.eyJhdWQiOiJodHRwczovL2FwaS5zZWN1cml0eWNlbnRlci5taWNyb3NvZnQuY29tIiwiaXNzIjoiaHR0cHM6Ly9zdHMud2luZG93cy5uZXQvZTQxOTRlZjctYjVkNy00ZGIxLWI3ZTktYTczYWY0MDZmMjc2LyIsImlhdCI6MTYxMjkxMzk0NywibmJmIjoxNjEyOTEzOTQ3LCJleHAiOjE2MTI5MTc4NDcsImFpbyI6IkUyWmdZUGltbGYwc3FmbGE4bytiRm8rZmhZZmVCUUE9IiwiYXBwaWQiOiJjZjg5YzdkYy1iNGFlLTQzMmItYjg4OS05MDk5YzkxYTI1NTciLCJhcHBpZGFjciI6IjEiLCJpZHAiOiJodHRwczovL3N0cy53aW5kb3dzLm5ldC9lNDE5NGVmNy1iNWQ3LTRkYjEtYjdlOS1hNzNhZjQwNmYyNzYvIiwib2lkIjoiYTgxNDI2NTctOWQzMi00YTFiLWJiYzctZjc2NjAyNmU3YjAxIiwicmgiOiIwLkFBQUE5MDRaNU5lMXNVMjM2YWM2OUFieWR0ekhpYy11dEN0RHVJbVFtY2thSlZkU0FBQS4iLCJyb2xlcyI6WyJNYWNoaW5lLklzb2xhdGUiLCJNYWNoaW5lLlNjYW4iLCJNYWNoaW5lLlJlYWRXcml0ZS5BbGwiLCJNYWNoaW5lLkxpdmVSZXNwb25zZSIsIlNlY3VyaXR5UmVjb21tZW5kYXRpb24uUmVhZC5BbGwiLCJNYWNoaW5lLlJlc3RyaWN0RXhlY3V0aW9uIiwiTWFjaGluZS5TdG9wQW5kUXVhcmFudGluZSIsIkFsZXJ0LlJlYWQuQWxsIiwiTWFjaGluZS5Db2xsZWN0Rm9yZW5zaWNzIiwiTWFjaGluZS5PZmZib2FyZCIsIlZ1bG5lcmFiaWxpdHkuUmVhZC5BbGwiLCJNYWNoaW5lLlJlYWQuQWxsIiwiQWxlcnQuUmVhZFdyaXRlLkFsbCIsIkFkdmFuY2VkUXVlcnkuUmVhZC5BbGwiXSwic3ViIjoiYTgxNDI2NTctOWQzMi00YTFiLWJiYzctZjc2NjAyNmU3YjAxIiwidGVuYW50X3JlZ2lvbl9zY29wZSI6Ik5BIiwidGlkIjoiZTQxOTRlZjctYjVkNy00ZGIxLWI3ZTktYTczYWY0MDZmMjc2IiwidXRpIjoicXFFYTJwN1g5RUd1X2EtVWhwUWVBQSIsInZlciI6IjEuMCJ9.R3831Z2ecjuZuybfRbbsZH1M6IyXkwA6Y5i1UadMP3VVSvH4_KTDOxbubxszAo52jAkQtRiWaFyS_T5CBt8OkQ42Xue5EC7Cjt0q5Xp6tWazDidJe8-4w8xGCvBqE6cxtoyQsql3mIaOBDjyzge7lR7TREp1_GgSnJpO4wXHOUEF5Iv3ogA73-Y5d2oT4C_Z3xzBuhhZ8iD0wpRqXL9d2ALjZHPrMxwstv8bnyWn4yhAJdIrBrfQI4YrSPHS7myWTUbXAQX7OhZwETPDNo7zgvJuhNOBFGG8rQD8Pd6tUYszOvhBUHVpbODuVKmzSnTrd1pDX8vTr_gndZ1JhjGpbg\n"
     ]
    }
   ],
   "source": [
    "## Get a token if authenticates properly. \n",
    "\n",
    "$authParams = @{\n",
    "    tenantId = $credentials.tenantId\n",
    "    client_id = $credentials.client_id\n",
    "    client_secret = $credentials.client_secret\n",
    "    resource = \"https://api.securitycenter.microsoft.com\"    ## resource Dont change since we want to query MDATP REST API Resource\n",
    "    grant_type = \"client_credentials\"  ## This is using a device_code flow (supports: client_credentials, device_code)\n",
    "    #scope = \"https://api.securitycenter.microsoft.com/Machine.ReadWrite.All\" ## set the scope\n",
    "};\n",
    "\n",
    "## this will authenticate with Graph API and token will be stored in <tokenResponse> variable.\n",
    "$token = (Invoke-GraphAuthentication -authParams $authParams).access_token\n",
    "$token"
   ]
  },
  {
   "cell_type": "markdown",
   "metadata": {},
   "source": [
    "## Authenticate with Graph API and get access Token for MDATP Resource"
   ]
  },
  {
   "cell_type": "code",
   "execution_count": 6,
   "metadata": {},
   "outputs": [
    {
     "name": "stdout",
     "output_type": "stream",
     "text": [
      "\n",
      "id                                       computerDnsName machineTags\n",
      "--                                       --------------- -----------\n",
      "cb5402466f9427f3ea03c81c872ff9be0ce4b03b w10-jingtoso    {group1}\n",
      "\n"
     ]
    }
   ],
   "source": [
    "## This is the authentication header for REST API Call\n",
    "$authHeader = @{ \n",
    "    'Content-Type' = 'application/json'\n",
    "    Accept = 'application/json'\n",
    "    Authorization = \"Bearer $token\" \n",
    "}\n",
    "\n",
    "## The following commands will query the graph API and output the first 5 machines in table format\n",
    "$URI = \"https://api.securitycenter.windows.com/api/machines\"\n",
    "$Response = (Invoke-RestMethod -Method GET -Uri $URI -Headers $authHeader -body $body -ErrorAction Stop)\n",
    "$Response.value | Select-Object -First 5 | Select-Object @('id','computerDnsName','machineTags') | FT"
   ]
  },
  {
   "cell_type": "markdown",
   "metadata": {},
   "source": [
    "## Identify machine, tag, and whether to add or remove the tag on the machine"
   ]
  },
  {
   "cell_type": "code",
   "execution_count": 7,
   "metadata": {},
   "outputs": [],
   "source": [
    "$machineId = \"cb5402466f9427f3ea03c81c872ff9be0ce4b03b\"  ## Machine ID to add or remove device group\n",
    "$machineTag = \"boob\"\n",
    "$action = \"Add\" ## This can be add or remove"
   ]
  },
  {
   "cell_type": "markdown",
   "metadata": {},
   "source": [
    "## Add/Remove machine based on above variables"
   ]
  },
  {
   "cell_type": "code",
   "execution_count": 8,
   "metadata": {},
   "outputs": [
    {
     "name": "stdout",
     "output_type": "stream",
     "text": [
      "{\n",
      "  \"Action\": \"Add\",\n",
      "  \"Value\": \"boob\"\n",
      "}\n",
      "https://api-us.securitycenter.windows.com/api/machines/cb5402466f9427f3ea03c81c872ff9be0ce4b03b/tags\n"
     ]
    }
   ],
   "source": [
    "####### Creates the json body ####################\n",
    "$jsonBody = @{\n",
    "    Value = $machineTag\n",
    "    Action = $action\n",
    "}\n",
    "$jsonBody = ($jsonbody | ConvertTo-JSON); $jsonBody\n",
    "\n",
    "####### Calls MDATP Rest API and either add or remove machine tag #################\n",
    "$URI = \"https://api-us.securitycenter.windows.com/api/machines/$machineId/tags\"; $URI\n",
    "$Response = Invoke-RestMethod -Method POST -Uri $URI -Headers $authHeader -body $jsonBody -ErrorAction Stop"
   ]
  },
  {
   "cell_type": "markdown",
   "metadata": {},
   "source": [
    "## Get Machine list again to verify"
   ]
  },
  {
   "cell_type": "code",
   "execution_count": 9,
   "metadata": {},
   "outputs": [
    {
     "name": "stdout",
     "output_type": "stream",
     "text": [
      "\n",
      "id                                       computerDnsName machineTags\n",
      "--                                       --------------- -----------\n",
      "cb5402466f9427f3ea03c81c872ff9be0ce4b03b w10-jingtoso    {boob, group1}\n",
      "\n"
     ]
    }
   ],
   "source": [
    "$URI = \"https://api-us.securitycenter.windows.com/api/machines\"\n",
    "$Response = (Invoke-RestMethod -Method GET -Uri $URI -Headers $authHeader -body $body -ErrorAction Stop)\n",
    "$Response.value | Select-Object @('id','computerDnsName','machineTags') | FT"
   ]
  },
  {
   "cell_type": "code",
   "execution_count": null,
   "metadata": {},
   "outputs": [],
   "source": []
  }
 ],
 "metadata": {
  "kernelspec": {
   "display_name": ".NET (PowerShell)",
   "language": "PowerShell",
   "name": ".net-powershell"
  },
  "language_info": {
   "file_extension": ".ps1",
   "mimetype": "text/x-powershell",
   "name": "PowerShell",
   "pygments_lexer": "powershell",
   "version": "7.0"
  },
  "toc-autonumbering": true,
  "toc-showmarkdowntxt": true
 },
 "nbformat": 4,
 "nbformat_minor": 4
}
