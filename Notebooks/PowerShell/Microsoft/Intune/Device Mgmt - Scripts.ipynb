{
 "cells": [
  {
   "cell_type": "markdown",
   "metadata": {},
   "source": [
    "# Device Managment - Scripts\n",
    "\n",
    "    Author: Jing Nghik\n",
    "    Last Updated 2/9/2021\n",
    "\n",
    "Purpose: Intune will provide customer the ability to run their Powershell scripts on the enrolled windows 10 Azure Active Directory joined devices. The script can be run once or periodically.\n",
    "\n",
    "## Requirements: \n",
    "\n",
    "### Scopes Required\n",
    "- DeviceManagementManagedDevices.ReadWrite.All\n",
    "\n",
    "### A client AppID/Secret or Device Code Authentication\n",
    "[Docs.Microsoft.com - List deviceManagementScripts](https://docs.microsoft.com/en-us/graph/api/intune-shared-devicemanagementscript-list?view=graph-rest-beta)\n",
    "        \n",
    "    Important: Microsoft Graph APIs under the /beta version are subject to change; production use is not supported.\n",
    "    Note: The Microsoft Graph API for Intune requires an active Intune license for the tenant."
   ]
  },
  {
   "cell_type": "markdown",
   "metadata": {},
   "source": [
    "## Set Variables and Import required modules and credentials "
   ]
  },
  {
   "cell_type": "code",
   "execution_count": 35,
   "metadata": {},
   "outputs": [
    {
     "name": "stdout",
     "output_type": "stream",
     "text": [
      "\n",
      "CommandType     Name                                               Version    Source\n",
      "-----------     ----                                               -------    ------\n",
      "Function        Get-DecryptedStringUsingMasterPassword             0.0        pp-core\n",
      "Function        Get-EncodedString                                  0.0        pp-core\n",
      "Function        Get-EncryptedStringUsingMasterPassword             0.0        pp-core\n",
      "Function        Get-HashOfString                                   0.0        pp-core\n",
      "Function        Get-MasterPassword                                 0.0        pp-core\n",
      "Function        Get-StoredCredentials                              0.0        pp-core\n",
      "Function        Invoke-CheckCredentials                            0.0        pp-core\n",
      "Function        New-StoreCredentials                               0.0        pp-core\n",
      "Function        Get-MSGraphAuthToken                               0.0        graph\n",
      "Function        Invoke-GraphAuthentication                         0.0        graph\n",
      "Function        Invoke-MSGraphQuery                                0.0        graph\n",
      "\n"
     ]
    }
   ],
   "source": [
    "## Change these if required\n",
    "$resource = \"https://graph.microsoft.com\" ## resource Dont change since we want to query MDATP REST API Resource\n",
    "$grant_type = \"client_credentials\" ## This is using a device_code flow (supports: client_credentials, device_code)\n",
    "$apiVersion = \"beta\"  ## Identify the version of the API ( api or beta )\n",
    "\n",
    "## Dont really need to change these unless necessary\n",
    "$VerbosePreference = \"ignore\"   ## Set to 'continue to get verbose output'\n",
    "## This will run a script to import the required modules and credentials stored in the \"credential\" file\n",
    "$scriptPath = \"~/Notebooks/PowerShell/custom-modules/import.ps1\"; . $scriptPath  # this will run the script"
   ]
  },
  {
   "cell_type": "markdown",
   "metadata": {},
   "source": [
    "## Authenticate with Graph API and get access Token for MDATP Resource"
   ]
  },
  {
   "cell_type": "code",
   "execution_count": 36,
   "metadata": {},
   "outputs": [
    {
     "name": "stdout",
     "output_type": "stream",
     "text": [
      "\u001b[92m\n",
      "Authentication Parameters detected\u001b[0m\n",
      "Personal Access Token (PAT) grant_type\n",
      "\n",
      "----------------------------------------------------------------------------\n",
      "Authentiating with Microsoft Graph API using a Personal Access Token (PAT)\n",
      "\u001b[37mhttps://docs.microsoft.com/en-us/azure/storage/common/storage-auth-aad-app\u001b[0m\n",
      "----------------------------------------------------------------------------\n",
      "Requesting Token at https://login.microsoftonline.com/e4194ef7-b5d7-4db1-b7e9-a73af406f276/oauth2/token\n",
      "\u001b[92m\n",
      "\n",
      "Received Token!\u001b[0m\n",
      "\u001b[93mConnected and Access Token received and will expire 1612936082\u001b[0m\n",
      "\n",
      "Name                           Value\n",
      "----                           -----\n",
      "Accept                         application/json\n",
      "Content-Type                   application/json\n",
      "Authorization                  Bearer eyJ0eXAiOiJKV1QiLCJub25jZSI6ImZtM2JNTWFLUVdocTZWdGZtSnpJWjRIYnNDNFZhRXpmOUdqNTJaVWI1djQiLCJhbGciOiJSUzI1NiIsIng1dCI6Im5PbzNaRHJPRFhFSzFqS1doWHNsSFJfS1hFZyIsImtp…\n",
      "\n"
     ]
    }
   ],
   "source": [
    "## Get a token if authenticates properly. \n",
    "\n",
    "$authParams = @{\n",
    "    tenantId = $credentials.tenantId\n",
    "    client_id = $credentials.client_id\n",
    "    client_secret = $credentials.client_secret\n",
    "    resource = $resource  ## resource Dont change since we want to query MDATP REST API Resource\n",
    "    grant_type = $grant_type  ## This is using a device_code flow (supports: client_credentials, device_code)\n",
    "    #scope = \"https://api.securitycenter.microsoft.com/Machine.ReadWrite.All\" ## set the scope\n",
    "};\n",
    "\n",
    "## this will authenticate with Graph API and token will be stored in <tokenResponse> variable.\n",
    "$token = (Invoke-GraphAuthentication -authParams $authParams)\n",
    "\n",
    "## This is the authentication header for REST API Call\n",
    "if ($token.access_token -ne $null) {\n",
    "    $authHeader = @{ \n",
    "        'Content-Type' = 'application/json'\n",
    "        Accept = 'application/json'\n",
    "        Authorization = \"Bearer $($token.access_token)\" \n",
    "    }\n",
    "}; $authHeader"
   ]
  },
  {
   "cell_type": "markdown",
   "metadata": {},
   "source": [
    "## Get list of available scripts"
   ]
  },
  {
   "cell_type": "code",
   "execution_count": 37,
   "metadata": {},
   "outputs": [
    {
     "name": "stdout",
     "output_type": "stream",
     "text": [
      "https://graph.microsoft.com/beta/deviceManagement/deviceManagementScripts\n",
      "\n",
      "id                                   displayName  description            fileName\n",
      "--                                   -----------  -----------            --------\n",
      "4838170d-a36e-47c0-aa4c-6ae9aa971d90 test script2 This is a test script. test2.ps1\n",
      "5456b4d2-cce1-4c4e-93c4-b4078423b620 test script  This is a test script. test.ps1\n",
      "b34e96e5-9580-4228-8319-6636ecc4b3ec test script2 This is a test script. test2.ps1\n",
      "\n"
     ]
    }
   ],
   "source": [
    "## Set the path you want to query\n",
    "$endpoint = \"deviceManagement/deviceManagementScripts\"\n",
    "$method = \"GET\"\n",
    "\n",
    "## The following commands will query the graph API and output the first 5 machines in table format\n",
    "$uri = \"$($resource)/$apiVersion/$endpoint\"; $uri\n",
    "$Response = (Invoke-RestMethod -Method $method -Uri $uri -Headers $authHeader -body $body -ErrorAction Stop)\n",
    "\n",
    "## Filter columns \n",
    "$filter = @('id','displayName','description','fileName')\n",
    "$Response.value | Select-Object $filter | FT"
   ]
  },
  {
   "cell_type": "markdown",
   "metadata": {},
   "source": [
    "## Create a sample script"
   ]
  },
  {
   "cell_type": "code",
   "execution_count": 30,
   "metadata": {},
   "outputs": [
    {
     "name": "stdout",
     "output_type": "stream",
     "text": [
      "\u001b[93mEncoded String: CiMjIFRoaXMgaXMgYSB0ZXN0IHNjcmlwdAplY2hvICd0ZXN0JyA+IGM6XHRlc3QudHh0Cg==\u001b[0m\n"
     ]
    }
   ],
   "source": [
    "$script = @\"\n",
    "\n",
    "## This is a test script\n",
    "echo 'test' > c:\\test.txt\n",
    "\n",
    "\"@\n",
    "\n",
    "$encodedString = Get-encodedString $script"
   ]
  },
  {
   "cell_type": "markdown",
   "metadata": {},
   "source": [
    "## Create a test powershell script"
   ]
  },
  {
   "cell_type": "code",
   "execution_count": 31,
   "metadata": {},
   "outputs": [
    {
     "name": "stdout",
     "output_type": "stream",
     "text": [
      "https://graph.microsoft.com/beta/deviceManagement/deviceManagementScripts\n",
      "\n",
      "@odata.context        : https://graph.microsoft.com/beta/$metadata#deviceManagement/deviceManagementScripts/$entity\n",
      "enforceSignatureCheck : True\n",
      "runAs32Bit            : True\n",
      "id                    : b34e96e5-9580-4228-8319-6636ecc4b3ec\n",
      "displayName           : test script2\n",
      "description           : This is a test script.\n",
      "scriptContent         : CiMjIFRoaXMgaXMgYSB0ZXN0IHNjcmlwdAplY2hvICd0ZXN0JyA+IGM6XHRlc3QudHh0Cg==\n",
      "createdDateTime       : 2/10/2021 3:57:39 AM\n",
      "lastModifiedDateTime  : 2/10/2021 3:57:39 AM\n",
      "runAsAccount          : user\n",
      "fileName              : test2.ps1\n",
      "roleScopeTagIds       : {0}\n",
      "\n",
      "\n"
     ]
    }
   ],
   "source": [
    "## Set the path you want to query\n",
    "$endpoint = \"deviceManagement/deviceManagementScripts\"\n",
    "$method = \"POST\"\n",
    "\n",
    "$body = @\"\n",
    "{\n",
    "  \"@odata.type\": \"#microsoft.graph.deviceManagementScript\",\n",
    "  \"displayName\": \"test script2\",\n",
    "  \"description\": \"This is a test script.\",\n",
    "  \"scriptContent\": \"$encodedString\",\n",
    "  \"runAsAccount\": \"user\",\n",
    "  \"enforceSignatureCheck\": true,\n",
    "  \"fileName\": \"test2.ps1\",\n",
    "  \"runAs32Bit\": true\n",
    "}\n",
    "\"@\n",
    "\n",
    "## The following commands will query the graph API and output the first 5 machines in table format\n",
    "$uri = \"$($resource)/beta/$endpoint\"; $uri\n",
    "$Response = (Invoke-RestMethod -Method $method -Uri $uri -Headers $authHeader -body $body -ErrorAction Stop)\n",
    "$Response\n"
   ]
  },
  {
   "cell_type": "markdown",
   "metadata": {},
   "source": [
    "## Assign script to a group of devices\n",
    "- https://docs.microsoft.com/en-us/graph/api/intune-shared-devicemanagementscript-assign?view=graph-rest-beta"
   ]
  },
  {
   "cell_type": "code",
   "execution_count": null,
   "metadata": {},
   "outputs": [],
   "source": [
    "## Set the path you want to query\n",
    "$endpoint = \"deviceManagement/deviceManagementScripts\"\n",
    "$method = \"POST\"\n",
    "\n",
    "$body = @\"\n",
    "{\n",
    "  \"@odata.type\": \"#microsoft.graph.deviceManagementScript\",\n",
    "  \"displayName\": \"test script2\",\n",
    "  \"description\": \"This is a test script.\",\n",
    "  \"scriptContent\": \"$encodedString\",\n",
    "  \"runAsAccount\": \"user\",\n",
    "  \"enforceSignatureCheck\": true,\n",
    "  \"fileName\": \"test2.ps1\",\n",
    "  \"runAs32Bit\": true\n",
    "}\n",
    "\"@\n",
    "\n",
    "## The following commands will query the graph API and output the first 5 machines in table format\n",
    "$uri = \"$($resource)/beta/$endpoint\"; $uri\n",
    "$Response = (Invoke-RestMethod -Method $method -Uri $uri -Headers $authHeader -body $body -ErrorAction Stop)\n",
    "$Response"
   ]
  }
 ],
 "metadata": {
  "kernelspec": {
   "display_name": ".NET (PowerShell)",
   "language": "PowerShell",
   "name": ".net-powershell"
  },
  "language_info": {
   "file_extension": ".ps1",
   "mimetype": "text/x-powershell",
   "name": "PowerShell",
   "pygments_lexer": "powershell",
   "version": "7.0"
  },
  "toc-autonumbering": true,
  "toc-showmarkdowntxt": true
 },
 "nbformat": 4,
 "nbformat_minor": 4
}
