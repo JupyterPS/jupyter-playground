{
 "cells": [
  {
   "cell_type": "code",
   "execution_count": 3,
   "metadata": {},
   "outputs": [
    {
     "data": {
      "text/html": [
       "<iframe \n",
       "    width=\"1024\" \n",
       "    height=\"768\" \n",
       "    frameborder=\"0\" \n",
       "    allowFullScreen=\"true\"\n",
       "    src=\"https://app.powerbi.com/view?r=eyJrIjoiMDA0ZjBkZmYtNWE2OC00NmExLTlkZWQtYzNmZDBlYjk2ODEyIiwidCI6ImRlNDBjZjdlLWFkNWYtNDI0NS1hMzE3LTE0YmUzOWNiYjBlZiJ9\">\n",
       "</iframe>"
      ]
     },
     "metadata": {},
     "output_type": "display_data"
    }
   ],
   "source": [
    "#!html\n",
    "\n",
    "<iframe \n",
    "    width=\"1024\" \n",
    "    height=\"768\" \n",
    "    frameborder=\"0\" \n",
    "    allowFullScreen=\"true\"\n",
    "    src=\"https://app.powerbi.com/view?r=eyJrIjoiMDA0ZjBkZmYtNWE2OC00NmExLTlkZWQtYzNmZDBlYjk2ODEyIiwidCI6ImRlNDBjZjdlLWFkNWYtNDI0NS1hMzE3LTE0YmUzOWNiYjBlZiJ9\">\n",
    "</iframe>"
   ]
  },
  {
   "cell_type": "code",
   "execution_count": null,
   "metadata": {},
   "outputs": [],
   "source": []
  }
 ],
 "metadata": {
  "kernelspec": {
   "display_name": ".NET (PowerShell)",
   "language": "PowerShell",
   "name": ".net-powershell"
  },
  "language_info": {
   "file_extension": ".ps1",
   "mimetype": "text/x-powershell",
   "name": "PowerShell",
   "pygments_lexer": "powershell",
   "version": "7.0"
  }
 },
 "nbformat": 4,
 "nbformat_minor": 4
}
