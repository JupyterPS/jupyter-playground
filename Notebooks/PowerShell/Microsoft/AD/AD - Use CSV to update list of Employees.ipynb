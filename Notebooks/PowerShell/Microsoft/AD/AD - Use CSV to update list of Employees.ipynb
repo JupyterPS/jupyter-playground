{
 "cells": [
  {
   "cell_type": "markdown",
   "metadata": {},
   "source": [
    "# Use a CSV File to update an attribute with a list of employees in the CSV"
   ]
  },
  {
   "cell_type": "markdown",
   "metadata": {},
   "source": [
    "## Get list of users and filter the distinguishedname, employeeid, and samaccountname"
   ]
  },
  {
   "cell_type": "code",
   "execution_count": null,
   "metadata": {},
   "outputs": [],
   "source": [
    "Install-Module ActiveDirectory"
   ]
  },
  {
   "cell_type": "code",
   "execution_count": null,
   "metadata": {},
   "outputs": [],
   "source": [
    "Import-Module ActiveDirectory"
   ]
  },
  {
   "cell_type": "code",
   "execution_count": null,
   "metadata": {},
   "outputs": [],
   "source": [
    "$adusers = get-aduser -filter * -properties distinguishedname,employeeid,samaccountname"
   ]
  },
  {
   "cell_type": "code",
   "execution_count": null,
   "metadata": {},
   "outputs": [],
   "source": [
    "\n",
    "$hash = $adusers | group-object -ashashtable -property samaccountname\n",
    "$collected = $adusers | select samaccountname,employeeid,distinguishedname\n",
    "$csv = import-csv .\\sheet.csv\n",
    "foreach ($row in $csv) {\n",
    "$selected = $collected | where {$_.employeeid -eq $($row.employeeid)}\n",
    "set-aduser $($selected.samaccountname) -title $($row.title)\n",
    "}\n"
   ]
  }
 ],
 "metadata": {
  "kernelspec": {
   "display_name": ".NET (PowerShell)",
   "language": "PowerShell",
   "name": ".net-powershell"
  },
  "language_info": {
   "file_extension": ".ps1",
   "mimetype": "text/x-powershell",
   "name": "PowerShell",
   "pygments_lexer": "powershell",
   "version": "7.0"
  }
 },
 "nbformat": 4,
 "nbformat_minor": 4
}
