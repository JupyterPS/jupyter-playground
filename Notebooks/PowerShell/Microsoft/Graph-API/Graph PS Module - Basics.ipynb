{
 "cells": [
  {
   "cell_type": "markdown",
   "metadata": {},
   "source": [
    "# Rest API - Advanced Hunting Query\n",
    "\n",
    "<table align=\"left\">\n",
    "  <tr>\n",
    "    <th>Type</th>\n",
    "      <th>Title</th>\n",
    "    <th>Description</th>\n",
    "  </tr>\n",
    "  <tr>\n",
    "      <td>Documentation</td>\n",
    "    <td><b><a href=\"https://docs.microsoft.com/en-us/windows/security/threat-protection/microsoft-defender-atp/run-advanced-query-api\">Advanced Hunting API</a></td>\n",
    "    <td>This is the documentation that refers to what permissions is required and request examples you can use to query the MDATP API </td>\n",
    "  </tr>\n",
    "</table>"
   ]
  },
  {
   "cell_type": "markdown",
   "metadata": {},
   "source": [
    "## Pre-requisite"
   ]
  },
  {
   "cell_type": "code",
   "execution_count": null,
   "metadata": {},
   "outputs": [],
   "source": [
    "$requiredModules = ('Microsoft.graph')\n",
    "\n",
    "Install-Module $requiredModules"
   ]
  },
  {
   "cell_type": "code",
   "execution_count": null,
   "metadata": {},
   "outputs": [],
   "source": [
    "Select-MgProfile -Name \"beta\""
   ]
  },
  {
   "cell_type": "code",
   "execution_count": null,
   "metadata": {},
   "outputs": [],
   "source": []
  },
  {
   "cell_type": "code",
   "execution_count": null,
   "metadata": {},
   "outputs": [],
   "source": [
    "Get-MGGroup"
   ]
  },
  {
   "cell_type": "code",
   "execution_count": null,
   "metadata": {},
   "outputs": [],
   "source": [
    "Get-MGContext"
   ]
  },
  {
   "cell_type": "code",
   "execution_count": null,
   "metadata": {},
   "outputs": [],
   "source": [
    "(Get-MGContext).scopes"
   ]
  },
  {
   "cell_type": "code",
   "execution_count": null,
   "metadata": {},
   "outputs": [],
   "source": []
  },
  {
   "cell_type": "code",
   "execution_count": null,
   "metadata": {},
   "outputs": [],
   "source": [
    "# Connect to the MS Graph API using device code authentication\n",
    "Connect-MGGraph -Scopes Group.Read.All -ContextScope Process -ForceRefresh"
   ]
  },
  {
   "cell_type": "code",
   "execution_count": null,
   "metadata": {},
   "outputs": [],
   "source": [
    "$scope = \"DeviceManagementManagedDevices.ReadWrite.All\"\n",
    "\n",
    "Connect-MGGraph -Scopes $scope -ContextScope Process -ForceRefresh"
   ]
  },
  {
   "cell_type": "code",
   "execution_count": null,
   "metadata": {},
   "outputs": [],
   "source": [
    "## Find Command\n",
    "Get-Command -Module Microsoft.Graph* *command*"
   ]
  },
  {
   "cell_type": "code",
   "execution_count": null,
   "metadata": {},
   "outputs": [],
   "source": [
    "Get-MgDeviceCommand"
   ]
  },
  {
   "cell_type": "markdown",
   "metadata": {},
   "source": [
    "## Import required modules and credentials "
   ]
  },
  {
   "cell_type": "code",
   "execution_count": null,
   "metadata": {},
   "outputs": [],
   "source": [
    "$requiredModules = @('Microsoft.Graph')\n",
    "\n",
    "## This will run a script to import the required modules and credentials stored in the \"credential\" file\n",
    "$scriptPath = \"~/Notebooks/PowerShell/custom-modules/import.ps1\"\n",
    ". $scriptPath  # this will run the script"
   ]
  },
  {
   "cell_type": "markdown",
   "metadata": {},
   "source": [
    "## Authenticate with Graph API and get access Token for MDATP Resource"
   ]
  },
  {
   "cell_type": "code",
   "execution_count": null,
   "metadata": {},
   "outputs": [],
   "source": [
    "## Get a token if authenticates properly. \n",
    "$authParams = @{\n",
    "    tenantId = $credentials.tenantId\n",
    "    client_id = $credentials.client_id\n",
    "    client_secret = $credentials.client_secret\n",
    "    resource = \"https://api.securitycenter.windows.com\"    ## resource Dont change since we want to query MDATP REST API Resource\n",
    "    grant_type = \"client_credentials\"  ## This is using a appliation ID and secret to authenticate\n",
    "};\n",
    "\n",
    "## this will authenticate with Graph API and token will be stored in <tokenResponse> variable.\n",
    "$tokenResponse = Invoke-GraphAuthentication -authParams $authParams"
   ]
  },
  {
   "cell_type": "markdown",
   "metadata": {},
   "source": [
    "### Put your Hunting Query here"
   ]
  },
  {
   "cell_type": "code",
   "execution_count": null,
   "metadata": {},
   "outputs": [],
   "source": [
    "## Enter your query here below $Query\n",
    "$body = (@{'Query' = @\"\n",
    "\n",
    "DeviceNetworkEvents                                          \n",
    "| where InitiatingProcessFileName =~ 'powershell.exe'\n",
    "| limit 10\n",
    "\n",
    "\"@}) | ConvertTO-JSON;"
   ]
  },
  {
   "cell_type": "markdown",
   "metadata": {},
   "source": [
    "## Query the MDATP API"
   ]
  },
  {
   "cell_type": "markdown",
   "metadata": {},
   "source": [
    "### Query the MDATP API Grab report schema "
   ]
  },
  {
   "cell_type": "code",
   "execution_count": null,
   "metadata": {},
   "outputs": [],
   "source": [
    "$URI = \"https://api.securitycenter.windows.com/api/advancedqueries/run\"   ## This is the URL to query with the access token.\n",
    "$header = @{                                                              ## This is the header\n",
    "    'Content-Type' = 'application/json'\n",
    "    Accept = 'application/json'\n",
    "    Authorization = \"Bearer $($tokenResponse.access_token)\" }\n",
    "\n",
    "$Response = (Invoke-RestMethod -Method POST -Uri $URI -Headers $header -body $body -ErrorAction Stop)\n",
    "$Response"
   ]
  },
  {
   "cell_type": "markdown",
   "metadata": {},
   "source": [
    "### Parse Results"
   ]
  },
  {
   "cell_type": "code",
   "execution_count": null,
   "metadata": {},
   "outputs": [],
   "source": [
    "## Filter by these columns\n",
    "$includeColumns = @('Timestamp','DeviceName','ActionType','RemoteIP')\n",
    "\n",
    "## These are the results\n",
    "$Result.Results | Select-Object -Property $includeColumns"
   ]
  },
  {
   "cell_type": "code",
   "execution_count": null,
   "metadata": {},
   "outputs": [],
   "source": []
  }
 ],
 "metadata": {
  "kernelspec": {
   "display_name": ".NET (PowerShell)",
   "language": "PowerShell",
   "name": ".net-powershell"
  },
  "language_info": {
   "file_extension": ".ps1",
   "mimetype": "text/x-powershell",
   "name": "PowerShell",
   "pygments_lexer": "powershell",
   "version": "7.0"
  }
 },
 "nbformat": 4,
 "nbformat_minor": 4
}
