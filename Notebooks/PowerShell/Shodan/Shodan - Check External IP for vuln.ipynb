{
 "cells": [
  {
   "cell_type": "markdown",
   "metadata": {},
   "source": [
    "# Calling Shodan via Rest-API"
   ]
  },
  {
   "cell_type": "markdown",
   "metadata": {},
   "source": [
    "#### First setup API Key\n",
    " Shodan REST API https://developer.shodan.io/ provided with the proper API key"
   ]
  },
  {
   "cell_type": "code",
   "execution_count": 272,
   "metadata": {},
   "outputs": [],
   "source": [
    "$APIKey = \"xxxxxxxYMDeqVS3HxxxxxxOi18yxxxxx\"  ## API Key obtained from Shodan\n",
    "$credentialPath = \".\\credentials\\shodan.credential\"                ## where to store credentials"
   ]
  },
  {
   "cell_type": "markdown",
   "metadata": {},
   "source": [
    "#### Import Shodan PS Module"
   ]
  },
  {
   "cell_type": "code",
   "execution_count": 1,
   "metadata": {},
   "outputs": [
    {
     "data": {
      "text/html": [
       "\r\n",
       "<div>\r\n",
       "    <div id='dotnet-interactive-this-cell-32507.cf0cd8fd03294621b18c7859ec9a94d5' style='display: none'>\r\n",
       "        The below script needs to be able to find the current output cell; this is an easy method to get it.\r\n",
       "    </div>\r\n",
       "    <script type='text/javascript'>\r\n",
       "// ensure `require` is available globally\r\n",
       "if (typeof require !== typeof Function || typeof require.config !== typeof Function) {\r\n",
       "    let require_script = document.createElement('script');\r\n",
       "    require_script.setAttribute('src', 'https://cdnjs.cloudflare.com/ajax/libs/require.js/2.3.6/require.min.js');\r\n",
       "    require_script.setAttribute('type', 'text/javascript');\r\n",
       "    require_script.onload = function () {\r\n",
       "        loadDotnetInteractiveApi();\r\n",
       "    };\r\n",
       "\r\n",
       "    document.getElementsByTagName('head')[0].appendChild(require_script);\r\n",
       "}\r\n",
       "else {\r\n",
       "    loadDotnetInteractiveApi();\r\n",
       "}\r\n",
       "\r\n",
       "async function probeAddresses(probingAddresses) {\r\n",
       "    function timeout(ms, promise) {\r\n",
       "        return new Promise(function (resolve, reject) {\r\n",
       "            setTimeout(function () {\r\n",
       "                reject(new Error('timeout'))\r\n",
       "            }, ms)\r\n",
       "            promise.then(resolve, reject)\r\n",
       "        })\r\n",
       "    }\r\n",
       "\r\n",
       "    if (Array.isArray(probingAddresses)) {\r\n",
       "        for (let i = 0; i < probingAddresses.length; i++) {\r\n",
       "\r\n",
       "            let rootUrl = probingAddresses[i];\r\n",
       "\r\n",
       "            if (!rootUrl.endsWith('/')) {\r\n",
       "                rootUrl = `${rootUrl}/`;\r\n",
       "            }\r\n",
       "\r\n",
       "            try {\r\n",
       "                let response = await timeout(1000, fetch(`${rootUrl}discovery`, {\r\n",
       "                    method: 'POST',\r\n",
       "                    cache: 'no-cache',\r\n",
       "                    mode: 'cors',\r\n",
       "                    timeout: 1000,\r\n",
       "                    headers: {\r\n",
       "                        'Content-Type': 'text/plain'\r\n",
       "                    },\r\n",
       "                    body: probingAddresses[i]\r\n",
       "                }));\r\n",
       "\r\n",
       "                if (response.status == 200) {\r\n",
       "                    return rootUrl;\r\n",
       "                }\r\n",
       "            }\r\n",
       "            catch (e) { }\r\n",
       "        }\r\n",
       "    }\r\n",
       "}\r\n",
       "\r\n",
       "function loadDotnetInteractiveApi() {\r\n",
       "    probeAddresses([\"http://172.17.0.2:1025/\", \"http://127.0.0.1:1025/\"])\r\n",
       "        .then((root) => {\r\n",
       "            // use probing to find host url and api resources\r\n",
       "            // load interactive helpers and language services\r\n",
       "            let dotnet_require = require.config({\r\n",
       "                context: '32507.cf0cd8fd03294621b18c7859ec9a94d5',\r\n",
       "                paths: {\r\n",
       "                    'dotnet-interactive': `${root}resources`\r\n",
       "                }\r\n",
       "            }) || require;\r\n",
       "            if (!window.dotnet_require) {\r\n",
       "                window.dotnet_require = dotnet_require;\r\n",
       "            }\r\n",
       "        \r\n",
       "            dotnet_require([\r\n",
       "                    'dotnet-interactive/dotnet-interactive'\r\n",
       "                ],\r\n",
       "                function (dotnet) {\r\n",
       "                    dotnet.init(window);\r\n",
       "                },\r\n",
       "                function (error) {\r\n",
       "                    console.log(error);\r\n",
       "                }\r\n",
       "            );\r\n",
       "        })\r\n",
       "        .catch(error => {console.log(error);});\r\n",
       "    }\r\n",
       "    </script>\r\n",
       "</div>"
      ]
     },
     "metadata": {},
     "output_type": "display_data"
    },
    {
     "name": "stdout",
     "output_type": "stream",
     "text": [
      "\n",
      "Get-ShodanAPIInfo                                 Get-ShodanDNSResolve                              Get-ShodanDNSReverse                              Get-ShodanHostService\n",
      "Get-ShodanMyIP                                    Get-ShodanService                                 Measure-ShodanExploit                             Measure-ShodanHost\n",
      "Read-ShodanAPIKey                                 Search-ShodanExploit                              Search-ShodanHost                                 Set-ShodanAPIKey\n",
      "\n"
     ]
    },
    {
     "data": {
      "text/html": [
       "Type <font color=Yellow>'Get-Help &lt;command&gt; -Examples</font>' to get help on any modules"
      ]
     },
     "metadata": {},
     "output_type": "display_data"
    }
   ],
   "source": [
    "$host.UI.RawUI.BufferSize = [System.Management.Automation.Host.Size]::new(200, 50) ## Corrects the output\n",
    "Import-Module \".\\modules\\shodan.psm1\" -force\n",
    "\n",
    "# Grabbing commands available\n",
    "Get-Command -module \"shodan\" | Select-Object -Property Name | Format-Wide -Column 4\n",
    "Out-Display -input \"Type <font color=Yellow>'Get-Help &lt;command&gt; -Examples</font>' to get help on any modules\""
   ]
  },
  {
   "cell_type": "markdown",
   "metadata": {},
   "source": [
    "# first build credentials"
   ]
  },
  {
   "cell_type": "code",
   "execution_count": null,
   "metadata": {},
   "outputs": [],
   "source": []
  },
  {
   "cell_type": "code",
   "execution_count": null,
   "metadata": {},
   "outputs": [
    {
     "data": {
      "text/html": [
       "\r\n",
       "<div>\r\n",
       "    <div id='dotnet-interactive-this-cell-8958.10b45d90c2e04dbb9576b5dab1c863d9' style='display: none'>\r\n",
       "        The below script needs to be able to find the current output cell; this is an easy method to get it.\r\n",
       "    </div>\r\n",
       "    <script type='text/javascript'>\r\n",
       "// ensure `require` is available globally\r\n",
       "if (typeof require !== typeof Function || typeof require.config !== typeof Function) {\r\n",
       "    let require_script = document.createElement('script');\r\n",
       "    require_script.setAttribute('src', 'https://cdnjs.cloudflare.com/ajax/libs/require.js/2.3.6/require.min.js');\r\n",
       "    require_script.setAttribute('type', 'text/javascript');\r\n",
       "    require_script.onload = function () {\r\n",
       "        loadDotnetInteractiveApi();\r\n",
       "    };\r\n",
       "\r\n",
       "    document.getElementsByTagName('head')[0].appendChild(require_script);\r\n",
       "}\r\n",
       "else {\r\n",
       "    loadDotnetInteractiveApi();\r\n",
       "}\r\n",
       "\r\n",
       "async function probeAddresses(probingAddresses) {\r\n",
       "    function timeout(ms, promise) {\r\n",
       "        return new Promise(function (resolve, reject) {\r\n",
       "            setTimeout(function () {\r\n",
       "                reject(new Error('timeout'))\r\n",
       "            }, ms)\r\n",
       "            promise.then(resolve, reject)\r\n",
       "        })\r\n",
       "    }\r\n",
       "\r\n",
       "    if (Array.isArray(probingAddresses)) {\r\n",
       "        for (let i = 0; i < probingAddresses.length; i++) {\r\n",
       "\r\n",
       "            let rootUrl = probingAddresses[i];\r\n",
       "\r\n",
       "            if (!rootUrl.endsWith('/')) {\r\n",
       "                rootUrl = `${rootUrl}/`;\r\n",
       "            }\r\n",
       "\r\n",
       "            try {\r\n",
       "                let response = await timeout(1000, fetch(`${rootUrl}discovery`, {\r\n",
       "                    method: 'POST',\r\n",
       "                    cache: 'no-cache',\r\n",
       "                    mode: 'cors',\r\n",
       "                    timeout: 1000,\r\n",
       "                    headers: {\r\n",
       "                        'Content-Type': 'text/plain'\r\n",
       "                    },\r\n",
       "                    body: probingAddresses[i]\r\n",
       "                }));\r\n",
       "\r\n",
       "                if (response.status == 200) {\r\n",
       "                    return rootUrl;\r\n",
       "                }\r\n",
       "            }\r\n",
       "            catch (e) { }\r\n",
       "        }\r\n",
       "    }\r\n",
       "}\r\n",
       "\r\n",
       "function loadDotnetInteractiveApi() {\r\n",
       "    probeAddresses([\"http://172.17.0.2:1026/\", \"http://127.0.0.1:1026/\"])\r\n",
       "        .then((root) => {\r\n",
       "            // use probing to find host url and api resources\r\n",
       "            // load interactive helpers and language services\r\n",
       "            let dotnet_require = require.config({\r\n",
       "                context: '8958.10b45d90c2e04dbb9576b5dab1c863d9',\r\n",
       "                paths: {\r\n",
       "                    'dotnet-interactive': `${root}resources`\r\n",
       "                }\r\n",
       "            }) || require;\r\n",
       "            if (!window.dotnet_require) {\r\n",
       "                window.dotnet_require = dotnet_require;\r\n",
       "            }\r\n",
       "        \r\n",
       "            dotnet_require([\r\n",
       "                    'dotnet-interactive/dotnet-interactive'\r\n",
       "                ],\r\n",
       "                function (dotnet) {\r\n",
       "                    dotnet.init(window);\r\n",
       "                },\r\n",
       "                function (error) {\r\n",
       "                    console.log(error);\r\n",
       "                }\r\n",
       "            );\r\n",
       "        })\r\n",
       "        .catch(error => {console.log(error);});\r\n",
       "    }\r\n",
       "    </script>\r\n",
       "</div>"
      ]
     },
     "metadata": {},
     "output_type": "display_data"
    }
   ],
   "source": [
    "# Converts the API key to a SecureString\n",
    "if (!$credentialPath) {$credentialPath =\".\\credentials\\shodan.credential\"}\n",
    "if (!$APIKey) {$APIKey = Read-host \"No APIKey provided, please enter Shodan API Key you got: \"}\n",
    "$SecureKeyString = ConvertTo-SecureString -String $APIKey -AsPlainText -Force\n",
    "\n",
    "# Get a master password used to encrypt and decrypt Key\n",
    "Write-Host -Foreground cyan \"`nPlease enter a master password that will be used to encrypt/decrypt this API Key stored locally\";\n",
    "$MasterPassword = Read-Host -AsSecureString\n",
    "$Credentials = New-Object System.Management.Automation.PSCredential -ArgumentList 'user', $MasterPassword\n",
    "\n",
    "# Generate a random secure Salt\n",
    "$SaltBytes = New-Object byte[] 32\n",
    "[Security.Cryptography.RNGCryptoServiceProvider]::Create().GetBytes($SaltBytes)\n",
    "\n",
    "# This takes the master password and salt it\n",
    "# Rfc2898DeriveBytes takes a password, a salt, and an iteration count, and then generates keys through calls to the GetBytes method.\n",
    "$Rfc2898Deriver = New-Object System.Security.Cryptography.Rfc2898DeriveBytes -ArgumentList $Credentials.GetNetworkCredential().Password, $SaltBytes\n",
    "$KeyBytes  = $Rfc2898Deriver.GetBytes(32)\n",
    "\n",
    "# This commands uses Advanced Encryption Standard (AES) algorith\n",
    "# It will convert the secure string stored in the $SecureKeyString variable to an encrypted standard string using this 256-bit salt key.\n",
    "# The resulting encrypted standard string is stored in the $StandardString variable.\n",
    "$EncryptedString = $SecureKeyString | ConvertFrom-SecureString -key $KeyBytes\n",
    "Write-Host -ForegroundColor Cyan \"Encrypted String: \" -noNewLine; $EncryptedString\n",
    "\n",
    "Write-Host -Message \"Saving the credentials to configuration file $credentialPath\"\n",
    "\n",
    "$credXML = @{\n",
    "    api_key = $EncryptedString\n",
    "    salt = $SaltBytes }\n",
    "    \n",
    "if ( (Test-Path $credentialPath) -and ($APIKey) ) {\n",
    "\n",
    "    $title    = \"Credential file already detected in $credentialPath`n\"\n",
    "    $question = \"Do you want to replace it?\"\n",
    "\n",
    "    $choices = New-Object Collections.ObjectModel.Collection[Management.Automation.Host.ChoiceDescription]\n",
    "    $choices.Add((New-Object Management.Automation.Host.ChoiceDescription -ArgumentList '&Yes'))\n",
    "    $choices.Add((New-Object Management.Automation.Host.ChoiceDescription -ArgumentList '&No'))\n",
    "\n",
    "    $decision = $Host.UI.PromptForChoice($title, $question, $choices, 1)\n",
    "    if ($decision -eq 0) {\n",
    "        Write-Host -ForegroundColor Green \"`nConfirmed\"\n",
    "        $credXML | Export-CliXml \"$storagePath\\shodan.credential\" -Force\n",
    "    } else {\n",
    "        Write-Host -ForegroundColor Red \"`nCancelled, file won't be replaced.\"\n",
    "    }\n",
    "} \n",
    "\n",
    "$credXML = Import-Clixml $credentialPath -ErrorAction SilentlyContinue"
   ]
  },
  {
   "cell_type": "code",
   "execution_count": 1,
   "metadata": {},
   "outputs": [
    {
     "data": {
      "text/html": [
       "\r\n",
       "<div>\r\n",
       "    <div id='dotnet-interactive-this-cell-355.a14f0e29db42467db87afd80854971d6' style='display: none'>\r\n",
       "        The below script needs to be able to find the current output cell; this is an easy method to get it.\r\n",
       "    </div>\r\n",
       "    <script type='text/javascript'>\r\n",
       "// ensure `require` is available globally\r\n",
       "if (typeof require !== typeof Function || typeof require.config !== typeof Function) {\r\n",
       "    let require_script = document.createElement('script');\r\n",
       "    require_script.setAttribute('src', 'https://cdnjs.cloudflare.com/ajax/libs/require.js/2.3.6/require.min.js');\r\n",
       "    require_script.setAttribute('type', 'text/javascript');\r\n",
       "    require_script.onload = function () {\r\n",
       "        loadDotnetInteractiveApi();\r\n",
       "    };\r\n",
       "\r\n",
       "    document.getElementsByTagName('head')[0].appendChild(require_script);\r\n",
       "}\r\n",
       "else {\r\n",
       "    loadDotnetInteractiveApi();\r\n",
       "}\r\n",
       "\r\n",
       "async function probeAddresses(probingAddresses) {\r\n",
       "    function timeout(ms, promise) {\r\n",
       "        return new Promise(function (resolve, reject) {\r\n",
       "            setTimeout(function () {\r\n",
       "                reject(new Error('timeout'))\r\n",
       "            }, ms)\r\n",
       "            promise.then(resolve, reject)\r\n",
       "        })\r\n",
       "    }\r\n",
       "\r\n",
       "    if (Array.isArray(probingAddresses)) {\r\n",
       "        for (let i = 0; i < probingAddresses.length; i++) {\r\n",
       "\r\n",
       "            let rootUrl = probingAddresses[i];\r\n",
       "\r\n",
       "            if (!rootUrl.endsWith('/')) {\r\n",
       "                rootUrl = `${rootUrl}/`;\r\n",
       "            }\r\n",
       "\r\n",
       "            try {\r\n",
       "                let response = await timeout(1000, fetch(`${rootUrl}discovery`, {\r\n",
       "                    method: 'POST',\r\n",
       "                    cache: 'no-cache',\r\n",
       "                    mode: 'cors',\r\n",
       "                    timeout: 1000,\r\n",
       "                    headers: {\r\n",
       "                        'Content-Type': 'text/plain'\r\n",
       "                    },\r\n",
       "                    body: probingAddresses[i]\r\n",
       "                }));\r\n",
       "\r\n",
       "                if (response.status == 200) {\r\n",
       "                    return rootUrl;\r\n",
       "                }\r\n",
       "            }\r\n",
       "            catch (e) { }\r\n",
       "        }\r\n",
       "    }\r\n",
       "}\r\n",
       "\r\n",
       "function loadDotnetInteractiveApi() {\r\n",
       "    probeAddresses([\"http://172.17.0.2:1024/\", \"http://127.0.0.1:1024/\"])\r\n",
       "        .then((root) => {\r\n",
       "            // use probing to find host url and api resources\r\n",
       "            // load interactive helpers and language services\r\n",
       "            let dotnet_require = require.config({\r\n",
       "                context: '355.a14f0e29db42467db87afd80854971d6',\r\n",
       "                paths: {\r\n",
       "                    'dotnet-interactive': `${root}resources`\r\n",
       "                }\r\n",
       "            }) || require;\r\n",
       "            if (!window.dotnet_require) {\r\n",
       "                window.dotnet_require = dotnet_require;\r\n",
       "            }\r\n",
       "        \r\n",
       "            dotnet_require([\r\n",
       "                    'dotnet-interactive/dotnet-interactive'\r\n",
       "                ],\r\n",
       "                function (dotnet) {\r\n",
       "                    dotnet.init(window);\r\n",
       "                },\r\n",
       "                function (error) {\r\n",
       "                    console.log(error);\r\n",
       "                }\r\n",
       "            );\r\n",
       "        })\r\n",
       "        .catch(error => {console.log(error);});\r\n",
       "    }\r\n",
       "    </script>\r\n",
       "</div>"
      ]
     },
     "metadata": {},
     "output_type": "display_data"
    },
    {
     "name": "stdout",
     "output_type": "stream",
     "text": [
      "\u001b[96m\n",
      "Please enter a master password that will be used to encrypt/decrypt this API Key stored locally\u001b[0m\n"
     ]
    },
    {
     "name": "stdin",
     "output_type": "stream",
     "text": [
      " ·········\n"
     ]
    },
    {
     "name": "stdout",
     "output_type": "stream",
     "text": [
      "\u001b[91mNew-Object: \n",
      "\u001b[96mLine |\n",
      "\u001b[96m   8 | \u001b[0m … 98Deriver = \u001b[96mNew-Object System.Security.Cryptography.Rfc2898DeriveByte\u001b[0m …\n",
      "\u001b[96m     | \u001b[91m               ~~~~~~~~~~~~~~~~~~~~~~~~~~~~~~~~~~~~~~~~~~~~~~~~~~~~~~~~~\n",
      "\u001b[91m\u001b[96m     | \u001b[91mException calling \".ctor\" with \"2\" argument(s): \"Value cannot be null. (Parameter 'salt')\"\u001b[0m\n",
      "\u001b[91mInvalidOperation: \n",
      "\u001b[96mLine |\n",
      "\u001b[96m   9 | \u001b[0m \u001b[96m$KeyBytes  = $Rfc2898Deriver.GetBytes(32)\u001b[0m\n",
      "\u001b[96m     | \u001b[91m ~~~~~~~~~~~~~~~~~~~~~~~~~~~~~~~~~~~~~~~~~\n",
      "\u001b[91m\u001b[96m     | \u001b[91mYou cannot call a method on a null-valued expression.\u001b[0m\n",
      "\u001b[91mConvertTo-SecureString: \n",
      "\u001b[96mLine |\n",
      "\u001b[96m  11 | \u001b[0m $SecString = ConvertTo-SecureString \u001b[96m$($credXML.api_key)\u001b[0m -Key $KeyByte …\n",
      "\u001b[96m     | \u001b[91m                                     ~~~~~~~~~~~~~~~~~~~\n",
      "\u001b[91m\u001b[96m     | \u001b[91mCannot bind argument to parameter 'String' because it is null.\u001b[0m\n",
      "\u001b[91mConvertFrom-SecureString: \n",
      "\u001b[96mLine |\n",
      "\u001b[96m  12 | \u001b[0m $APIKey = ($SecString | \u001b[96mConvertFrom-SecureString -AsPlainText\u001b[0m)\n",
      "\u001b[96m     | \u001b[91m                         ~~~~~~~~~~~~~~~~~~~~~~~~~~~~~~~~~~~~~\n",
      "\u001b[91m\u001b[96m     | \u001b[91mCannot bind argument to parameter 'SecureString' because it is null.\u001b[0m\n"
     ]
    }
   ],
   "source": [
    "#Get a master password used to encrypt and decrypt Key\n",
    "Write-Host -Foreground cyan \"`nPlease enter a master password that will be used to encrypt/decrypt this API Key stored locally\";\n",
    "$MasterPassword = Read-Host -AsSecureString\n",
    "\n",
    "$SaltBytes = $credXML.salt\n",
    "$Credentials = New-Object System.Management.Automation.PSCredential -ArgumentList 'user', $MasterPassword\n",
    "\n",
    "$Rfc2898Deriver = New-Object System.Security.Cryptography.Rfc2898DeriveBytes -ArgumentList $Credentials.GetNetworkCredential().Password, $SaltBytes\n",
    "$KeyBytes  = $Rfc2898Deriver.GetBytes(32)\n",
    "\n",
    "$SecString = ConvertTo-SecureString $($credXML.api_key) -Key $KeyBytes \n",
    "$APIKey = ($SecString | ConvertFrom-SecureString -AsPlainText)\n",
    "\n",
    "if ($APIKey) {\n",
    "    Write-Host -ForegroundColor green \"`nCredentials have successfully been imported from $credentialPath\"\n",
    "}"
   ]
  },
  {
   "cell_type": "code",
   "execution_count": 67,
   "metadata": {},
   "outputs": [],
   "source": [
    "if (!(Test-Path -Path \"$storagePath\")) {\n",
    "    Write-Verbose -Message 'Seems this is the first time the config has been set.'\n",
    "    Write-Verbose -Message \"Creating folder $storagePath\"\n",
    "    New-Item -ItemType directory -Path $storagePath | Out-Null\n",
    "}\n",
    "\n",
    "Write-Verbose -Message \"Saving the information to configuration file $storagePath\\$APIKey\"\n",
    "\"$($EncryptedString)\"  | Set-Content  \"$storagePath\\api.key\" -Force\n",
    "Set-Content -Value $SaltBytes -AsByteStream -Path \"$($storagePath)\\$saltname\" -Force"
   ]
  },
  {
   "cell_type": "code",
   "execution_count": 40,
   "metadata": {},
   "outputs": [],
   "source": [
    "$SecureKeyString = ConvertTo-SecureString -String $APIKey -AsPlainText -Force\n",
    "$Credentials = New-Object System.Management.Automation.PSCredential -ArgumentList 'user', $MasterPassword"
   ]
  },
  {
   "cell_type": "markdown",
   "metadata": {},
   "source": [
    "## Setup Variables"
   ]
  },
  {
   "cell_type": "markdown",
   "metadata": {},
   "source": [
    "#### Import required modules"
   ]
  },
  {
   "cell_type": "markdown",
   "metadata": {},
   "source": [
    "#### Enter a domain name or IP address to check\n",
    "- Example: \"jingtoso.com\" or \"52.1.4.1\""
   ]
  },
  {
   "cell_type": "code",
   "execution_count": 281,
   "metadata": {},
   "outputs": [],
   "source": [
    "$query = \"entergy.com\""
   ]
  },
  {
   "cell_type": "markdown",
   "metadata": {},
   "source": [
    "#### Logic to determine if its contains letters or not and resolve if it does."
   ]
  },
  {
   "cell_type": "markdown",
   "metadata": {},
   "source": [
    "#### Query by Hostname or IP"
   ]
  },
  {
   "cell_type": "code",
   "execution_count": 288,
   "metadata": {},
   "outputs": [],
   "source": [
    "$hostIP = \"4.2.2.1\"\n",
    "$URI = \"https://api.shodan.io/shodan/host/$($hostIP)?key=$($APIKey)\"\n",
    "\n",
    "$discovery = Invoke-RestMethod -Method GET -Uri $URI"
   ]
  },
  {
   "cell_type": "markdown",
   "metadata": {},
   "source": [
    "#### Parse Data"
   ]
  },
  {
   "cell_type": "code",
   "execution_count": 289,
   "metadata": {},
   "outputs": [
    {
     "name": "stdout",
     "output_type": "stream",
     "text": [
      "67240449  udp 53 \n"
     ]
    }
   ],
   "source": [
    "$discovery.data | ForEach -process { \n",
    "    Write-Host $_.ip, $_.info, $_.transport, $_.port, $_.product\n",
    "} "
   ]
  },
  {
   "cell_type": "code",
   "execution_count": 290,
   "metadata": {},
   "outputs": [
    {
     "name": "stdout",
     "output_type": "stream",
     "text": [
      "\n",
      "hash      : -103662790\n",
      "ip        : 67240449\n",
      "isp       : Level 3 Communications\n",
      "transport : udp\n",
      "data      : Version: recursive-main/20717463\n",
      "            Recursion: enabled\n",
      "            Resolver name: cns2.lax1.Level3.net\n",
      "            Resolver ID: pubntp1.lax1.Level3.net\n",
      "asn       : AS3356\n",
      "port      : 53\n",
      "hostnames : {a.resolvers.level3.net}\n",
      "location  : @{city=; region_code=; area_code=; longitude=-97.822; country_code3=; latitude=37.751; postal_code=; dma_code=; country_code=US; country_name=United States}\n",
      "dns       : @{software=Version: recursive-main/20717463; recursive=True; resolver_id=pubntp1.lax1.Level3.net; resolver_hostname=cns2.lax1.Level3.net}\n",
      "timestamp : 6/18/2020 5:10:21 AM\n",
      "domains   : {level3.net}\n",
      "org       : Level 3 Communications\n",
      "os        : \n",
      "_shodan   : @{crawler=b0f0de701beef55d9f52a22b2c071d0ea384bc26; ptr=True; id=7781495f-a833-4c70-aaa7-4e34b4df493c; module=dns-udp; options=}\n",
      "opts      : @{raw=34ef818000010001000000000776657273696f6e0462696e640000100003c00c001000030000000100212056657273696f6e3a207265637572736976652d6d61696e2f3230373137343633}\n",
      "ip_str    : 4.2.2.1\n",
      "\n",
      "\n"
     ]
    }
   ],
   "source": [
    "$discovery.data | ForEach -process { \n",
    "    $_ \n",
    "} "
   ]
  },
  {
   "cell_type": "code",
   "execution_count": null,
   "metadata": {},
   "outputs": [],
   "source": []
  }
 ],
 "metadata": {
  "kernelspec": {
   "display_name": ".NET (PowerShell)",
   "language": "PowerShell",
   "name": ".net-powershell"
  },
  "language_info": {
   "file_extension": ".ps1",
   "mimetype": "text/x-powershell",
   "name": "PowerShell",
   "pygments_lexer": "powershell",
   "version": "7.0"
  }
 },
 "nbformat": 4,
 "nbformat_minor": 4
}
