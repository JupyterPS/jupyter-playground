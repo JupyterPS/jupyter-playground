{
  "cells": [
    {
      "metadata": {},
      "cell_type": "markdown",
      "source": "# Introduction\nThis notebook shows how to use the [Microsoft Graph Security API](https://aka.ms/graphsecuritydocs). It defines a Python wrapper for calling the API \nand several Jupyter magics to make it easy to access [Microsoft Graph Security alerts](https://aka.ms/graphsecurityalerts). While the APIs are documented and supported,\nthe wrapper in this notebook is a sample and is not an official programming interface.\n\nAuthor: [Microsoft Graph Security Team](graphsecfeedback@microsoft.com) (Inspired by [@JohnLaTwC](https://twitter.com/JohnLaTwC))\n\n## Links to Microsoft Graph Security API documentation and other samples\n\n[Overview of Microsoft Graph Security](https://aka.ms/graphsecuritydocs)\n\n[What are alerts?](https://aka.ms/graphsecurityalerts)\n\n[Alert Schema - list of properties and descriptions](https://docs.microsoft.com/en-us/graph/api/resources/alert?view=graph-rest-1.0) \n\n[Authorization - Application-only and User-Delegated](https://docs.microsoft.com/graph/security-authorization?view=graph-rest-1.0)\n\n[More Samples](https://aka.ms/graphsecurityapicode)\n\n[OData query examples](https://docs.microsoft.com/graph/query-parameters)"
    },
    {
      "metadata": {},
      "cell_type": "markdown",
      "source": "# Authentication - Initialize secrets\n\nDownload this notebook and follow the steps below to get the application ID and secret that you can use to authenticate and get data from your Azure Active Directory (Azure AD) tenant using this notebook. \n1.\t[Register your application](https://docs.microsoft.com/en-us/graph/auth-v2-service#1-register-your-app) for this notebook in Azure AD in application only mode. \n2.\t[Configure permissions](https://docs.microsoft.com/en-us/graph/auth-v2-service#2-configure-permissions-for-microsoft-graph) and be sure to add the `SecurityEvents.ReadWrite.All` permission to your application.\n3. Get your Azure AD tenant administrator to [grant tenant administration consent](https://docs.microsoft.com/en-us/graph/auth-v2-service#3-get-administrator-consent) to your application. This is a one-time activity unless permissions change for the application. \n\nWhen your app is registered to call the Microsoft Graph Security API you need to pass the application ID and application secret from the above mentioned steps in to this sample. \n\nUse either plain text input to enter your secret in the `get_secret` function or get it from your envionment variable in the `get_secret` function below the first one. Use only one of these functions to get secret. "
    },
    {
      "metadata": {
        "trusted": true
      },
      "cell_type": "code",
      "source": "def get_secret(secret_name):\n    return {'GRAPHSEC_DEMO_appId':'<<Enter your registered application ID>>',\n            'GRAPHSEC_DEMO_appSecret':'<<Enter you application secret>>',\n            'GRAPHSEC_DEMO_tenantId':'<<Enter your tenant ID>>',\n            'VT_API_KEY':'<<Enter optional VirusTotal API Key>>'}[secret_name]",
      "execution_count": null,
      "outputs": []
    },
    {
      "metadata": {
        "trusted": true
      },
      "cell_type": "code",
      "source": "## e.g. custom way to access secrets\ndef get_secret(secret_name):\n    import os\n    return os.environ.get(secret_name)",
      "execution_count": null,
      "outputs": []
    },
    {
      "metadata": {
        "trusted": true
      },
      "cell_type": "code",
      "source": "appId = get_secret('GRAPHSEC_DEMO_appId')\nappSecret = get_secret('GRAPHSEC_DEMO_appSecret') \ntenantId = get_secret('GRAPHSEC_DEMO_tenantId')\nvt_api_key = get_secret('VT_API_KEY')\nprint(\"If your secrets were initialized properly you should see your tenant id.\\nTenant Id: %s \" % tenantId)",
      "execution_count": null,
      "outputs": []
    },
    {
      "metadata": {},
      "cell_type": "markdown",
      "source": "# Getting Started\nAll the API Wrapper code is below. Activate it by clicking in the cell and hitting Shift+Enter"
    },
    {
      "metadata": {
        "trusted": true
      },
      "cell_type": "code",
      "source": "# -------------------------------------------------------------------------\n# Copyright (c) Microsoft Corporation. All rights reserved.\n# Licensed under the MIT License. \n# --------------------------------------------------------------------------\n\n## https://aka.ms/graphsecuritydocs\n\nimport json\nimport urllib.request\nimport urllib.parse\nimport pandas as pd\nimport re\nfrom IPython.core.magic import (register_line_magic, register_cell_magic,\n                                register_line_cell_magic)\n\nSPLIT_DELIMS = '[\\[\\] ;\\n\\t|,xX\"\\']'\n@register_line_cell_magic\ndef hash(line, cell=None):\n    if cell is None:\n        return line\n    else:    \n        results = []\n        for f in re.split(SPLIT_DELIMS,cell):\n            p = re.compile('^[a-f0-9]{32}$'\n                           '|^[a-f0-9]{40}$'\n                           '|^[a-f0-9]{64}$'\n                           ,re.IGNORECASE)\n            if p.search(f) is not None:\n                if not f in results:\n                    results.append(f)\n        \n        return results           \n\n# We delete these to avoid name conflicts for automagic to work\ndel hash \n\n@register_line_cell_magic\ndef vthash(line, cell=None):\n    if cell is None:\n        return MsftGraphSec_api.vtresults([line])\n    else:    \n        results = []\n        for f in re.split(SPLIT_DELIMS,cell):\n            p = re.compile('^[a-f0-9]{32}$'\n                           '|^[a-f0-9]{40}$'\n                           '|^[a-f0-9]{64}$'\n                           ,re.IGNORECASE)\n            if p.search(f) is not None:\n                if not f in results:\n                    results.append(f)\n        \n        if len(results) == 0:\n            return\n        return MsftGraphSec_api.vtresults(results)\n           \n\n# We delete these to avoid name conflicts for automagic to work\ndel vthash \n\n@register_line_cell_magic\ndef graph_sec_file(line, cell=None):\n    if cell is None:\n        return MsftGraphSec_api.alerts(filehash=line)\n    else:    \n        results = []\n        for f in re.split(SPLIT_DELIMS,cell):\n            p = re.compile('^[a-f0-9]{32}$'\n                           '|^[a-f0-9]{40}$'\n                           '|^[a-f0-9]{64}$'\n                           ,re.IGNORECASE)\n            if p.search(f) is not None:\n                if not f in results:\n                    results.append(f)\n        \n        if len(results) == 0:\n            return\n        dfs = []\n        for filehash in results:\n            dfs.append(MsftGraphSec_api.alerts(filehash=filehash))\n        import pandas as pd\n        return pd.concat(dfs)\n            \n# Delete these to avoid name conflicts for automagic to work\ndel graph_sec_file\n\n@register_line_cell_magic\ndef graph_sec_machine(line, cell=None):\n    if cell is None:\n        if re.match('^[a-f0-9]{40}$', line):\n            return MsftGraphSec_api.machines(machineid=line)\n        else:\n            return MsftGraphSec_api.machines(filterstr=\"$filter=ComputerDnsName eq '%s'\" % line)\n    else:    \n        results = []\n        for f in re.split(SPLIT_DELIMS,cell):\n            p = re.compile('^[a-f0-9]{40}$',re.IGNORECASE)\n            if p.search(f) is not None:\n                if not f in results:\n                    results.append(f)\n        \n        dfs = []\n\n        # if we did not get any machine Ids, treat them as ComputerDnsNames\n        if len(results) == 0:\n            results = cell.split('\\n')\n            for hostname in results:\n                dfs.append(MsftGraphSec_api.machines(filterstr=\"$filter=ComputerDnsName eq '%s'\" % hostname))\n        else:\n            for machine_id in results:\n                dfs.append(MsftGraphSec_api.machines(machineid=machine_id))\n        import pandas as pd\n        return pd.concat(dfs)\n            \n# Delete these to avoid name conflicts for automagic to work\ndel graph_sec_machine \n\n@register_line_cell_magic\ndef graph_sec_alert(line, cell=None):\n    if cell is None:\n        return MsftGraphSec_api.alerts(alertid=line)\n    else:    \n        results = []\n        for f in re.split(SPLIT_DELIMS,cell):\n            p = re.compile('^[{(]?[0-9A-F]{8}[-]?(?:[0-9A-F]{4}[-]?){3}[0-9A-F]{12}[)}]?$',re.IGNORECASE)\n            if p.search(f) is not None:\n                if not f in results:\n                    results.append(f)\n        if len(results) == 0:\n            return\n        dfs = []\n        for alert_id in results:\n            dfs.append(MsftGraphSec_api.alerts(alertid=alert_id))\n        import pandas as pd\n        return pd.concat(dfs)\n\n# Delete these to avoid name conflicts for automagic to work\ndel graph_sec_alert \n\n@register_line_cell_magic\ndef graph_sec_ip(line, cell=None):\n    if cell is None:\n        return MsftGraphSec_api.ips(ip=line)\n    else:    \n        results = []\n        for f in re.split(SPLIT_DELIMS,cell):\n            p = re.compile('^\\d{1,3}\\.\\d{1,3}\\.\\d{1,3}\\.\\d{1,3}$')\n            if p.search(f) is not None:\n                if not f in results:\n                    results.append(f)\n        if len(results) == 0:\n            return\n        dfs = []\n        for ip in results:\n            dfs.append(MsftGraphSec_api.ips(ip=ip))\n        import pandas as pd\n        return pd.concat(dfs)\n            \n# Delete these to avoid name conflicts for automagic to work\ndel graph_sec_ip \n        \n@register_line_cell_magic\ndef graph_sec_action(line, cell=None):\n    if cell is None:\n        return MsftGraphSec_api.ips(ip=line)\n    else:    \n        results = []\n        for f in re.split(SPLIT_DELIMS,cell):\n            p = re.compile('^[a-f0-9]{8}'\n                       '-[a-f0-9]{4}'\n                       '-[a-f0-9]{4}'\n                       '-[a-f0-9]{4}'\n                       '-[a-f0-9]{12}$'\n                       ,re.IGNORECASE)\n            if p.search(f) is not None:\n                if not f in results:\n                    results.append(f)\n        if len(results) == 0:\n            return\n        dfs = []\n        for action in results:\n            dfs.append(MsftGraphSec_api.machine_actions(actionid = action))\n        import pandas as pd\n        return pd.concat(dfs)\n            \n# Delete these to avoid name conflicts for automagic to work\ndel graph_sec_action\n\n    \nclass MicrosoftGraphSecurityAPI:\n    def __init__(self, tenantId, appId, appSecret, vt_api_key=None, fUsePandas=True, \n                 api_root=\"https://graph.microsoft.com/\", api_version=\"v1.0\"):\n        url = \"https://login.microsoftonline.com/%s/oauth2/v2.0/token\" % (tenantId)\n\n        self.fDebug = False\n\n        body = {\n            'client_id' : appId,\n            'client_secret' : appSecret,\n            'grant_type' : 'client_credentials',\n            'scope': 'https://graph.microsoft.com/.default'\n        }\n\n        ## authenticate and obtain AAD Token for future calls\n        data = urllib.parse.urlencode(body).encode(\"utf-8\")\n        req = urllib.request.Request(url, data)\n        response = urllib.request.urlopen(req)\n        jsonResponse = json.loads(response.read().decode())\n        self.aadToken = jsonResponse[\"access_token\"]\n        self.headers = { \n            'Content-Type' : 'application/json',\n            'Accept' : 'application/json',\n            'Authorization' : \"Bearer \" + self.aadToken\n        }\n        self.fUsePandas = fUsePandas # use pandas DataFrame for collections of objects, else return a list\n        self.api_root = api_root + api_version \n        self.vt_api_key = vt_api_key\n        if len(self.aadToken) > 0:\n            print(\"Connected.\")\n    \n    def set_output_type(self, fUsePandas=True):\n        self.fUsePandas = fUsePandas    \n\n    def set_debug_output(self, fDebug=True):\n        self.fDebug = fDebug    \n        \n    def __validate_arguments(self,args, valid_params):\n        if len(args) == 0:\n            raise ValueError ('argument must be one of %s' % str(list(valid_params.keys())))\n        elif len(args) > 1:\n            raise ValueError ('only one id can be used at a time')\n        else:\n            selector = next(iter(args))\n            selector_value= next(iter(args.values()))\n            if selector not in list(valid_params.keys()):\n                raise ValueError ('argument must be one of %s' % str(list(valid_params.keys())))\n        return (selector, selector_value)\n\n    def __make_request(self,url, params=None):\n \n        if self.fDebug:\n            print(url)\n        req = urllib.request.Request(url, headers=self.headers)\n        try:\n            response = urllib.request.urlopen(req)\n        except urllib.error.HTTPError as e:\n            print(e.code)\n            if e.code == 404:\n                response = e\n            else:\n                raise e\n                \n        jsonResponse = json.loads(response.read().decode())\n        if type(jsonResponse) == int:\n            if self.fUsePandas:\n                return pd.DataFrame([jsonResponse])\n            else:\n                return jsonResponse\n        if 'value' in jsonResponse:\n            res = jsonResponse[\"value\"]\n            if len(res) == 0:\n                res = {}\n        else:\n            res = jsonResponse     \n        if self.fUsePandas:\n            return pd.io.json.json_normalize(res)\n        return res\n\n    def __prepare_param_dict_from_filter_str(self, filterstr):\n        get_params = {}\n        for filter_param in re.split(\"[\\?\\&]+\", filterstr):\n            if len(filter_param)> 0:\n                attr = filter_param.split('=')[0]\n                val  = filter_param.split('=')[1]\n                get_params[attr]= val\n        return get_params\n    \n    def __get_json_alert(self, alertid=None):\n        _pandas = self.fUsePandas\n        self.fUsePandas = False\n        alert_as_json = self.alerts(alertid=alertid)\n        self.fUsePandas = _pandas\n        return alert_as_json\n    \n    def alerts(self, **kwargs):\n        alert_url = self.api_root + \"/security/alerts\"\n        get_params = None\n        \n        valid_params = {\n            'filterstr' : alert_url + '?%s',\n            'alertid'   : alert_url + '/%s',\n            'userid'    : alert_url + \"?$filter=userStates/any(d:d/userPrincipalName eq '%s')\",\n            'ip'        : alert_url + \"?$filter=hostStates/any(d:d/privateIpAddress eq '%s')\",\n            'hostfqdn'  : alert_url + \"?$filter=hostStates/any(d:d/fqdn eq '%s')\", \n            'filehash'  : alert_url + \"?$filter=fileStates/any(d:d/fileHash/hashValue eq '%s')\",\n            'filename'  : alert_url + \"?$filter=fileStates/any(d:d/name eq '%s')\", \n            'domain'    : alert_url + \"?$filter=networkConnections/any(d:d/destinationDomain eq '%s')\" \n        }\n        (selector, selector_value) = self.__validate_arguments(kwargs, valid_params)\n        \n        if selector == 'filterstr':\n            get_params = self.__prepare_param_dict_from_filter_str(selector_value)\n            if get_params is not None:\n                url = valid_params[selector] % urllib.parse.urlencode(get_params)\n        else:\n            url = valid_params[selector] % selector_value\n            url = urllib.parse.quote( url , safe=\"%/:=&?~#+!$,;'@()*[]\") # Url encode spaces \n\n        return self.__make_request(url)\n    \n    def update_alert(self, alertid=None, alertbody=None):\n        import requests \n\n        alert_url = self.api_root + \"/security/alerts\"\n        \n        valid_params = {\n            'alertid'   : alert_url + '/%s'\n        }\n        (selector, selector_value) = self.__validate_arguments({\"alertid\": alertid}, valid_params)\n        \n        if alertbody == None:\n            raise ValueError ('Request body cannot be empty')\n            \n        headers = self.headers\n        headers['Prefer'] = \"return=representation\"\n        \n        _old_alert = self.__get_json_alert(alertid=alertid) \n        \n        alertbody[\"vendorInformation\"] = _old_alert[\"vendorInformation\"] # vendorInformation is required to PATCH an alert\n        \n        url = valid_params[selector] % selector_value\n        json_body = json.dumps(alertbody)\n        response = requests.patch(url, json_body, headers=headers)\n\n        jsonResponse = response.json()\n\n        if self.fUsePandas:\n            return pd.io.json.json_normalize(jsonResponse)\n        return jsonResponse\n\n\n       \n    def users(self, **kwargs):\n        user_url = self.api_root + \"/users\"\n        \n        valid_params = {\n            'userid'    : user_url + '/%s'\n        }\n        \n        (selector, selector_value) = self.__validate_arguments(kwargs, valid_params)\n        \n        url = valid_params[selector] % selector_value\n\n        return self.__make_request(url)\n     \n   \n    def vtresults(self, hashlist):\n        import requests \n\n        url = \"https://www.virustotal.com/vtapi/v2/file/report\"\n\n        headers = {'User-Agent':'VirusTotal',\n                    'Content-Type':'application/json'}\n        if type(hashlist) == str:\n            hashlist = [hashlist]\n        \n        data = {\"resource\": ','.join(hashlist),\n                \"apikey\": self.vt_api_key}\n\n        response = requests.get(url, data, headers=headers)\n\n        jsonResponse = response.json()\n\n        if self.fUsePandas:\n            return pd.io.json.json_normalize(jsonResponse)\n        return r.json()\n    \nprint(\"Sample Microsoft Graph Security API code loaded\")",
      "execution_count": null,
      "outputs": []
    },
    {
      "metadata": {
        "trusted": true
      },
      "cell_type": "code",
      "source": "# hit Shift-Enter in this cell\n\n# NOTE: endpoint authorization will periodically time out and you will need to re-run this command to re-authenticate\n# if you're able to call the API (client app registered properly), and you get an exception \n# with a HTTP error 401 Unauthorized, re-run this command to re-initiate the endpoint\n\nMsftGraphSec_api = MicrosoftGraphSecurityAPI(tenantId, appId, appSecret, vt_api_key)\nMsftGraphSec_api.set_debug_output()",
      "execution_count": null,
      "outputs": []
    },
    {
      "metadata": {},
      "cell_type": "markdown",
      "source": "# Get Alerts\n\nLet's query the most recent 5 alerts using the OData TOP keyword. The `$top=5` query will return 5 of the most recent alerts from *each* [Microsoft Graph Security alert provider](https://aka.ms/graphsecurityalerts). "
    },
    {
      "metadata": {
        "trusted": true
      },
      "cell_type": "code",
      "source": "MsftGraphSec_api.alerts(filterstr = \"$top=5\")",
      "execution_count": null,
      "outputs": []
    },
    {
      "metadata": {},
      "cell_type": "markdown",
      "source": "# Security Management and Monitoring Scenarios\n## List high severity alerts \nYou can [query alerts](https://docs.microsoft.com/en-us/graph/api/alert-list?view=graph-rest-1.0) with OData queries. OData provides a simple standardized syntax for selecting properties and filtering data\n\nA summary of the OData filters can be found [here](https://docs.microsoft.com/graph/query-parameters) <https://docs.microsoft.com/graph/query-parameters>"
    },
    {
      "metadata": {
        "trusted": true
      },
      "cell_type": "code",
      "source": "# get the top high-sev 5 alerts and select a few columns \nMsftGraphSec_api.alerts(filterstr = \"$select=createdDateTime,category,title,description,id,severity,assignedTo&$filter=Severity eq 'High'&$top=5\")",
      "execution_count": null,
      "outputs": []
    },
    {
      "metadata": {},
      "cell_type": "markdown",
      "source": "## Analyzing Security Data   \n\nThe results are returned as a Pandas DataFrame--a handy data structure for processing rowset oriented results. If you don't want the results in a DataFrame and instead just in a list, you can set `fUsePandas=False` when you create the MicrosoftGraphSecurityAPI class.\n\nSee the [Pandas project page](https://pandas.pydata.org/pandas-docs/stable/index.html) for more information on DataFrames."
    },
    {
      "metadata": {
        "trusted": true
      },
      "cell_type": "code",
      "source": "# let's assign the API results to a variable so we can process them without making an API call each time\ndf = MsftGraphSec_api.alerts(filterstr = \"$top=25&$filter=Severity eq 'High'\")\nprint(\"number of rows returned = %d\" % len(df))",
      "execution_count": null,
      "outputs": []
    },
    {
      "metadata": {
        "trusted": true
      },
      "cell_type": "code",
      "source": "# show all the columns in the alert entity\ndf.columns",
      "execution_count": null,
      "outputs": []
    },
    {
      "metadata": {
        "trusted": true
      },
      "cell_type": "code",
      "source": "# Let's select just the columns we want to view. This uses the Pandas syntax for selecting columns\n\ndf[['createdDateTime','category','description','id','severity']].head(5)",
      "execution_count": null,
      "outputs": []
    },
    {
      "metadata": {
        "trusted": true
      },
      "cell_type": "code",
      "source": "# let's group them by title and count their frequency\ndf1 = df[['id','title']].groupby('title').count().rename(index=str, columns={\"id\":\"Alert Count\"})\ndf1 = df1.sort_values(['Alert Count'], ascending=False)\ndf1",
      "execution_count": null,
      "outputs": []
    },
    {
      "metadata": {
        "trusted": true
      },
      "cell_type": "code",
      "source": "# show a quick pie chart using matplotlib\n%matplotlib inline\nplt = df1.plot.pie(y=0, figsize=(5, 5), legend=False, autopct='%1.0f%%')",
      "execution_count": null,
      "outputs": []
    },
    {
      "metadata": {},
      "cell_type": "markdown",
      "source": "# Security Investigation Scenarios\n## Querying alerts by UPN (User Principal Name)"
    },
    {
      "metadata": {
        "trusted": true
      },
      "cell_type": "code",
      "source": "MsftGraphSec_api.alerts( userid = '<<Enter user principal name>>')",
      "execution_count": null,
      "outputs": []
    },
    {
      "metadata": {},
      "cell_type": "markdown",
      "source": "## Querying alerts by machine FQDNs (Fully Qualified Domain Name)\nYou can query alerts by machine fqdn, user id, ip, alert id, file sha1, domain, OData query, and more"
    },
    {
      "metadata": {
        "trusted": true
      },
      "cell_type": "code",
      "source": "MsftGraphSec_api.alerts( hostfqdn = '<<Enter host fqdn>>')",
      "execution_count": null,
      "outputs": []
    },
    {
      "metadata": {
        "trusted": true
      },
      "cell_type": "code",
      "source": "# query machines associated with an alert\nMsftGraphSec_api.alerts( alertid = '<<Enter alert ID>>')[['id', 'hostStates']]    #[['id', 'osBuild','osPlatform']]",
      "execution_count": null,
      "outputs": []
    },
    {
      "metadata": {
        "trusted": true
      },
      "cell_type": "code",
      "source": "# query alerts by machine name\nMsftGraphSec_api.alerts( filterstr = \"$filter=hostStates/any(d:d/netBiosName eq '<<Enter host name>>')\")",
      "execution_count": null,
      "outputs": []
    },
    {
      "metadata": {},
      "cell_type": "markdown",
      "source": "# Using different Data accesses\n\n## Data access using Jupyter Magics\n\nLines starting with % signify a Jupyter magic. A \"line magic\" take the text after the command and does something with it. This notebook defines several magics to make it easier to access the data you need.\n\n### Use magic on alert (entity)\n\n`%graph_sec_alert` takes an alert id and calls the API to get details about it"
    },
    {
      "metadata": {
        "trusted": true,
        "scrolled": true
      },
      "cell_type": "code",
      "source": "%graph_sec_alert <<Enter alert ID>>",
      "execution_count": null,
      "outputs": []
    },
    {
      "metadata": {},
      "cell_type": "markdown",
      "source": "#### Querying multiple alerts and regex\nYou can also provide a list of alert ids and invoke the cell magic with `%%graph_sec_alert`\n\nBecause alert ids have a standard syntax, the alert magic also can take arbitrary text and it will extract alert ids\nby using a regex.  This is handy if you want to quickly copy-paste some text from an email or chat window that has\nalert ids intermixed with conversation."
    },
    {
      "metadata": {
        "trusted": true
      },
      "cell_type": "code",
      "source": "%%graph_sec_alert\nHi, be sure to investigate these 3 alerts and verify your results.\nD3EC9E2C-29A2-4DD3-9E1E-068C9B022938\n41CB1B5D-F295-40B3-8B18-DFC4AA85531E\nAD5D3084-CB9A-45D5-9AA0-81EF680C20D4\nPlease update the ticket when completed,\nThanks! ",
      "execution_count": null,
      "outputs": []
    },
    {
      "metadata": {},
      "cell_type": "markdown",
      "source": "### Use Magic for properties like files\nYou can look up Microsoft Graph Security alert data on files with the `%%graph_sec_file` magic by passing the file hash value"
    },
    {
      "metadata": {
        "trusted": true,
        "scrolled": true
      },
      "cell_type": "code",
      "source": "%%graph_sec_file \n<<Enter file hash value>>\n",
      "execution_count": null,
      "outputs": []
    }
  ],
  "metadata": {
    "kernelspec": {
      "name": "python36",
      "display_name": "Python 3.6",
      "language": "python"
    },
    "language_info": {
      "mimetype": "text/x-python",
      "nbconvert_exporter": "python",
      "name": "python",
      "pygments_lexer": "ipython3",
      "version": "3.6.6",
      "file_extension": ".py",
      "codemirror_mode": {
        "version": 3,
        "name": "ipython"
      }
    }
  },
  "nbformat": 4,
  "nbformat_minor": 2
}