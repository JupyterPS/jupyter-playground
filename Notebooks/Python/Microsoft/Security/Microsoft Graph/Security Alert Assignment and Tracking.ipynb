{
 "cells": [
  {
   "cell_type": "markdown",
   "metadata": {},
   "source": [
    "# Introduction\n",
    "This notebook shows how to use the [Microsoft Graph Security API](https://aka.ms/graphsecuritydocs). It defines a Python wrapper for calling the API  to make it easy to access [Microsoft Graph Security alerts](https://aka.ms/graphsecurityalerts). While the APIs are documented and supported,\n",
    "the wrapper in this notebook is a sample and is not an official programming interface.\n",
    "\n",
    "Author: [Microsoft Graph Security Team](graphsecfeedback@microsoft.com) (Inspired by [@JohnLaTwC](https://twitter.com/JohnLaTwC))\n",
    "\n",
    "## Links to Microsoft Graph Security API documentation and other samples\n",
    "\n",
    "[Overview of Microsoft Graph Security](https://aka.ms/graphsecuritydocs)\n",
    "\n",
    "[What are alerts?](https://aka.ms/graphsecurityalerts)\n",
    "\n",
    "[Alert Schema - list of properties and descriptions](https://docs.microsoft.com/en-us/graph/api/resources/alert?view=graph-rest-1.0) \n",
    "\n",
    "[Authorization - Application-only and User-Delegated](https://docs.microsoft.com/graph/security-authorization?view=graph-rest-1.0)\n",
    "\n",
    "[More Samples](https://aka.ms/graphsecurityapicode)\n",
    "\n",
    "[OData query examples](https://docs.microsoft.com/graph/query-parameters)"
   ]
  },
  {
   "cell_type": "markdown",
   "metadata": {},
   "source": [
    "# Authentication - Initialize secrets\n",
    "\n",
    "Download this notebook and follow the steps below to get the application ID and secret that you can use to authenticate and get data from your Azure Active Directory (Azure AD) tenant using this notebook. \n",
    "1.\t[Register your application](https://docs.microsoft.com/en-us/graph/auth-v2-service#1-register-your-app) for this notebook in Azure AD in application only mode. \n",
    "2.\t[Configure permissions](https://docs.microsoft.com/en-us/graph/auth-v2-service#2-configure-permissions-for-microsoft-graph) and be sure to add the `SecurityEvents.ReadWrite.All` permission to your application.\n",
    "3. Get your Azure AD tenant administrator to [grant tenant administration consent](https://docs.microsoft.com/en-us/graph/auth-v2-service#3-get-administrator-consent) to your application. This is a one-time activity unless permissions change for the application. \n",
    "\n",
    "When your app is registered to call the Microsoft Graph Security API you need to pass the application ID and application secret from the above mentioned steps in to this sample. \n",
    "\n",
    "Use either plain text input to enter your secret in the `get_secret` function or get it from your environment variable in the `get_secret` function below the first one. Use only one of these functions to get secret. "
   ]
  },
  {
   "cell_type": "code",
   "execution_count": null,
   "metadata": {},
   "outputs": [],
   "source": [
    "def get_secret(secret_name):\n",
    "    return {'GRAPHSEC_DEMO_appId':'<<Enter your registered application ID>>',\n",
    "            'GRAPHSEC_DEMO_appSecret':'<<Enter you application secret>>',\n",
    "            'GRAPHSEC_DEMO_tenantId':'<<Enter your tenant ID>>'}[secret_name]"
   ]
  },
  {
   "cell_type": "code",
   "execution_count": null,
   "metadata": {},
   "outputs": [],
   "source": [
    "## e.g. custom way to access secrets\n",
    "def get_secret(secret_name):\n",
    "    import os\n",
    "    return os.environ.get(secret_name)"
   ]
  },
  {
   "cell_type": "code",
   "execution_count": null,
   "metadata": {},
   "outputs": [],
   "source": [
    "appId = get_secret('GRAPHSEC_DEMO_appId')\n",
    "appSecret = get_secret('GRAPHSEC_DEMO_appSecret') \n",
    "tenantId = get_secret('GRAPHSEC_DEMO_tenantId')\n",
    "print(\"If your secrets were initialized properly you should see your tenant id.\\nTenant Id: %s \" % tenantId)"
   ]
  },
  {
   "cell_type": "markdown",
   "metadata": {},
   "source": [
    "# Getting Started\n",
    "All the API Wrapper code is below. Activate it by clicking in the cell and hitting Shift+Enter"
   ]
  },
  {
   "cell_type": "code",
   "execution_count": null,
   "metadata": {},
   "outputs": [],
   "source": [
    "# -------------------------------------------------------------------------\n",
    "# Copyright (c) Microsoft Corporation. All rights reserved.\n",
    "# Licensed under the MIT License. \n",
    "# --------------------------------------------------------------------------\n",
    "\n",
    "## https://aka.ms/graphsecuritydocs\n",
    "\n",
    "import json\n",
    "import urllib.request\n",
    "import urllib.parse\n",
    "import pandas as pd\n",
    "import re\n",
    "\n",
    "    \n",
    "class MicrosoftGraphSecurityAPI:\n",
    "    def __init__(self, tenantId, appId, appSecret, fUsePandas=True, \n",
    "                 api_root=\"https://graph.microsoft.com/\", api_version=\"v1.0\"):\n",
    "        url = \"https://login.microsoftonline.com/%s/oauth2/v2.0/token\" % (tenantId)\n",
    "\n",
    "        self.fDebug = False\n",
    "\n",
    "        body = {\n",
    "            'client_id' : appId,\n",
    "            'client_secret' : appSecret,\n",
    "            'grant_type' : 'client_credentials',\n",
    "            'scope': 'https://graph.microsoft.com/.default'\n",
    "        }\n",
    "\n",
    "        ## authenticate and obtain AAD Token for future calls\n",
    "        data = urllib.parse.urlencode(body).encode(\"utf-8\")\n",
    "        req = urllib.request.Request(url, data)\n",
    "        response = urllib.request.urlopen(req)\n",
    "        jsonResponse = json.loads(response.read().decode())\n",
    "        self.aadToken = jsonResponse[\"access_token\"]\n",
    "        self.headers = { \n",
    "            'Content-Type' : 'application/json',\n",
    "            'Accept' : 'application/json',\n",
    "            'Authorization' : \"Bearer \" + self.aadToken\n",
    "        }\n",
    "        self.fUsePandas = fUsePandas # use pandas DataFrame for collections of objects, else return a list\n",
    "        self.api_root = api_root + api_version \n",
    "        if len(self.aadToken) > 0:\n",
    "            print(\"Connected.\")\n",
    "    \n",
    "    def set_output_type(self, fUsePandas=True):\n",
    "        self.fUsePandas = fUsePandas    \n",
    "\n",
    "    def set_debug_output(self, fDebug=True):\n",
    "        self.fDebug = fDebug    \n",
    "        \n",
    "    def __validate_arguments(self,args, valid_params):\n",
    "        if len(args) == 0:\n",
    "            raise ValueError ('argument must be one of %s' % str(list(valid_params.keys())))\n",
    "        elif len(args) > 1:\n",
    "            raise ValueError ('only one id can be used at a time')\n",
    "        else:\n",
    "            selector = next(iter(args))\n",
    "            selector_value= next(iter(args.values()))\n",
    "            if selector not in list(valid_params.keys()):\n",
    "                raise ValueError ('argument must be one of %s' % str(list(valid_params.keys())))\n",
    "        return (selector, selector_value)\n",
    "\n",
    "    def __make_request(self,url, params=None):\n",
    " \n",
    "        if self.fDebug:\n",
    "            print(url)\n",
    "        req = urllib.request.Request(url, headers=self.headers)\n",
    "        try:\n",
    "            response = urllib.request.urlopen(req)\n",
    "        except urllib.error.HTTPError as e:\n",
    "            raise e\n",
    "                \n",
    "        jsonResponse = json.loads(response.read().decode())\n",
    "        if type(jsonResponse) == int:\n",
    "            if self.fUsePandas:\n",
    "                return pd.DataFrame([jsonResponse])\n",
    "            else:\n",
    "                return jsonResponse\n",
    "        if 'value' in jsonResponse:\n",
    "            res = jsonResponse[\"value\"]\n",
    "            if len(res) == 0:\n",
    "                res = {}\n",
    "        else:\n",
    "            res = jsonResponse     \n",
    "        if self.fUsePandas:\n",
    "            return pd.io.json.json_normalize(res)\n",
    "        return res\n",
    "\n",
    "    def __prepare_param_dict_from_filter_str(self, filterstr):\n",
    "        get_params = {}\n",
    "        for filter_param in re.split(\"[\\?\\&]+\", filterstr):\n",
    "            if len(filter_param)> 0:\n",
    "                attr = filter_param.split('=')[0]\n",
    "                val  = filter_param.split('=')[1]\n",
    "                get_params[attr]= val\n",
    "        return get_params\n",
    "    \n",
    "    def __get_json_alert(self, alertid=None):\n",
    "        _pandas = self.fUsePandas\n",
    "        self.fUsePandas = False\n",
    "        alert_as_json = self.alerts(alertid=alertid)\n",
    "        self.fUsePandas = _pandas\n",
    "        return alert_as_json\n",
    "    \n",
    "    def alerts(self, **kwargs):\n",
    "        alert_url = self.api_root + \"/security/alerts\"\n",
    "        get_params = None\n",
    "        \n",
    "        valid_params = {\n",
    "            'filterstr' : alert_url + '?%s',\n",
    "            'alertid'   : alert_url + '/%s',\n",
    "            'userid'    : alert_url + \"?$filter=userStates/any(d:d/userPrincipalName eq '%s')\",\n",
    "            'ip'        : alert_url + \"?$filter=hostStates/any(d:d/privateIpAddress eq '%s')\",\n",
    "            'hostfqdn'  : alert_url + \"?$filter=hostStates/any(d:d/fqdn eq '%s')\", \n",
    "            'filehash'  : alert_url + \"?$filter=fileStates/any(d:d/fileHash/hashValue eq '%s')\",\n",
    "            'filename'  : alert_url + \"?$filter=fileStates/any(d:d/name eq '%s')\", \n",
    "            'domain'    : alert_url + \"?$filter=networkConnections/any(d:d/destinationDomain eq '%s')\" \n",
    "        }\n",
    "        (selector, selector_value) = self.__validate_arguments(kwargs, valid_params)\n",
    "        \n",
    "        if selector == 'filterstr':\n",
    "            get_params = self.__prepare_param_dict_from_filter_str(selector_value)\n",
    "            if get_params is not None:\n",
    "                url = valid_params[selector] % urllib.parse.urlencode(get_params)\n",
    "        else:\n",
    "            url = valid_params[selector] % selector_value\n",
    "            url = urllib.parse.quote( url , safe=\"%/:=&?~#+!$,;'@()*[]\") # Url encode spaces \n",
    "\n",
    "        return self.__make_request(url)\n",
    "    \n",
    "    def update_alert(self, alertid=None, alertbody=None):\n",
    "        import requests \n",
    "\n",
    "        alert_url = self.api_root + \"/security/alerts\"\n",
    "        \n",
    "        valid_params = {\n",
    "            'alertid'   : alert_url + '/%s'\n",
    "        }\n",
    "        (selector, selector_value) = self.__validate_arguments({\"alertid\": alertid}, valid_params)\n",
    "        \n",
    "        if alertbody == None:\n",
    "            raise ValueError ('Request body cannot be empty')\n",
    "            \n",
    "        headers = self.headers\n",
    "        headers['Prefer'] = \"return=representation\"\n",
    "        \n",
    "        _old_alert = self.__get_json_alert(alertid=alertid) \n",
    "        \n",
    "        alertbody[\"vendorInformation\"] = _old_alert[\"vendorInformation\"] # vendorInformation is required to PATCH an alert\n",
    "        \n",
    "        url = valid_params[selector] % selector_value\n",
    "        json_body = json.dumps(alertbody)\n",
    "        response = requests.patch(url, json_body, headers=headers)\n",
    "\n",
    "        jsonResponse = response.json()\n",
    "\n",
    "        if self.fUsePandas:\n",
    "            return pd.io.json.json_normalize(jsonResponse)\n",
    "        return jsonResponse\n",
    "\n",
    "    \n",
    "print(\"Sample Microsoft Graph Security API code loaded\")"
   ]
  },
  {
   "cell_type": "code",
   "execution_count": null,
   "metadata": {},
   "outputs": [],
   "source": [
    "# hit Shift-Enter in this cell\n",
    "\n",
    "# NOTE: endpoint authorization will periodically time out and you will need to re-run this command to re-authenticate\n",
    "# if you're able to call the API (client app registered properly), and you get an exception \n",
    "# with a HTTP error 401 Unauthorized, re-run this command to re-initiate the endpoint\n",
    "\n",
    "MsftGraphSec_api = MicrosoftGraphSecurityAPI(tenantId, appId, appSecret)\n",
    "MsftGraphSec_api.set_debug_output()"
   ]
  },
  {
   "cell_type": "markdown",
   "metadata": {},
   "source": [
    "# Testing Get Alerts\n",
    "\n",
    "Let's query the most recent alerts using the OData TOP keyword. The `$top=1` query will return 1 of the most recent alerts from *each* [Microsoft Graph Security alert provider](https://aka.ms/graphsecurityalerts). "
   ]
  },
  {
   "cell_type": "code",
   "execution_count": null,
   "metadata": {},
   "outputs": [],
   "source": [
    "MsftGraphSec_api.alerts(filterstr = \"$top=1\")[[\"id\", \"assignedTo\", \"title\", \"description\", \"comments\", \"severity\", \"vendorInformation.provider\", \"vendorInformation.vendor\" ]]"
   ]
  },
  {
   "cell_type": "markdown",
   "metadata": {},
   "source": [
    "## Update alerts\n",
    "We can assigned someone to one of the alerts from the previous query by updating the `assignedTo` property of the alert. **Note:** vendorInformation is required. <br>\n",
    "https://docs.microsoft.com/graph/api/alert-update"
   ]
  },
  {
   "cell_type": "code",
   "execution_count": null,
   "metadata": {},
   "outputs": [],
   "source": [
    "new_assigned_to = \"<< email you like to assign >>\"\n",
    "\n",
    "new_data = {\"assignedTo\": new_assigned_to}\n",
    "\n",
    "MsftGraphSec_api.update_alert('<< Id of the alert to update >>', new_data)"
   ]
  },
  {
   "cell_type": "markdown",
   "metadata": {},
   "source": [
    "## Get alerts by assignedTo\n",
    "\n",
    "You can [query alerts](https://docs.microsoft.com/en-us/graph/api/alert-list?view=graph-rest-1.0) with OData queries. OData provides a simple standardized syntax for selecting properties and filtering data\n",
    "\n",
    "A summary of the OData filters can be found [here](https://docs.microsoft.com/graph/query-parameters) <https://docs.microsoft.com/graph/query-parameters>"
   ]
  },
  {
   "cell_type": "code",
   "execution_count": null,
   "metadata": {},
   "outputs": [],
   "source": [
    "MsftGraphSec_api.alerts(filterstr = \"$filter=assignedTo eq '{0}'\".format(new_assigned_to))"
   ]
  },
  {
   "cell_type": "markdown",
   "metadata": {},
   "source": [
    "# Query alerts by status\n",
    "## Get active alerts\n",
    "This query filters all alerts where the status is not equal(ne) to resolved. "
   ]
  },
  {
   "cell_type": "code",
   "execution_count": null,
   "metadata": {},
   "outputs": [],
   "source": [
    "MsftGraphSec_api.alerts(filterstr = \"$filter=status ne 'resolved'\")"
   ]
  },
  {
   "cell_type": "markdown",
   "metadata": {},
   "source": [
    "## Get resolved alerts\n",
    "This query filters all alerts where the status is equal(eq) to resolved. "
   ]
  },
  {
   "cell_type": "code",
   "execution_count": null,
   "metadata": {},
   "outputs": [],
   "source": [
    "MsftGraphSec_api.alerts(filterstr = \"$filter=status eq 'resolved'\")\n"
   ]
  }
 ],
 "metadata": {
  "kernelspec": {
   "display_name": "Python 3",
   "language": "python",
   "name": "python3"
  },
  "language_info": {
   "codemirror_mode": {
    "name": "ipython",
    "version": 3
   },
   "file_extension": ".py",
   "mimetype": "text/x-python",
   "name": "python",
   "nbconvert_exporter": "python",
   "pygments_lexer": "ipython3",
   "version": "3.8.6"
  }
 },
 "nbformat": 4,
 "nbformat_minor": 4
}
