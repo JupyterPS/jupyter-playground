{
  "cells": [
    {
      "metadata": {},
      "cell_type": "markdown",
      "source": "# Introduction\nThis notebook shows how to use the [Microsoft Graph Security API](https://aka.ms/graphsecuritydocs). It defines a Python wrapper for calling the API to make it easy to access [Microsoft Graph Security alerts](https://aka.ms/graphsecurityalerts). While the APIs are documented and supported,\nthe wrapper in this notebook is a sample and is not an official programming interface.\n\nAuthor: [Microsoft Graph Security Team](graphsecfeedback@microsoft.com) (Inspired by [@JohnLaTwC](https://twitter.com/JohnLaTwC))\n\n## Links to Microsoft Graph Security API documentation and other samples\n\n[Overview of Microsoft Graph Security](https://aka.ms/graphsecuritydocs)\n\n[What are alerts?](https://aka.ms/graphsecurityalerts)\n\n[Alert Schema - list of properties and descriptions](https://docs.microsoft.com/en-us/graph/api/resources/alert?view=graph-rest-1.0) \n\n[Authorization - Application-only and User-Delegated](https://docs.microsoft.com/graph/security-authorization?view=graph-rest-1.0)\n\n[More Samples](https://aka.ms/graphsecurityapicode)\n\n[OData query examples](https://docs.microsoft.com/graph/query-parameters)"
    },
    {
      "metadata": {},
      "cell_type": "markdown",
      "source": "# Authentication - Initialize secrets\n\nDownload this notebook and follow the steps below to get the application ID and secret that you can use to authenticate and get data from your Azure Active Directory (Azure AD) tenant using this notebook. \n1.\t[Register your application](https://docs.microsoft.com/en-us/graph/auth-v2-service#1-register-your-app) for this notebook in Azure AD in application only mode. \n2.\t[Configure permissions](https://docs.microsoft.com/en-us/graph/auth-v2-service#2-configure-permissions-for-microsoft-graph) and be sure to add the `SecurityEvents.ReadWrite.All` permission to your application.\n3. Get your Azure AD tenant administrator to [grant tenant administration consent](https://docs.microsoft.com/en-us/graph/auth-v2-service#3-get-administrator-consent) to your application. This is a one-time activity unless permissions change for the application. \n\nWhen your app is registered to call the Microsoft Graph Security API you need to pass the application ID and application secret from the above mentioned steps in to this sample. \n\nUse either plain text input to enter your secret in the `get_secret` function or get it from your environment variable in the `get_secret` function below the first one. Use only one of these functions to get secret. "
    },
    {
      "metadata": {
        "trusted": true
      },
      "cell_type": "code",
      "source": "def get_secret(secret_name):\n    return {'GRAPHSEC_DEMO_appId':'<<Enter your registered application ID>>',\n            'GRAPHSEC_DEMO_appSecret':'<<Enter you application secret>>',\n            'GRAPHSEC_DEMO_tenantId':'<<Enter your tenant ID>>'}[secret_name]",
      "execution_count": null,
      "outputs": []
    },
    {
      "metadata": {
        "trusted": true
      },
      "cell_type": "code",
      "source": "## e.g. custom way to access secrets\ndef get_secret(secret_name):\n    import os\n    return os.environ.get(secret_name)",
      "execution_count": null,
      "outputs": []
    },
    {
      "metadata": {
        "trusted": true
      },
      "cell_type": "code",
      "source": "appId = get_secret('GRAPHSEC_DEMO_appId')\nappSecret = get_secret('GRAPHSEC_DEMO_appSecret') \ntenantId = get_secret('GRAPHSEC_DEMO_tenantId')\nprint(\"If your secrets were initialized properly you should see your tenant id.\\nTenant Id: %s \" % tenantId)",
      "execution_count": null,
      "outputs": []
    },
    {
      "metadata": {},
      "cell_type": "markdown",
      "source": "# Getting Started\nAll the API Wrapper code is below. Activate it by clicking in the cell and hitting Shift+Enter"
    },
    {
      "metadata": {
        "trusted": true
      },
      "cell_type": "code",
      "source": "# -------------------------------------------------------------------------\n# Copyright (c) Microsoft Corporation. All rights reserved.\n# Licensed under the MIT License. \n# --------------------------------------------------------------------------\n\n## https://aka.ms/graphsecuritydocs\n\nimport json\nimport urllib.request\nimport urllib.parse\nimport pandas as pd\nimport re\n    \nclass MicrosoftGraphSecurityAPI:\n    def __init__(self, tenantId, appId, appSecret, fUsePandas=True, \n                 api_root=\"https://graph.microsoft.com/\", api_version=\"v1.0\"):\n        url = \"https://login.microsoftonline.com/%s/oauth2/v2.0/token\" % (tenantId)\n\n        self.fDebug = False\n\n        body = {\n            'client_id' : appId,\n            'client_secret' : appSecret,\n            'grant_type' : 'client_credentials',\n            'scope': 'https://graph.microsoft.com/.default'\n        }\n\n        ## authenticate and obtain AAD Token for future calls\n        data = urllib.parse.urlencode(body).encode(\"utf-8\")\n        req = urllib.request.Request(url, data)\n        response = urllib.request.urlopen(req)\n        jsonResponse = json.loads(response.read().decode())\n        self.aadToken = jsonResponse[\"access_token\"]\n        self.headers = { \n            'Content-Type' : 'application/json',\n            'Accept' : 'application/json',\n            'Authorization' : \"Bearer \" + self.aadToken\n        }\n        self.fUsePandas = fUsePandas # use pandas DataFrame for collections of objects, else return a list\n        self.api_root = api_root + api_version \n        if len(self.aadToken) > 0:\n            print(\"Connected.\")\n    \n    def set_output_type(self, fUsePandas=True):\n        self.fUsePandas = fUsePandas    \n\n    def set_debug_output(self, fDebug=True):\n        self.fDebug = fDebug    \n        \n    def __validate_arguments(self,args, valid_params):\n        if len(args) == 0:\n            raise ValueError ('argument must be one of %s' % str(list(valid_params.keys())))\n        elif len(args) > 1:\n            raise ValueError ('only one id can be used at a time')\n        else:\n            selector = next(iter(args))\n            selector_value= next(iter(args.values()))\n            if selector not in list(valid_params.keys()):\n                raise ValueError ('argument must be one of %s' % str(list(valid_params.keys())))\n        return (selector, selector_value)\n\n    def __make_request(self,url, params=None):\n \n        if self.fDebug:\n            print(url)\n        req = urllib.request.Request(url, headers=self.headers)\n        try:\n            response = urllib.request.urlopen(req)\n        except urllib.error.HTTPError as e:\n            raise e\n                \n        jsonResponse = json.loads(response.read().decode())\n        if type(jsonResponse) == int:\n            if self.fUsePandas:\n                return pd.DataFrame([jsonResponse])\n            else:\n                return jsonResponse\n        if 'value' in jsonResponse:\n            res = jsonResponse[\"value\"]\n            if len(res) == 0:\n                res = {}\n        else:\n            res = jsonResponse     \n        if self.fUsePandas:\n            return pd.io.json.json_normalize(res)\n        return res\n\n    def __prepare_param_dict_from_filter_str(self, filterstr):\n        get_params = {}\n        for filter_param in re.split(\"[\\?\\&]+\", filterstr):\n            if len(filter_param)> 0:\n                attr = filter_param.split('=')[0]\n                val  = filter_param.split('=')[1]\n                get_params[attr]= val\n        return get_params\n    \n    def alerts(self, **kwargs):\n        alert_url = self.api_root + \"/security/alerts\"\n        get_params = None\n        \n        valid_params = {\n            'filterstr' : alert_url + '?%s',\n            'alertid'   : alert_url + '/%s',\n            'userid'    : alert_url + \"?$filter=userStates/any(d:d/userPrincipalName eq '%s')\",\n            'ip'        : alert_url + \"?$filter=hostStates/any(d:d/privateIpAddress eq '%s')\",\n            'hostfqdn'  : alert_url + \"?$filter=hostStates/any(d:d/fqdn eq '%s')\", \n            'filehash'  : alert_url + \"?$filter=fileStates/any(d:d/fileHash/hashValue eq '%s')\",\n            'filename'  : alert_url + \"?$filter=fileStates/any(d:d/name eq '%s')\", \n            'domain'    : alert_url + \"?$filter=networkConnections/any(d:d/destinationDomain eq '%s')\" \n        }\n        (selector, selector_value) = self.__validate_arguments(kwargs, valid_params)\n        \n        if selector == 'filterstr':\n            get_params = self.__prepare_param_dict_from_filter_str(selector_value)\n            if get_params is not None:\n                url = valid_params[selector] % urllib.parse.urlencode(get_params)\n        else:\n            url = valid_params[selector] % selector_value\n            url = urllib.parse.quote( url , safe=\"%/:=&?~#+!$,;'@()*[]\") # Url encode spaces \n\n        return self.__make_request(url)\n    \nprint(\"Sample Microsoft Graph Security API code loaded\")",
      "execution_count": null,
      "outputs": []
    },
    {
      "metadata": {
        "trusted": true
      },
      "cell_type": "code",
      "source": "# hit Shift-Enter in this cell\n\n# NOTE: endpoint authorization will periodically time out and you will need to re-run this command to re-authenticate\n# if you're able to call the API (client app registered properly), and you get an exception \n# with a HTTP error 401 Unauthorized, re-run this command to re-initiate the endpoint\n\nMsftGraphSec_api = MicrosoftGraphSecurityAPI(tenantId, appId, appSecret)\nMsftGraphSec_api.set_debug_output()",
      "execution_count": null,
      "outputs": []
    },
    {
      "metadata": {},
      "cell_type": "markdown",
      "source": "# Testing Get Alerts\n\nLet's query the most recent 5 alerts using the OData TOP keyword. The `$top=5` query will return 5 of the most recent alerts from *each* [Microsoft Graph Security alert provider](https://aka.ms/graphsecurityalerts). "
    },
    {
      "metadata": {
        "trusted": true
      },
      "cell_type": "code",
      "source": "MsftGraphSec_api.alerts(filterstr = \"$top=5\")",
      "execution_count": null,
      "outputs": []
    },
    {
      "metadata": {},
      "cell_type": "markdown",
      "source": "# Security Investigation Scenarios\nYou can [query alerts](https://docs.microsoft.com/en-us/graph/api/alert-list?view=graph-rest-1.0) with OData queries. OData provides a simple standardized syntax for selecting properties and filtering data\n\nA summary of the OData filters can be found [here](https://docs.microsoft.com/graph/query-parameters) <https://docs.microsoft.com/graph/query-parameters>\n\n## Querying alerts by UPN (User Principal Name)"
    },
    {
      "metadata": {
        "trusted": true
      },
      "cell_type": "code",
      "source": "MsftGraphSec_api.alerts( userid = '<<Enter user principal name>>')",
      "execution_count": null,
      "outputs": []
    },
    {
      "metadata": {},
      "cell_type": "markdown",
      "source": "## Querying alerts by machine FQDNs (Fully Qualified Domain Name)\nYou can query alerts by machine fqdn, user id, ip, alert id, file sha1, domain, OData query, and more"
    },
    {
      "metadata": {
        "trusted": true
      },
      "cell_type": "code",
      "source": "MsftGraphSec_api.alerts( hostfqdn = '<<Enter host fqdn>>')",
      "execution_count": null,
      "outputs": []
    },
    {
      "metadata": {
        "trusted": true
      },
      "cell_type": "code",
      "source": "# query machines associated with an alert\nMsftGraphSec_api.alerts( alertid = '<<Enter alert ID>>')[['id', 'hostStates']]    #[['id', 'osBuild','osPlatform']]",
      "execution_count": null,
      "outputs": []
    },
    {
      "metadata": {
        "trusted": true
      },
      "cell_type": "code",
      "source": "# query alerts by machine name\nMsftGraphSec_api.alerts( filterstr = \"$filter=hostStates/any(d:d/netBiosName eq '<<Enter host name>>')\")",
      "execution_count": null,
      "outputs": []
    },
    {
      "metadata": {},
      "cell_type": "markdown",
      "source": "## Querying alerts by private IP\nYou can query alerts by private IPs populated by the providers within the alert hostStates."
    },
    {
      "metadata": {
        "trusted": true
      },
      "cell_type": "code",
      "source": "MsftGraphSec_api.alerts( ip = '<<Enter ip address>>' )",
      "execution_count": null,
      "outputs": []
    }
  ],
  "metadata": {
    "kernelspec": {
      "name": "python36",
      "display_name": "Python 3.6",
      "language": "python"
    },
    "language_info": {
      "mimetype": "text/x-python",
      "nbconvert_exporter": "python",
      "name": "python",
      "pygments_lexer": "ipython3",
      "version": "3.6.6",
      "file_extension": ".py",
      "codemirror_mode": {
        "version": 3,
        "name": "ipython"
      }
    }
  },
  "nbformat": 4,
  "nbformat_minor": 2
}