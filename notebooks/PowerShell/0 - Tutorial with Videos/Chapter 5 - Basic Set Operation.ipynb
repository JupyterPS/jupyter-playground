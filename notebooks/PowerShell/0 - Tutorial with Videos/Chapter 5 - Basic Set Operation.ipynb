{
 "cells": [
  {
   "cell_type": "markdown",
   "metadata": {},
   "source": [
    "# Chapter 5: Basic Set Operation\n",
    "- This tutorial was sourced from the great work done by http://GoalKicker.com/PowerShellBook and the content is written by the beautiful people at Stack Overflow.\n",
    "\n",
    "Table of Contents<br>\n",
    "1. [Filtering: Where-Object / where /](#1)\n",
    "2. [Ordering: Sort-Object / sort](#2)\n",
    "3. [Grouping: Group-Object /group](#3)\n",
    "3. [Projecting: Select-Object / select](#4)"
   ]
  },
  {
   "cell_type": "markdown",
   "metadata": {},
   "source": [
    "## 5.1: Filtering: Where-Object /where / ?\n",
    "Filter an enumeration by using a conditional expression\n",
    "```powershell\n",
    "Where-Object\n",
    "where\n",
    "?\n",
    "```"
   ]
  },
  {
   "cell_type": "markdown",
   "metadata": {},
   "source": [
    "Example:"
   ]
  },
  {
   "cell_type": "code",
   "execution_count": null,
   "metadata": {},
   "outputs": [],
   "source": [
    "$names = @( \"Aaron\", \"Albert\", \"Alphonse\",\"Bernie\", \"Charlie\", \"Danny\", \"Ernie\", \"Frank\")\n",
    "$names"
   ]
  },
  {
   "cell_type": "code",
   "execution_count": null,
   "metadata": {},
   "outputs": [],
   "source": [
    "$names.count"
   ]
  },
  {
   "cell_type": "code",
   "execution_count": null,
   "metadata": {},
   "outputs": [],
   "source": [
    "$names | Where-Object { $_ -like \"A*\" }"
   ]
  },
  {
   "cell_type": "code",
   "execution_count": null,
   "metadata": {},
   "outputs": [],
   "source": [
    "$names | where { $_ -like \"A*\" }"
   ]
  },
  {
   "cell_type": "code",
   "execution_count": null,
   "metadata": {},
   "outputs": [],
   "source": [
    "$names | ? { $_ -like \"A*\" }"
   ]
  },
  {
   "cell_type": "markdown",
   "metadata": {},
   "source": [
    "## 5.2: Ordering: Sort-Object /sort"
   ]
  },
  {
   "cell_type": "markdown",
   "metadata": {},
   "source": [
    "Sort an enumeration in either ascending or descending order<br>\n",
    "Synonyms:\n",
    "```powershell\n",
    "Sort-Object\n",
    "sort\n",
    "```"
   ]
  },
  {
   "cell_type": "code",
   "execution_count": null,
   "metadata": {},
   "outputs": [],
   "source": [
    "## Create array\n",
    "$names = @( \"Aaron\", \"Aaron\", \"Bernie\", \"Charlie\", \"Danny\" )"
   ]
  },
  {
   "cell_type": "markdown",
   "metadata": {},
   "source": [
    "### Sort by ascending order (default)"
   ]
  },
  {
   "cell_type": "code",
   "execution_count": null,
   "metadata": {},
   "outputs": [],
   "source": [
    "## Sort array in ascending order (default)\n",
    "$names | Sort-Object"
   ]
  },
  {
   "cell_type": "code",
   "execution_count": null,
   "metadata": {},
   "outputs": [],
   "source": [
    "## Shorter command\n",
    "$names | sort"
   ]
  },
  {
   "cell_type": "markdown",
   "metadata": {},
   "source": [
    "### Sort by descending order"
   ]
  },
  {
   "cell_type": "code",
   "execution_count": null,
   "metadata": {},
   "outputs": [],
   "source": [
    "$names | Sort-Object -Descending"
   ]
  },
  {
   "cell_type": "code",
   "execution_count": null,
   "metadata": {},
   "outputs": [],
   "source": [
    "$names | sort -Descending"
   ]
  },
  {
   "cell_type": "markdown",
   "metadata": {},
   "source": [
    "### Sort by using an expression"
   ]
  },
  {
   "cell_type": "code",
   "execution_count": null,
   "metadata": {},
   "outputs": [],
   "source": [
    "## Sort list by character length which again defaults in ascending order.\n",
    "$names | Sort-Object { $_.length }"
   ]
  },
  {
   "cell_type": "markdown",
   "metadata": {},
   "source": [
    "## 5.3: Grouping: Group-Object /group"
   ]
  },
  {
   "cell_type": "markdown",
   "metadata": {},
   "source": [
    "You can group an enumeration based on an expression.<br>Synonyms:\n",
    "```powershell\n",
    "Group-Object\n",
    "group\n",
    "```"
   ]
  },
  {
   "cell_type": "markdown",
   "metadata": {},
   "source": [
    "Create array"
   ]
  },
  {
   "cell_type": "code",
   "execution_count": null,
   "metadata": {},
   "outputs": [],
   "source": [
    "$names = @( \"Aaron\", \"Albert\", \"Alphonse\",\"Bernie\", \"Charlie\", \"Danny\", \"Ernie\", \"Frank\")"
   ]
  },
  {
   "cell_type": "markdown",
   "metadata": {},
   "source": [
    "group objects by length of characters in name"
   ]
  },
  {
   "cell_type": "code",
   "execution_count": null,
   "metadata": {},
   "outputs": [],
   "source": [
    "$names | Group-Object -Property Length"
   ]
  },
  {
   "cell_type": "markdown",
   "metadata": {},
   "source": [
    "shorter alias command to group. Does the same thing. "
   ]
  },
  {
   "cell_type": "code",
   "execution_count": null,
   "metadata": {},
   "outputs": [],
   "source": [
    "$names | group -Property Length"
   ]
  },
  {
   "cell_type": "markdown",
   "metadata": {},
   "source": [
    "## 5.4: Projecting: Select-Object / select"
   ]
  },
  {
   "cell_type": "markdown",
   "metadata": {},
   "source": [
    "Projecting an enumeration allows you to extract specific members of each object, to extract all the details, or to compute values for each object<br><br>Synonyms:\n",
    "```powershell\n",
    "Select-Object\n",
    "SELECT\n",
    "```"
   ]
  },
  {
   "cell_type": "markdown",
   "metadata": {},
   "source": [
    "Selecting a subset of the properties:"
   ]
  },
  {
   "cell_type": "code",
   "execution_count": null,
   "metadata": {},
   "outputs": [],
   "source": [
    "# Gets the current directory and specify only to return the columns Name, FullName Attributes.\n",
    "$dir = dir \"./\"\n",
    "$dir | Select-Object Name, FullName, Attributes"
   ]
  },
  {
   "cell_type": "markdown",
   "metadata": {},
   "source": [
    "Shorter alias command that does the same thing"
   ]
  },
  {
   "cell_type": "code",
   "execution_count": null,
   "metadata": {},
   "outputs": [],
   "source": [
    "$dir | select Name, FullName, Attributes"
   ]
  },
  {
   "cell_type": "markdown",
   "metadata": {},
   "source": [
    "Selecting the first element, and show all its properties:"
   ]
  },
  {
   "cell_type": "code",
   "execution_count": null,
   "metadata": {},
   "outputs": [],
   "source": [
    "$dir | select -first 1 *"
   ]
  },
  {
   "cell_type": "code",
   "execution_count": null,
   "metadata": {},
   "outputs": [],
   "source": [
    "## Run this if you want to see explaination of the top\n",
    "Import-Module \"./modules/tutorial.psm1\"; embedYoutube -youtubeId \"v4P69rbolfo\" | Out-Display"
   ]
  }
 ],
 "metadata": {
  "kernelspec": {
   "display_name": ".NET (PowerShell)",
   "language": "PowerShell",
   "name": ".net-powershell"
  },
  "language_info": {
   "file_extension": ".ps1",
   "mimetype": "text/x-powershell",
   "name": "PowerShell",
   "pygments_lexer": "powershell",
   "version": "7.0"
  }
 },
 "nbformat": 4,
 "nbformat_minor": 4
}
