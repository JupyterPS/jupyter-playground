{
 "cells": [
  {
   "cell_type": "markdown",
   "metadata": {},
   "source": [
    "# Scenario 1 - Create a New User in Azure using Power-Automate/Forms/Jupyter Notebooks\n"
   ]
  },
  {
   "cell_type": "markdown",
   "metadata": {},
   "source": [
    "## Create User\n",
    "HR User fills out new employee creation form"
   ]
  },
  {
   "cell_type": "markdown",
   "metadata": {},
   "source": [
    "### Power Automate Form to grab the form response and insert response into Excel Table"
   ]
  },
  {
   "cell_type": "markdown",
   "metadata": {},
   "source": [
    "### Query the Excel file stored on One-Drive via Jupyter Notebooks and REST API"
   ]
  },
  {
   "cell_type": "markdown",
   "metadata": {},
   "source": [
    "#### Build the JSON payload and headers"
   ]
  },
  {
   "cell_type": "code",
   "execution_count": 1,
   "metadata": {},
   "outputs": [
    {
     "data": {
      "text/html": [
       "\r\n",
       "<div>\r\n",
       "    <div id='dotnet-interactive-this-cell-23336.420b40cd98b0423fb36740b4c4c8ee84' style='display: none'>\r\n",
       "        The below script needs to be able to find the current output cell; this is an easy method to get it.\r\n",
       "    </div>\r\n",
       "    <script type='text/javascript'>\r\n",
       "// ensure `require` is available globally\r\n",
       "if (typeof require !== typeof Function || typeof require.config !== typeof Function) {\r\n",
       "    let require_script = document.createElement('script');\r\n",
       "    require_script.setAttribute('src', 'https://cdnjs.cloudflare.com/ajax/libs/require.js/2.3.6/require.min.js');\r\n",
       "    require_script.setAttribute('type', 'text/javascript');\r\n",
       "    require_script.onload = function () {\r\n",
       "        loadDotnetInteractiveApi();\r\n",
       "    };\r\n",
       "\r\n",
       "    document.getElementsByTagName('head')[0].appendChild(require_script);\r\n",
       "}\r\n",
       "else {\r\n",
       "    loadDotnetInteractiveApi();\r\n",
       "}\r\n",
       "\r\n",
       "async function probeAddresses(probingAddresses) {\r\n",
       "    function timeout(ms, promise) {\r\n",
       "        return new Promise(function (resolve, reject) {\r\n",
       "            setTimeout(function () {\r\n",
       "                reject(new Error('timeout'))\r\n",
       "            }, ms)\r\n",
       "            promise.then(resolve, reject)\r\n",
       "        })\r\n",
       "    }\r\n",
       "\r\n",
       "    if (Array.isArray(probingAddresses)) {\r\n",
       "        for (let i = 0; i < probingAddresses.length; i++) {\r\n",
       "\r\n",
       "            let rootUrl = probingAddresses[i];\r\n",
       "\r\n",
       "            if (!rootUrl.endsWith('/')) {\r\n",
       "                rootUrl = `${rootUrl}/`;\r\n",
       "            }\r\n",
       "\r\n",
       "            try {\r\n",
       "                let response = await timeout(1000, fetch(`${rootUrl}discovery`, {\r\n",
       "                    method: 'POST',\r\n",
       "                    cache: 'no-cache',\r\n",
       "                    mode: 'cors',\r\n",
       "                    timeout: 1000,\r\n",
       "                    headers: {\r\n",
       "                        'Content-Type': 'text/plain'\r\n",
       "                    },\r\n",
       "                    body: probingAddresses[i]\r\n",
       "                }));\r\n",
       "\r\n",
       "                if (response.status == 200) {\r\n",
       "                    return rootUrl;\r\n",
       "                }\r\n",
       "            }\r\n",
       "            catch (e) { }\r\n",
       "        }\r\n",
       "    }\r\n",
       "}\r\n",
       "\r\n",
       "function loadDotnetInteractiveApi() {\r\n",
       "    probeAddresses([\"http://10.1.0.7:1034/\", \"http://192.168.64.1:1034/\", \"http://127.0.0.1:1034/\"])\r\n",
       "        .then((root) => {\r\n",
       "            // use probing to find host url and api resources\r\n",
       "            // load interactive helpers and language services\r\n",
       "            let dotnet_require = require.config({\r\n",
       "                context: '23336.420b40cd98b0423fb36740b4c4c8ee84',\r\n",
       "                paths: {\r\n",
       "                    'dotnet-interactive': `${root}resources`\r\n",
       "                }\r\n",
       "            }) || require;\r\n",
       "            if (!window.dotnet_require) {\r\n",
       "                window.dotnet_require = dotnet_require;\r\n",
       "            }\r\n",
       "        \r\n",
       "            dotnet_require([\r\n",
       "                    'dotnet-interactive/dotnet-interactive'\r\n",
       "                ],\r\n",
       "                function (dotnet) {\r\n",
       "                    dotnet.init(window);\r\n",
       "                },\r\n",
       "                function (error) {\r\n",
       "                    console.log(error);\r\n",
       "                }\r\n",
       "            );\r\n",
       "        })\r\n",
       "        .catch(error => {console.log(error);});\r\n",
       "    }\r\n",
       "    </script>\r\n",
       "</div>"
      ]
     },
     "metadata": {},
     "output_type": "display_data"
    },
    {
     "name": "stdout",
     "output_type": "stream",
     "text": [
      "\u001b[93mJSON Payload for REST Call\u001b[0m\n",
      "{\n",
      "  \"Workflow\": \"list\"\n",
      "}\n"
     ]
    }
   ],
   "source": [
    "$host.UI.RawUI.BufferSize = [System.Management.Automation.Host.Size]::new(200, 50) ## Corrects the output\n",
    "$userDetails = @{ Workflow = \"list\" }\n",
    "\n",
    "$userDetails = ($userDetails | ConvertTO-JSON); \n",
    "\n",
    "$headers = @{\n",
    "    'Content-Type' = \"application/json\"\n",
    "}\n",
    "\n",
    "Write-Host -ForegroundColor Yellow \"JSON Payload for REST Call\"; Write-Host $userDetails"
   ]
  },
  {
   "cell_type": "markdown",
   "metadata": {},
   "source": [
    "#### Query the custom Power-Automate Flow API for a list of users"
   ]
  },
  {
   "cell_type": "code",
   "execution_count": 2,
   "metadata": {},
   "outputs": [
    {
     "name": "stdout",
     "output_type": "stream",
     "text": [
      "\n",
      "@odata.etag ItemInternalId                       First Name Last Name Organization Job Title E-mail address            Form Filled out HR Paperwork Computer assigned\n",
      "----------- --------------                       ---------- --------- ------------ --------- --------------            --------------- ------------ -----------------\n",
      "            70b48e14-883b-4d05-8582-a3b16a825114 Sarah      David     Finance      Intern    sara.david@jingtoso.com   Completed       Completed    Completed\n",
      "            410fcc3c-6a16-4ee5-840d-669665082cde Bob        Smith     IT           Peon      bob@jingtoso.com          Completed       Completed    Not Started\n",
      "            d564504e-e43f-497f-a8cc-f2dbc3daf44b Steve      Smith     Whatever     Marketing steve.smith@microsoft.com Completed       Completed    Completed\n",
      "\n"
     ]
    }
   ],
   "source": [
    "$Response = (Invoke-RestMethod `\n",
    "    -method POST `\n",
    "    -headers $headers `\n",
    "    -body $userDetails `\n",
    "    -uri \"https://prod-19.westcentralus.logic.azure.com:443/workflows/10456e974ab54633992cb73b36449ad8/triggers/manual/paths/invoke?api-version=2016-06-01&sp=%2Ftriggers%2Fmanual%2Frun&sv=1.0&sig=EzbdUgRX3GoGjOLlzlmZxTmNjHmEleAuWJOlohC9ILY\").value\n",
    "    \n",
    "$Response | FT"
   ]
  },
  {
   "cell_type": "markdown",
   "metadata": {},
   "source": [
    "### Get New-Users Tracker Status "
   ]
  },
  {
   "cell_type": "code",
   "execution_count": 3,
   "metadata": {},
   "outputs": [
    {
     "name": "stdout",
     "output_type": "stream",
     "text": [
      "\n",
      "E-mail address            Form Filled out HR Paperwork Computer assigned MFA Number setup O365 License assigned AD Group assignment\n",
      "--------------            --------------- ------------ ----------------- ---------------- --------------------- -------------------\n",
      "sara.david@jingtoso.com   Completed       Completed    Completed         Completed        Completed             Completed\n",
      "bob@jingtoso.com          Completed       Completed    Not Started       Not Started      Not Started           Not Started\n",
      "steve.smith@microsoft.com Completed       Completed    Completed         Completed        Not Started           Not Started\n",
      "\n"
     ]
    }
   ],
   "source": [
    "$filteredColumns = @('E-mail address','Form Filled out','HR Paperwork',\"Computer Assigned\",'MFA Number setup', 'O365 License assigned', 'AD Group assignment')\n",
    "$Response | Select-Object -Property $filteredColumns | FT"
   ]
  },
  {
   "cell_type": "markdown",
   "metadata": {},
   "source": [
    "#### Clean up table to HTML"
   ]
  },
  {
   "cell_type": "code",
   "execution_count": 4,
   "metadata": {},
   "outputs": [
    {
     "data": {
      "text/html": [
       "<TABLE BORDER=10>\n",
       "<TR>\n",
       "    <th style=\"text-align:Center\">User</th>\n",
       "    <th style=\"text-align:Center\">Form Filled Out</th>\n",
       "    <th style=\"text-align:Center\">HR Paperwork Completed</th>\n",
       "    <th style=\"text-align:Center\">Computer Assigned</th>\n",
       "    <th style=\"text-align:Center\">MFA Number Setup</th>\n",
       "    <th style=\"text-align:Center\">License Assigned</th>\n",
       "    <th style=\"text-align:Center\">AD Group Assignment</th><TR>\n",
       "        <TD> Sarah David (sara.david@jingtoso.com)\n",
       "        <TD> <font color=green><b> Completed\n",
       "        <TD> <font color=green><b> Completed\n",
       "        <TD> <font color=green><b> Completed\n",
       "        <TD> <font color=green><b> Completed\n",
       "        <TD> <font color=green><b> Completed\n",
       "        <TD> <font color=green><b> Completed\n",
       "    <TR>\n",
       "        <TD> Bob Smith (bob@jingtoso.com)\n",
       "        <TD> <font color=green><b> Completed\n",
       "        <TD> <font color=green><b> Completed\n",
       "        <TD> <font color=red><b> Not Started\n",
       "        <TD> <font color=red><b> Not Started\n",
       "        <TD> <font color=red><b> Not Started\n",
       "        <TD> <font color=red><b> Not Started\n",
       "    <TR>\n",
       "        <TD> Steve Smith (steve.smith@microsoft.com)\n",
       "        <TD> <font color=green><b> Completed\n",
       "        <TD> <font color=green><b> Completed\n",
       "        <TD> <font color=green><b> Completed\n",
       "        <TD> <font color=green><b> Completed\n",
       "        <TD> <font color=red><b> Not Started\n",
       "        <TD> <font color=red><b> Not Started\n",
       "    "
      ]
     },
     "metadata": {},
     "output_type": "display_data"
    }
   ],
   "source": [
    "$htmlCodeTable = @\"\n",
    "<TABLE BORDER=10>\n",
    "<TR>\n",
    "    <th style=\"text-align:Center\">User</th>\n",
    "    <th style=\"text-align:Center\">Form Filled Out</th>\n",
    "    <th style=\"text-align:Center\">HR Paperwork Completed</th>\n",
    "    <th style=\"text-align:Center\">Computer Assigned</th>\n",
    "    <th style=\"text-align:Center\">MFA Number Setup</th>\n",
    "    <th style=\"text-align:Center\">License Assigned</th>\n",
    "    <th style=\"text-align:Center\">AD Group Assignment</th>\n",
    "\"@\n",
    "\n",
    "function status {\n",
    "    param ($status)\n",
    "    if ($status -eq 'Completed') {\n",
    "        return \"<font color=green><b>\"\n",
    "    } else {\n",
    "        return \"<font color=red><b>\"\n",
    "    }\n",
    "}\n",
    "\n",
    "ForEach ($item in $Response) {\n",
    "    $insertCode = \"<TR>\n",
    "        <TD> $($item.'First Name') $($item.'Last Name') ($($item.'E-mail address'))\n",
    "        <TD> $(status -status $item.'Form Filled Out') $($item.'Form Filled Out')\n",
    "        <TD> $(status -status $item.'HR Paperwork') $($item.'HR Paperwork')\n",
    "        <TD> $(status -status $item.'Computer Assigned') $($item.'Computer Assigned')\n",
    "        <TD> $(status -status $item.'MFA Number Setup') $($item.'MFA Number Setup')\n",
    "        <TD> $(status -status $item.'O365 License assigned') $($item.'O365 License assigned')\n",
    "        <TD> $(status -status $item.'AD Group assignment') $($item.'AD Group assignment')\n",
    "    \"\n",
    "    $htmlCodeTable = $htmlCodeTable + $insertCode\n",
    "}\n",
    "\n",
    "$htmlCodeTable | Out-Display"
   ]
  },
  {
   "cell_type": "markdown",
   "metadata": {},
   "source": [
    "### Filter on specific User "
   ]
  },
  {
   "cell_type": "code",
   "execution_count": 5,
   "metadata": {},
   "outputs": [
    {
     "name": "stdout",
     "output_type": "stream",
     "text": [
      "{\n",
      "  \"@odata.etag\": \"\",\n",
      "  \"ItemInternalId\": \"410fcc3c-6a16-4ee5-840d-669665082cde\",\n",
      "  \"First Name\": \"Bob\",\n",
      "  \"Last Name\": \"Smith\",\n",
      "  \"Organization\": \"IT\",\n",
      "  \"Job Title\": \"Peon\",\n",
      "  \"E-mail address\": \"bob@jingtoso.com\",\n",
      "  \"Form Filled out\": \"Completed\",\n",
      "  \"HR Paperwork\": \"Completed\",\n",
      "  \"Computer assigned\": \"Not Started\",\n",
      "  \"MFA Number setup\": \"Not Started\",\n",
      "  \"O365 License assigned\": \"Not Started\",\n",
      "  \"AD Group assignment\": \"Not Started\"\n",
      "}\n"
     ]
    }
   ],
   "source": [
    "$Response | Where-Object {$_.'First Name' -eq 'Bob'} | ConvertTo-JSON"
   ]
  },
  {
   "cell_type": "code",
   "execution_count": 6,
   "metadata": {},
   "outputs": [
    {
     "name": "stdout",
     "output_type": "stream",
     "text": [
      "\u001b[93mJSON Payload for REST Call\u001b[0m\n",
      "{\n",
      "  \"E-mail address\": \"steve.smith@microsoft.com\",\n",
      "  \"MFA Number Setup\": \"Completed\",\n",
      "  \"Workflow\": \"update\"\n",
      "}\n"
     ]
    }
   ],
   "source": [
    "$userDetails = @{\n",
    "  \"Workflow\" = \"update\"\n",
    "  \"E-mail address\" = \"steve.smith@microsoft.com\"\n",
    "  \"MFA Number Setup\" =  \"Completed\"\n",
    "}\n",
    "$userDetails = ($userDetails | ConvertTO-JSON); \n",
    "\n",
    "$headers = @{\n",
    "    'Content-Type' = \"application/json\"\n",
    "}\n",
    "Write-Host -ForegroundColor Yellow \"JSON Payload for REST Call\"; Write-Host $userDetails"
   ]
  },
  {
   "cell_type": "markdown",
   "metadata": {},
   "source": [
    "#### Query the custom Power-Automate Flow API for a list of users"
   ]
  },
  {
   "cell_type": "code",
   "execution_count": 7,
   "metadata": {},
   "outputs": [
    {
     "name": "stdout",
     "output_type": "stream",
     "text": [
      "\n",
      "@odata.etag ItemInternalId                       First Name Last Name Organization Job Title E-mail address            Form Filled out HR Paperwork Computer assigned\n",
      "----------- --------------                       ---------- --------- ------------ --------- --------------            --------------- ------------ -----------------\n",
      "            61f0a656-2648-4624-8437-834d1684ab90 Sarah      David     Finance      Intern    sara.david@jingtoso.com   Completed       Completed    Completed\n",
      "            aa26a36b-5a41-4951-b685-e585dc4d7887 Bob        Smith     IT           Peon      bob@jingtoso.com          Completed       Completed    Not Started\n",
      "            1c18f8ad-6ec3-4582-a413-805563f08af1 Steve      Smith     Whatever     Marketing steve.smith@microsoft.com Completed       Completed    Completed\n",
      "\n"
     ]
    }
   ],
   "source": [
    "$Response = (Invoke-RestMethod `\n",
    "    -method POST `\n",
    "    -headers $headers `\n",
    "    -body $userDetails `\n",
    "    -uri \"https://prod-19.westcentralus.logic.azure.com:443/workflows/10456e974ab54633992cb73b36449ad8/triggers/manual/paths/invoke?api-version=2016-06-01&sp=%2Ftriggers%2Fmanual%2Frun&sv=1.0&sig=EzbdUgRX3GoGjOLlzlmZxTmNjHmEleAuWJOlohC9ILY\").value\n",
    "    \n",
    "$Response | FT"
   ]
  },
  {
   "cell_type": "code",
   "execution_count": 8,
   "metadata": {},
   "outputs": [
    {
     "name": "stdout",
     "output_type": "stream",
     "text": [
      "\n",
      "@odata.etag           : \n",
      "ItemInternalId        : 61f0a656-2648-4624-8437-834d1684ab90\n",
      "First Name            : Sarah\n",
      "Last Name             : David\n",
      "Organization          : Finance\n",
      "Job Title             : Intern\n",
      "E-mail address        : sara.david@jingtoso.com\n",
      "Form Filled out       : Completed\n",
      "HR Paperwork          : Completed\n",
      "Computer assigned     : Completed\n",
      "MFA Number setup      : Completed\n",
      "O365 License assigned : Completed\n",
      "AD Group assignment   : Completed\n",
      "\n",
      "@odata.etag           : \n",
      "ItemInternalId        : aa26a36b-5a41-4951-b685-e585dc4d7887\n",
      "First Name            : Bob\n",
      "Last Name             : Smith\n",
      "Organization          : IT\n",
      "Job Title             : Peon\n",
      "E-mail address        : bob@jingtoso.com\n",
      "Form Filled out       : Completed\n",
      "HR Paperwork          : Completed\n",
      "Computer assigned     : Not Started\n",
      "MFA Number setup      : Not Started\n",
      "O365 License assigned : Not Started\n",
      "AD Group assignment   : Not Started\n",
      "\n",
      "@odata.etag           : \n",
      "ItemInternalId        : 1c18f8ad-6ec3-4582-a413-805563f08af1\n",
      "First Name            : Steve\n",
      "Last Name             : Smith\n",
      "Organization          : Whatever\n",
      "Job Title             : Marketing\n",
      "E-mail address        : steve.smith@microsoft.com\n",
      "Form Filled out       : Completed\n",
      "HR Paperwork          : Completed\n",
      "Computer assigned     : Completed\n",
      "MFA Number setup      : Completed\n",
      "O365 License assigned : Not Started\n",
      "AD Group assignment   : Not Started\n",
      "\n",
      "\n"
     ]
    }
   ],
   "source": [
    "$Response"
   ]
  },
  {
   "cell_type": "code",
   "execution_count": null,
   "metadata": {},
   "outputs": [],
   "source": []
  }
 ],
 "metadata": {
  "kernelspec": {
   "display_name": ".NET (PowerShell)",
   "language": "PowerShell",
   "name": ".net-powershell"
  },
  "language_info": {
   "file_extension": ".ps1",
   "mimetype": "text/x-powershell",
   "name": "PowerShell",
   "pygments_lexer": "powershell",
   "version": "7.0"
  },
  "toc-autonumbering": true
 },
 "nbformat": 4,
 "nbformat_minor": 4
}
