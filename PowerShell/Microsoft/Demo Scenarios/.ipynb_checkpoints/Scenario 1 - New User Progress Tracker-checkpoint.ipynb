{
 "cells": [
  {
   "cell_type": "markdown",
   "metadata": {},
   "source": [
    "# Scenario 1 - Create a New User in Azure using Power-Automate/Forms/Jupyter Notebooks\n"
   ]
  },
  {
   "cell_type": "markdown",
   "metadata": {},
   "source": [
    "## Create User\n",
    "HR User fills out new employee creation form\n",
    "\n",
    "[Link](https://forms.microsoft.com/Pages/ResponsePage.aspx?id=v4j5cvGGr0GRqy180BHbR6XDcf7sUgVIvro3tcgydClUQU5SOTVXQlhLOE9DUTc2VVpCODVONUxSNS4u)"
   ]
  },
  {
   "cell_type": "markdown",
   "metadata": {},
   "source": [
    "### Power Automate Form to grab the form response and insert response into Excel Table"
   ]
  },
  {
   "cell_type": "markdown",
   "metadata": {},
   "source": [
    "### Query the Excel file stored on One-Drive via Jupyter Notebooks and REST API"
   ]
  },
  {
   "cell_type": "markdown",
   "metadata": {},
   "source": [
    "#### Build the JSON payload and headers"
   ]
  },
  {
   "cell_type": "code",
   "execution_count": 42,
   "metadata": {},
   "outputs": [
    {
     "name": "stdout",
     "output_type": "stream",
     "text": [
      "\u001b[93mJSON Payload for REST Call\u001b[0m\n",
      "{\n",
      "  \"Workflow\": \"list\"\n",
      "}\n"
     ]
    }
   ],
   "source": [
    "$host.UI.RawUI.BufferSize = [System.Management.Automation.Host.Size]::new(200, 50) ## Corrects the output\n",
    "$userDetails = @{ Workflow = \"list\" }\n",
    "\n",
    "$userDetails = ($userDetails | ConvertTO-JSON); \n",
    "\n",
    "$headers = @{\n",
    "    'Content-Type' = \"application/json\"\n",
    "}\n",
    "\n",
    "Write-Host -ForegroundColor Yellow \"JSON Payload for REST Call\"; Write-Host $userDetails"
   ]
  },
  {
   "cell_type": "markdown",
   "metadata": {},
   "source": [
    "#### Query the custom Power-Automate Flow API for a list of users"
   ]
  },
  {
   "cell_type": "code",
   "execution_count": 43,
   "metadata": {},
   "outputs": [
    {
     "name": "stdout",
     "output_type": "stream",
     "text": [
      "\n",
      "@odata.etag ItemInternalId                       First Name Last Name Organization Job Title E-mail address            Form Filled out HR Paperwork Computer assigned\n",
      "----------- --------------                       ---------- --------- ------------ --------- --------------            --------------- ------------ -----------------\n",
      "            e852d0ab-f253-4e8d-8094-ddd778e66cd9 Sarah      David     Finance      Intern    sara.david@jingtoso.com   Completed       Completed    Completed\n",
      "            01f644c8-bb85-4dc4-b0e4-9435817d0183 Bob        Smith     IT           Peon      bob@jingtoso.com          Completed       Completed    Not Started\n",
      "            88670642-55af-4b1b-bd74-83597a1d88ea Steve      Smith     Whatever     Marketing steve.smith@microsoft.com Completed       Completed    Not Started\n",
      "\n"
     ]
    }
   ],
   "source": [
    "$Response = (Invoke-RestMethod `\n",
    "    -method POST `\n",
    "    -headers $headers `\n",
    "    -body $userDetails `\n",
    "    -uri \"https://prod-19.westcentralus.logic.azure.com:443/workflows/10456e974ab54633992cb73b36449ad8/triggers/manual/paths/invoke?api-version=2016-06-01&sp=%2Ftriggers%2Fmanual%2Frun&sv=1.0&sig=EzbdUgRX3GoGjOLlzlmZxTmNjHmEleAuWJOlohC9ILY\").value\n",
    "    \n",
    "$Response | FT"
   ]
  },
  {
   "cell_type": "markdown",
   "metadata": {},
   "source": [
    "### Get New-Users Tracker Status "
   ]
  },
  {
   "cell_type": "code",
   "execution_count": 87,
   "metadata": {},
   "outputs": [
    {
     "name": "stdout",
     "output_type": "stream",
     "text": [
      "\n",
      "E-mail address            Form Filled out HR Paperwork Computer assigned MFA Number setup O365 License assigned AD Group assignment\n",
      "--------------            --------------- ------------ ----------------- ---------------- --------------------- -------------------\n",
      "sara.david@jingtoso.com   Completed       Completed    Completed         Completed        Completed             Completed\n",
      "bob@jingtoso.com          Completed       Completed    Not Started       Not Started      Not Started           Not Started\n",
      "steve.smith@microsoft.com Completed       Completed    Completed         Not Started      Not Started           Not Started\n",
      "\n"
     ]
    }
   ],
   "source": [
    "$filteredColumns = @('E-mail address','Form Filled out','HR Paperwork',\"Computer Assigned\",'MFA Number setup', 'O365 License assigned', 'AD Group assignment')\n",
    "$Response | Select-Object -Property $filteredColumns | FT"
   ]
  },
  {
   "cell_type": "markdown",
   "metadata": {},
   "source": [
    "#### Clean up table to HTML"
   ]
  },
  {
   "cell_type": "code",
   "execution_count": 91,
   "metadata": {},
   "outputs": [
    {
     "data": {
      "text/html": [
       "<TABLE BORDER=10>\n",
       "<TR>\n",
       "    <th style=\"text-align:Center\">User</th>\n",
       "    <th style=\"text-align:Center\">Form Filled Out</th>\n",
       "    <th style=\"text-align:Center\">HR Paperwork Completed</th>\n",
       "    <th style=\"text-align:Center\">Computer Assigned</th>\n",
       "    <th style=\"text-align:Center\">MFA Number Setup</th>\n",
       "    <th style=\"text-align:Center\">License Assigned</th>\n",
       "    <th style=\"text-align:Center\">AD Group Assignment</th><TR>\n",
       "        <TD> Sarah David (sara.david@jingtoso.com)\n",
       "        <TD> <font color=green><b> Completed\n",
       "        <TD> <font color=green><b> Completed\n",
       "        <TD> <font color=green><b> Completed\n",
       "        <TD> <font color=green><b> Completed\n",
       "        <TD> <font color=green><b> Completed\n",
       "        <TD> <font color=green><b> Completed\n",
       "    <TR>\n",
       "        <TD> Bob Smith (bob@jingtoso.com)\n",
       "        <TD> <font color=green><b> Completed\n",
       "        <TD> <font color=green><b> Completed\n",
       "        <TD> <font color=red><b> Not Started\n",
       "        <TD> <font color=red><b> Not Started\n",
       "        <TD> <font color=red><b> Not Started\n",
       "        <TD> <font color=red><b> Not Started\n",
       "    <TR>\n",
       "        <TD> Steve Smith (steve.smith@microsoft.com)\n",
       "        <TD> <font color=green><b> Completed\n",
       "        <TD> <font color=green><b> Completed\n",
       "        <TD> <font color=green><b> Completed\n",
       "        <TD> <font color=green><b> Completed\n",
       "        <TD> <font color=red><b> Not Started\n",
       "        <TD> <font color=red><b> Not Started\n",
       "    "
      ]
     },
     "metadata": {},
     "output_type": "display_data"
    }
   ],
   "source": [
    "$htmlCodeTable = @\"\n",
    "<TABLE BORDER=10>\n",
    "<TR>\n",
    "    <th style=\"text-align:Center\">User</th>\n",
    "    <th style=\"text-align:Center\">Form Filled Out</th>\n",
    "    <th style=\"text-align:Center\">HR Paperwork Completed</th>\n",
    "    <th style=\"text-align:Center\">Computer Assigned</th>\n",
    "    <th style=\"text-align:Center\">MFA Number Setup</th>\n",
    "    <th style=\"text-align:Center\">License Assigned</th>\n",
    "    <th style=\"text-align:Center\">AD Group Assignment</th>\n",
    "\"@\n",
    "\n",
    "function status {\n",
    "    param ($status)\n",
    "    if ($status -eq 'Completed') {\n",
    "        return \"<font color=green><b>\"\n",
    "    } else {\n",
    "        return \"<font color=red><b>\"\n",
    "    }\n",
    "}\n",
    "\n",
    "ForEach ($item in $Response) {\n",
    "    $insertCode = \"<TR>\n",
    "        <TD> $($item.'First Name') $($item.'Last Name') ($($item.'E-mail address'))\n",
    "        <TD> $(status -status $item.'Form Filled Out') $($item.'Form Filled Out')\n",
    "        <TD> $(status -status $item.'HR Paperwork') $($item.'HR Paperwork')\n",
    "        <TD> $(status -status $item.'Computer Assigned') $($item.'Computer Assigned')\n",
    "        <TD> $(status -status $item.'MFA Number Setup') $($item.'MFA Number Setup')\n",
    "        <TD> $(status -status $item.'O365 License assigned') $($item.'O365 License assigned')\n",
    "        <TD> $(status -status $item.'AD Group assignment') $($item.'AD Group assignment')\n",
    "    \"\n",
    "    $htmlCodeTable = $htmlCodeTable + $insertCode\n",
    "}\n",
    "\n",
    "$htmlCodeTable | Out-Display"
   ]
  },
  {
   "cell_type": "markdown",
   "metadata": {},
   "source": [
    "### Filter on specific User "
   ]
  },
  {
   "cell_type": "code",
   "execution_count": 64,
   "metadata": {},
   "outputs": [
    {
     "name": "stdout",
     "output_type": "stream",
     "text": [
      "{\n",
      "  \"@odata.etag\": \"\",\n",
      "  \"ItemInternalId\": \"01f644c8-bb85-4dc4-b0e4-9435817d0183\",\n",
      "  \"First Name\": \"Bob\",\n",
      "  \"Last Name\": \"Smith\",\n",
      "  \"Organization\": \"IT\",\n",
      "  \"Job Title\": \"Peon\",\n",
      "  \"E-mail address\": \"bob@jingtoso.com\",\n",
      "  \"Form Filled out\": \"Completed\",\n",
      "  \"HR Paperwork\": \"Completed\",\n",
      "  \"Computer assigned\": \"Not Started\",\n",
      "  \"MFA Number setup\": \"Not Started\",\n",
      "  \"O365 License assigned\": \"Not Started\",\n",
      "  \"AD Group assignment\": \"Not Started\"\n",
      "}\n"
     ]
    }
   ],
   "source": [
    "$Response | Where-Object {$_.'First Name' -eq 'Bob'} | ConvertTo-JSON"
   ]
  },
  {
   "cell_type": "code",
   "execution_count": 84,
   "metadata": {},
   "outputs": [
    {
     "name": "stdout",
     "output_type": "stream",
     "text": [
      "\u001b[93mJSON Payload for REST Call\u001b[0m\n",
      "{\n",
      "  \"Workflow\": \"update\",\n",
      "  \"MFA Number Setup\": \"Completed\",\n",
      "  \"E-mail address\": \"steve.smith@microsoft.com\"\n",
      "}\n"
     ]
    }
   ],
   "source": [
    "$userDetails = @{\n",
    "  \"Workflow\" = \"update\"\n",
    "  \"E-mail address\" = \"steve.smith@microsoft.com\"\n",
    "  \"MFA Number Setup\" =  \"Completed\"\n",
    "}\n",
    "$userDetails = ($userDetails | ConvertTO-JSON); \n",
    "\n",
    "$headers = @{\n",
    "    'Content-Type' = \"application/json\"\n",
    "}\n",
    "Write-Host -ForegroundColor Yellow \"JSON Payload for REST Call\"; Write-Host $userDetails"
   ]
  },
  {
   "cell_type": "markdown",
   "metadata": {},
   "source": [
    "#### Query the custom Power-Automate Flow API for a list of users"
   ]
  },
  {
   "cell_type": "code",
   "execution_count": 89,
   "metadata": {},
   "outputs": [
    {
     "name": "stdout",
     "output_type": "stream",
     "text": [
      "\n",
      "@odata.etag ItemInternalId                       First Name Last Name Organization Job Title E-mail address            Form Filled out HR Paperwork Computer assigned\n",
      "----------- --------------                       ---------- --------- ------------ --------- --------------            --------------- ------------ -----------------\n",
      "            ae568f33-14d5-40bf-bdbc-fdf374f705a1 Sarah      David     Finance      Intern    sara.david@jingtoso.com   Completed       Completed    Completed\n",
      "            cd5f9d6c-a97c-4dc4-adc4-7a685a40855b Bob        Smith     IT           Peon      bob@jingtoso.com          Completed       Completed    Not Started\n",
      "            ef37b360-f277-4c13-bdb8-161107891b12 Steve      Smith     Whatever     Marketing steve.smith@microsoft.com Completed       Completed    Completed\n",
      "\n"
     ]
    }
   ],
   "source": [
    "$Response = (Invoke-RestMethod `\n",
    "    -method POST `\n",
    "    -headers $headers `\n",
    "    -body $userDetails `\n",
    "    -uri \"https://prod-19.westcentralus.logic.azure.com:443/workflows/10456e974ab54633992cb73b36449ad8/triggers/manual/paths/invoke?api-version=2016-06-01&sp=%2Ftriggers%2Fmanual%2Frun&sv=1.0&sig=EzbdUgRX3GoGjOLlzlmZxTmNjHmEleAuWJOlohC9ILY\").value\n",
    "    \n",
    "$Response | FT"
   ]
  },
  {
   "cell_type": "code",
   "execution_count": 90,
   "metadata": {},
   "outputs": [
    {
     "name": "stdout",
     "output_type": "stream",
     "text": [
      "\n",
      "@odata.etag           : \n",
      "ItemInternalId        : ae568f33-14d5-40bf-bdbc-fdf374f705a1\n",
      "First Name            : Sarah\n",
      "Last Name             : David\n",
      "Organization          : Finance\n",
      "Job Title             : Intern\n",
      "E-mail address        : sara.david@jingtoso.com\n",
      "Form Filled out       : Completed\n",
      "HR Paperwork          : Completed\n",
      "Computer assigned     : Completed\n",
      "MFA Number setup      : Completed\n",
      "O365 License assigned : Completed\n",
      "AD Group assignment   : Completed\n",
      "\n",
      "@odata.etag           : \n",
      "ItemInternalId        : cd5f9d6c-a97c-4dc4-adc4-7a685a40855b\n",
      "First Name            : Bob\n",
      "Last Name             : Smith\n",
      "Organization          : IT\n",
      "Job Title             : Peon\n",
      "E-mail address        : bob@jingtoso.com\n",
      "Form Filled out       : Completed\n",
      "HR Paperwork          : Completed\n",
      "Computer assigned     : Not Started\n",
      "MFA Number setup      : Not Started\n",
      "O365 License assigned : Not Started\n",
      "AD Group assignment   : Not Started\n",
      "\n",
      "@odata.etag           : \n",
      "ItemInternalId        : ef37b360-f277-4c13-bdb8-161107891b12\n",
      "First Name            : Steve\n",
      "Last Name             : Smith\n",
      "Organization          : Whatever\n",
      "Job Title             : Marketing\n",
      "E-mail address        : steve.smith@microsoft.com\n",
      "Form Filled out       : Completed\n",
      "HR Paperwork          : Completed\n",
      "Computer assigned     : Completed\n",
      "MFA Number setup      : Completed\n",
      "O365 License assigned : Not Started\n",
      "AD Group assignment   : Not Started\n",
      "\n",
      "\n"
     ]
    }
   ],
   "source": [
    "$Response"
   ]
  },
  {
   "cell_type": "code",
   "execution_count": null,
   "metadata": {},
   "outputs": [],
   "source": []
  }
 ],
 "metadata": {
  "kernelspec": {
   "display_name": ".NET (PowerShell)",
   "language": "PowerShell",
   "name": ".net-powershell"
  },
  "language_info": {
   "file_extension": ".ps1",
   "mimetype": "text/x-powershell",
   "name": "PowerShell",
   "pygments_lexer": "powershell",
   "version": "7.0"
  },
  "toc-autonumbering": true
 },
 "nbformat": 4,
 "nbformat_minor": 4
}
