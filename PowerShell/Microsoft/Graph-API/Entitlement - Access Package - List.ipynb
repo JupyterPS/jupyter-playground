{
 "cells": [
  {
   "cell_type": "markdown",
   "metadata": {},
   "source": [
    "# Identity - List access packages\n",
    "\n",
    "<table align=\"left\">\n",
    "    <tr>\n",
    "        <th>Permission type</th>\n",
    "        <th>Permissions (from least to most privileged)</th>\n",
    "    <tr align=\"center\">\n",
    "        <td>Delegated (work or school account)</td>\n",
    "        <td>EntitlementManagement.Read.All, EntitlementManagement.ReadWrite.All</td>\n",
    "    </tr>\n",
    "    <tr align=\"center\">\n",
    "        <td>Delegated (personal Microsoft Account)</td>\n",
    "        <td>Not Supported</td>\n",
    "    </tr>\n",
    "    <tr align=\"center\">\n",
    "        <td>Application</td>\n",
    "        <td>Not Supported</td>\n",
    "</table>"
   ]
  },
  {
   "cell_type": "markdown",
   "metadata": {},
   "source": [
    "## Initialize variables\n",
    "Required Variables"
   ]
  },
  {
   "cell_type": "code",
   "execution_count": 17,
   "metadata": {},
   "outputs": [],
   "source": [
    "$config = @{\n",
    "    tenantDomain = \"domain.com\"\n",
    "    tenantID = \"xxxxxxx-xxxx-xxxx-xxxxx-xxxxxxxxxx\"          ## Azure AD Tenant ID\n",
    "    appID = \"xxxxxx-23af-4ae5-a6ed-xxxxxx\"                   ## Usually known as Client ID or Application ID            ## This is the secretKey. Important only authorized users have this \n",
    "    resourceURI = \"https://graph.microsoft.com\"   ## This is the resource endpoint for MDATP\n",
    "}"
   ]
  },
  {
   "cell_type": "markdown",
   "metadata": {},
   "source": [
    "## Import variables"
   ]
  },
  {
   "cell_type": "code",
   "execution_count": null,
   "metadata": {},
   "outputs": [],
   "source": [
    "$credentialPath = \".\\graph.credential\"\n",
    "\n",
    "if (!$config) {  ## Checks to see if config file exist and if not export credential file from above.\n",
    "    Try {\n",
    "        $config = (Import-CliXml -Path $credentialPath)\n",
    "        Write-Host -Foreground Green \"Imported credentials from $credentialPath\"\n",
    "    } catch {\n",
    "        Write-Host -foreground yellow \"`nNo Credential found or in memory or stored in $credentialPath.`nPlease provide credentials in cell (1) or specify path in $credentialpath\"\n",
    "    }\n",
    "} else {\n",
    "    Write-host \"New Credentials provided in Cell (1) instead of importing credentials. `nStore credentials in $credentialPath (Y or N)\" -ForegroundColor Yellow \n",
    "        $Readhost = Read-Host \" ( Y / N ) \" \n",
    "        Switch ($ReadHost) \n",
    "         { \n",
    "           Y {Write-host \"Storing credentials\"; $config | Export-CliXml -Path $storagePath} \n",
    "           N {Write-Host \"Okay, I wont store the credentials\"; $PublishSettings=$false} \n",
    "           Default {Write-Host \"No action taken\"; $PublishSettings=$false} \n",
    "         } \n",
    "}"
   ]
  },
  {
   "cell_type": "markdown",
   "metadata": {},
   "source": [
    "## Check Variables"
   ]
  },
  {
   "cell_type": "code",
   "execution_count": null,
   "metadata": {},
   "outputs": [],
   "source": [
    "$config.authUrl = \"https://login.microsoftonline.com/$($config.tenantDomain)\";\n",
    "Write-Host -ForeGroundColor Yellow \"`nAuthentication Parameters that will be used\"\n",
    "Write-Host \"Resource URL: $($config.resourceURI)\"\n",
    "Write-Host \"Client APP ID: $($config.appID)\"\n",
    "Write-Host \"AuthUrl: $($config.authUrl)\""
   ]
  },
  {
   "cell_type": "markdown",
   "metadata": {},
   "source": [
    "## Import Graph Authentication module to authenticate by Device Code\n",
    "##### We will be importing the Device Code Authentication Module. To learn about this module go to notebook [here](https://demoloaderpowershellnotebook-skyserver.msappproxy.net/lab/tree/Graph-API/Authentication%20-%20Rest%20API%20-%20Device%20Code.ipynb)"
   ]
  },
  {
   "cell_type": "code",
   "execution_count": null,
   "metadata": {},
   "outputs": [],
   "source": [
    "Import-Module \".\\modules\\GraphAuthentication.psm1\" -Force  ## Imports the module\n",
    "#Get-Command -Module \"GraphAuthentication\"                  ## Shows what commands were imported\n",
    "\n",
    "$tokenResponse = Invoke-GraphAuthenticateDeviceCode -clientAppId $config.appID -tenantDomain $config.tenantDomain"
   ]
  },
  {
   "cell_type": "markdown",
   "metadata": {},
   "source": [
    "## Make your Request Parameters for Graph Rest Call"
   ]
  },
  {
   "cell_type": "code",
   "execution_count": null,
   "metadata": {},
   "outputs": [],
   "source": [
    "## Request Parameters\n",
    "$URI = \"https://graph.microsoft.com/beta/identityGovernance/entitlementManagement/accessPackages\" ## URL of what resource to query on Graph API\n",
    "$authHeader = @{ \n",
    "    'Content-Type' = 'application/json'\n",
    "    Accept = 'application/json'\n",
    "    Authorization = \"Bearer $($tokenResponse.access_token)\" \n",
    "}\n",
    "\n",
    "Write-Host \"`nURI:\",$URI\n",
    "Write-Host \"AUth Header:\", ($authHeader | ConvertTo-JSON)"
   ]
  },
  {
   "cell_type": "markdown",
   "metadata": {},
   "source": [
    "## Call Graph API for list of access packages\n",
    "Calling the url ```https://graph.microsoft.com/beta/identityGovernance/entitlementManagement/accessPackages```"
   ]
  },
  {
   "cell_type": "code",
   "execution_count": null,
   "metadata": {},
   "outputs": [],
   "source": [
    "$Result = (Invoke-RestMethod -Method Get -Uri $URI -Headers $authHeader -ErrorAction Stop)\n",
    "\n",
    "Write-Host -ForeGroundColor Cyan \"`nHere is an example of one retrieved access package\"\n",
    "$Result.value | Select-Object -First 1 | FL  ## This will take the results and limit it to 1 item."
   ]
  },
  {
   "cell_type": "markdown",
   "metadata": {},
   "source": [
    "## Parse Results"
   ]
  },
  {
   "cell_type": "code",
   "execution_count": null,
   "metadata": {},
   "outputs": [],
   "source": [
    "#query Graph API and insert into $graphresponse variable\n",
    "$filterObjects = @('displayName','id','catalogId','description')\n",
    "$Result = (Invoke-RestMethod -Method Get -Uri $URI -Headers $authHeader -ErrorAction Stop)\n",
    "$Result.value | Select-Object -Property $filterObjects"
   ]
  },
  {
   "cell_type": "code",
   "execution_count": 39,
   "metadata": {},
   "outputs": [
    {
     "name": "stdout",
     "output_type": "stream",
     "text": [
      "https://graph.microsoft.com/beta/identityGovernance/entitlementManagement/accessPackages/e1c1bc0a-bf98-4370-97bb-752f00bac575\n"
     ]
    }
   ],
   "source": [
    "$endpoint = \"$($config.resourceURI)/beta/identityGovernance/entitlementManagement/accessPackages/e1c1bc0a-bf98-4370-97bb-752f00bac575\"; $endPoint\n",
    "$Response = (Invoke-RestMethod -Method Get -Uri $endpoint -Headers $authHeader -ErrorAction Stop)"
   ]
  },
  {
   "cell_type": "code",
   "execution_count": null,
   "metadata": {},
   "outputs": [],
   "source": [
    "$Response"
   ]
  },
  {
   "cell_type": "code",
   "execution_count": null,
   "metadata": {},
   "outputs": [],
   "source": []
  }
 ],
 "metadata": {
  "kernelspec": {
   "display_name": ".NET (PowerShell)",
   "language": "PowerShell",
   "name": ".net-powershell"
  },
  "language_info": {
   "file_extension": ".ps1",
   "mimetype": "text/x-powershell",
   "name": "PowerShell",
   "pygments_lexer": "powershell",
   "version": "7.0"
  }
 },
 "nbformat": 4,
 "nbformat_minor": 4
}
