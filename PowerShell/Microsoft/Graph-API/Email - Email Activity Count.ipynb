{
 "cells": [
  {
   "cell_type": "markdown",
   "metadata": {},
   "source": [
    "# Email Activity (Sent/Receive) Report\n",
    "- Replace variables with your tenant information\n",
    "- Import required modules\n",
    "- (Optional) Store your credentials\n",
    "- Authenticate with Graph API\n",
    "- Query the Graph API\n",
    "- Clean up results and Output to Scatter Chart"
   ]
  },
  {
   "cell_type": "markdown",
   "metadata": {},
   "source": [
    "## Set your variables here"
   ]
  },
  {
   "cell_type": "code",
   "execution_count": 16,
   "metadata": {},
   "outputs": [],
   "source": [
    "############ This is the credentials used to authenticate with the Graph API ###################\n",
    "$credentials = @{\n",
    "    tenantDomain = \"domain.com\"\n",
    "    tenantId = \"xxxxxxx-xxxx-xxxx-xxxx-xxxxxxxx\"        ## AAD Tenant ID\n",
    "    client_id = \"ae4fa870-23af-4ae5-a6ed-xxxxx\"     ## Application Client ID\n",
    "    client_secret = \"x~xxxxxxx~xxxxx~xxxxxxxxx-xxx\"   ## Application Client Secret\n",
    "}"
   ]
  },
  {
   "cell_type": "markdown",
   "metadata": {},
   "source": [
    "## Import required modules"
   ]
  },
  {
   "cell_type": "code",
   "execution_count": 20,
   "metadata": {},
   "outputs": [
    {
     "name": "stdout",
     "output_type": "stream",
     "text": [
      "\n",
      "CommandType     Name                                               Version    Source\n",
      "-----------     ----                                               -------    ------\n",
      "Function        Get-DecryptedStringUsingMasterPassword             0.0        pp-core\n",
      "Function        Get-EncryptedStringUsingMasterPassword             0.0        pp-core\n",
      "Function        Get-HashOfString                                   0.0        pp-core\n",
      "Function        Get-MasterPassword                                 0.0        pp-core\n",
      "Function        Get-StoredCredentials                              0.0        pp-core\n",
      "Function        Invoke-CheckCredentials                            0.0        pp-core\n",
      "Function        New-StoreCredentials                               0.0        pp-core\n",
      "Function        Get-MSGraphAuthToken                               0.0        graph\n",
      "Function        Invoke-GraphAuthentication                         0.0        graph\n",
      "Function        Invoke-MSGraphQuery                                0.0        graph\n",
      "\u001b[96m\n",
      "Please enter a master password that will be used to encrypt/decrypt this credential\u001b[0m\n"
     ]
    },
    {
     "name": "stdin",
     "output_type": "stream",
     "text": [
      " ·········\n"
     ]
    },
    {
     "name": "stdout",
     "output_type": "stream",
     "text": [
      "\n"
     ]
    }
   ],
   "source": [
    "$modules = @('pp-core','graph') ## These are the modules to import \n",
    "$credentialPath = \"~/.credentials/graph.credential\" ## Where to store credentials\n",
    "################## Import Graph Authentication Module #############################\n",
    "ForEach ($module in $modules) {\n",
    "    Import-Module \"~/Notebooks/Powershell-Playground/PowerShell/custom-modules/$module\" -Force  ## import module \n",
    "    Get-Command -Module \"$module\"                                                        ## list commands in this module \n",
    "}\n",
    "\n",
    "$credentials = New-StoreCredentials -credentialPath $credentialPath -credentialArray $credentials"
   ]
  },
  {
   "cell_type": "markdown",
   "metadata": {},
   "source": [
    "## Authenticate with Graph API and grab access token"
   ]
  },
  {
   "cell_type": "code",
   "execution_count": 25,
   "metadata": {},
   "outputs": [
    {
     "name": "stdout",
     "output_type": "stream",
     "text": [
      "\u001b[92m\n",
      "Authentication Parameters detected\u001b[0m\n",
      "Personal Access Token (PAT) grant_type\n",
      "\n",
      "----------------------------------------------------------------------------\n",
      "Authentiating with Microsoft Graph API using a Personal Access Token (PAT)\n",
      "\u001b[37mhttps://docs.microsoft.com/en-us/azure/storage/common/storage-auth-aad-app\u001b[0m\n",
      "----------------------------------------------------------------------------\n",
      "Requesting Token at https://login.microsoftonline.com/de40cf7e-ad5f-4245-a317-14be39cbb0ef/oauth2/token\n",
      "\u001b[92m\n",
      "\n",
      "Received Token!\u001b[0m\n",
      "\u001b[92mConnected and Access Token received and will expire \u001b[0m\n"
     ]
    }
   ],
   "source": [
    "## Get a token if authenticates properly.\n",
    "$authParams = @{\n",
    "    tenantId = $credentials.tenantId\n",
    "    client_id = $credentials.client_id\n",
    "    client_secret = $credentials.client_secret\n",
    "    resource = \"https://graph.microsoft.com\"    ## resource Dont change since we want to query MDATP REST API Resource\n",
    "    grant_type = \"client_credentials\"  ## This is using a appliation ID and secret to authenticate\n",
    "};\n",
    "\n",
    "$tokenResponse = Invoke-GraphAuthentication -authParams $authParams"
   ]
  },
  {
   "cell_type": "markdown",
   "metadata": {},
   "source": [
    "## Query the Graph API"
   ]
  },
  {
   "cell_type": "code",
   "execution_count": 22,
   "metadata": {},
   "outputs": [
    {
     "name": "stdout",
     "output_type": "stream",
     "text": [
      "URI: https://graph.microsoft.com/beta/reports/getEmailActivityCounts(period='D7')?$format=application/json\n",
      "\n",
      "@odata.type                           reportRefreshDate send receive read reportDate reportPeriod\n",
      "-----------                           ----------------- ---- ------- ---- ---------- ------------\n",
      "#microsoft.graph.emailActivitySummary 2020-06-25           2      21    1 2020-06-25 7\n",
      "#microsoft.graph.emailActivitySummary 2020-06-25           4      23      2020-06-24 7\n",
      "#microsoft.graph.emailActivitySummary 2020-06-25           2      20      2020-06-23 7\n",
      "#microsoft.graph.emailActivitySummary 2020-06-25           2      49   11 2020-06-22 7\n",
      "#microsoft.graph.emailActivitySummary 2020-06-25           2      53      2020-06-21 7\n",
      "\n"
     ]
    }
   ],
   "source": [
    "## Request Parameters\n",
    "$endpoint = \"beta/reports/getEmailActivityCounts\";\n",
    "$filters = \"(period='D$($howManyDays)')?`$format=application/json\"\n",
    "$URI = \"$resource/$($endpoint)$($filters)\"; Write-Host \"URI:\",$URI ## URL of where to query in the graph API/beta/reports/getEmailActivityCounts(period='D7')?$format=text/csv\n",
    "\n",
    "$authHeader = @{ \n",
    "    'Content-Type' = 'application/json'\n",
    "    Accept = 'application/json'\n",
    "    Authorization = \"Bearer $($tokenResponse.access_token)\" \n",
    "};\n",
    "\n",
    "#query Graph API and insert into $graphresponse variable\n",
    "$Result = (Invoke-RestMethod -Method Get -Uri $URI -Headers $authHeader -ErrorAction Stop).value\n",
    "$Result | Select -First 5 | Format-Table"
   ]
  },
  {
   "cell_type": "markdown",
   "metadata": {},
   "source": [
    "## Clean up any empty content in send and receive and generate E-mail Activity Report"
   ]
  },
  {
   "cell_type": "code",
   "execution_count": 23,
   "metadata": {},
   "outputs": [
    {
     "data": {
      "text/html": [
       "<div id=\"c2389fd3-93a2-4c9a-b782-6d5e67dd1155\" style=\"width: 900px; height: 500px;\"></div>\r\n",
       "<script type=\"text/javascript\">\n",
       "\r\n",
       "var renderPlotly = function() {\r\n",
       "    var xplotRequire = require.config({context:'xplot-3.0.1',paths:{plotly:'https://cdn.plot.ly/plotly-1.49.2.min'}}) || require;\r\n",
       "    xplotRequire(['plotly'], function(Plotly) {\n",
       "\n",
       "            var data = [{\"type\":\"scatter\",\"x\":[\"2020-06-25\",\"2020-06-24\",\"2020-06-23\",\"2020-06-22\",\"2020-06-21\",\"2020-06-20\",\"2020-06-19\"],\"y\":[21,23,20,49,53,50,66],\"name\":\"Emails Received\"},{\"type\":\"scatter\",\"x\":[\"2020-06-25\",\"2020-06-24\",\"2020-06-23\",\"2020-06-22\",\"2020-06-21\",\"2020-06-20\",\"2020-06-19\"],\"y\":[2,4,2,2,2,4,8],\"name\":\"Emails Sent\"}];\n",
       "            var layout = {\"title\":\"Emails Received vs Sent\"};\n",
       "            Plotly.newPlot('c2389fd3-93a2-4c9a-b782-6d5e67dd1155', data, layout);\n",
       "        \n",
       "});\r\n",
       "};\r\n",
       "if ((typeof(require) !==  typeof(Function)) || (typeof(require.config) !== typeof(Function))) {\r\n",
       "    var script = document.createElement(\"script\"); \r\n",
       "    script.setAttribute(\"src\", \"https://cdnjs.cloudflare.com/ajax/libs/require.js/2.3.6/require.min.js\");\r\n",
       "    script.onload = function(){\r\n",
       "        renderPlotly();\r\n",
       "    };\r\n",
       "    document.getElementsByTagName(\"head\")[0].appendChild(script); \r\n",
       "}\r\n",
       "else {\r\n",
       "    renderPlotly();\r\n",
       "}\n",
       "</script>\n"
      ]
     },
     "metadata": {},
     "output_type": "display_data"
    }
   ],
   "source": [
    "ForEach ($item in $Result) {\n",
    "    if ($item.send -eq $null) {\n",
    "        $item.send = 0\n",
    "    }\n",
    "    if ($item.receive -eq $null) {\n",
    "        $item.receive = 0\n",
    "    }\n",
    "}\n",
    "\n",
    "$sendSeries = [Graph.Scatter]@{\n",
    "    name = \"Emails Sent\"\n",
    "    x = $Result.reportDate\n",
    "    y = $Result.send\n",
    "}\n",
    "\n",
    "$receiveSeries = [Graph.Scatter]@{\n",
    "    name = \"Emails Received\"\n",
    "    x = $Result.reportDate\n",
    "    y = $Result.receive\n",
    "}\n",
    "\n",
    "$chart = @($receiveSeries, $sendSeries) | New-PlotlyChart -Title \"Emails Received vs Sent\"\n",
    "Out-Display $chart"
   ]
  },
  {
   "cell_type": "code",
   "execution_count": null,
   "metadata": {},
   "outputs": [],
   "source": []
  }
 ],
 "metadata": {
  "kernelspec": {
   "display_name": ".NET (PowerShell)",
   "language": "PowerShell",
   "name": ".net-powershell"
  },
  "language_info": {
   "file_extension": ".ps1",
   "mimetype": "text/x-powershell",
   "name": "PowerShell",
   "pygments_lexer": "powershell",
   "version": "7.0"
  },
  "toc-autonumbering": true,
  "toc-showcode": false,
  "toc-showmarkdowntxt": false
 },
 "nbformat": 4,
 "nbformat_minor": 4
}
