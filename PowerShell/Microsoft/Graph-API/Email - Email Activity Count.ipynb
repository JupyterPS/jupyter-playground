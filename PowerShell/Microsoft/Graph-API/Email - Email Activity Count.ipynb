{
 "cells": [
  {
   "cell_type": "markdown",
   "metadata": {},
   "source": [
    "# Authentication - Rest API - OAuth DeviceCode"
   ]
  },
  {
   "cell_type": "markdown",
   "metadata": {},
   "source": [
    "## Set your variables here"
   ]
  },
  {
   "cell_type": "code",
   "execution_count": 3,
   "metadata": {},
   "outputs": [],
   "source": [
    "<#\n",
    "$config = @{\n",
    "    tenantDomain = \"domain.com\"\n",
    "    tenantID = \"xxxxxxx-xxxx-xxxx-xxxxx-xxxxxxxxxx\"          ## Azure AD Tenant ID\n",
    "    appID = \"xxxxxx-23af-4ae5-a6ed-xxxxxx\"                   ## Usually known as Client ID or Application ID\n",
    "    appSecret = \"W_xxxxxxxxxxxxxxxxxx.xxxxxxxxx\"             ## This is the secretKey. Important only authorized users have this \n",
    "    resourceURI = \"https://graph.microsoft.com\"   ## This is the resource endpoint for MDATP\n",
    "}\n",
    "#>"
   ]
  },
  {
   "cell_type": "markdown",
   "metadata": {},
   "source": [
    "## Import credential from storage path or Export a new XML file using above parameters"
   ]
  },
  {
   "cell_type": "code",
   "execution_count": 1,
   "metadata": {},
   "outputs": [
    {
     "data": {
      "text/html": [
       "\r\n",
       "<div>\r\n",
       "    <div id='dotnet-interactive-this-cell-362.7b22884eb0464d4885341d6dc4f43640' style='display: none'>\r\n",
       "        The below script needs to be able to find the current output cell; this is an easy method to get it.\r\n",
       "    </div>\r\n",
       "    <script type='text/javascript'>\r\n",
       "// ensure `require` is available globally\r\n",
       "if (typeof require !== typeof Function || typeof require.config !== typeof Function) {\r\n",
       "    let require_script = document.createElement('script');\r\n",
       "    require_script.setAttribute('src', 'https://cdnjs.cloudflare.com/ajax/libs/require.js/2.3.6/require.min.js');\r\n",
       "    require_script.setAttribute('type', 'text/javascript');\r\n",
       "    require_script.onload = function () {\r\n",
       "        loadDotnetInteractiveApi();\r\n",
       "    };\r\n",
       "\r\n",
       "    document.getElementsByTagName('head')[0].appendChild(require_script);\r\n",
       "}\r\n",
       "else {\r\n",
       "    loadDotnetInteractiveApi();\r\n",
       "}\r\n",
       "\r\n",
       "async function probeAddresses(probingAddresses) {\r\n",
       "    function timeout(ms, promise) {\r\n",
       "        return new Promise(function (resolve, reject) {\r\n",
       "            setTimeout(function () {\r\n",
       "                reject(new Error('timeout'))\r\n",
       "            }, ms)\r\n",
       "            promise.then(resolve, reject)\r\n",
       "        })\r\n",
       "    }\r\n",
       "\r\n",
       "    if (Array.isArray(probingAddresses)) {\r\n",
       "        for (let i = 0; i < probingAddresses.length; i++) {\r\n",
       "\r\n",
       "            let rootUrl = probingAddresses[i];\r\n",
       "\r\n",
       "            if (!rootUrl.endsWith('/')) {\r\n",
       "                rootUrl = `${rootUrl}/`;\r\n",
       "            }\r\n",
       "\r\n",
       "            try {\r\n",
       "                let response = await timeout(1000, fetch(`${rootUrl}discovery`, {\r\n",
       "                    method: 'POST',\r\n",
       "                    cache: 'no-cache',\r\n",
       "                    mode: 'cors',\r\n",
       "                    timeout: 1000,\r\n",
       "                    headers: {\r\n",
       "                        'Content-Type': 'text/plain'\r\n",
       "                    },\r\n",
       "                    body: probingAddresses[i]\r\n",
       "                }));\r\n",
       "\r\n",
       "                if (response.status == 200) {\r\n",
       "                    return rootUrl;\r\n",
       "                }\r\n",
       "            }\r\n",
       "            catch (e) { }\r\n",
       "        }\r\n",
       "    }\r\n",
       "}\r\n",
       "\r\n",
       "function loadDotnetInteractiveApi() {\r\n",
       "    probeAddresses([\"http://10.12.12.106:1026/\", \"http://127.0.0.1:1026/\"])\r\n",
       "        .then((root) => {\r\n",
       "            // use probing to find host url and api resources\r\n",
       "            // load interactive helpers and language services\r\n",
       "            let dotnet_require = require.config({\r\n",
       "                context: '362.7b22884eb0464d4885341d6dc4f43640',\r\n",
       "                paths: {\r\n",
       "                    'dotnet-interactive': `${root}resources`\r\n",
       "                }\r\n",
       "            }) || require;\r\n",
       "            if (!window.dotnet_require) {\r\n",
       "                window.dotnet_require = dotnet_require;\r\n",
       "            }\r\n",
       "        \r\n",
       "            dotnet_require([\r\n",
       "                    'dotnet-interactive/dotnet-interactive'\r\n",
       "                ],\r\n",
       "                function (dotnet) {\r\n",
       "                    dotnet.init(window);\r\n",
       "                },\r\n",
       "                function (error) {\r\n",
       "                    console.log(error);\r\n",
       "                }\r\n",
       "            );\r\n",
       "        })\r\n",
       "        .catch(error => {console.log(error);});\r\n",
       "    }\r\n",
       "    </script>\r\n",
       "</div>"
      ]
     },
     "metadata": {},
     "output_type": "display_data"
    },
    {
     "name": "stdout",
     "output_type": "stream",
     "text": [
      "\u001b[92m\n",
      "Credential file loaded from .\\graph.credential\u001b[0m\n"
     ]
    }
   ],
   "source": [
    "## Checks to see if config file exist and if not export credential file from above.\n",
    "$storagePath = \".\\graph.credential\"\n",
    "$config = (Import-CliXml -Path $storagePath)\n",
    "if (!$config) {\n",
    "    $config | Export-CliXml -Path $storagePath\n",
    "} else {\n",
    "    Write-Host -Foregroundcolor green \"`nCredential file loaded from $($storagePath)\"\n",
    "}"
   ]
  },
  {
   "cell_type": "markdown",
   "metadata": {},
   "source": [
    "## Verify if parameters look good"
   ]
  },
  {
   "cell_type": "code",
   "execution_count": 21,
   "metadata": {},
   "outputs": [
    {
     "name": "stdout",
     "output_type": "stream",
     "text": [
      "\u001b[93mAuthentication Parameters\u001b[0m\n",
      "Resource URL: https://graph.microsoft.com/\n",
      "Client APP ID: ae*fa***-**af-*ae*-a*ed-*ab*******c*\n",
      "AuthUrl: https://login.microsoftonline.com/jingtoso.com\n"
     ]
    }
   ],
   "source": [
    "$authUrl = \"https://login.microsoftonline.com/$($config.tenantDomain)\";\n",
    "Write-Host -ForeGroundColor Yellow \"Authentication Parameters\"\n",
    "Write-Host \"Resource URL: $($config.resourceURI)\"\n",
    "Write-Host \"Client APP ID: $($config.AppId -replace \"\\d\",\"*\")\"\n",
    "Write-Host \"AuthUrl: $($authUrl)\""
   ]
  },
  {
   "cell_type": "markdown",
   "metadata": {},
   "source": [
    "## Make Rest API Call and authenticate via Device Code"
   ]
  },
  {
   "cell_type": "code",
   "execution_count": 17,
   "metadata": {},
   "outputs": [
    {
     "name": "stdout",
     "output_type": "stream",
     "text": [
      "To sign in, use a web browser to open the page https://microsoft.com/devicelogin and enter the code EHATMFJXG to authenticate.\n",
      "Waiting for code\n",
      "\u001b[92m\n",
      "Received Token!\u001b[0m\n",
      "\u001b[92mConnected and Access Token received and will expire 1592348346\u001b[0m\n"
     ]
    }
   ],
   "source": [
    "$postParams = @{ \n",
    "    resource = $config.resourceURI \n",
    "    client_id = $config.AppID\n",
    "}\n",
    "$tokenResponse = $null; \n",
    "$response = Invoke-RestMethod -Method POST -Uri \"$authurl/oauth2/devicecode\" -Body $postParams\n",
    "$tokenParams = @{ grant_type = \"device_code\"; resource = $config.resourceURI; client_id = $config.AppID; code = \"$($response.device_code)\" }\n",
    "Write-Host $response.message\n",
    "#I got tired of manually copying the code, so I did string manipulation and stored the code in a variable and added to the clipboard automatically\n",
    "$code = $response.message -match \"code\\s(.+)\\sto\"\n",
    "$code = $Matches[1]\n",
    "Set-Clipboard -Value $code\n",
    "\n",
    "Write-Host \"Waiting for code\"\n",
    "While (!$tokenResponse) {\n",
    "    Try {\n",
    "        $tokenResponse = Invoke-RestMethod -Method POST -Uri \"$authurl/oauth2/token\" -Body $tokenParams -ErrorAction Ignore\n",
    "        Write-Host -ForeGroundColor Green \"`nReceived Token!\"\n",
    "        Write-Host -ForegroundColor Green \"Connected and Access Token received and will expire $($tokenResponse.expires_on)\"\n",
    "    } Catch {\n",
    "    }\n",
    "}"
   ]
  },
  {
   "cell_type": "markdown",
   "metadata": {},
   "source": [
    "## Check if code valid"
   ]
  },
  {
   "cell_type": "code",
   "execution_count": 32,
   "metadata": {},
   "outputs": [
    {
     "name": "stdout",
     "output_type": "stream",
     "text": [
      "\n",
      "token_type : Bearer\n",
      "scope      : EntitlementManagement.Read.All Reports.Read.All User.Read User.Read.All \n",
      "             User.ReadBasic.All\n",
      "expires_on : 1592348346\n",
      "resource   : https://graph.microsoft.com/\n",
      "\n",
      "\n"
     ]
    }
   ],
   "source": [
    "$tokenResponse | Select-Object -Property @('token_type','scope','expires_on','resource') | FL"
   ]
  },
  {
   "cell_type": "markdown",
   "metadata": {},
   "source": [
    "## Query API and filter time period to last '7' days. "
   ]
  },
  {
   "cell_type": "code",
   "execution_count": 45,
   "metadata": {},
   "outputs": [
    {
     "name": "stdout",
     "output_type": "stream",
     "text": [
      "\n",
      "@odata.type                           reportRefreshDate send receive read reportDate reportPeriod\n",
      "-----------                           ----------------- ---- ------- ---- ---------- ------------\n",
      "#microsoft.graph.emailActivitySummary 2020-06-15           6      59      2020-06-15 7\n",
      "#microsoft.graph.emailActivitySummary 2020-06-15           2      52 1    2020-06-14 7\n",
      "#microsoft.graph.emailActivitySummary 2020-06-15           2      49      2020-06-13 7\n",
      "#microsoft.graph.emailActivitySummary 2020-06-15           2      46      2020-06-12 7\n",
      "#microsoft.graph.emailActivitySummary 2020-06-15           6      57      2020-06-11 7\n",
      "\n"
     ]
    }
   ],
   "source": [
    "$howManyDays = 7   # How many days do you want to go back\n",
    "\n",
    "## Request Parameters\n",
    "$URI = \"https://graph.microsoft.com/beta/reports/getEmailActivityCounts(period='D$($howManyDays)')?`$format=application/json\"  ## URL of where to query in the graph API/beta/reports/getEmailActivityCounts(period='D7')?$format=text/csv\n",
    "\n",
    "$authHeader = @{ \n",
    "    'Content-Type' = 'application/json'\n",
    "    Accept = 'application/json'\n",
    "    Authorization = \"Bearer $($tokenResponse.access_token)\" \n",
    "}\n",
    "\n",
    "#query Graph API and insert into $graphresponse variable\n",
    "$Result = (Invoke-RestMethod -Method Get -Uri $URI -Headers $authHeader -ErrorAction Stop).value\n",
    "$Result | Select -First 5 | Format-Table"
   ]
  },
  {
   "cell_type": "markdown",
   "metadata": {},
   "source": [
    "## Clean up any empty counts in send and receive and replace with 0 and generate Scatter Report based off email Activity"
   ]
  },
  {
   "cell_type": "code",
   "execution_count": 44,
   "metadata": {},
   "outputs": [
    {
     "data": {
      "text/html": [
       "<div id=\"82bbc4bd-dfcc-4e00-b4f3-dc3e9f1d3845\" style=\"width: 900px; height: 500px;\"></div>\r\n",
       "<script type=\"text/javascript\">\n",
       "\r\n",
       "var renderPlotly = function() {\r\n",
       "    var xplotRequire = require.config({context:'xplot-3.0.1',paths:{plotly:'https://cdn.plot.ly/plotly-1.49.2.min'}}) || require;\r\n",
       "    xplotRequire(['plotly'], function(Plotly) {\n",
       "\n",
       "            var data = [{\"type\":\"scatter\",\"x\":[\"2020-06-15\",\"2020-06-14\",\"2020-06-13\",\"2020-06-12\",\"2020-06-11\",\"2020-06-10\",\"2020-06-09\"],\"y\":[59,52,49,46,57,48,53],\"name\":\"Emails Received\"},{\"type\":\"scatter\",\"x\":[\"2020-06-15\",\"2020-06-14\",\"2020-06-13\",\"2020-06-12\",\"2020-06-11\",\"2020-06-10\",\"2020-06-09\"],\"y\":[6,2,2,2,6,2,3],\"name\":\"Emails Sent\"}];\n",
       "            var layout = {\"title\":\"Emails Received vs Sent\"};\n",
       "            Plotly.newPlot('82bbc4bd-dfcc-4e00-b4f3-dc3e9f1d3845', data, layout);\n",
       "        \n",
       "});\r\n",
       "};\r\n",
       "if ((typeof(require) !==  typeof(Function)) || (typeof(require.config) !== typeof(Function))) {\r\n",
       "    var script = document.createElement(\"script\"); \r\n",
       "    script.setAttribute(\"src\", \"https://cdnjs.cloudflare.com/ajax/libs/require.js/2.3.6/require.min.js\");\r\n",
       "    script.onload = function(){\r\n",
       "        renderPlotly();\r\n",
       "    };\r\n",
       "    document.getElementsByTagName(\"head\")[0].appendChild(script); \r\n",
       "}\r\n",
       "else {\r\n",
       "    renderPlotly();\r\n",
       "}\n",
       "</script>\n"
      ]
     },
     "metadata": {},
     "output_type": "display_data"
    }
   ],
   "source": [
    "ForEach ($item in $Result) {\n",
    "    if ($item.send -eq $null) {\n",
    "        $item.send = 0\n",
    "    }\n",
    "    if ($item.receive -eq $null) {\n",
    "        $item.receive = 0\n",
    "    }\n",
    "}\n",
    "\n",
    "$sendSeries = [Graph.Scatter]@{\n",
    "    name = \"Emails Sent\"\n",
    "    x = $Result.reportDate\n",
    "    y = $Result.send\n",
    "}\n",
    "\n",
    "$receiveSeries = [Graph.Scatter]@{\n",
    "    name = \"Emails Received\"\n",
    "    x = $Result.reportDate\n",
    "    y = $Result.receive\n",
    "}\n",
    "\n",
    "$chart = @($receiveSeries, $sendSeries) | New-PlotlyChart -Title \"Emails Received vs Sent\"\n",
    "Out-Display $chart"
   ]
  },
  {
   "cell_type": "code",
   "execution_count": null,
   "metadata": {},
   "outputs": [],
   "source": []
  }
 ],
 "metadata": {
  "kernelspec": {
   "display_name": ".NET (PowerShell)",
   "language": "PowerShell",
   "name": ".net-powershell"
  },
  "language_info": {
   "file_extension": ".ps1",
   "mimetype": "text/x-powershell",
   "name": "PowerShell",
   "pygments_lexer": "powershell",
   "version": "7.0"
  },
  "toc-autonumbering": true,
  "toc-showcode": false,
  "toc-showmarkdowntxt": false
 },
 "nbformat": 4,
 "nbformat_minor": 4
}
