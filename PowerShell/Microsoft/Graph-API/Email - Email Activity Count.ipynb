{
 "cells": [
  {
   "cell_type": "markdown",
   "metadata": {},
   "source": [
    "# Authentication - Rest API - OAuth DeviceCode"
   ]
  },
  {
   "cell_type": "markdown",
   "metadata": {},
   "source": [
    "## Import credential from storage path or Export a new XML file using above parameters"
   ]
  },
  {
   "cell_type": "code",
   "execution_count": 2,
   "metadata": {},
   "outputs": [],
   "source": [
    "$config = @{\n",
    "    tenantDomain = \"domain.com\"\n",
    "    tenantID = \"xxxxxxx-xxxx-xxxx-xxxxx-xxxxxxxxxx\"          ## Azure AD Tenant ID\n",
    "    appID = \"xxxxxx-23af-4ae5-a6ed-xxxxxx\"                   ## Usually known as Client ID or Application ID\n",
    "    appSecret = \"W_xxxxxxxxxxxxxxxxxx.xxxxxxxxx\"             ## This is the secretKey. Important only authorized users have this \n",
    "    resourceURI = \"https://graph.microsoft.com\"   ## This is the resource endpoint for MDATP\n",
    "}"
   ]
  },
  {
   "cell_type": "code",
   "execution_count": null,
   "metadata": {},
   "outputs": [],
   "source": [
    "## Checks to see if config file exist and if not export credential file from above.\n",
    "$storagePath = \".\\graph.credential\"\n",
    "$config = (Import-CliXml -Path $storagePath)\n",
    "if (!$config) {\n",
    "    $config | Export-CliXml -Path $storagePath\n",
    "} else {\n",
    "    Write-Host -Foregroundcolor green \"`nCredential file loaded from $($storagePath)\"\n",
    "}"
   ]
  },
  {
   "cell_type": "markdown",
   "metadata": {},
   "source": [
    "## Verify if parameters look good"
   ]
  },
  {
   "cell_type": "code",
   "execution_count": null,
   "metadata": {},
   "outputs": [],
   "source": [
    "$authUrl = \"https://login.microsoftonline.com/$($config.tenantDomain)\";\n",
    "Write-Host -ForeGroundColor Yellow \"Authentication Parameters\"\n",
    "Write-Host \"Resource URL: $($config.resourceURI)\"\n",
    "Write-Host \"Client APP ID: $($config.AppId)\"\n",
    "Write-Host \"AuthUrl: $($authUrl)\"\n",
    "\n",
    "$postParams = @{ \n",
    "    resource = $config.resourceURI \n",
    "    client_id = $config.AppID\n",
    "}\n",
    "$postParams"
   ]
  },
  {
   "cell_type": "markdown",
   "metadata": {},
   "source": [
    "## Make Rest API Call and authenticate via Device Code"
   ]
  },
  {
   "cell_type": "code",
   "execution_count": null,
   "metadata": {},
   "outputs": [],
   "source": [
    "$postParams = @{ \n",
    "    resource = $config.resourceURI \n",
    "    client_id = $config.AppID\n",
    "}\n",
    "$tokenResponse = $null; \n",
    "$response = Invoke-RestMethod -Method POST -Uri \"$authurl/oauth2/devicecode\" -Body $postParams\n",
    "$tokenParams = @{ grant_type = \"device_code\"; resource = $config.resourceURI; client_id = $config.AppID; code = \"$($response.device_code)\" }\n",
    "Write-Host $response.message\n",
    "#I got tired of manually copying the code, so I did string manipulation and stored the code in a variable and added to the clipboard automatically\n",
    "$code = $response.message -match \"code\\s(.+)\\sto\"\n",
    "$code = $Matches[1]\n",
    "Set-Clipboard -Value $code\n",
    "\n",
    "Write-Host \"Waiting for code\"\n",
    "While (!$tokenResponse) {\n",
    "    Try {\n",
    "        $tokenResponse = Invoke-RestMethod -Method POST -Uri \"$authurl/oauth2/token\" -Body $tokenParams -ErrorAction Ignore\n",
    "        Write-Host -ForeGroundColor Green \"`nReceived Token!\"\n",
    "        Write-Host -ForegroundColor Green \"Connected and Access Token received and will expire $($tokenResponse.expires_on)\"\n",
    "    } Catch {\n",
    "    }\n",
    "}"
   ]
  },
  {
   "cell_type": "markdown",
   "metadata": {},
   "source": [
    "## Check if code valid"
   ]
  },
  {
   "cell_type": "code",
   "execution_count": null,
   "metadata": {},
   "outputs": [],
   "source": [
    "$tokenResponse | Select-Object -Property @('token_type','scope','expires_on','resource') | FL"
   ]
  },
  {
   "cell_type": "code",
   "execution_count": null,
   "metadata": {},
   "outputs": [],
   "source": [
    "$howManyDays = 7   # How many days do you want to go back\n",
    "$reportFormat = 'application/json'   #report Format \n",
    "\n",
    "## Request Parameters\n",
    "$URI = \"https://graph.microsoft.com/beta/reports/getEmailActivityCounts(period='D30')?`$format=application/json\"  ## URL of where to query in the graph API/beta/reports/getEmailActivityCounts(period='D7')?$format=text/csv\n",
    "$URI\n",
    "$authHeader = @{ \n",
    "    'Content-Type' = 'application/json'\n",
    "    Accept = 'application/json'\n",
    "    Authorization = \"Bearer $($tokenResponse.access_token)\" \n",
    "}\n"
   ]
  },
  {
   "cell_type": "code",
   "execution_count": null,
   "metadata": {},
   "outputs": [],
   "source": [
    "(Invoke-RestMethod -Method Get -Uri $URI -Headers $authHeader -ErrorAction Stop)"
   ]
  },
  {
   "cell_type": "code",
   "execution_count": null,
   "metadata": {},
   "outputs": [],
   "source": [
    "#query Graph API and insert into $graphresponse variable\n",
    "$Result = (Invoke-RestMethod -Method Get -Uri $URI -Headers $authHeader -ErrorAction Stop).value\n",
    "$Result | Select -First 5 | Format-Table"
   ]
  },
  {
   "cell_type": "markdown",
   "metadata": {},
   "source": [
    "## Clean up any empty counts in send and receive and replace with '0'"
   ]
  },
  {
   "cell_type": "code",
   "execution_count": null,
   "metadata": {},
   "outputs": [],
   "source": [
    "ForEach ($item in $Result) {\n",
    "    if ($item.send -eq $null) {\n",
    "        $item.send = 0\n",
    "    }\n",
    "    if ($item.receive -eq $null) {\n",
    "        $item.receive = 0\n",
    "    }\n",
    "}"
   ]
  },
  {
   "cell_type": "markdown",
   "metadata": {},
   "source": [
    "### Generate Scatter Report based off email Activity"
   ]
  },
  {
   "cell_type": "code",
   "execution_count": null,
   "metadata": {},
   "outputs": [],
   "source": [
    "$sendSeries = [Graph.Scatter]@{\n",
    "    name = \"Emails Sent\"\n",
    "    x = $Result.reportDate\n",
    "    y = $Result.send\n",
    "}\n",
    "\n",
    "$receiveSeries = [Graph.Scatter]@{\n",
    "    name = \"Emails Received\"\n",
    "    x = $Result.reportDate\n",
    "    y = $Result.receive\n",
    "}\n",
    "\n",
    "$chart = @($receiveSeries, $sendSeries) | New-PlotlyChart -Title \"Emails Received vs Sent\"\n",
    "Out-Display $chart"
   ]
  }
 ],
 "metadata": {
  "kernelspec": {
   "display_name": ".NET (PowerShell)",
   "language": "PowerShell",
   "name": ".net-powershell"
  },
  "language_info": {
   "file_extension": ".ps1",
   "mimetype": "text/x-powershell",
   "name": "PowerShell",
   "pygments_lexer": "powershell",
   "version": "7.0"
  },
  "toc-autonumbering": true,
  "toc-showcode": false,
  "toc-showmarkdowntxt": false
 },
 "nbformat": 4,
 "nbformat_minor": 4
}
