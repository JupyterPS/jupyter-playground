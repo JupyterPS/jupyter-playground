{
 "cells": [
  {
   "cell_type": "markdown",
   "metadata": {},
   "source": [
    "# MDATP - Use query from Github Repository"
   ]
  },
  {
   "cell_type": "markdown",
   "metadata": {},
   "source": [
    "## Import Credential from graph.credential file"
   ]
  },
  {
   "cell_type": "code",
   "execution_count": 11,
   "metadata": {},
   "outputs": [
    {
     "name": "stdout",
     "output_type": "stream",
     "text": [
      "\u001b[92m\n",
      "Credential file loaded from .\\Credentials\\graph.credential\u001b[0m\n"
     ]
    }
   ],
   "source": [
    "$storagePath = \".\\Credentials\\graph.credential\"\n",
    "$config = (Import-CliXml -Path $storagePath)\n",
    "if (!$config) {\n",
    "    $config | Export-CliXml -Path $storagePath\n",
    "} else {\n",
    "    Write-Host -Foregroundcolor green \"`nCredential file loaded from $($storagePath)\"\n",
    "}"
   ]
  },
  {
   "cell_type": "markdown",
   "metadata": {},
   "source": [
    "## Grabs Access Token to access environment"
   ]
  },
  {
   "cell_type": "code",
   "execution_count": 23,
   "metadata": {},
   "outputs": [
    {
     "name": "stdout",
     "output_type": "stream",
     "text": [
      "\u001b[92mToken received\u001b[0m\n",
      "eyJ0eXAiOiJKV1QiLCJhbGciOiJSUzI1NiIsIng1dCI6IlNzWnNCTmhaY0YzUTlTNHRycFFCVEJ5TlJSSSIsImtpZCI6IlNzWnNCTmhaY0YzUTlTNHRycFFCVEJ5TlJSSSJ9.eyJhdWQiOiJodHRwczovL2FwaS5zZWN1cml0eWNlbnRlci53aW5kb3dzLmNvbSIsImlzcyI6Imh0dHBzOi8vc3RzLndpbmRvd3MubmV0L2RlNDBjZjdlLWFkNWYtNDI0NS1hMzE3LTE0YmUzOWNiYjBlZi8iLCJpYXQiOjE1OTIyNzU1ODQsIm5iZiI6MTU5MjI3NTU4NCwiZXhwIjoxNTkyMjc5NDg0LCJhaW8iOiI0MmRnWU5pcTU2VmdJakZaYUk2aVZIV0w1dTF2QUE9PSIsImFwcGlkIjoiYWU0ZmE4NzAtMjNhZi00YWU1LWE2ZWQtNWFiMTgxMTg1OGM3IiwiYXBwaWRhY3IiOiIxIiwiaWRwIjoiaHR0cHM6Ly9zdHMud2luZG93cy5uZXQvZGU0MGNmN2UtYWQ1Zi00MjQ1LWEzMTctMTRiZTM5Y2JiMGVmLyIsIm9pZCI6IjMwYzExZThiLWMwZGItNDkwMC05MDUwLTg5MmZlZmEwYjNmMCIsInJvbGVzIjpbIkV2ZW50LldyaXRlIiwiVXJsLlJlYWQuQWxsIiwiSXAuUmVhZC5BbGwiLCJUaS5SZWFkLkFsbCIsIlVzZXIuUmVhZC5BbGwiLCJTZWN1cml0eVJlY29tbWVuZGF0aW9uLlJlYWQuQWxsIiwiQWxlcnQuUmVhZC5BbGwiLCJTb2Z0d2FyZS5SZWFkLkFsbCIsIlNlY3VyaXR5Q29uZmlndXJhdGlvbi5SZWFkLkFsbCIsIkZpbGUuUmVhZC5BbGwiLCJWdWxuZXJhYmlsaXR5LlJlYWQuQWxsIiwiTWFjaGluZS5SZWFkLkFsbCIsIlNjb3JlLlJlYWQuQWxsIiwiQWxlcnQuUmVhZFdyaXRlLkFsbCIsIkFkdmFuY2VkUXVlcnkuUmVhZC5BbGwiXSwic3ViIjoiMzBjMTFlOGItYzBkYi00OTAwLTkwNTAtODkyZmVmYTBiM2YwIiwidGlkIjoiZGU0MGNmN2UtYWQ1Zi00MjQ1LWEzMTctMTRiZTM5Y2JiMGVmIiwidXRpIjoiUUw2ZUlQQnRHMHk4RG10UW94YUtBQSIsInZlciI6IjEuMCJ9.XlcqdsT9euAAyKvQTzYBSpgXKV_FiLI5gLbSyld47kBICUpzCv-mD4dcI18Fhs-4vg_O_qpz42mypTXs7O9nnhkpIh6LgYjE9ELHHav-MrulX5N7LYTxdtnZ8fR6ReDZ9IrYZYcP8wuL0hxjoyRU6y0YwueTa1t-ymitiHG6TCU_jwrNeqBAoXP7L1_IHXBGy44lQlx6bR8suezKIJ4Z1AY-OJWT9nWbCRrle4xm_mSMh4tN-w1qqC2gbLJQo31wqWsQxopvzRraeoQULy-mCLLV7JlvqXtCc4PDtQaACXZh_elRk9E0EeHAKnap1gzDoIYuehRXLoI4VnMxbZRxrA\n"
     ]
    }
   ],
   "source": [
    "$resourceURI = 'https://api.securitycenter.windows.com'\n",
    "$oAuthUri = \"https://login.windows.net/$($config.tenantID)/oauth2/token\"\n",
    "$authBody = [Ordered] @{\n",
    "    resource = $resourceURI\n",
    "    client_id = $config.appID\n",
    "    client_secret = $config.appSecret\n",
    "    grant_type = 'client_credentials'\n",
    "}\n",
    "$authResponse = Invoke-RestMethod -Method Post -Uri $oAuthUri -Body $authBody -ErrorAction Stop\n",
    "$token = $authResponse.access_token\n",
    "if ($token) {\n",
    "    Write-Host -ForeGroundColor Green \"Token received\"\n",
    "}\n",
    "$token"
   ]
  },
  {
   "cell_type": "markdown",
   "metadata": {},
   "source": [
    "## Pull raw query from Github\n",
    "Be sure to provide the <font color=Green><b>RAW Content</b></font> and not a the github link of the source"
   ]
  },
  {
   "cell_type": "code",
   "execution_count": 24,
   "metadata": {},
   "outputs": [
    {
     "data": {
      "text/plain": []
     },
     "metadata": {},
     "output_type": "display_data"
    },
    {
     "name": "stdout",
     "output_type": "stream",
     "text": [
      "// This query finds network communication to specific URL\n",
      "// Please note that in line #7 it filters RemoteUrl using has operator, which looks for a \"whole term\" and runs faster.\n",
      "// Example: RemoteUrl has \"microsoft\" matches \"www.microsoft.com\" but not \"microsoftonline.com\"\n",
      "let partialRemoteUrlToDetect = \"microsoft.com\"; // Change this to a URL you'd like to find machines connecting to\n",
      "DeviceNetworkEvents  \n",
      "| where Timestamp > ago(7d)\n",
      "and RemoteUrl has partialRemoteUrlToDetect // Can be changed to \"contains\" operator as explained above\n",
      "| project Timestamp, DeviceName, DeviceId, ReportId\n",
      "| top 100 by Timestamp desc\n",
      "\n"
     ]
    }
   ],
   "source": [
    "$rawGithubLink = \"https://raw.githubusercontent.com/microsoft/Microsoft-threat-protection-Hunting-Queries/master/Discovery/URL%20Detection.txt\"\n",
    "$Response = Invoke-WebRequest -Method GET -URI $rawGithubLink\n",
    "$Response.Content"
   ]
  },
  {
   "cell_type": "markdown",
   "metadata": {},
   "source": [
    "## Put your Hunting Query here"
   ]
  },
  {
   "cell_type": "code",
   "execution_count": 20,
   "metadata": {},
   "outputs": [
    {
     "name": "stdout",
     "output_type": "stream",
     "text": [
      "\u001b[93m\n",
      "Query\u001b[0m\n",
      "// This query finds network communication to specific URL\n",
      "// Please note that in line #7 it filters RemoteUrl using has operator, which looks for a \"whole term\" and runs faster.\n",
      "// Example: RemoteUrl has \"microsoft\" matches \"www.microsoft.com\" but not \"microsoftonline.com\"\n",
      "let partialRemoteUrlToDetect = \"microsoft.com\"; // Change this to a URL you'd like to find machines connecting to\n",
      "DeviceNetworkEvents  \n",
      "| where Timestamp > ago(7d)\n",
      "and RemoteUrl has partialRemoteUrlToDetect // Can be changed to \"contains\" operator as explained above\n",
      "| project Timestamp, DeviceName, DeviceId, ReportId\n",
      "| top 100 by Timestamp desc\n",
      "\u001b[93mJSON\u001b[0m\n",
      "{\n",
      "  \"Query\": \"// This query finds network communication to specific URL\\n// Please note that in line #7 it filters RemoteUrl using has operator, which looks for a \\\"whole term\\\" and runs faster.\\n// Example: RemoteUrl has \\\"microsoft\\\" matches \\\"www.microsoft.com\\\" but not \\\"microsoftonline.com\\\"\\nlet partialRemoteUrlToDetect = \\\"microsoft.com\\\"; // Change this to a URL you'd like to find machines connecting to\\nDeviceNetworkEvents  \\n| where Timestamp > ago(7d)\\nand RemoteUrl has partialRemoteUrlToDetect // Can be changed to \\\"contains\\\" operator as explained above\\n| project Timestamp, DeviceName, DeviceId, ReportId\\n| top 100 by Timestamp desc\"\n",
      "}\n"
     ]
    }
   ],
   "source": [
    "## Put your query on the 3rd Line below $Query and make sure it ends with #@\n",
    "$Query = @\"\n",
    "// This query finds network communication to specific URL\n",
    "// Please note that in line #7 it filters RemoteUrl using has operator, which looks for a \"whole term\" and runs faster.\n",
    "// Example: RemoteUrl has \"microsoft\" matches \"www.microsoft.com\" but not \"microsoftonline.com\"\n",
    "let partialRemoteUrlToDetect = \"microsoft.com\"; // Change this to a URL you'd like to find machines connecting to\n",
    "DeviceNetworkEvents  \n",
    "| where Timestamp > ago(7d)\n",
    "and RemoteUrl has partialRemoteUrlToDetect // Can be changed to \"contains\" operator as explained above\n",
    "| project Timestamp, DeviceName, DeviceId, ReportId\n",
    "| top 100 by Timestamp desc\n",
    "\"@\n",
    "\n",
    "$body = @{Query = $Query} | ConvertTo-JSON\n",
    "\n",
    "Write-Host -ForeGround Yellow \"`nQuery\"; $Query\n",
    "Write-Host -ForeGround Yellow \"JSON\"; $body"
   ]
  },
  {
   "cell_type": "markdown",
   "metadata": {},
   "source": [
    "## Query the MDATP API Grab report schema "
   ]
  },
  {
   "cell_type": "code",
   "execution_count": 21,
   "metadata": {},
   "outputs": [
    {
     "name": "stdout",
     "output_type": "stream",
     "text": [
      "\n",
      "Name                           Value\n",
      "----                           -----\n",
      "Accept                         application/json\n",
      "Content-Type                   application/json\n",
      "Authorization                  Bearer eyJ0eXAiOiJKV1QiLCJhbGciOiJSUzI1NiIsIng1dCI6IlNzWnNCTmhaY0Yz…\n",
      "\n",
      "Name : Timestamp\n",
      "Type : DateTime\n",
      "\n",
      "\n",
      "Name : DeviceName\n",
      "Type : String\n",
      "\n",
      "\n",
      "Name : DeviceId\n",
      "Type : String\n",
      "\n",
      "\n",
      "Name : ReportId\n",
      "Type : Int64\n",
      "\n",
      "\n"
     ]
    }
   ],
   "source": [
    "$URI = \"https://api.securitycenter.windows.com/api/advancedqueries/run\"\n",
    "$authHeader = @{ \n",
    "    'Content-Type' = 'application/json'\n",
    "    Accept = 'application/json'\n",
    "    Authorization = \"Bearer $token\" }\n",
    "$authHeader\n",
    "$Result = (Invoke-RestMethod -Method POST -Uri $URI -Headers $authHeader -body $body -ErrorAction Stop)\n",
    "$Result.Schema"
   ]
  },
  {
   "cell_type": "markdown",
   "metadata": {},
   "source": [
    "## Parse report"
   ]
  },
  {
   "cell_type": "code",
   "execution_count": 22,
   "metadata": {},
   "outputs": [
    {
     "name": "stdout",
     "output_type": "stream",
     "text": [
      "\n",
      "Timestamp             DeviceName        ActionType RemoteIP\n",
      "---------             ----------        ---------- --------\n",
      "6/16/2020 2:13:41 AM  jingtoso-desktop1            \n",
      "6/16/2020 2:12:11 AM  win10-oobe-test              \n",
      "6/16/2020 2:06:25 AM  jingtoso-desktop1            \n",
      "6/16/2020 2:06:24 AM  jingtoso-desktop1            \n",
      "6/16/2020 2:06:19 AM  jingtoso-desktop1            \n",
      "6/16/2020 2:03:16 AM  jingtoso-desktop1            \n",
      "6/16/2020 2:03:15 AM  jingtoso-desktop1            \n",
      "6/16/2020 2:02:54 AM  jingtoso-desktop1            \n",
      "6/16/2020 2:01:16 AM  win10-oobe-test              \n",
      "6/16/2020 2:00:07 AM  win10-oobe-test              \n",
      "6/16/2020 1:55:00 AM  jingtoso-desktop1            \n",
      "6/16/2020 1:53:00 AM  jingtoso-desktop1            \n",
      "6/16/2020 1:42:12 AM  win10-oobe-test              \n",
      "6/16/2020 1:40:20 AM  jingtoso-desktop1            \n",
      "6/16/2020 1:16:01 AM  win10-oobe-test              \n",
      "6/16/2020 12:48:07 AM jing-lab                     \n",
      "6/16/2020 12:12:11 AM win10-oobe-test              \n",
      "6/16/2020 12:12:10 AM win10-oobe-test              \n",
      "6/15/2020 11:55:07 PM jingtoso-desktop1            \n",
      "6/15/2020 11:47:48 PM win10-oobe-test              \n",
      "6/15/2020 11:42:10 PM win10-oobe-test              \n",
      "6/15/2020 11:01:42 PM win10-oobe-test              \n",
      "6/15/2020 10:33:33 PM win10-oobe-test              \n",
      "6/15/2020 10:29:51 PM win10-oobe-test              \n",
      "6/15/2020 10:22:18 PM win10-oobe-test              \n",
      "6/15/2020 10:22:16 PM win10-oobe-test              \n",
      "6/15/2020 10:22:15 PM win10-oobe-test              \n",
      "6/15/2020 10:15:38 PM win10-oobe-test              \n",
      "6/15/2020 10:12:25 PM win10-oobe-test              \n",
      "6/15/2020 10:12:10 PM win10-oobe-test              \n",
      "6/15/2020 10:03:31 PM win10-oobe-test              \n",
      "6/15/2020 9:59:55 PM  win10-oobe-test              \n",
      "6/15/2020 9:49:29 PM  win10-oobe-test              \n",
      "6/15/2020 9:42:10 PM  win10-oobe-test              \n",
      "6/15/2020 9:32:03 PM  win10-oobe-test              \n",
      "6/15/2020 9:31:44 PM  win10-oobe-test              \n",
      "6/15/2020 9:31:42 PM  win10-oobe-test              \n",
      "6/15/2020 9:31:40 PM  win10-oobe-test              \n",
      "6/15/2020 9:31:37 PM  win10-oobe-test              \n",
      "6/15/2020 9:31:36 PM  win10-oobe-test              \n",
      "6/15/2020 9:12:10 PM  win10-oobe-test              \n",
      "6/15/2020 9:05:23 PM  win10-oobe-test              \n",
      "6/15/2020 8:27:18 PM  win10-oobe-test              \n",
      "6/15/2020 8:22:34 PM  jing-lab                     \n",
      "6/15/2020 8:10:14 PM  jing-lab                     \n",
      "6/15/2020 7:55:19 PM  win10-oobe-test              \n",
      "6/15/2020 7:42:10 PM  win10-oobe-test              \n",
      "6/15/2020 7:40:05 PM  jing-lab                     \n",
      "6/15/2020 7:34:09 PM  win10-oobe-test              \n",
      "6/15/2020 7:11:01 PM  win10-oobe-test              \n",
      "6/15/2020 7:09:54 PM  jing-lab                     \n",
      "6/15/2020 6:58:57 PM  jingtoso-desktop1            \n",
      "6/15/2020 6:42:09 PM  win10-oobe-test              \n",
      "6/15/2020 6:05:58 PM  jingtoso-desktop1            \n",
      "6/15/2020 6:02:49 PM  win10-oobe-test              \n",
      "6/15/2020 6:00:49 PM  win10-oobe-test              \n",
      "6/15/2020 5:42:09 PM  win10-oobe-test              \n",
      "6/15/2020 5:36:51 PM  jing-lab                     \n",
      "6/15/2020 5:20:18 PM  win10-oobe-test              \n",
      "6/15/2020 4:42:08 PM  win10-oobe-test              \n",
      "6/15/2020 4:12:09 PM  win10-oobe-test              \n",
      "6/15/2020 3:47:38 PM  win10-oobe-test              \n",
      "6/15/2020 3:16:39 PM  jing-lab                     \n",
      "6/15/2020 3:16:39 PM  jing-lab                     \n",
      "6/15/2020 3:15:33 PM  win10-oobe-test              \n",
      "6/15/2020 3:02:37 PM  jingtoso-desktop1            \n",
      "6/15/2020 2:53:29 PM  jing-lab                     \n",
      "6/15/2020 2:52:54 PM  win10-oobe-test              \n",
      "6/15/2020 2:42:33 PM  win10-oobe-test              \n",
      "6/15/2020 2:42:33 PM  win10-oobe-test              \n",
      "6/15/2020 2:42:30 PM  win10-oobe-test              \n",
      "6/15/2020 2:26:01 PM  jingtoso-desktop1            \n",
      "6/15/2020 2:22:33 PM  jing-lab                     \n",
      "6/15/2020 2:18:07 PM  jing-lab                     \n",
      "6/15/2020 2:12:08 PM  win10-oobe-test              \n",
      "6/15/2020 1:53:09 PM  jing-lab                     \n",
      "6/15/2020 1:45:17 PM  win10-oobe-test              \n",
      "6/15/2020 1:42:08 PM  win10-oobe-test              \n",
      "6/15/2020 1:26:47 PM  win10-oobe-test              \n",
      "6/15/2020 1:12:07 PM  win10-oobe-test              \n",
      "6/15/2020 1:12:07 PM  win10-oobe-test              \n",
      "6/15/2020 1:08:10 PM  win10-oobe-test              \n",
      "6/15/2020 1:08:10 PM  win10-oobe-test              \n",
      "6/15/2020 12:57:09 PM jingtoso-desktop1            \n",
      "6/15/2020 12:52:09 PM jingtoso-desktop1            \n",
      "6/15/2020 12:52:09 PM jingtoso-desktop1            \n",
      "6/15/2020 12:52:08 PM jingtoso-desktop1            \n",
      "6/15/2020 12:52:08 PM jingtoso-desktop1            \n",
      "6/15/2020 12:38:37 PM win10-oobe-test              \n",
      "6/15/2020 12:38:20 PM win10-oobe-test              \n",
      "6/15/2020 12:18:34 PM win10-oobe-test              \n",
      "6/15/2020 12:14:34 PM win10-oobe-test              \n",
      "6/15/2020 12:12:07 PM win10-oobe-test              \n",
      "6/15/2020 12:12:07 PM win10-oobe-test              \n",
      "6/15/2020 12:11:20 PM jing-lab                     \n",
      "6/15/2020 11:58:06 AM jingtoso-desktop1            \n",
      "6/15/2020 11:43:58 AM win10-oobe-test              \n",
      "6/15/2020 11:42:07 AM win10-oobe-test              \n",
      "6/15/2020 11:36:27 AM win10-oobe-test              \n",
      "6/15/2020 11:34:58 AM jing-lab                     \n",
      "\n"
     ]
    }
   ],
   "source": [
    "$includeColumns = @('Timestamp','DeviceName','ActionType','RemoteIP')\n",
    "$Result.Results | Select-Object -Property $includeColumns"
   ]
  },
  {
   "cell_type": "code",
   "execution_count": null,
   "metadata": {},
   "outputs": [],
   "source": []
  }
 ],
 "metadata": {
  "kernelspec": {
   "display_name": ".NET (PowerShell)",
   "language": "PowerShell",
   "name": ".net-powershell"
  },
  "language_info": {
   "file_extension": ".ps1",
   "mimetype": "text/x-powershell",
   "name": "PowerShell",
   "pygments_lexer": "powershell",
   "version": "7.0"
  }
 },
 "nbformat": 4,
 "nbformat_minor": 4
}
