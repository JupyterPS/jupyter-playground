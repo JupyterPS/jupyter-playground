{
 "cells": [
  {
   "cell_type": "markdown",
   "metadata": {},
   "source": [
    "# MDATP - Use query from Github Repository"
   ]
  },
  {
   "cell_type": "markdown",
   "metadata": {},
   "source": [
    "\n",
    "## Replace variables with pertaining to your environment"
   ]
  },
  {
   "cell_type": "code",
   "execution_count": 40,
   "metadata": {},
   "outputs": [],
   "source": [
    "############ This is the credentials used to authenticate with the Graph API ###################\n",
    "$credentials = @{\n",
    "    tenantDomain = \"domain.com\"\n",
    "    tenantId = \"xxxxxxx-xxxx-xxxx-xxxx-xxxxxxxx\"        ## AAD Tenant ID\n",
    "    client_id = \"ae4fa870-23af-4ae5-a6ed-xxxxx\"     ## Application Client ID\n",
    "    client_secret = \"x~xxxxxxx~xxxxx~xxxxxxxxx-xxx\"   ## Application Client Secret\n",
    "}"
   ]
  },
  {
   "cell_type": "markdown",
   "metadata": {},
   "source": [
    "## Import required modules and credentials "
   ]
  },
  {
   "cell_type": "code",
   "execution_count": 1,
   "metadata": {},
   "outputs": [
    {
     "data": {
      "text/html": [
       "\r\n",
       "<div>\r\n",
       "    <div id='dotnet-interactive-this-cell-32932.f6af027fe0454a6d9828aaacd20c926f' style='display: none'>\r\n",
       "        The below script needs to be able to find the current output cell; this is an easy method to get it.\r\n",
       "    </div>\r\n",
       "    <script type='text/javascript'>\r\n",
       "// ensure `require` is available globally\r\n",
       "if (typeof require !== typeof Function || typeof require.config !== typeof Function) {\r\n",
       "    let require_script = document.createElement('script');\r\n",
       "    require_script.setAttribute('src', 'https://cdnjs.cloudflare.com/ajax/libs/require.js/2.3.6/require.min.js');\r\n",
       "    require_script.setAttribute('type', 'text/javascript');\r\n",
       "    require_script.onload = function () {\r\n",
       "        loadDotnetInteractiveApi();\r\n",
       "    };\r\n",
       "\r\n",
       "    document.getElementsByTagName('head')[0].appendChild(require_script);\r\n",
       "}\r\n",
       "else {\r\n",
       "    loadDotnetInteractiveApi();\r\n",
       "}\r\n",
       "\r\n",
       "async function probeAddresses(probingAddresses) {\r\n",
       "    function timeout(ms, promise) {\r\n",
       "        return new Promise(function (resolve, reject) {\r\n",
       "            setTimeout(function () {\r\n",
       "                reject(new Error('timeout'))\r\n",
       "            }, ms)\r\n",
       "            promise.then(resolve, reject)\r\n",
       "        })\r\n",
       "    }\r\n",
       "\r\n",
       "    if (Array.isArray(probingAddresses)) {\r\n",
       "        for (let i = 0; i < probingAddresses.length; i++) {\r\n",
       "\r\n",
       "            let rootUrl = probingAddresses[i];\r\n",
       "\r\n",
       "            if (!rootUrl.endsWith('/')) {\r\n",
       "                rootUrl = `${rootUrl}/`;\r\n",
       "            }\r\n",
       "\r\n",
       "            try {\r\n",
       "                let response = await timeout(1000, fetch(`${rootUrl}discovery`, {\r\n",
       "                    method: 'POST',\r\n",
       "                    cache: 'no-cache',\r\n",
       "                    mode: 'cors',\r\n",
       "                    timeout: 1000,\r\n",
       "                    headers: {\r\n",
       "                        'Content-Type': 'text/plain'\r\n",
       "                    },\r\n",
       "                    body: probingAddresses[i]\r\n",
       "                }));\r\n",
       "\r\n",
       "                if (response.status == 200) {\r\n",
       "                    return rootUrl;\r\n",
       "                }\r\n",
       "            }\r\n",
       "            catch (e) { }\r\n",
       "        }\r\n",
       "    }\r\n",
       "}\r\n",
       "\r\n",
       "function loadDotnetInteractiveApi() {\r\n",
       "    probeAddresses([\"http://172.17.0.2:1031/\", \"http://127.0.0.1:1031/\"])\r\n",
       "        .then((root) => {\r\n",
       "            // use probing to find host url and api resources\r\n",
       "            // load interactive helpers and language services\r\n",
       "            let dotnet_require = require.config({\r\n",
       "                context: '32932.f6af027fe0454a6d9828aaacd20c926f',\r\n",
       "                paths: {\r\n",
       "                    'dotnet-interactive': `${root}resources`\r\n",
       "                }\r\n",
       "            }) || require;\r\n",
       "            if (!window.dotnet_require) {\r\n",
       "                window.dotnet_require = dotnet_require;\r\n",
       "            }\r\n",
       "        \r\n",
       "            dotnet_require([\r\n",
       "                    'dotnet-interactive/dotnet-interactive'\r\n",
       "                ],\r\n",
       "                function (dotnet) {\r\n",
       "                    dotnet.init(window);\r\n",
       "                },\r\n",
       "                function (error) {\r\n",
       "                    console.log(error);\r\n",
       "                }\r\n",
       "            );\r\n",
       "        })\r\n",
       "        .catch(error => {console.log(error);});\r\n",
       "    }\r\n",
       "    </script>\r\n",
       "</div>"
      ]
     },
     "metadata": {},
     "output_type": "display_data"
    },
    {
     "name": "stdout",
     "output_type": "stream",
     "text": [
      "\n",
      "CommandType     Name                                               Version    Source\n",
      "-----------     ----                                               -------    ------\n",
      "Function        Get-DecryptedStringUsingMasterPassword             0.0        pp-core\n",
      "Function        Get-EncryptedStringUsingMasterPassword             0.0        pp-core\n",
      "Function        Get-HashOfString                                   0.0        pp-core\n",
      "Function        Get-MasterPassword                                 0.0        pp-core\n",
      "Function        Get-StoredCredentials                              0.0        pp-core\n",
      "Function        Invoke-CheckCredentials                            0.0        pp-core\n",
      "Function        New-StoreCredentials                               0.0        pp-core\n",
      "Function        Get-MSGraphAuthToken                               0.0        graph\n",
      "Function        Invoke-GraphAuthentication                         0.0        graph\n",
      "Function        Invoke-MSGraphQuery                                0.0        graph\n",
      "\u001b[96m\n",
      "Please enter a master password that will be used to encrypt/decrypt this credential\u001b[0m\n"
     ]
    },
    {
     "name": "stdin",
     "output_type": "stream",
     "text": [
      " ·········\n"
     ]
    },
    {
     "name": "stdout",
     "output_type": "stream",
     "text": [
      "\n"
     ]
    }
   ],
   "source": [
    "$modules = @('pp-core','graph') ## These are the modules to import \n",
    "$credentialPath = \"~/.credentials/graph.credential\" ## Where to store credentials\n",
    "\n",
    "################## Import Graph Authentication Module #############################\n",
    "ForEach ($module in $modules) {\n",
    "    Import-Module \"~/Notebooks/Powershell-Playground/PowerShell/custom-modules/$module\" -Force  ## import module \n",
    "    Get-Command -Module \"$module\"                                                        ## list commands in this module \n",
    "}\n",
    "\n",
    "$credentials = Get-StoredCredentials -credentialPath $credentialPath"
   ]
  },
  {
   "cell_type": "markdown",
   "metadata": {},
   "source": [
    "## Authenticate with Graph API and get access Token for MDATP Resource"
   ]
  },
  {
   "cell_type": "code",
   "execution_count": 2,
   "metadata": {},
   "outputs": [
    {
     "name": "stdout",
     "output_type": "stream",
     "text": [
      "\n",
      "Name                           Value\n",
      "----                           -----\n",
      "client_id                      ae4fa870-23af-4ae5-a6ed-5ab1811858c7\n",
      "tenantId                       de40cf7e-ad5f-4245-a317-14be39cbb0ef\n",
      "resource                       https://api.securitycenter.windows.com\n",
      "client_secret                  5~Q5En6ecx9d~ZtuqPf~YRBLw5S858-7WS\n",
      "grant_type                     client_credentials\n",
      "\u001b[92m\n",
      "Authentication Parameters detected\u001b[0m\n",
      "Personal Access Token (PAT) grant_type\n",
      "\n",
      "----------------------------------------------------------------------------\n",
      "Authentiating with Microsoft Graph API using a Personal Access Token (PAT)\n",
      "\u001b[37mhttps://docs.microsoft.com/en-us/azure/storage/common/storage-auth-aad-app\u001b[0m\n",
      "----------------------------------------------------------------------------\n",
      "Requesting Token at https://login.microsoftonline.com/de40cf7e-ad5f-4245-a317-14be39cbb0ef/oauth2/token\n",
      "\u001b[92m\n",
      "\n",
      "Received Token!\u001b[0m\n",
      "\u001b[92mConnected and Access Token received and will expire \u001b[0m\n",
      "\n",
      "token_type     : Bearer\n",
      "expires_in     : 3599\n",
      "ext_expires_in : 3599\n",
      "expires_on     : 1593032287\n",
      "not_before     : 1593028387\n",
      "resource       : https://api.securitycenter.windows.com\n",
      "access_token   : eyJ0eXAiOiJKV1QiLCJhbGciOiJSUzI1NiIsIng1dCI6IlNzWnNCTmhaY0YzUTlTNHRycFFCVEJ5TlJSSS\n",
      "                 IsImtpZCI6IlNzWnNCTmhaY0YzUTlTNHRycFFCVEJ5TlJSSSJ9.eyJhdWQiOiJodHRwczovL2FwaS5zZWN\n",
      "                 1cml0eWNlbnRlci53aW5kb3dzLmNvbSIsImlzcyI6Imh0dHBzOi8vc3RzLndpbmRvd3MubmV0L2RlNDBjZ\n",
      "                 jdlLWFkNWYtNDI0NS1hMzE3LTE0YmUzOWNiYjBlZi8iLCJpYXQiOjE1OTMwMjgzODcsIm5iZiI6MTU5MzA\n",
      "                 yODM4NywiZXhwIjoxNTkzMDMyMjg3LCJhaW8iOiI0MmRnWU9EZ05LOHMvOFo3dGpKNWs1Skx5MElIQUE9P\n",
      "                 SIsImFwcGlkIjoiYWU0ZmE4NzAtMjNhZi00YWU1LWE2ZWQtNWFiMTgxMTg1OGM3IiwiYXBwaWRhY3IiOiI\n",
      "                 xIiwiaWRwIjoiaHR0cHM6Ly9zdHMud2luZG93cy5uZXQvZGU0MGNmN2UtYWQ1Zi00MjQ1LWEzMTctMTRiZ\n",
      "                 TM5Y2JiMGVmLyIsIm9pZCI6IjMwYzExZThiLWMwZGItNDkwMC05MDUwLTg5MmZlZmEwYjNmMCIsInJvbGV\n",
      "                 zIjpbIkV2ZW50LldyaXRlIiwiVXJsLlJlYWQuQWxsIiwiSXAuUmVhZC5BbGwiLCJUaS5SZWFkV3JpdGUiL\n",
      "                 CJUaS5SZWFkLkFsbCIsIlVzZXIuUmVhZC5BbGwiLCJNYWNoaW5lLlJlYWRXcml0ZS5BbGwiLCJTZWN1cml\n",
      "                 0eVJlY29tbWVuZGF0aW9uLlJlYWQuQWxsIiwiQWxlcnQuUmVhZC5BbGwiLCJTb2Z0d2FyZS5SZWFkLkFsb\n",
      "                 CIsIlNlY3VyaXR5Q29uZmlndXJhdGlvbi5SZWFkLkFsbCIsIkZpbGUuUmVhZC5BbGwiLCJWdWxuZXJhYml\n",
      "                 saXR5LlJlYWQuQWxsIiwiTWFjaGluZS5SZWFkLkFsbCIsIlNjb3JlLlJlYWQuQWxsIiwiQWxlcnQuUmVhZ\n",
      "                 FdyaXRlLkFsbCIsIkFkdmFuY2VkUXVlcnkuUmVhZC5BbGwiXSwic3ViIjoiMzBjMTFlOGItYzBkYi00OTA\n",
      "                 wLTkwNTAtODkyZmVmYTBiM2YwIiwidGlkIjoiZGU0MGNmN2UtYWQ1Zi00MjQ1LWEzMTctMTRiZTM5Y2JiM\n",
      "                 GVmIiwidXRpIjoiUGpvcHRWUXk5RWFoeEVtNG1tTVFBUSIsInZlciI6IjEuMCJ9.Mi9j3QFqld5faJmULp\n",
      "                 hU5AC8AM4rQ-dmCGOCKQjVOb3P61DTCUMjVwgRqMYCKlleE8jKKhTaFOt3ooIsEDC-nwqwqwYr7vF5y2N5\n",
      "                 P8QwlMe-mhLYfMaeHmsr527TT4AtWoRKF6et3DPtDjbbAFW_W_Aaj5HoIdmwTFOtpTl-udZiGnccjlv6UO\n",
      "                 dqQ8OkDKYXwPw-mbK-IKlQRgJTeTWNAEGINRNgcHOX6e0Bmv_m41wCuTvfPiwssmVKj7M0AIfe6MZ3Sn1F\n",
      "                 MaQIcUHI18q3FsDW9tkufGyf4ZNQGVuS1vEnuVnM-AtdkdB0iqrXupvYxrY1-GRdPua8U5CNo8DrWA\n",
      "\n",
      "\n"
     ]
    }
   ],
   "source": [
    "## Get a token if authenticates properly.\n",
    "$authParams = @{\n",
    "    tenantId = $credentials.tenantId\n",
    "    client_id = $credentials.client_id\n",
    "    client_secret = $credentials.client_secret\n",
    "    resource = \"https://api.securitycenter.windows.com\"    ## resource Dont change since we want to query MDATP REST API Resource\n",
    "    grant_type = \"client_credentials\"  ## This is using a appliation ID and secret to authenticate\n",
    "}; $authParams\n",
    "\n",
    "$tokenResponse = Invoke-GraphAuthentication -authParams $authParams\n",
    "$tokenResponse"
   ]
  },
  {
   "cell_type": "markdown",
   "metadata": {},
   "source": [
    "## Pull raw query from Github\n",
    "Be sure to provide the <font color=Green><b>RAW Content</b></font> and not a the github link of the source"
   ]
  },
  {
   "cell_type": "code",
   "execution_count": 3,
   "metadata": {},
   "outputs": [
    {
     "data": {
      "text/plain": []
     },
     "metadata": {},
     "output_type": "display_data"
    },
    {
     "name": "stdout",
     "output_type": "stream",
     "text": [
      "// This query finds network communication to specific URL\n",
      "// Please note that in line #7 it filters RemoteUrl using has operator, which looks for a \"whole term\" and runs faster.\n",
      "// Example: RemoteUrl has \"microsoft\" matches \"www.microsoft.com\" but not \"microsoftonline.com\"\n",
      "let partialRemoteUrlToDetect = \"microsoft.com\"; // Change this to a URL you'd like to find machines connecting to\n",
      "DeviceNetworkEvents  \n",
      "| where Timestamp > ago(7d)\n",
      "and RemoteUrl has partialRemoteUrlToDetect // Can be changed to \"contains\" operator as explained above\n",
      "| project Timestamp, DeviceName, DeviceId, ReportId\n",
      "| top 100 by Timestamp desc\n",
      "\n"
     ]
    }
   ],
   "source": [
    "$rawGithubLink = \"https://raw.githubusercontent.com/microsoft/Microsoft-threat-protection-Hunting-Queries/master/Discovery/URL%20Detection.txt\"\n",
    "$Response = Invoke-WebRequest -Method GET -URI $rawGithubLink\n",
    "$Response.Content"
   ]
  },
  {
   "cell_type": "markdown",
   "metadata": {},
   "source": [
    "## Put your Hunting Query here"
   ]
  },
  {
   "cell_type": "code",
   "execution_count": 4,
   "metadata": {},
   "outputs": [
    {
     "name": "stdout",
     "output_type": "stream",
     "text": [
      "\u001b[93m\n",
      "Query\u001b[0m\n",
      "// This query finds network communication to specific URL\n",
      "// Please note that in line #7 it filters RemoteUrl using has operator, which looks for a \"whole term\" and runs faster.\n",
      "// Example: RemoteUrl has \"microsoft\" matches \"www.microsoft.com\" but not \"microsoftonline.com\"\n",
      "let partialRemoteUrlToDetect = \"microsoft.com\"; // Change this to a URL you'd like to find machines connecting to\n",
      "DeviceNetworkEvents  \n",
      "| where Timestamp > ago(7d)\n",
      "and RemoteUrl has partialRemoteUrlToDetect // Can be changed to \"contains\" operator as explained above\n",
      "| project Timestamp, DeviceName, DeviceId, ReportId\n",
      "| top 100 by Timestamp desc\n",
      "\u001b[93mJSON\u001b[0m\n",
      "{\n",
      "  \"Query\": \"// This query finds network communication to specific URL\\n// Please note that in line #7 it filters RemoteUrl using has operator, which looks for a \\\"whole term\\\" and runs faster.\\n// Example: RemoteUrl has \\\"microsoft\\\" matches \\\"www.microsoft.com\\\" but not \\\"microsoftonline.com\\\"\\nlet partialRemoteUrlToDetect = \\\"microsoft.com\\\"; // Change this to a URL you'd like to find machines connecting to\\nDeviceNetworkEvents  \\n| where Timestamp > ago(7d)\\nand RemoteUrl has partialRemoteUrlToDetect // Can be changed to \\\"contains\\\" operator as explained above\\n| project Timestamp, DeviceName, DeviceId, ReportId\\n| top 100 by Timestamp desc\"\n",
      "}\n"
     ]
    }
   ],
   "source": [
    "## Put your query on the 3rd Line below $Query and make sure it ends with #@\n",
    "$Query = @\"\n",
    "// This query finds network communication to specific URL\n",
    "// Please note that in line #7 it filters RemoteUrl using has operator, which looks for a \"whole term\" and runs faster.\n",
    "// Example: RemoteUrl has \"microsoft\" matches \"www.microsoft.com\" but not \"microsoftonline.com\"\n",
    "let partialRemoteUrlToDetect = \"microsoft.com\"; // Change this to a URL you'd like to find machines connecting to\n",
    "DeviceNetworkEvents  \n",
    "| where Timestamp > ago(7d)\n",
    "and RemoteUrl has partialRemoteUrlToDetect // Can be changed to \"contains\" operator as explained above\n",
    "| project Timestamp, DeviceName, DeviceId, ReportId\n",
    "| top 100 by Timestamp desc\n",
    "\"@\n",
    "\n",
    "$body = @{Query = $Query} | ConvertTo-JSON\n",
    "\n",
    "Write-Host -ForeGround Yellow \"`nQuery\"; $Query\n",
    "Write-Host -ForeGround Yellow \"JSON\"; $body"
   ]
  },
  {
   "cell_type": "markdown",
   "metadata": {},
   "source": [
    "## Query the MDATP API Grab report schema "
   ]
  },
  {
   "cell_type": "code",
   "execution_count": 5,
   "metadata": {},
   "outputs": [
    {
     "name": "stdout",
     "output_type": "stream",
     "text": [
      "\n",
      "Name                           Value\n",
      "----                           -----\n",
      "Accept                         application/json\n",
      "Content-Type                   application/json\n",
      "Authorization                  Bearer \n",
      "\u001b[91mInvoke-RestMethod: \n",
      "\u001b[96mLine |\n",
      "\u001b[96m   7 | \u001b[0m $Result = (\u001b[96mInvoke-RestMethod -Method POST -Uri $URI -Headers $authHea\u001b[0m …\n",
      "\u001b[96m     | \u001b[91m            ~~~~~~~~~~~~~~~~~~~~~~~~~~~~~~~~~~~~~~~~~~~~~~~~~~~~~~~~~~\n",
      "\u001b[91m\u001b[96m     | \u001b[91mResponse status code does not indicate success: 401 (Unauthorized).\u001b[0m\n",
      "\n"
     ]
    }
   ],
   "source": [
    "$URI = \"https://api.securitycenter.windows.com/api/advancedqueries/run\"\n",
    "$authHeader = @{ \n",
    "    'Content-Type' = 'application/json'\n",
    "    Accept = 'application/json'\n",
    "    Authorization = \"Bearer $($tokenResponse.access_token)\" }\n",
    "$authHeader\n",
    "$Result = (Invoke-RestMethod -Method POST -Uri $URI -Headers $authHeader -body $body -ErrorAction Stop)\n",
    "$Result.Schema"
   ]
  },
  {
   "cell_type": "markdown",
   "metadata": {},
   "source": [
    "## Parse report"
   ]
  },
  {
   "cell_type": "code",
   "execution_count": 22,
   "metadata": {},
   "outputs": [
    {
     "name": "stdout",
     "output_type": "stream",
     "text": [
      "\n",
      "Timestamp             DeviceName        ActionType RemoteIP\n",
      "---------             ----------        ---------- --------\n",
      "6/16/2020 2:13:41 AM  jingtoso-desktop1            \n",
      "6/16/2020 2:12:11 AM  win10-oobe-test              \n",
      "6/16/2020 2:06:25 AM  jingtoso-desktop1            \n",
      "6/16/2020 2:06:24 AM  jingtoso-desktop1            \n",
      "6/16/2020 2:06:19 AM  jingtoso-desktop1            \n",
      "6/16/2020 2:03:16 AM  jingtoso-desktop1            \n",
      "6/16/2020 2:03:15 AM  jingtoso-desktop1            \n",
      "6/16/2020 2:02:54 AM  jingtoso-desktop1            \n",
      "6/16/2020 2:01:16 AM  win10-oobe-test              \n",
      "6/16/2020 2:00:07 AM  win10-oobe-test              \n",
      "6/16/2020 1:55:00 AM  jingtoso-desktop1            \n",
      "6/16/2020 1:53:00 AM  jingtoso-desktop1            \n",
      "6/16/2020 1:42:12 AM  win10-oobe-test              \n",
      "6/16/2020 1:40:20 AM  jingtoso-desktop1            \n",
      "6/16/2020 1:16:01 AM  win10-oobe-test              \n",
      "6/16/2020 12:48:07 AM jing-lab                     \n",
      "6/16/2020 12:12:11 AM win10-oobe-test              \n",
      "6/16/2020 12:12:10 AM win10-oobe-test              \n",
      "6/15/2020 11:55:07 PM jingtoso-desktop1            \n",
      "6/15/2020 11:47:48 PM win10-oobe-test              \n",
      "6/15/2020 11:42:10 PM win10-oobe-test              \n",
      "6/15/2020 11:01:42 PM win10-oobe-test              \n",
      "6/15/2020 10:33:33 PM win10-oobe-test              \n",
      "6/15/2020 10:29:51 PM win10-oobe-test              \n",
      "6/15/2020 10:22:18 PM win10-oobe-test              \n",
      "6/15/2020 10:22:16 PM win10-oobe-test              \n",
      "6/15/2020 10:22:15 PM win10-oobe-test              \n",
      "6/15/2020 10:15:38 PM win10-oobe-test              \n",
      "6/15/2020 10:12:25 PM win10-oobe-test              \n",
      "6/15/2020 10:12:10 PM win10-oobe-test              \n",
      "6/15/2020 10:03:31 PM win10-oobe-test              \n",
      "6/15/2020 9:59:55 PM  win10-oobe-test              \n",
      "6/15/2020 9:49:29 PM  win10-oobe-test              \n",
      "6/15/2020 9:42:10 PM  win10-oobe-test              \n",
      "6/15/2020 9:32:03 PM  win10-oobe-test              \n",
      "6/15/2020 9:31:44 PM  win10-oobe-test              \n",
      "6/15/2020 9:31:42 PM  win10-oobe-test              \n",
      "6/15/2020 9:31:40 PM  win10-oobe-test              \n",
      "6/15/2020 9:31:37 PM  win10-oobe-test              \n",
      "6/15/2020 9:31:36 PM  win10-oobe-test              \n",
      "6/15/2020 9:12:10 PM  win10-oobe-test              \n",
      "6/15/2020 9:05:23 PM  win10-oobe-test              \n",
      "6/15/2020 8:27:18 PM  win10-oobe-test              \n",
      "6/15/2020 8:22:34 PM  jing-lab                     \n",
      "6/15/2020 8:10:14 PM  jing-lab                     \n",
      "6/15/2020 7:55:19 PM  win10-oobe-test              \n",
      "6/15/2020 7:42:10 PM  win10-oobe-test              \n",
      "6/15/2020 7:40:05 PM  jing-lab                     \n",
      "6/15/2020 7:34:09 PM  win10-oobe-test              \n",
      "6/15/2020 7:11:01 PM  win10-oobe-test              \n",
      "6/15/2020 7:09:54 PM  jing-lab                     \n",
      "6/15/2020 6:58:57 PM  jingtoso-desktop1            \n",
      "6/15/2020 6:42:09 PM  win10-oobe-test              \n",
      "6/15/2020 6:05:58 PM  jingtoso-desktop1            \n",
      "6/15/2020 6:02:49 PM  win10-oobe-test              \n",
      "6/15/2020 6:00:49 PM  win10-oobe-test              \n",
      "6/15/2020 5:42:09 PM  win10-oobe-test              \n",
      "6/15/2020 5:36:51 PM  jing-lab                     \n",
      "6/15/2020 5:20:18 PM  win10-oobe-test              \n",
      "6/15/2020 4:42:08 PM  win10-oobe-test              \n",
      "6/15/2020 4:12:09 PM  win10-oobe-test              \n",
      "6/15/2020 3:47:38 PM  win10-oobe-test              \n",
      "6/15/2020 3:16:39 PM  jing-lab                     \n",
      "6/15/2020 3:16:39 PM  jing-lab                     \n",
      "6/15/2020 3:15:33 PM  win10-oobe-test              \n",
      "6/15/2020 3:02:37 PM  jingtoso-desktop1            \n",
      "6/15/2020 2:53:29 PM  jing-lab                     \n",
      "6/15/2020 2:52:54 PM  win10-oobe-test              \n",
      "6/15/2020 2:42:33 PM  win10-oobe-test              \n",
      "6/15/2020 2:42:33 PM  win10-oobe-test              \n",
      "6/15/2020 2:42:30 PM  win10-oobe-test              \n",
      "6/15/2020 2:26:01 PM  jingtoso-desktop1            \n",
      "6/15/2020 2:22:33 PM  jing-lab                     \n",
      "6/15/2020 2:18:07 PM  jing-lab                     \n",
      "6/15/2020 2:12:08 PM  win10-oobe-test              \n",
      "6/15/2020 1:53:09 PM  jing-lab                     \n",
      "6/15/2020 1:45:17 PM  win10-oobe-test              \n",
      "6/15/2020 1:42:08 PM  win10-oobe-test              \n",
      "6/15/2020 1:26:47 PM  win10-oobe-test              \n",
      "6/15/2020 1:12:07 PM  win10-oobe-test              \n",
      "6/15/2020 1:12:07 PM  win10-oobe-test              \n",
      "6/15/2020 1:08:10 PM  win10-oobe-test              \n",
      "6/15/2020 1:08:10 PM  win10-oobe-test              \n",
      "6/15/2020 12:57:09 PM jingtoso-desktop1            \n",
      "6/15/2020 12:52:09 PM jingtoso-desktop1            \n",
      "6/15/2020 12:52:09 PM jingtoso-desktop1            \n",
      "6/15/2020 12:52:08 PM jingtoso-desktop1            \n",
      "6/15/2020 12:52:08 PM jingtoso-desktop1            \n",
      "6/15/2020 12:38:37 PM win10-oobe-test              \n",
      "6/15/2020 12:38:20 PM win10-oobe-test              \n",
      "6/15/2020 12:18:34 PM win10-oobe-test              \n",
      "6/15/2020 12:14:34 PM win10-oobe-test              \n",
      "6/15/2020 12:12:07 PM win10-oobe-test              \n",
      "6/15/2020 12:12:07 PM win10-oobe-test              \n",
      "6/15/2020 12:11:20 PM jing-lab                     \n",
      "6/15/2020 11:58:06 AM jingtoso-desktop1            \n",
      "6/15/2020 11:43:58 AM win10-oobe-test              \n",
      "6/15/2020 11:42:07 AM win10-oobe-test              \n",
      "6/15/2020 11:36:27 AM win10-oobe-test              \n",
      "6/15/2020 11:34:58 AM jing-lab                     \n",
      "\n"
     ]
    }
   ],
   "source": [
    "$includeColumns = @('Timestamp','DeviceName','ActionType','RemoteIP')\n",
    "$Result.Results | Select-Object -Property $includeColumns"
   ]
  },
  {
   "cell_type": "code",
   "execution_count": null,
   "metadata": {},
   "outputs": [],
   "source": []
  }
 ],
 "metadata": {
  "kernelspec": {
   "display_name": ".NET (PowerShell)",
   "language": "PowerShell",
   "name": ".net-powershell"
  },
  "language_info": {
   "file_extension": ".ps1",
   "mimetype": "text/x-powershell",
   "name": "PowerShell",
   "pygments_lexer": "powershell",
   "version": "7.0"
  }
 },
 "nbformat": 4,
 "nbformat_minor": 4
}
