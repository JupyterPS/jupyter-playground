{
 "cells": [
  {
   "cell_type": "markdown",
   "metadata": {},
   "source": [
    "# Rest API - Advanced Hunting Query\n",
    "\n",
    "<table align=\"left\">\n",
    "  <tr>\n",
    "    <th>Type</th>\n",
    "      <th>Title</th>\n",
    "    <th>Description</th>\n",
    "  </tr>\n",
    "  <tr>\n",
    "      <td>Documentation</td>\n",
    "    <td><b><a href=\"https://docs.microsoft.com/en-us/windows/security/threat-protection/microsoft-defender-atp/run-advanced-query-api\">Advanced Hunting API</a></td>\n",
    "    <td>This is the documentation that refers to what permissions is required and request examples you can use to query the MDATP API </td>\n",
    "  </tr>\n",
    "</table>"
   ]
  },
  {
   "cell_type": "markdown",
   "metadata": {},
   "source": [
    "## Pre-requisite"
   ]
  },
  {
   "cell_type": "markdown",
   "metadata": {},
   "source": [
    "### Configure your tenant info here"
   ]
  },
  {
   "cell_type": "code",
   "execution_count": null,
   "metadata": {},
   "outputs": [],
   "source": [
    "$config = @{\n",
    "    tenantID = \"xxxxxxx-xxxx-xxxx-xxxxx-xxxxxxxxxx\"          ## Azure AD Tenant ID\n",
    "    appID = \"xxxxxx-23af-4ae5-a6ed-xxxxxx\"                   ## Usually known as Client ID or Application ID\n",
    "    appSecret = \"W_xxxxxxxxxxxxxxxxxx.xxxxxxxxx\"             ## This is the secretKey. Important only authorized users have this \n",
    "    resourceURI = \"https://api.securitycenter.windows.com\"   ## This is the resource endpoint for MDATP\n",
    "}"
   ]
  },
  {
   "cell_type": "markdown",
   "metadata": {},
   "source": [
    "### (Optional) Store credential to local storage to recall in future.\n",
    "If you want to store your credentials locally. Here is an example. Otherwise just specify the credential in the configuration above and skip this step."
   ]
  },
  {
   "cell_type": "code",
   "execution_count": null,
   "metadata": {},
   "outputs": [],
   "source": [
    "## Checks to see if config file exist and if not export credential file from above.\n",
    "$storagePath = \".\\MDATP.credential\"\n",
    "\n",
    "## Tries to import the credential file and if it fails, This script will load credential in step 1.1\n",
    "$config = (Import-CliXml -Path $storagePath)\n",
    "if (!$config) {\n",
    "    $config | Export-CliXml -Path $storagePath\n",
    "    Write-Host -Foregroundcolor green \"`nStored new credentials in $($storagePath)\"\n",
    "} else {\n",
    "    Write-Host -Foregroundcolor green \"`nCredential file loaded from $($storagePath)\"\n",
    "}"
   ]
  },
  {
   "cell_type": "markdown",
   "metadata": {},
   "source": [
    "### Grabs Access Token using credential file to query the MDATP API"
   ]
  },
  {
   "cell_type": "code",
   "execution_count": null,
   "metadata": {},
   "outputs": [],
   "source": [
    "## Create header and endpoint URI\n",
    "$oAuthUri = \"https://login.windows.net/$($config.tenantID)/oauth2/token\"\n",
    "$authBody = [Ordered] @{ \n",
    "    resource = $config.resourceURI\n",
    "    client_id = $config.appID\n",
    "    client_secret = $config.appSecret\n",
    "    grant_type = 'client_credentials'\n",
    "}\n",
    "\n",
    "## Call MDATP Rest API and grab access token using config credentials\n",
    "$authResponse = Invoke-RestMethod -Method Post -Uri $oAuthUri -Body $authBody -ErrorAction Stop\n",
    "$token = $authResponse.access_token\n",
    "if ($token) {\n",
    "    Write-Host -ForeGroundColor Green \"`nToken received`n\"\n",
    "}\n",
    "$token"
   ]
  },
  {
   "cell_type": "markdown",
   "metadata": {},
   "source": [
    "### Put your Hunting Query here"
   ]
  },
  {
   "cell_type": "code",
   "execution_count": null,
   "metadata": {},
   "outputs": [],
   "source": [
    "## Enter your query here\n",
    "$Query = \"\n",
    "DeviceNetworkEvents \n",
    "| where InitiatingProcessFileName =~ 'powershell.exe'\n",
    "| limit 10\n",
    "\"\n",
    "\n",
    "## This is the query converted to JSON format\n",
    "$body = @{Query = $Query} | ConvertTo-JSON\n",
    "Write-Host -ForeGround Yellow \"`nQuery\"; $Query\n",
    "Write-Host -ForeGround Yellow \"JSON\"; $body"
   ]
  },
  {
   "cell_type": "markdown",
   "metadata": {},
   "source": [
    "## Query the MDATP API"
   ]
  },
  {
   "cell_type": "markdown",
   "metadata": {},
   "source": [
    "### Query the MDATP API Grab report schema "
   ]
  },
  {
   "cell_type": "code",
   "execution_count": null,
   "metadata": {},
   "outputs": [],
   "source": [
    "$URI = \"https://api.securitycenter.windows.com/api/advancedqueries/run\"   ## This is the URL to query with the access token.\n",
    "$header = @{                                                              ## This is the header\n",
    "    'Content-Type' = 'application/json'\n",
    "    Accept = 'application/json'\n",
    "    Authorization = \"Bearer $token\" }\n",
    "\n",
    "$Result = (Invoke-RestMethod -Method POST -Uri $URI -Headers $header -body $body -ErrorAction Stop)\n",
    "$Result"
   ]
  },
  {
   "cell_type": "markdown",
   "metadata": {},
   "source": [
    "### Parse report"
   ]
  },
  {
   "cell_type": "code",
   "execution_count": null,
   "metadata": {},
   "outputs": [],
   "source": [
    "$includeColumns = @('Timestamp','DeviceName','ActionType','RemoteIP')\n",
    "$Result.Results | Select-Object -Property $includeColumns"
   ]
  }
 ],
 "metadata": {
  "kernelspec": {
   "display_name": ".NET (PowerShell)",
   "language": "PowerShell",
   "name": ".net-powershell"
  },
  "language_info": {
   "file_extension": ".ps1",
   "mimetype": "text/x-powershell",
   "name": "PowerShell",
   "pygments_lexer": "powershell",
   "version": "7.0"
  }
 },
 "nbformat": 4,
 "nbformat_minor": 4
}
