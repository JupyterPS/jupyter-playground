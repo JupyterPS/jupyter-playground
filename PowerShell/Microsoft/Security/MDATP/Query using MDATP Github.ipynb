{
 "cells": [
  {
   "cell_type": "markdown",
   "metadata": {},
   "source": [
    "# MDATP - Use query from Github Repository"
   ]
  },
  {
   "cell_type": "markdown",
   "metadata": {},
   "source": [
    "\n",
    "## Replace variables with pertaining to your environment"
   ]
  },
  {
   "cell_type": "code",
   "execution_count": 40,
   "metadata": {},
   "outputs": [],
   "source": [
    "############ This is the credentials used to authenticate with the Graph API ###################\n",
    "$credentials = @{\n",
    "    tenantDomain = \"domain.com\"\n",
    "    tenantId = \"xxxxxxx-xxxx-xxxx-xxxx-xxxxxxxx\"        ## AAD Tenant ID\n",
    "    client_id = \"ae4fa870-23af-4ae5-a6ed-xxxxx\"     ## Application Client ID\n",
    "    client_secret = \"x~xxxxxxx~xxxxx~xxxxxxxxx-xxx\"   ## Application Client Secret\n",
    "}"
   ]
  },
  {
   "cell_type": "markdown",
   "metadata": {},
   "source": [
    "## Import required modules and credentials "
   ]
  },
  {
   "cell_type": "code",
   "execution_count": 8,
   "metadata": {},
   "outputs": [
    {
     "name": "stdout",
     "output_type": "stream",
     "text": [
      "\n",
      "CommandType     Name                                               Version    Source\n",
      "-----------     ----                                               -------    ------\n",
      "Function        Get-DecryptedStringUsingMasterPassword             0.0        pp-core\n",
      "Function        Get-EncryptedStringUsingMasterPassword             0.0        pp-core\n",
      "Function        Get-HashOfString                                   0.0        pp-core\n",
      "Function        Get-MasterPassword                                 0.0        pp-core\n",
      "Function        Get-StoredCredentials                              0.0        pp-core\n",
      "Function        Invoke-CheckCredentials                            0.0        pp-core\n",
      "Function        New-StoreCredentials                               0.0        pp-core\n",
      "Function        Get-MSGraphAuthToken                               0.0        graph\n",
      "Function        Invoke-GraphAuthentication                         0.0        graph\n",
      "Function        Invoke-MSGraphQuery                                0.0        graph\n",
      "\u001b[96m\n",
      "Please enter a master password that will be used to encrypt/decrypt this credential\u001b[0m\n"
     ]
    },
    {
     "name": "stdin",
     "output_type": "stream",
     "text": [
      " ·········\n"
     ]
    },
    {
     "name": "stdout",
     "output_type": "stream",
     "text": [
      "\n"
     ]
    }
   ],
   "source": [
    "$modules = @('pp-core','graph') ## These are the modules to import \n",
    "$credentialPath = \"~/.credentials/graph.credential\" ## Where to store credentials\n",
    "\n",
    "################## Import Graph Authentication Module #############################\n",
    "ForEach ($module in $modules) {\n",
    "    Import-Module \"~/Notebooks/Powershell-Playground/PowerShell/custom-modules/$module\" -Force  ## import module \n",
    "    Get-Command -Module \"$module\"                                                        ## list commands in this module \n",
    "}\n",
    "\n",
    "$credentials = Get-StoredCredentials -credentialPath $credentialPath"
   ]
  },
  {
   "cell_type": "markdown",
   "metadata": {},
   "source": [
    "## Authenticate with Graph API and get access Token for MDATP Resource"
   ]
  },
  {
   "cell_type": "code",
   "execution_count": 9,
   "metadata": {},
   "outputs": [
    {
     "name": "stdout",
     "output_type": "stream",
     "text": [
      "\n",
      "Name                           Value\n",
      "----                           -----\n",
      "client_id                      ae4fa870-23af-4ae5-a6ed-5ab1811858c7\n",
      "tenantId                       de40cf7e-ad5f-4245-a317-14be39cbb0ef\n",
      "resource                       https://api.securitycenter.windows.com\n",
      "client_secret                  5~Q5En6ecx9d~ZtuqPf~YRBLw5S858-7WS\n",
      "grant_type                     client_credentials\n",
      "\u001b[92m\n",
      "Authentication Parameters detected\u001b[0m\n",
      "Personal Access Token (PAT) grant_type\n",
      "\n",
      "----------------------------------------------------------------------------\n",
      "Authentiating with Microsoft Graph API using a Personal Access Token (PAT)\n",
      "\u001b[37mhttps://docs.microsoft.com/en-us/azure/storage/common/storage-auth-aad-app\u001b[0m\n",
      "----------------------------------------------------------------------------\n",
      "Requesting Token at https://login.microsoftonline.com/de40cf7e-ad5f-4245-a317-14be39cbb0ef/oauth2/token\n",
      "\u001b[92m\n",
      "\n",
      "Received Token!\u001b[0m\n",
      "\u001b[92mConnected and Access Token received and will expire \u001b[0m\n",
      "\n",
      "token_type     : Bearer\n",
      "expires_in     : 3599\n",
      "ext_expires_in : 3599\n",
      "expires_on     : 1593114600\n",
      "not_before     : 1593110700\n",
      "resource       : https://api.securitycenter.windows.com\n",
      "access_token   : eyJ0eXAiOiJKV1QiLCJhbGciOiJSUzI1NiIsIng1dCI6IlNzWnNCTmhaY0YzUTlTNHRycFFCVEJ5TlJSSS\n",
      "                 IsImtpZCI6IlNzWnNCTmhaY0YzUTlTNHRycFFCVEJ5TlJSSSJ9.eyJhdWQiOiJodHRwczovL2FwaS5zZWN\n",
      "                 1cml0eWNlbnRlci53aW5kb3dzLmNvbSIsImlzcyI6Imh0dHBzOi8vc3RzLndpbmRvd3MubmV0L2RlNDBjZ\n",
      "                 jdlLWFkNWYtNDI0NS1hMzE3LTE0YmUzOWNiYjBlZi8iLCJpYXQiOjE1OTMxMTA3MDAsIm5iZiI6MTU5MzE\n",
      "                 xMDcwMCwiZXhwIjoxNTkzMTE0NjAwLCJhaW8iOiJFMkJnWU9DdENEL2NITDZKNmRTbnI5dTYxTFVmQUFBP\n",
      "                 SIsImFwcGlkIjoiYWU0ZmE4NzAtMjNhZi00YWU1LWE2ZWQtNWFiMTgxMTg1OGM3IiwiYXBwaWRhY3IiOiI\n",
      "                 xIiwiaWRwIjoiaHR0cHM6Ly9zdHMud2luZG93cy5uZXQvZGU0MGNmN2UtYWQ1Zi00MjQ1LWEzMTctMTRiZ\n",
      "                 TM5Y2JiMGVmLyIsIm9pZCI6IjMwYzExZThiLWMwZGItNDkwMC05MDUwLTg5MmZlZmEwYjNmMCIsInJvbGV\n",
      "                 zIjpbIkV2ZW50LldyaXRlIiwiVXJsLlJlYWQuQWxsIiwiSXAuUmVhZC5BbGwiLCJUaS5SZWFkV3JpdGUiL\n",
      "                 CJUaS5SZWFkLkFsbCIsIlVzZXIuUmVhZC5BbGwiLCJNYWNoaW5lLlJlYWRXcml0ZS5BbGwiLCJTZWN1cml\n",
      "                 0eVJlY29tbWVuZGF0aW9uLlJlYWQuQWxsIiwiQWxlcnQuUmVhZC5BbGwiLCJTb2Z0d2FyZS5SZWFkLkFsb\n",
      "                 CIsIlNlY3VyaXR5Q29uZmlndXJhdGlvbi5SZWFkLkFsbCIsIkZpbGUuUmVhZC5BbGwiLCJWdWxuZXJhYml\n",
      "                 saXR5LlJlYWQuQWxsIiwiTWFjaGluZS5SZWFkLkFsbCIsIlNjb3JlLlJlYWQuQWxsIiwiQWxlcnQuUmVhZ\n",
      "                 FdyaXRlLkFsbCIsIkFkdmFuY2VkUXVlcnkuUmVhZC5BbGwiXSwic3ViIjoiMzBjMTFlOGItYzBkYi00OTA\n",
      "                 wLTkwNTAtODkyZmVmYTBiM2YwIiwidGlkIjoiZGU0MGNmN2UtYWQ1Zi00MjQ1LWEzMTctMTRiZTM5Y2JiM\n",
      "                 GVmIiwidXRpIjoiTWN3dlgyWjc5ME9uaDlxN0ZPNUtBUSIsInZlciI6IjEuMCJ9.H_i0hW_UEaXA-HVQqk\n",
      "                 yS4TrY3H3NRIDu5HfMZSVEU9BtCTrTsVCHCIxXmIW7XOc_tUCgHvYGU9IhNJrdO8cckYmw5JNaWmfpkMVD\n",
      "                 1ps-IPM8yFs9Os4Boh1Ep2x9oJLlt-rNqD8bM60InY6Bq3i6qkXxzSvGq-V6gu_uhFZpPc40lFETY7I1JQ\n",
      "                 f36xt8lkHqK5ARXbjiIziQWHCi_bZK44Qwc1K65xcBt4qDOpjmWQCssdCG6jq5_Z8oRCEqM41JPA4f2K4P\n",
      "                 hg_741D2L1zmYDR_R5jux30z8C_-MZAhfqxQP2S9ORoiFi25QF9wUVVQSKSbFt-RA70BRqGWEYGW6g\n",
      "\n",
      "\n"
     ]
    }
   ],
   "source": [
    "## Get a token if authenticates properly.\n",
    "$authParams = @{\n",
    "    tenantId = $credentials.tenantId\n",
    "    client_id = $credentials.client_id\n",
    "    client_secret = $credentials.client_secret\n",
    "    resource = \"https://api.securitycenter.windows.com\"    ## resource Dont change since we want to query MDATP REST API Resource\n",
    "    grant_type = \"client_credentials\"  ## This is using a appliation ID and secret to authenticate\n",
    "}; $authParams\n",
    "\n",
    "$tokenResponse = Invoke-GraphAuthentication -authParams $authParams\n",
    "$tokenResponse"
   ]
  },
  {
   "cell_type": "markdown",
   "metadata": {},
   "source": [
    "## Pull raw query from Github\n",
    "Be sure to provide the <font color=Green><b>RAW Content</b></font> and not a the github link of the source"
   ]
  },
  {
   "cell_type": "code",
   "execution_count": 3,
   "metadata": {},
   "outputs": [
    {
     "data": {
      "text/plain": []
     },
     "metadata": {},
     "output_type": "display_data"
    },
    {
     "name": "stdout",
     "output_type": "stream",
     "text": [
      "// This query finds network communication to specific URL\n",
      "// Please note that in line #7 it filters RemoteUrl using has operator, which looks for a \"whole term\" and runs faster.\n",
      "// Example: RemoteUrl has \"microsoft\" matches \"www.microsoft.com\" but not \"microsoftonline.com\"\n",
      "let partialRemoteUrlToDetect = \"microsoft.com\"; // Change this to a URL you'd like to find machines connecting to\n",
      "DeviceNetworkEvents  \n",
      "| where Timestamp > ago(7d)\n",
      "and RemoteUrl has partialRemoteUrlToDetect // Can be changed to \"contains\" operator as explained above\n",
      "| project Timestamp, DeviceName, DeviceId, ReportId\n",
      "| top 100 by Timestamp desc\n",
      "\n"
     ]
    }
   ],
   "source": [
    "$rawGithubLink = \"https://raw.githubusercontent.com/microsoft/Microsoft-threat-protection-Hunting-Queries/master/Discovery/URL%20Detection.txt\"\n",
    "$Response = Invoke-WebRequest -Method GET -URI $rawGithubLink\n",
    "$Response.Content"
   ]
  },
  {
   "cell_type": "markdown",
   "metadata": {},
   "source": [
    "## Put your Hunting Query here"
   ]
  },
  {
   "cell_type": "code",
   "execution_count": 17,
   "metadata": {},
   "outputs": [
    {
     "name": "stdout",
     "output_type": "stream",
     "text": [
      "\u001b[93m\n",
      "Query\u001b[0m\n",
      "DeviceInfo\n",
      "\u001b[93mJSON\u001b[0m\n",
      "{\n",
      "  \"Query\": \"DeviceInfo\"\n",
      "}\n"
     ]
    }
   ],
   "source": [
    "## Put your query on the 3rd Line below $Query and make sure it ends with #@\n",
    "$Query = @\"\n",
    "DeviceInfo\n",
    "\"@\n",
    "\n",
    "$body = @{Query = $Query} | ConvertTo-JSON\n",
    "\n",
    "Write-Host -ForeGround Yellow \"`nQuery\"; $Query\n",
    "Write-Host -ForeGround Yellow \"JSON\"; $body"
   ]
  },
  {
   "cell_type": "markdown",
   "metadata": {},
   "source": [
    "## Query the MDATP API Grab report schema "
   ]
  },
  {
   "cell_type": "code",
   "execution_count": 18,
   "metadata": {},
   "outputs": [
    {
     "name": "stdout",
     "output_type": "stream",
     "text": [
      "\n",
      "Name                           Value\n",
      "----                           -----\n",
      "Accept                         application/json\n",
      "Content-Type                   application/json\n",
      "Authorization                  Bearer eyJ0eXAiOiJKV1QiLCJhbGciOiJSUzI1NiIsIng1dCI6IlNzWnNCTmhaY0Yz…\n",
      "\n",
      "\n",
      "Stats   : @{ExecutionTime=0.04691; resource_usage=; dataset_statistics=System.Object[]}\n",
      "Schema  : {@{Name=Timestamp; Type=DateTime}, @{Name=DeviceId; Type=String}, @{Name=DeviceName; \n",
      "          Type=String}, @{Name=ClientVersion; Type=String}…}\n",
      "Results : {@{Timestamp=6/12/2020 6:19:15 AM; DeviceId=bffd249f248a1d1b95e5f90922c9a1df776de35f; \n",
      "          DeviceName=jing-lab; ClientVersion=10.3720.16299.2010; PublicIP=173.224.104.67; \n",
      "          OSArchitecture=; OSPlatform=; OSBuild=; IsAzureADJoined=; DeviceObjectId=; \n",
      "          LoggedOnUsers=[{\"UserName\":\"Administrator\",\"DomainName\":\"JING-LAB\"}]; \n",
      "          RegistryDeviceTag=; OSVersion=; MachineGroup=UnassignedGroup; ReportId=7890; \n",
      "          AdditionalFields=[]}, @{Timestamp=6/12/2020 6:11:38 AM; \n",
      "          DeviceId=d1447e0ab03ed0f39c9e2e0a3ac3cc36cc8ecf78; DeviceName=jingtoso-desktop1; \n",
      "          ClientVersion=10.7150.19041.153; PublicIP=173.224.104.67; OSArchitecture=; OSPlatform=; \n",
      "          OSBuild=; IsAzureADJoined=; DeviceObjectId=3d349615-33da-4d47-a2be-e39fba02cb51; \n",
      "          LoggedOnUsers=[]; RegistryDeviceTag=; OSVersion=; MachineGroup=UnassignedGroup; \n",
      "          ReportId=32380; AdditionalFields=[]}, @{Timestamp=6/12/2020 6:12:02 AM; \n",
      "          DeviceId=a8fe7113c8bab16e43a818f0a972515da82e94f8; DeviceName=win10-oobe-test; \n",
      "          ClientVersion=10.5860.17763.1158; PublicIP=40.125.75.171; OSArchitecture=; OSPlatform=; \n",
      "          OSBuild=; IsAzureADJoined=; DeviceObjectId=; LoggedOnUsers=[]; RegistryDeviceTag=; \n",
      "          OSVersion=; MachineGroup=UnassignedGroup; ReportId=18004; AdditionalFields=[]}, \n",
      "          @{Timestamp=6/12/2020 6:04:16 AM; DeviceId=bffd249f248a1d1b95e5f90922c9a1df776de35f; \n",
      "          DeviceName=jing-lab; ClientVersion=10.3720.16299.2010; PublicIP=173.224.104.67; \n",
      "          OSArchitecture=; OSPlatform=; OSBuild=; IsAzureADJoined=; DeviceObjectId=; \n",
      "          LoggedOnUsers=[{\"UserName\":\"Administrator\",\"DomainName\":\"JING-LAB\"}]; \n",
      "          RegistryDeviceTag=; OSVersion=; MachineGroup=UnassignedGroup; ReportId=7841; \n",
      "          AdditionalFields=[]}…}\n",
      "\n",
      "\n"
     ]
    }
   ],
   "source": [
    "$URI = \"https://api.securitycenter.windows.com/api/advancedqueries/run\"\n",
    "$authHeader = @{ \n",
    "    'Content-Type' = 'application/json'\n",
    "    Accept = 'application/json'\n",
    "    Authorization = \"Bearer $($tokenResponse.access_token)\" }\n",
    "$authHeader\n",
    "$Result = (Invoke-RestMethod -Method POST -Uri $URI -Headers $authHeader -body $body -ErrorAction Stop)\n",
    "$Result"
   ]
  },
  {
   "cell_type": "code",
   "execution_count": null,
   "metadata": {},
   "outputs": [],
   "source": []
  },
  {
   "cell_type": "markdown",
   "metadata": {},
   "source": [
    "## Parse report"
   ]
  },
  {
   "cell_type": "code",
   "execution_count": 7,
   "metadata": {},
   "outputs": [
    {
     "name": "stdout",
     "output_type": "stream",
     "text": [
      "\n",
      "Timestamp             DeviceName        ActionType RemoteIP\n",
      "---------             ----------        ---------- --------\n",
      "6/24/2020 7:12:32 PM  win10-oobe-test              \n",
      "6/24/2020 7:12:30 PM  win10-oobe-test              \n",
      "6/24/2020 7:12:29 PM  win10-oobe-test              \n",
      "6/24/2020 7:02:17 PM  jingtoso-desktop1            \n",
      "6/24/2020 6:48:40 PM  win10-oobe-test              \n",
      "6/24/2020 6:40:39 PM  win10-oobe-test              \n",
      "6/24/2020 6:38:11 PM  jingtoso-desktop1            \n",
      "6/24/2020 6:18:44 PM  win10-oobe-test              \n",
      "6/24/2020 6:18:24 PM  win10-oobe-test              \n",
      "6/24/2020 6:18:23 PM  win10-oobe-test              \n",
      "6/24/2020 6:18:16 PM  win10-oobe-test              \n",
      "6/24/2020 6:18:15 PM  win10-oobe-test              \n",
      "6/24/2020 6:13:13 PM  win10-oobe-test              \n",
      "6/24/2020 5:58:32 PM  win10-oobe-test              \n",
      "6/24/2020 5:57:34 PM  win10-oobe-test              \n",
      "6/24/2020 5:36:50 PM  jing-lab                     \n",
      "6/24/2020 5:24:09 PM  win10-oobe-test              \n",
      "6/24/2020 5:10:50 PM  win10-oobe-test              \n",
      "6/24/2020 5:08:33 PM  win10-oobe-test              \n",
      "6/24/2020 5:07:47 PM  jingtoso-desktop1            \n",
      "6/24/2020 4:55:09 PM  jing-lab                     \n",
      "6/24/2020 4:48:30 PM  jingtoso-desktop1            \n",
      "6/24/2020 4:43:13 PM  win10-oobe-test              \n",
      "6/24/2020 4:32:39 PM  jingtoso-desktop1            \n",
      "6/24/2020 4:13:13 PM  win10-oobe-test              \n",
      "6/24/2020 4:02:11 PM  win10-oobe-test              \n",
      "6/24/2020 3:43:13 PM  win10-oobe-test              \n",
      "6/24/2020 3:43:13 PM  win10-oobe-test              \n",
      "6/24/2020 3:18:50 PM  jingtoso-desktop1            \n",
      "6/24/2020 3:14:01 PM  win10-oobe-test              \n",
      "6/24/2020 3:13:13 PM  win10-oobe-test              \n",
      "6/24/2020 3:07:13 PM  jingtoso-desktop1            \n",
      "6/24/2020 2:54:51 PM  jingtoso-desktop1            \n",
      "6/24/2020 2:53:55 PM  win10-oobe-test              \n",
      "6/24/2020 2:46:51 PM  jing-lab                     \n",
      "6/24/2020 2:21:51 PM  win10-oobe-test              \n",
      "6/24/2020 2:19:48 PM  win10-oobe-test              \n",
      "6/24/2020 2:04:42 PM  jingtoso-desktop1            \n",
      "6/24/2020 1:34:37 PM  jingtoso-desktop1            \n",
      "6/24/2020 1:19:58 PM  jing-lab                     \n",
      "6/24/2020 1:14:32 PM  win10-oobe-test              \n",
      "6/24/2020 1:11:45 PM  jing-lab                     \n",
      "6/24/2020 1:11:37 PM  win10-oobe-test              \n",
      "6/24/2020 12:47:34 PM win10-oobe-test              \n",
      "6/24/2020 12:45:33 PM win10-oobe-test              \n",
      "6/24/2020 12:43:12 PM win10-oobe-test              \n",
      "6/24/2020 12:41:45 PM jing-lab                     \n",
      "6/24/2020 11:43:25 AM win10-oobe-test              \n",
      "6/24/2020 11:43:12 AM win10-oobe-test              \n",
      "6/24/2020 11:43:11 AM win10-oobe-test              \n",
      "6/24/2020 11:40:17 AM jingtoso-desktop1            \n",
      "6/24/2020 11:33:24 AM win10-oobe-test              \n",
      "6/24/2020 11:13:11 AM win10-oobe-test              \n",
      "6/24/2020 10:43:11 AM win10-oobe-test              \n",
      "6/24/2020 10:43:11 AM win10-oobe-test              \n",
      "6/24/2020 10:42:38 AM jingtoso-desktop1            \n",
      "6/24/2020 10:23:33 AM win10-oobe-test              \n",
      "6/24/2020 10:08:04 AM jingtoso-desktop1            \n",
      "6/24/2020 9:54:00 AM  jingtoso-desktop1            \n",
      "6/24/2020 9:53:33 AM  jing-lab                     \n",
      "6/24/2020 9:43:11 AM  win10-oobe-test              \n",
      "6/24/2020 9:41:20 AM  jingtoso-desktop1            \n",
      "6/24/2020 9:37:39 AM  jingtoso-desktop1            \n",
      "6/24/2020 9:36:55 AM  win10-oobe-test              \n",
      "6/24/2020 8:43:11 AM  win10-oobe-test              \n",
      "6/24/2020 8:28:45 AM  win10-oobe-test              \n",
      "6/24/2020 8:18:10 AM  jing-lab                     \n",
      "6/24/2020 8:10:41 AM  win10-oobe-test              \n",
      "6/24/2020 7:56:39 AM  win10-oobe-test              \n",
      "6/24/2020 7:53:00 AM  jingtoso-desktop1            \n",
      "6/24/2020 7:52:59 AM  jingtoso-desktop1            \n",
      "6/24/2020 7:46:38 AM  win10-oobe-test              \n",
      "6/24/2020 7:06:30 AM  win10-oobe-test              \n",
      "6/24/2020 7:02:01 AM  jingtoso-desktop1            \n",
      "6/24/2020 6:52:05 AM  jingtoso-desktop1            \n",
      "6/24/2020 6:43:10 AM  win10-oobe-test              \n",
      "6/24/2020 6:42:26 AM  win10-oobe-test              \n",
      "6/24/2020 6:32:19 AM  jing-lab                     \n",
      "6/24/2020 6:26:59 AM  jingtoso-desktop1            \n",
      "6/24/2020 6:22:12 AM  win10-oobe-test              \n",
      "6/24/2020 6:13:10 AM  win10-oobe-test              \n",
      "6/24/2020 6:13:10 AM  win10-oobe-test              \n",
      "6/24/2020 6:02:01 AM  jingtoso-desktop1            \n",
      "6/24/2020 5:52:48 AM  jingtoso-desktop1            \n",
      "6/24/2020 5:43:10 AM  win10-oobe-test              \n",
      "6/24/2020 5:32:01 AM  jingtoso-desktop1            \n",
      "6/24/2020 5:22:37 AM  jingtoso-desktop1            \n",
      "6/24/2020 5:13:10 AM  win10-oobe-test              \n",
      "6/24/2020 5:11:37 AM  jingtoso-desktop1            \n",
      "6/24/2020 5:08:05 AM  jingtoso-desktop1            \n",
      "6/24/2020 5:08:03 AM  jingtoso-desktop1            \n",
      "6/24/2020 5:04:11 AM  win10-oobe-test              \n",
      "6/24/2020 4:43:10 AM  win10-oobe-test              \n",
      "6/24/2020 4:36:36 AM  win10-oobe-test              \n",
      "6/24/2020 4:32:24 AM  win10-oobe-test              \n",
      "6/24/2020 4:32:06 AM  win10-oobe-test              \n",
      "6/24/2020 4:30:06 AM  win10-oobe-test              \n",
      "6/24/2020 4:27:07 AM  jingtoso-desktop1            \n",
      "6/24/2020 4:26:05 AM  win10-oobe-test              \n",
      "6/24/2020 4:15:49 AM  jingtoso-desktop1            \n",
      "\n"
     ]
    }
   ],
   "source": [
    "$includeColumns = @('Timestamp','DeviceName','ActionType','RemoteIP')\n",
    "$Result.Results | Select-Object -Property $includeColumns"
   ]
  },
  {
   "cell_type": "code",
   "execution_count": null,
   "metadata": {},
   "outputs": [],
   "source": []
  }
 ],
 "metadata": {
  "kernelspec": {
   "display_name": ".NET (PowerShell)",
   "language": "PowerShell",
   "name": ".net-powershell"
  },
  "language_info": {
   "file_extension": ".ps1",
   "mimetype": "text/x-powershell",
   "name": "PowerShell",
   "pygments_lexer": "powershell",
   "version": "7.0"
  }
 },
 "nbformat": 4,
 "nbformat_minor": 4
}
