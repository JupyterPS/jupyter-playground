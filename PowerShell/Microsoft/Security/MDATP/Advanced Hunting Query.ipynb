{
 "cells": [
  {
   "cell_type": "markdown",
   "metadata": {},
   "source": [
    "# Rest API - Advanced Hunting Query\n",
    "\n",
    "<table align=\"left\">\n",
    "  <tr>\n",
    "    <th>Type</th>\n",
    "      <th>Title</th>\n",
    "    <th>Description</th>\n",
    "  </tr>\n",
    "  <tr>\n",
    "      <td>Documentation</td>\n",
    "    <td><b><a href=\"https://docs.microsoft.com/en-us/windows/security/threat-protection/microsoft-defender-atp/run-advanced-query-api\">Advanced Hunting API</a></td>\n",
    "    <td>This is the documentation that refers to what permissions is required and request examples you can use to query the MDATP API </td>\n",
    "  </tr>\n",
    "</table>"
   ]
  },
  {
   "cell_type": "markdown",
   "metadata": {},
   "source": [
    "## Pre-requisite"
   ]
  },
  {
   "cell_type": "markdown",
   "metadata": {},
   "source": [
    "\n",
    "## Replace variables with pertaining to your environment"
   ]
  },
  {
   "cell_type": "code",
   "execution_count": 40,
   "metadata": {},
   "outputs": [],
   "source": [
    "############ This is the credentials used to authenticate with the Graph API ###################\n",
    "$credentials = @{\n",
    "    tenantDomain = \"domain.com\"\n",
    "    tenantId = \"xxxxxxx-xxxx-xxxx-xxxx-xxxxxxxx\"        ## AAD Tenant ID\n",
    "    client_id = \"ae4fa870-23af-4ae5-a6ed-xxxxx\"     ## Application Client ID\n",
    "    client_secret = \"x~xxxxxxx~xxxxx~xxxxxxxxx-xxx\"   ## Application Client Secret\n",
    "}"
   ]
  },
  {
   "cell_type": "markdown",
   "metadata": {},
   "source": [
    "## Import required modules and credentials "
   ]
  },
  {
   "cell_type": "code",
   "execution_count": 1,
   "metadata": {},
   "outputs": [
    {
     "data": {
      "text/html": [
       "\r\n",
       "<div>\r\n",
       "    <div id='dotnet-interactive-this-cell-24961.9d5e14232985402a97e0978bf297a209' style='display: none'>\r\n",
       "        The below script needs to be able to find the current output cell; this is an easy method to get it.\r\n",
       "    </div>\r\n",
       "    <script type='text/javascript'>\r\n",
       "// ensure `require` is available globally\r\n",
       "if (typeof require !== typeof Function || typeof require.config !== typeof Function) {\r\n",
       "    let require_script = document.createElement('script');\r\n",
       "    require_script.setAttribute('src', 'https://cdnjs.cloudflare.com/ajax/libs/require.js/2.3.6/require.min.js');\r\n",
       "    require_script.setAttribute('type', 'text/javascript');\r\n",
       "    require_script.onload = function () {\r\n",
       "        loadDotnetInteractiveApi();\r\n",
       "    };\r\n",
       "\r\n",
       "    document.getElementsByTagName('head')[0].appendChild(require_script);\r\n",
       "}\r\n",
       "else {\r\n",
       "    loadDotnetInteractiveApi();\r\n",
       "}\r\n",
       "\r\n",
       "async function probeAddresses(probingAddresses) {\r\n",
       "    function timeout(ms, promise) {\r\n",
       "        return new Promise(function (resolve, reject) {\r\n",
       "            setTimeout(function () {\r\n",
       "                reject(new Error('timeout'))\r\n",
       "            }, ms)\r\n",
       "            promise.then(resolve, reject)\r\n",
       "        })\r\n",
       "    }\r\n",
       "\r\n",
       "    if (Array.isArray(probingAddresses)) {\r\n",
       "        for (let i = 0; i < probingAddresses.length; i++) {\r\n",
       "\r\n",
       "            let rootUrl = probingAddresses[i];\r\n",
       "\r\n",
       "            if (!rootUrl.endsWith('/')) {\r\n",
       "                rootUrl = `${rootUrl}/`;\r\n",
       "            }\r\n",
       "\r\n",
       "            try {\r\n",
       "                let response = await timeout(1000, fetch(`${rootUrl}discovery`, {\r\n",
       "                    method: 'POST',\r\n",
       "                    cache: 'no-cache',\r\n",
       "                    mode: 'cors',\r\n",
       "                    timeout: 1000,\r\n",
       "                    headers: {\r\n",
       "                        'Content-Type': 'text/plain'\r\n",
       "                    },\r\n",
       "                    body: probingAddresses[i]\r\n",
       "                }));\r\n",
       "\r\n",
       "                if (response.status == 200) {\r\n",
       "                    return rootUrl;\r\n",
       "                }\r\n",
       "            }\r\n",
       "            catch (e) { }\r\n",
       "        }\r\n",
       "    }\r\n",
       "}\r\n",
       "\r\n",
       "function loadDotnetInteractiveApi() {\r\n",
       "    probeAddresses([\"http://172.17.0.2:1036/\", \"http://127.0.0.1:1036/\"])\r\n",
       "        .then((root) => {\r\n",
       "            // use probing to find host url and api resources\r\n",
       "            // load interactive helpers and language services\r\n",
       "            let dotnet_require = require.config({\r\n",
       "                context: '24961.9d5e14232985402a97e0978bf297a209',\r\n",
       "                paths: {\r\n",
       "                    'dotnet-interactive': `${root}resources`\r\n",
       "                }\r\n",
       "            }) || require;\r\n",
       "            if (!window.dotnet_require) {\r\n",
       "                window.dotnet_require = dotnet_require;\r\n",
       "            }\r\n",
       "        \r\n",
       "            dotnet_require([\r\n",
       "                    'dotnet-interactive/dotnet-interactive'\r\n",
       "                ],\r\n",
       "                function (dotnet) {\r\n",
       "                    dotnet.init(window);\r\n",
       "                },\r\n",
       "                function (error) {\r\n",
       "                    console.log(error);\r\n",
       "                }\r\n",
       "            );\r\n",
       "        })\r\n",
       "        .catch(error => {console.log(error);});\r\n",
       "    }\r\n",
       "    </script>\r\n",
       "</div>"
      ]
     },
     "metadata": {},
     "output_type": "display_data"
    },
    {
     "name": "stdout",
     "output_type": "stream",
     "text": [
      "\n",
      "CommandType     Name                                               Version    Source\n",
      "-----------     ----                                               -------    ------\n",
      "Function        Get-DecryptedStringUsingMasterPassword             0.0        pp-core\n",
      "Function        Get-EncryptedStringUsingMasterPassword             0.0        pp-core\n",
      "Function        Get-HashOfString                                   0.0        pp-core\n",
      "Function        Get-MasterPassword                                 0.0        pp-core\n",
      "Function        Get-StoredCredentials                              0.0        pp-core\n",
      "Function        Invoke-CheckCredentials                            0.0        pp-core\n",
      "Function        New-StoreCredentials                               0.0        pp-core\n",
      "Function        Get-MSGraphAuthToken                               0.0        graph\n",
      "Function        Invoke-GraphAuthentication                         0.0        graph\n",
      "Function        Invoke-MSGraphQuery                                0.0        graph\n",
      "\u001b[96m\n",
      "Please enter a master password that will be used to encrypt/decrypt this credential\u001b[0m\n"
     ]
    },
    {
     "name": "stdin",
     "output_type": "stream",
     "text": [
      " ·········\n"
     ]
    },
    {
     "name": "stdout",
     "output_type": "stream",
     "text": [
      "\n"
     ]
    }
   ],
   "source": [
    "$modules = @('pp-core','graph') ## These are the modules to import \n",
    "$credentialPath = \"~/.credentials/graph.credential\" ## Where to store credentials\n",
    "\n",
    "################## Import Graph Authentication Module #############################\n",
    "ForEach ($module in $modules) {\n",
    "    Import-Module \"~/Notebooks/Powershell-Playground/PowerShell/custom-modules/$module\" -Force  ## import module \n",
    "    Get-Command -Module \"$module\"                                                        ## list commands in this module \n",
    "}\n",
    "\n",
    "$credentials = Get-StoredCredentials -credentialPath $credentialPath"
   ]
  },
  {
   "cell_type": "markdown",
   "metadata": {},
   "source": [
    "## Authenticate with Graph API and get access Token for MDATP Resource"
   ]
  },
  {
   "cell_type": "code",
   "execution_count": 2,
   "metadata": {},
   "outputs": [
    {
     "name": "stdout",
     "output_type": "stream",
     "text": [
      "\n",
      "Name                           Value\n",
      "----                           -----\n",
      "resource                       https://api.securitycenter.windows.com\n",
      "client_id                      ae4fa870-23af-4ae5-a6ed-5ab1811858c7\n",
      "tenantId                       de40cf7e-ad5f-4245-a317-14be39cbb0ef\n",
      "grant_type                     client_credentials\n",
      "client_secret                  5~Q5En6ecx9d~ZtuqPf~YRBLw5S858-7WS\n",
      "\u001b[92m\n",
      "Authentication Parameters detected\u001b[0m\n",
      "Personal Access Token (PAT) grant_type\n",
      "\n",
      "----------------------------------------------------------------------------\n",
      "Authentiating with Microsoft Graph API using a Personal Access Token (PAT)\n",
      "\u001b[37mhttps://docs.microsoft.com/en-us/azure/storage/common/storage-auth-aad-app\u001b[0m\n",
      "----------------------------------------------------------------------------\n",
      "Requesting Token at https://login.microsoftonline.com/de40cf7e-ad5f-4245-a317-14be39cbb0ef/oauth2/token\n",
      "\u001b[92m\n",
      "\n",
      "Received Token!\u001b[0m\n",
      "\u001b[92mConnected and Access Token received and will expire \u001b[0m\n",
      "\n",
      "token_type     : Bearer\n",
      "expires_in     : 3599\n",
      "ext_expires_in : 3599\n",
      "expires_on     : 1593032062\n",
      "not_before     : 1593028162\n",
      "resource       : https://api.securitycenter.windows.com\n",
      "access_token   : eyJ0eXAiOiJKV1QiLCJhbGciOiJSUzI1NiIsIng1dCI6IlNzWnNCTmhaY0YzUTlTNHRycFFCVEJ5TlJSSS\n",
      "                 IsImtpZCI6IlNzWnNCTmhaY0YzUTlTNHRycFFCVEJ5TlJSSSJ9.eyJhdWQiOiJodHRwczovL2FwaS5zZWN\n",
      "                 1cml0eWNlbnRlci53aW5kb3dzLmNvbSIsImlzcyI6Imh0dHBzOi8vc3RzLndpbmRvd3MubmV0L2RlNDBjZ\n",
      "                 jdlLWFkNWYtNDI0NS1hMzE3LTE0YmUzOWNiYjBlZi8iLCJpYXQiOjE1OTMwMjgxNjIsIm5iZiI6MTU5MzA\n",
      "                 yODE2MiwiZXhwIjoxNTkzMDMyMDYyLCJhaW8iOiI0MmRnWU5DNnE3cGdTaSszS1ArNUZPYk5WakgxQUE9P\n",
      "                 SIsImFwcGlkIjoiYWU0ZmE4NzAtMjNhZi00YWU1LWE2ZWQtNWFiMTgxMTg1OGM3IiwiYXBwaWRhY3IiOiI\n",
      "                 xIiwiaWRwIjoiaHR0cHM6Ly9zdHMud2luZG93cy5uZXQvZGU0MGNmN2UtYWQ1Zi00MjQ1LWEzMTctMTRiZ\n",
      "                 TM5Y2JiMGVmLyIsIm9pZCI6IjMwYzExZThiLWMwZGItNDkwMC05MDUwLTg5MmZlZmEwYjNmMCIsInJvbGV\n",
      "                 zIjpbIkV2ZW50LldyaXRlIiwiVXJsLlJlYWQuQWxsIiwiSXAuUmVhZC5BbGwiLCJUaS5SZWFkV3JpdGUiL\n",
      "                 CJUaS5SZWFkLkFsbCIsIlVzZXIuUmVhZC5BbGwiLCJNYWNoaW5lLlJlYWRXcml0ZS5BbGwiLCJTZWN1cml\n",
      "                 0eVJlY29tbWVuZGF0aW9uLlJlYWQuQWxsIiwiQWxlcnQuUmVhZC5BbGwiLCJTb2Z0d2FyZS5SZWFkLkFsb\n",
      "                 CIsIlNlY3VyaXR5Q29uZmlndXJhdGlvbi5SZWFkLkFsbCIsIkZpbGUuUmVhZC5BbGwiLCJWdWxuZXJhYml\n",
      "                 saXR5LlJlYWQuQWxsIiwiTWFjaGluZS5SZWFkLkFsbCIsIlNjb3JlLlJlYWQuQWxsIiwiQWxlcnQuUmVhZ\n",
      "                 FdyaXRlLkFsbCIsIkFkdmFuY2VkUXVlcnkuUmVhZC5BbGwiXSwic3ViIjoiMzBjMTFlOGItYzBkYi00OTA\n",
      "                 wLTkwNTAtODkyZmVmYTBiM2YwIiwidGlkIjoiZGU0MGNmN2UtYWQ1Zi00MjQ1LWEzMTctMTRiZTM5Y2JiM\n",
      "                 GVmIiwidXRpIjoiRVVBcEt2Y05qVUtwRzJfVnJCVUJBUSIsInZlciI6IjEuMCJ9.sU1_pGLp3GV6GdpoLo\n",
      "                 bPdO7Ed7Bc8XwZg_vp9ILUCsEiG8v3SIcVo9_eggW9bjZH3A-WDRsKlmBoDrKnJQ6q2yP2EIFM3TjPPOUT\n",
      "                 qkEIlTT0gRcXQZoRrjlbMIvrwMk8tS35QHM1-rCwyUE6eDUWi5NxDbPgyJh_m8aHUbUIlk7XC-Fcli8qRD\n",
      "                 ZrYzGVu-gfSsJ6KC_WrAdJNgc2njAQRo-DjVd2uRgqifO1v8LNxCbXRptgwiKzHNNwxvqSvaQIXLj2HP7y\n",
      "                 KogLWtS9yrBfzql-ad28lgwLKnUptCbd8ENKvtnEluqjCKOBZDj5cd70YL69T-1yIYlqNGD2FHPZUQ\n",
      "\n",
      "\n"
     ]
    }
   ],
   "source": [
    "## Get a token if authenticates properly.\n",
    "$authParams = @{\n",
    "    tenantId = $credentials.tenantId\n",
    "    client_id = $credentials.client_id\n",
    "    client_secret = $credentials.client_secret\n",
    "    resource = \"https://api.securitycenter.windows.com\"    ## resource Dont change since we want to query MDATP REST API Resource\n",
    "    grant_type = \"client_credentials\"  ## This is using a appliation ID and secret to authenticate\n",
    "}; $authParams\n",
    "\n",
    "$tokenResponse = Invoke-GraphAuthentication -authParams $authParams\n",
    "$tokenResponse"
   ]
  },
  {
   "cell_type": "markdown",
   "metadata": {},
   "source": [
    "### Put your Hunting Query here"
   ]
  },
  {
   "cell_type": "code",
   "execution_count": 3,
   "metadata": {},
   "outputs": [
    {
     "name": "stdout",
     "output_type": "stream",
     "text": [
      "\u001b[93m\n",
      "Query\u001b[0m\n",
      "\n",
      "DeviceNetworkEvents \n",
      "| where InitiatingProcessFileName =~ 'powershell.exe'\n",
      "| limit 10\n",
      "\n",
      "\u001b[93mJSON\u001b[0m\n",
      "{\n",
      "  \"Query\": \"\\nDeviceNetworkEvents \\n| where InitiatingProcessFileName =~ 'powershell.exe'\\n| limit 10\\n\"\n",
      "}\n"
     ]
    }
   ],
   "source": [
    "## Enter your query here\n",
    "$Query = \"\n",
    "DeviceNetworkEvents \n",
    "| where InitiatingProcessFileName =~ 'powershell.exe'\n",
    "| limit 10\n",
    "\"\n",
    "\n",
    "## This is the query converted to JSON format\n",
    "$body = @{Query = $Query} | ConvertTo-JSON\n",
    "Write-Host -ForeGround Yellow \"`nQuery\"; $Query\n",
    "Write-Host -ForeGround Yellow \"JSON\"; $body"
   ]
  },
  {
   "cell_type": "markdown",
   "metadata": {},
   "source": [
    "## Query the MDATP API"
   ]
  },
  {
   "cell_type": "markdown",
   "metadata": {},
   "source": [
    "### Query the MDATP API Grab report schema "
   ]
  },
  {
   "cell_type": "code",
   "execution_count": 6,
   "metadata": {},
   "outputs": [
    {
     "name": "stdout",
     "output_type": "stream",
     "text": [
      "\n",
      "Stats                                                                           Schema\n",
      "-----                                                                           ------             \n",
      "@{ExecutionTime=0.0469037; resource_usage=; dataset_statistics=System.Object[]} {@{Name=Timestamp;…\n",
      "\n"
     ]
    }
   ],
   "source": [
    "$URI = \"https://api.securitycenter.windows.com/api/advancedqueries/run\"   ## This is the URL to query with the access token.\n",
    "$header = @{                                                              ## This is the header\n",
    "    'Content-Type' = 'application/json'\n",
    "    Accept = 'application/json'\n",
    "    Authorization = \"Bearer $($tokenResponse.access_token)\" }\n",
    "\n",
    "$Result = (Invoke-RestMethod -Method POST -Uri $URI -Headers $header -body $body -ErrorAction Stop)\n",
    "$Result"
   ]
  },
  {
   "cell_type": "markdown",
   "metadata": {},
   "source": [
    "### Parse report"
   ]
  },
  {
   "cell_type": "code",
   "execution_count": 7,
   "metadata": {},
   "outputs": [
    {
     "name": "stdout",
     "output_type": "stream",
     "text": [
      "\n",
      "Timestamp            DeviceName ActionType        RemoteIP\n",
      "---------            ---------- ----------        --------\n",
      "6/12/2020 5:52:00 PM jing-lab   ConnectionSuccess 116.202.55.106\n",
      "\n"
     ]
    }
   ],
   "source": [
    "$includeColumns = @('Timestamp','DeviceName','ActionType','RemoteIP')\n",
    "$Result.Results | Select-Object -Property $includeColumns"
   ]
  },
  {
   "cell_type": "code",
   "execution_count": null,
   "metadata": {},
   "outputs": [],
   "source": []
  }
 ],
 "metadata": {
  "kernelspec": {
   "display_name": ".NET (PowerShell)",
   "language": "PowerShell",
   "name": ".net-powershell"
  },
  "language_info": {
   "file_extension": ".ps1",
   "mimetype": "text/x-powershell",
   "name": "PowerShell",
   "pygments_lexer": "powershell",
   "version": "7.0"
  }
 },
 "nbformat": 4,
 "nbformat_minor": 4
}
