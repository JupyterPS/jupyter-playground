{
 "cells": [
  {
   "cell_type": "markdown",
   "metadata": {},
   "source": [
    "# Querying Azure Sentinel via REST API using a Personal Access Token (PAT)"
   ]
  },
  {
   "cell_type": "markdown",
   "metadata": {},
   "source": [
    "## Get Workspaces in Subscription"
   ]
  },
  {
   "cell_type": "markdown",
   "metadata": {},
   "source": [
    "### Configure variables. Change this based on your tenant, domain, and app registration details"
   ]
  },
  {
   "cell_type": "code",
   "execution_count": 9,
   "metadata": {},
   "outputs": [],
   "source": [
    "<#\n",
    "\t\t`$config = @{\n",
    "\t\t\ttenantId = $tenantID                # This is the tenant ID\n",
    "\t\t\tappId = $appId                      # This is the client ID when you register your app\n",
    "\t\t\tappSecret = $appSecret              # This is the generated client secret in the client app\n",
    "            sentinelWorkspaceID = \"afadfafafaf\" # Log analytics workspace sentinel is using\n",
    "\t\t}\n",
    "<#"
   ]
  },
  {
   "cell_type": "markdown",
   "metadata": {},
   "source": [
    "## Import credential from storage path or Export a new XML file using above filled in parameters"
   ]
  },
  {
   "cell_type": "code",
   "execution_count": 2,
   "metadata": {},
   "outputs": [
    {
     "name": "stdout",
     "output_type": "stream",
     "text": [
      "\u001b[92m\n",
      "Credential file loaded from .\\AzSentinel.credential\u001b[0m\n"
     ]
    }
   ],
   "source": [
    "## Checks to see if config file exist and if not export credential file from above.\n",
    "$storagePath = \".\\AzSentinel.credential\"\n",
    "$config = (Import-CliXml -Path $storagePath)\n",
    "if (!$config) {\n",
    "    $config | Export-CliXml -Path $storagePath\n",
    "} else {\n",
    "    Write-Host -Foregroundcolor green \"`nCredential file loaded from $($storagePath)\"\n",
    "}"
   ]
  },
  {
   "cell_type": "markdown",
   "metadata": {},
   "source": [
    "## Authenticate with the MS Graph API via Personal Access Token (PAT)"
   ]
  },
  {
   "cell_type": "code",
   "execution_count": 4,
   "metadata": {},
   "outputs": [
    {
     "name": "stdout",
     "output_type": "stream",
     "text": [
      "\n",
      "----------------------------------------------------------------------------\n",
      "Authentiating with Microsoft Graph API using a Personal Access Token (PAT)\n",
      "\u001b[37mhttps://docs.microsoft.com/en-us/azure/storage/common/storage-auth-aad-app\u001b[0m\n",
      "----------------------------------------------------------------------------\n",
      "\u001b[92mAuthentication variables detected\u001b[0m\n",
      "\n",
      "Returning your Access Token. Be sure to insert it into a variable...\n",
      "\n",
      "[Example] \n",
      "$AccessToken = Authenticate-Graph-PAT $config\n",
      "\n",
      "eyJ*eXAiOiJKV*QiLCJhbGciOiJSUzI*NiIsIng*dCI*IlNzWnNCTmhaY*YzUTlTNHRycFFCVEJ*TlJSSSIsImtpZCI*IlNzWnNCTmhaY*YzUTlTNHRycFFCVEJ*TlJSSSJ*.eyJhdWQiOiJodHRwczovL*FwaS*sb*dhbmFseXRpY*MuaW*iLCJpc*MiOiJodHRwczovL*N*cy**aW*kb*dzLm*ldC*kZTQwY*Y*ZS*hZDVmLTQyNDUtYTMxNy*xNGJlMzljYmIwZWYvIiwiaWF*IjoxNTkyMzczNjAzLCJuYmYiOjE*OTIzNzM*MDMsImV*cCI*MTU*MjM*NzUwMywiYWlvIjoiNDJkZ*lKZzg*OUsycDFxdjVYd*ZIZXhubFZzM*FnQT*iLCJhcHBpZCI*ImFlNGZhODcwLTIzYWYtNGFlNS*hNmVkLTVhYjE*MTE*NThjNyIsImFwcGlkYWNyIjoiMSIsImlkcCI*Imh*dHBzOi*vc*RzLndpbmRvd*MubmV*L*RlNDBjZjdlLWFkNWYtNDI*NS*hMzE*LTE*YmUzOWNiYjBlZi*iLCJvaWQiOiIzMGMxMWU*Yi*jMGRiLTQ*MDAtOTA*MC**OTJmZWZhMGIzZjAiLCJyb*xlcyI*WyJEYXRhLlJlYWQiXSwic*ViIjoiMzBjMTFlOGItYzBkYi**OTAwLTkwNTAtODkyZmVmYTBiM*YwIiwidGlkIjoiZGU*MGNmN*UtYWQ*Zi**MjQ*LWEzMTctMTRiZTM*Y*JiMGVmIiwidXRpIjoiUS*CN*hQQVF*a*lLM*lpNkwtUFBBQSIsInZlciI*IjEuMCJ*.Aq*x*t*VXy***ctXeJ**DKwhQOZSrWjii-*AY*Qm*Q**dKiKFjUTrywHHBmoR*t-Oq*tDS*rHvX*dcDagN*m*INBxQMLtDABNVYuND-Gw**aS*DZpYbrFOSoUJOQAWqhJNsVvJ*LYQdanMvsxwRU*xGoarRdiGV*iNq*-*pqkHqJB_**afE_NoCtq*bZ*syPiL*dRe*_Cyb*ERifwlZ*AHI*_q*_S*SQYdpMiBso*Zka*L*HotaoIwGprLD*N*B*wkLU*XCxS*kA*tYks*pCNZ*ZRBwz*j*kusboodfttdH-Zr*My*u*JwgQn*-*hG*GcN*FPiN***dP*IDsYf*pDQ\n"
     ]
    }
   ],
   "source": [
    "Import-Module \"..\\..\\Graph-API\\modules\\GraphAuthentication.psm1\" -Force  ## Imports the module\n",
    "#Get-Command -Module \"GraphAuthentication\"                  ## Shows what commands were imported\n",
    "\n",
    "$resourceURI = \"https://api.loganalytics.io\"\n",
    "\n",
    "## authenticate with the graph API via REST API\n",
    "$aadToken = Invoke-GraphAuthenticatePAT -authvariables $config -resource $resourceURI\n",
    "Write-Host ($aadToken -replace \"\\d\",\"*\")"
   ]
  },
  {
   "cell_type": "markdown",
   "metadata": {},
   "source": [
    "### Put your Azure Sentinel Hunting Query here"
   ]
  },
  {
   "cell_type": "code",
   "execution_count": 5,
   "metadata": {},
   "outputs": [
    {
     "name": "stdout",
     "output_type": "stream",
     "text": [
      "\u001b[93m\n",
      "Query\u001b[0m\n",
      "\n",
      "SecurityAlert\n",
      "\n",
      "\u001b[93mJSON\u001b[0m\n",
      "{\n",
      "  \"query\": \"\\nSecurityAlert\\n\",\n",
      "  \"timespan\": \"\"\n",
      "}\n"
     ]
    }
   ],
   "source": [
    "## Enter your query here\n",
    "$query = @\"\n",
    "\n",
    "SecurityAlert\n",
    "\n",
    "\"@\n",
    "\n",
    "$timeSpan = \"\" ## You can leave blank or specify a date. But something HAS to be there. \n",
    " \n",
    "## This is the query converted to JSON format\n",
    "$body = (@{\n",
    "   query = $Query\n",
    "   timespan = $timeSpan  \n",
    "} | ConvertTO-JSON)\n",
    "Write-Host -ForeGround Yellow \"`nQuery\"; $Query\n",
    "Write-Host -ForeGround Yellow \"JSON\"; $body"
   ]
  },
  {
   "cell_type": "markdown",
   "metadata": {},
   "source": [
    "## We will query the API"
   ]
  },
  {
   "cell_type": "code",
   "execution_count": 6,
   "metadata": {},
   "outputs": [
    {
     "name": "stdout",
     "output_type": "stream",
     "text": [
      "URI: https://api.loganalytics.io/v*/workspaces/a*******-*bde-****-*f**-*c**a**cc***/query\n",
      "\n",
      "Name                           Value\n",
      "----                           -----\n",
      "Authorization                  Bearer eyJ0eXAiOiJKV1QiLCJhbGciOiJSUzI1NiIsIng1dCI6IlNzWnNCTmhaY0Yz…\n",
      "Accept                         application/json\n",
      "Content-Type                   application/json\n",
      "\n"
     ]
    }
   ],
   "source": [
    "$URI = \"$($resourceURI)/v1/workspaces/$($config.sentinelWorkspaceID)/query\"\n",
    "$header = @{ \n",
    "    'Content-Type' = 'application/json'\n",
    "    Accept = 'application/json'\n",
    "    Authorization = \"Bearer $($aadToken)\" \n",
    "}\n",
    "\n",
    "Write-Host \"URI: $($URI -replace \"[0-9]\",\"*\")\"\n",
    "$header"
   ]
  },
  {
   "cell_type": "code",
   "execution_count": 7,
   "metadata": {},
   "outputs": [
    {
     "name": "stdout",
     "output_type": "stream",
     "text": [
      "a8960181-0bde-4955-9f94-2c12a36cc900\n",
      "\n",
      "Monday, May 25, 2020 7:42:54 PM\n",
      "DLP Policy - Sharepoint - Sensitive files shared externally\n",
      "DLP Policy - Sharepoint - Sensitive files shared externally\n",
      "Medium\n",
      "Activity policy 'DLP Policy - Sharepoint - Sensitive files shared externally' was triggered by 'Bob Smith (bob@jingtoso.com)'\n",
      "MCAS\n",
      "Microsoft\n",
      "073A5B74-5D2B-3E70-BBCE-B1CE0EE5EC2E\n",
      "dee5f39b-e1fe-ad36-dc38-aec97082cf8e\n",
      "\n",
      "\n",
      "MCAS_ALERT_CABINET_EVENT_MATCH_AUDIT\n",
      "Unknown\n",
      "\n",
      "False\n",
      "Monday, May 25, 2020 7:42:49 PM\n",
      "Monday, May 25, 2020 7:42:49 PM\n",
      "Monday, May 25, 2020 7:42:54 PM\n",
      "\n",
      "{\n",
      "  \"Cloud Applications\": \"Microsoft SharePoint Online\"\n",
      "}\n",
      "[\n",
      "  {\n",
      "    \"$id\": \"3\",\n",
      "    \"Name\": \"bob\",\n",
      "    \"UPNSuffix\": \"jingtoso.com\",\n",
      "    \"AadUserId\": \"6836ed6d-2a15-4889-ad24-fbda46b5ffda\",\n",
      "    \"Type\": \"account\"\n",
      "  },\n",
      "  {\n",
      "    \"$id\": \"4\",\n",
      "    \"AppId\": 20892,\n",
      "    \"Name\": \"Microsoft SharePoint Online\",\n",
      "    \"InstanceName\": \"Microsoft SharePoint Online\",\n",
      "    \"Type\": \"cloud-application\"\n",
      "  }\n",
      "]\n",
      "Detection\n",
      "\n",
      "\n",
      "[\n",
      "  {\n",
      "    \"Href\": \"https://skyserver.portal.cloudappsecurity.com/#/policy/?id=eq(5e277162f212829bbbf61325,)\",\n",
      "    \"Category\": null,\n",
      "    \"Label\": \"Cloud App Security policy ID\",\n",
      "    \"Type\": \"webLink\"\n",
      "  },\n",
      "  {\n",
      "    \"Href\": \"https://skyserver.portal.cloudappsecurity.com/#/alerts/5ecc1fb936159cde5df148e2\",\n",
      "    \"Category\": null,\n",
      "    \"Label\": \"Cloud App Security alert ID\",\n",
      "    \"Type\": \"webLink\"\n",
      "  }\n",
      "]\n",
      "Microsoft Cloud App Security\n",
      "\n",
      "\n",
      "SecurityAlert\n",
      "\n"
     ]
    }
   ],
   "source": [
    "#query Graph API and insert into $graphresponse variable\n",
    "$Result = (Invoke-RestMethod -Method POST -Uri $URI -Headers $header -body $body -ErrorAction Stop)\n",
    "$Result.tables.rows | Select -First 1"
   ]
  },
  {
   "cell_type": "code",
   "execution_count": null,
   "metadata": {},
   "outputs": [],
   "source": []
  }
 ],
 "metadata": {
  "kernelspec": {
   "display_name": ".NET (PowerShell)",
   "language": "PowerShell",
   "name": ".net-powershell"
  },
  "language_info": {
   "file_extension": ".ps1",
   "mimetype": "text/x-powershell",
   "name": "PowerShell",
   "pygments_lexer": "powershell",
   "version": "7.0"
  }
 },
 "nbformat": 4,
 "nbformat_minor": 4
}
