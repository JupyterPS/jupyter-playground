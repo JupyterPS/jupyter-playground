{
 "cells": [
  {
   "cell_type": "markdown",
   "metadata": {},
   "source": [
    "# Querying Azure Sentinel via REST API using a Personal Access Token (PAT)\n",
    "\n",
    "<table align=\"left\" style=\"margin-left:25px\">\n",
    "  <tr>\n",
    "    <th>Type</th>\n",
    "    <th>Title</th>\n",
    "    <th>Description</th>\n",
    "  </tr>\n",
    "  <tr>\n",
    "      <td>Documentation</td>\n",
    "      <td><b><a href=\"https://techcommunity.microsoft.com/t5/azure-sentinel/extending-azure-sentinel-apis-integration-and-management/ba-p/1116885\">Extending Azure Sentinel: APIs, Integration and management automation</a></td>\n",
    "    <td>Its highly recommended to follow this guide to get familiar with navigating and using Jupyter Notebooks. </td>\n",
    "  </tr>\n",
    "  <tr>\n",
    "      <td>Tech Community</td>\n",
    "    <td><b><a href=\"../../PowerShell/Getting-Started-README.ipynb\">Access Azure Sentinel Log Analytics via API (Part 1)</a></td>\n",
    "    <td>@rinure wrote a good article explaining how to query the API. Use this as a reference to understand how to query the Azure Sentinel API. </td>\n",
    "  </tr>\n",
    "</table> "
   ]
  },
  {
   "cell_type": "markdown",
   "metadata": {},
   "source": [
    "## Get Workspaces in Subscription"
   ]
  },
  {
   "cell_type": "markdown",
   "metadata": {},
   "source": [
    "### Configure variables. Change this based on your tenant, domain, and app registration details"
   ]
  },
  {
   "cell_type": "code",
   "execution_count": 9,
   "metadata": {},
   "outputs": [],
   "source": [
    "<#\n",
    "\t\t`$config = @{\n",
    "\t\t\ttenantId = $tenantID                # This is the tenant ID\n",
    "\t\t\tappId = $appId                      # This is the client ID when you register your app\n",
    "\t\t\tappSecret = $appSecret              # This is the generated client secret in the client app\n",
    "            sentinelWorkspaceID = \"afadfafafaf\" # Log analytics workspace sentinel is using\n",
    "\t\t}\n",
    "<#"
   ]
  },
  {
   "cell_type": "markdown",
   "metadata": {},
   "source": [
    "## Import credential from storage path or Export a new XML file using above filled in parameters"
   ]
  },
  {
   "cell_type": "code",
   "execution_count": 2,
   "metadata": {},
   "outputs": [
    {
     "name": "stdout",
     "output_type": "stream",
     "text": [
      "\u001b[92m\n",
      "Credential file loaded from .\\AzSentinel.credential\u001b[0m\n"
     ]
    }
   ],
   "source": [
    "## Checks to see if config file exist and if not export credential file from above.\n",
    "$storagePath = \".\\AzSentinel.credential\"\n",
    "$config = (Import-CliXml -Path $storagePath)\n",
    "if (!$config) {\n",
    "    $config | Export-CliXml -Path $storagePath\n",
    "} else {\n",
    "    Write-Host -Foregroundcolor green \"`nCredential file loaded from $($storagePath)\"\n",
    "}"
   ]
  },
  {
   "cell_type": "markdown",
   "metadata": {},
   "source": [
    "## Authenticate with the MS Graph API via Personal Access Token (PAT)"
   ]
  },
  {
   "cell_type": "code",
   "execution_count": null,
   "metadata": {},
   "outputs": [],
   "source": [
    "Import-Module \"..\\..\\Graph-API\\modules\\GraphAuthentication.psm1\" -Force  ## Imports the module\n",
    "#Get-Command -Module \"GraphAuthentication\"                  ## Shows what commands were imported\n",
    "\n",
    "$resourceURI = \"https://api.loganalytics.io\"\n",
    "\n",
    "## authenticate with the graph API via REST API\n",
    "$aadToken = Invoke-GraphAuthenticatePAT -authvariables $config -resource $resourceURI\n",
    "Write-Host ($aadToken -replace \"\\d\",\"*\")"
   ]
  },
  {
   "cell_type": "markdown",
   "metadata": {},
   "source": [
    "### Put your Azure Sentinel Hunting Query here"
   ]
  },
  {
   "cell_type": "code",
   "execution_count": 5,
   "metadata": {},
   "outputs": [
    {
     "name": "stdout",
     "output_type": "stream",
     "text": [
      "\u001b[93m\n",
      "Query\u001b[0m\n",
      "\n",
      "SecurityAlert\n",
      "\n",
      "\u001b[93mJSON\u001b[0m\n",
      "{\n",
      "  \"query\": \"\\nSecurityAlert\\n\",\n",
      "  \"timespan\": \"\"\n",
      "}\n"
     ]
    }
   ],
   "source": [
    "## Enter your query here\n",
    "$query = @\"\n",
    "\n",
    "SecurityAlert\n",
    "\n",
    "\"@\n",
    "\n",
    "$timeSpan = \"\" ## You can leave blank or specify a date. But something HAS to be there. \n",
    " \n",
    "## This is the query converted to JSON format\n",
    "$body = (@{\n",
    "   query = $Query\n",
    "   timespan = $timeSpan  \n",
    "} | ConvertTO-JSON)\n",
    "Write-Host -ForeGround Yellow \"`nQuery\"; $Query\n",
    "Write-Host -ForeGround Yellow \"JSON\"; $body"
   ]
  },
  {
   "cell_type": "markdown",
   "metadata": {},
   "source": [
    "## We will query the API"
   ]
  },
  {
   "cell_type": "code",
   "execution_count": 6,
   "metadata": {},
   "outputs": [
    {
     "name": "stdout",
     "output_type": "stream",
     "text": [
      "URI: https://api.loganalytics.io/v*/workspaces/a*******-*bde-****-*f**-*c**a**cc***/query\n",
      "\n",
      "Name                           Value\n",
      "----                           -----\n",
      "Authorization                  Bearer eyJ0eXAiOiJKV1QiLCJhbGciOiJSUzI1NiIsIng1dCI6IlNzWnNCTmhaY0Yz…\n",
      "Accept                         application/json\n",
      "Content-Type                   application/json\n",
      "\n"
     ]
    }
   ],
   "source": [
    "$URI = \"$($resourceURI)/v1/workspaces/$($config.sentinelWorkspaceID)/query\"\n",
    "$header = @{ \n",
    "    'Content-Type' = 'application/json'\n",
    "    Accept = 'application/json'\n",
    "    Authorization = \"Bearer $($aadToken)\" \n",
    "}\n",
    "\n",
    "Write-Host \"URI: $($URI -replace \"[0-9]\",\"*\")\"\n",
    "$header"
   ]
  },
  {
   "cell_type": "markdown",
   "metadata": {},
   "source": [
    "## Query Graph API and insert into $graphresponse variable"
   ]
  },
  {
   "cell_type": "code",
   "execution_count": 8,
   "metadata": {},
   "outputs": [
    {
     "name": "stdout",
     "output_type": "stream",
     "text": [
      "a8960181-0bde-4955-9f94-2c12a36cc900\n",
      "\n",
      "Tuesday, June 2, 2020 7:43:13 PM\n",
      "DLP - Sharepoint - Financial sensitive file(s) shared externally\n",
      "DLP - Sharepoint - Financial sensitive file(s) shared externally\n",
      "High\n",
      "File policy 'DLP - Sharepoint - Financial sensitive file(s) shared externally' was matched by 'Credit_Card_Form_SP_20200602-T0239.docx'\n",
      "MCAS\n",
      "Microsoft\n",
      "457088D9-F5CC-3065-8A4F-055C7A53D39A\n",
      "e07f746e-69f7-fafa-e454-9a3270364fc1\n",
      "\n",
      "\n",
      "MCAS_ALERT_CABINET_EVENT_MATCH_FILE\n",
      "Unknown\n",
      "\n",
      "False\n",
      "Tuesday, June 2, 2020 7:42:59 PM\n",
      "Tuesday, June 2, 2020 7:42:59 PM\n",
      "Tuesday, June 2, 2020 7:43:13 PM\n",
      "\n",
      "{\n",
      "  \"Cloud Applications\": \"Microsoft SharePoint Online\"\n",
      "}\n",
      "[\n",
      "  {\n",
      "    \"$id\": \"3\",\n",
      "    \"AppId\": 20892,\n",
      "    \"Name\": \"Microsoft SharePoint Online\",\n",
      "    \"InstanceName\": \"Microsoft SharePoint Online\",\n",
      "    \"Type\": \"cloud-application\"\n",
      "  },\n",
      "  {\n",
      "    \"$id\": \"4\",\n",
      "    \"Name\": \"bob\",\n",
      "    \"UPNSuffix\": \"jingtoso.com\",\n",
      "    \"AadUserId\": \"6836ed6d-2a15-4889-ad24-fbda46b5ffda\",\n",
      "    \"Type\": \"account\"\n",
      "  }\n",
      "]\n",
      "Detection\n",
      "\n",
      "\n",
      "[\n",
      "  {\n",
      "    \"Href\": \"https://skyserver.portal.cloudappsecurity.com/#/policy/?id=eq(5e2781b30d60ec20fe2951a2,)\",\n",
      "    \"Category\": null,\n",
      "    \"Label\": \"Cloud App Security policy ID\",\n",
      "    \"Type\": \"webLink\"\n",
      "  },\n",
      "  {\n",
      "    \"Href\": \"https://skyserver.portal.cloudappsecurity.com/#/alerts/5ed6abcb36159cde5d0eeaf3\",\n",
      "    \"Category\": null,\n",
      "    \"Label\": \"Cloud App Security alert ID\",\n",
      "    \"Type\": \"webLink\"\n",
      "  }\n",
      "]\n",
      "Microsoft Cloud App Security\n",
      "\n",
      "\n",
      "SecurityAlert\n",
      "\n"
     ]
    }
   ],
   "source": [
    "$Result = (Invoke-RestMethod -Method POST -Uri $URI -Headers $header -body $body -ErrorAction Stop)\n",
    "$Result.tables.rows | Select -First 1"
   ]
  },
  {
   "cell_type": "code",
   "execution_count": null,
   "metadata": {},
   "outputs": [],
   "source": []
  }
 ],
 "metadata": {
  "kernelspec": {
   "display_name": ".NET (PowerShell)",
   "language": "PowerShell",
   "name": ".net-powershell"
  },
  "language_info": {
   "file_extension": ".ps1",
   "mimetype": "text/x-powershell",
   "name": "PowerShell",
   "pygments_lexer": "powershell",
   "version": "7.0"
  }
 },
 "nbformat": 4,
 "nbformat_minor": 4
}
