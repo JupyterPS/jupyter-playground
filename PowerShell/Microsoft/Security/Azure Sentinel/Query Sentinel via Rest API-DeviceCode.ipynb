{
 "cells": [
  {
   "cell_type": "markdown",
   "metadata": {},
   "source": [
    "# Querying Azure Sentinel via REST API using a Device Code\n",
    "\n",
    "<table align=\"left\" style=\"margin-left:25px\">\n",
    "  <tr>\n",
    "    <th>Type</th>\n",
    "    <th>Title</th>\n",
    "    <th>Description</th>\n",
    "  </tr>\n",
    "  <tr>\n",
    "      <td>Documentation</td>\n",
    "      <td><b><a href=\"https://techcommunity.microsoft.com/t5/azure-sentinel/extending-azure-sentinel-apis-integration-and-management/ba-p/1116885\">Extending Azure Sentinel: APIs, Integration and management automation</a></td>\n",
    "    <td>Its highly recommended to follow this guide to get familiar with navigating and using Jupyter Notebooks. </td>\n",
    "  </tr>\n",
    "  <tr>\n",
    "      <td>Tech Community</td>\n",
    "    <td><b><a href=\"../../PowerShell/Getting-Started-README.ipynb\">Access Azure Sentinel Log Analytics via API (Part 1)</a></td>\n",
    "    <td>@rinure wrote a good article explaining how to query the API. Use this as a reference to understand how to query the Azure Sentinel API. </td>\n",
    "  </tr>\n",
    "</table> "
   ]
  },
  {
   "cell_type": "markdown",
   "metadata": {},
   "source": [
    "## Set your variables here (Uncomment)"
   ]
  },
  {
   "cell_type": "code",
   "execution_count": 21,
   "metadata": {},
   "outputs": [],
   "source": [
    "<#\n",
    "$config = @{\n",
    "    tenantDomain = \"domain.com\"\n",
    "    appID = \"xxxxxx-23af-4ae5-a6ed-xxxxxx\"                   ## Usually known as Client ID or Application ID\n",
    "    sentinelWorkspaceID = \"a89xxxxxxxx-4955-9f94xxxxxx900\"\n",
    "}\n",
    "#>"
   ]
  },
  {
   "cell_type": "markdown",
   "metadata": {},
   "source": [
    "## Import credential from storage path or Export a new XML file using above filled in parameters"
   ]
  },
  {
   "cell_type": "code",
   "execution_count": 1,
   "metadata": {},
   "outputs": [
    {
     "data": {
      "text/html": [
       "\r\n",
       "<div>\r\n",
       "    <div id='dotnet-interactive-this-cell-4765.3738f45c8c0e46d5b49752bc57ba342d' style='display: none'>\r\n",
       "        The below script needs to be able to find the current output cell; this is an easy method to get it.\r\n",
       "    </div>\r\n",
       "    <script type='text/javascript'>\r\n",
       "// ensure `require` is available globally\r\n",
       "if (typeof require !== typeof Function || typeof require.config !== typeof Function) {\r\n",
       "    let require_script = document.createElement('script');\r\n",
       "    require_script.setAttribute('src', 'https://cdnjs.cloudflare.com/ajax/libs/require.js/2.3.6/require.min.js');\r\n",
       "    require_script.setAttribute('type', 'text/javascript');\r\n",
       "    require_script.onload = function () {\r\n",
       "        loadDotnetInteractiveApi();\r\n",
       "    };\r\n",
       "\r\n",
       "    document.getElementsByTagName('head')[0].appendChild(require_script);\r\n",
       "}\r\n",
       "else {\r\n",
       "    loadDotnetInteractiveApi();\r\n",
       "}\r\n",
       "\r\n",
       "async function probeAddresses(probingAddresses) {\r\n",
       "    function timeout(ms, promise) {\r\n",
       "        return new Promise(function (resolve, reject) {\r\n",
       "            setTimeout(function () {\r\n",
       "                reject(new Error('timeout'))\r\n",
       "            }, ms)\r\n",
       "            promise.then(resolve, reject)\r\n",
       "        })\r\n",
       "    }\r\n",
       "\r\n",
       "    if (Array.isArray(probingAddresses)) {\r\n",
       "        for (let i = 0; i < probingAddresses.length; i++) {\r\n",
       "\r\n",
       "            let rootUrl = probingAddresses[i];\r\n",
       "\r\n",
       "            if (!rootUrl.endsWith('/')) {\r\n",
       "                rootUrl = `${rootUrl}/`;\r\n",
       "            }\r\n",
       "\r\n",
       "            try {\r\n",
       "                let response = await timeout(1000, fetch(`${rootUrl}discovery`, {\r\n",
       "                    method: 'POST',\r\n",
       "                    cache: 'no-cache',\r\n",
       "                    mode: 'cors',\r\n",
       "                    timeout: 1000,\r\n",
       "                    headers: {\r\n",
       "                        'Content-Type': 'text/plain'\r\n",
       "                    },\r\n",
       "                    body: probingAddresses[i]\r\n",
       "                }));\r\n",
       "\r\n",
       "                if (response.status == 200) {\r\n",
       "                    return rootUrl;\r\n",
       "                }\r\n",
       "            }\r\n",
       "            catch (e) { }\r\n",
       "        }\r\n",
       "    }\r\n",
       "}\r\n",
       "\r\n",
       "function loadDotnetInteractiveApi() {\r\n",
       "    probeAddresses([\"http://172.17.0.2:1026/\", \"http://127.0.0.1:1026/\"])\r\n",
       "        .then((root) => {\r\n",
       "            // use probing to find host url and api resources\r\n",
       "            // load interactive helpers and language services\r\n",
       "            let dotnet_require = require.config({\r\n",
       "                context: '4765.3738f45c8c0e46d5b49752bc57ba342d',\r\n",
       "                paths: {\r\n",
       "                    'dotnet-interactive': `${root}resources`\r\n",
       "                }\r\n",
       "            }) || require;\r\n",
       "            if (!window.dotnet_require) {\r\n",
       "                window.dotnet_require = dotnet_require;\r\n",
       "            }\r\n",
       "        \r\n",
       "            dotnet_require([\r\n",
       "                    'dotnet-interactive/dotnet-interactive'\r\n",
       "                ],\r\n",
       "                function (dotnet) {\r\n",
       "                    dotnet.init(window);\r\n",
       "                },\r\n",
       "                function (error) {\r\n",
       "                    console.log(error);\r\n",
       "                }\r\n",
       "            );\r\n",
       "        })\r\n",
       "        .catch(error => {console.log(error);});\r\n",
       "    }\r\n",
       "    </script>\r\n",
       "</div>"
      ]
     },
     "metadata": {},
     "output_type": "display_data"
    },
    {
     "name": "stdout",
     "output_type": "stream",
     "text": [
      "\u001b[92m\n",
      "Credential file loaded from .\\AzSentinel.credential\u001b[0m\n"
     ]
    }
   ],
   "source": [
    "## Checks to see if config file exist and if not export credential file from above.\n",
    "$storagePath = \".\\AzSentinel.credential\"\n",
    "$config = (Import-CliXml -Path $storagePath)\n",
    "if (!$config) {\n",
    "    $config | Export-CliXml -Path $storagePath\n",
    "} else {\n",
    "    Write-Host -Foregroundcolor green \"`nCredential file loaded from $($storagePath)\"\n",
    "}"
   ]
  },
  {
   "cell_type": "markdown",
   "metadata": {},
   "source": [
    "## Create Function to be used in Graph API"
   ]
  },
  {
   "cell_type": "code",
   "execution_count": 2,
   "metadata": {},
   "outputs": [
    {
     "name": "stdout",
     "output_type": "stream",
     "text": [
      "\u001b[93mAuthentication Parameters\u001b[0m\n",
      "Resource URL: https://api.loganalytics.io\n",
      "Client APP ID: ae*fa***-**af-*ae*-a*ed-*ab*******c*\n",
      "Tenant Domain: jingtoso.com\n"
     ]
    }
   ],
   "source": [
    "$resource = \"https://api.loganalytics.io\"\n",
    "$authUrl = \"https://login.microsoftonline.com/$($config.tenantDomain)\";\n",
    "$appID = $config.appID\n",
    "\n",
    "Write-Host -ForeGroundColor Yellow \"Authentication Parameters\"\n",
    "Write-Host \"Resource URL: $($resource)\"\n",
    "Write-Host \"Client APP ID: $($config.appId -replace \"\\d\",\"*\")\"\n",
    "Write-Host \"Tenant Domain: $($config.tenantDomain)\""
   ]
  },
  {
   "cell_type": "markdown",
   "metadata": {},
   "source": [
    "## Import Graph Authentication module to authenticate by Device Code\n",
    "##### We will be importing the Device Code Authentication Module. To learn about this module go to notebook [here](https://demoloaderpowershellnotebook-skyserver.msappproxy.net/lab/tree/Graph-API/Authentication%20-%20Rest%20API%20-%20Device%20Code.ipynb)"
   ]
  },
  {
   "cell_type": "code",
   "execution_count": 3,
   "metadata": {},
   "outputs": [
    {
     "name": "stdout",
     "output_type": "stream",
     "text": [
      "Authentication Parameters\n",
      "Service Root URL: https://graph.microsoft.com//jingtoso.com\n",
      "Authentication URL: https://login.microsoftonline.com/jingtoso.com\n",
      "Resource URL: https://api.loganalytics.io\n",
      "Powershell Redirect URL: urn:ietf:wg:oauth:2.0:oob\n",
      "Client APP ID: ********-****-****-****-************\n",
      "Tenant Domain: ********.***\n",
      "\n",
      " To sign in, use a web browser to open the page https://microsoft.com/devicelogin and enter the code FNH9EBKSL to authenticate. \n",
      "Double click this code and CTRL-V to copy: \u001b[91mFNH9EBKSL \u001b[0m\n",
      "\u001b[93m\n",
      "Waiting for code\u001b[0m\n",
      "\u001b[92m\n",
      "Received Token!\u001b[0m\n",
      "\u001b[92mConnected and Access Token received and will expire 1592376171\u001b[0m\n"
     ]
    }
   ],
   "source": [
    "Import-Module \"..\\..\\Graph-API\\modules\\GraphAuthentication.psm1\" -Force  ## Imports the module\n",
    "#Get-Command -Module \"GraphAuthentication\"                  ## Shows what commands were imported\n",
    "\n",
    "$tokenResponse = Invoke-GraphAuthenticateDeviceCode -clientAppId $config.appID -tenantDomain $config.tenantDomain -Resource $resource"
   ]
  },
  {
   "cell_type": "markdown",
   "metadata": {},
   "source": [
    "### Put your Azure Sentinel Hunting Query here"
   ]
  },
  {
   "cell_type": "code",
   "execution_count": 4,
   "metadata": {},
   "outputs": [
    {
     "name": "stdout",
     "output_type": "stream",
     "text": [
      "\u001b[93m\n",
      "Query\u001b[0m\n",
      "\n",
      "SecurityAlert\n",
      "\n",
      "\u001b[93mJSON\u001b[0m\n",
      "{\n",
      "  \"timespan\": \"\",\n",
      "  \"query\": \"\\nSecurityAlert\\n\"\n",
      "}\n"
     ]
    }
   ],
   "source": [
    "## Enter your query here\n",
    "$query = @\"\n",
    "\n",
    "SecurityAlert\n",
    "\n",
    "\"@\n",
    "\n",
    "$timeSpan = \"\" ## You can leave blank or specify a date. But something HAS to be there. \n",
    " \n",
    "## This is the query converted to JSON format\n",
    "$body = (@{\n",
    "   query = $Query\n",
    "   timespan = $timeSpan  \n",
    "} | ConvertTO-JSON)\n",
    "Write-Host -ForeGround Yellow \"`nQuery\"; $Query\n",
    "Write-Host -ForeGround Yellow \"JSON\"; $body"
   ]
  },
  {
   "cell_type": "markdown",
   "metadata": {},
   "source": [
    "## We will query the API"
   ]
  },
  {
   "cell_type": "code",
   "execution_count": 5,
   "metadata": {},
   "outputs": [
    {
     "name": "stdout",
     "output_type": "stream",
     "text": [
      "URI: https://api.loganalytics.io/v*/workspaces/a*******-*bde-****-*f**-*c**a**cc***/query\n",
      "https://api.loganalytics.io/v1/workspaces/a8960181-0bde-4955-9f94-2c12a36cc900/query\n",
      "\n",
      "Name                           Value\n",
      "----                           -----\n",
      "Accept                         application/json\n",
      "Content-Type                   application/json\n",
      "Authorization                  Bearer eyJ0eXAiOiJKV1QiLCJhbGciOiJSUzI1NiIsIng1dCI6IlNzWnNCTmhaY0Yz…\n",
      "\n"
     ]
    }
   ],
   "source": [
    "$URI = \"https://api.loganalytics.io/v1/workspaces/$($config.sentinelWorkspaceID)/query\"\n",
    "$header = @{ \n",
    "    'Content-Type' = 'application/json'\n",
    "    Accept = 'application/json'\n",
    "    Authorization = \"Bearer $($tokenResponse.access_token)\" \n",
    "}\n",
    "\n",
    "Write-Host \"URI: $($URI -replace \"[0-9]\",\"*\")\"\n",
    "$URI\n",
    "$header"
   ]
  },
  {
   "cell_type": "code",
   "execution_count": 6,
   "metadata": {},
   "outputs": [
    {
     "name": "stdout",
     "output_type": "stream",
     "text": [
      "a8960181-0bde-4955-9f94-2c12a36cc900\n",
      "\n",
      "Monday, May 25, 2020 7:42:54 PM\n",
      "DLP Policy - Sharepoint - Sensitive files shared externally\n",
      "DLP Policy - Sharepoint - Sensitive files shared externally\n",
      "Medium\n",
      "Activity policy 'DLP Policy - Sharepoint - Sensitive files shared externally' was triggered by 'Bob Smith (bob@jingtoso.com)'\n",
      "MCAS\n",
      "Microsoft\n",
      "073A5B74-5D2B-3E70-BBCE-B1CE0EE5EC2E\n",
      "dee5f39b-e1fe-ad36-dc38-aec97082cf8e\n",
      "\n",
      "\n",
      "MCAS_ALERT_CABINET_EVENT_MATCH_AUDIT\n",
      "Unknown\n",
      "\n",
      "False\n",
      "Monday, May 25, 2020 7:42:49 PM\n",
      "Monday, May 25, 2020 7:42:49 PM\n",
      "Monday, May 25, 2020 7:42:54 PM\n",
      "\n",
      "{\n",
      "  \"Cloud Applications\": \"Microsoft SharePoint Online\"\n",
      "}\n",
      "[\n",
      "  {\n",
      "    \"$id\": \"3\",\n",
      "    \"Name\": \"bob\",\n",
      "    \"UPNSuffix\": \"jingtoso.com\",\n",
      "    \"AadUserId\": \"6836ed6d-2a15-4889-ad24-fbda46b5ffda\",\n",
      "    \"Type\": \"account\"\n",
      "  },\n",
      "  {\n",
      "    \"$id\": \"4\",\n",
      "    \"AppId\": 20892,\n",
      "    \"Name\": \"Microsoft SharePoint Online\",\n",
      "    \"InstanceName\": \"Microsoft SharePoint Online\",\n",
      "    \"Type\": \"cloud-application\"\n",
      "  }\n",
      "]\n",
      "Detection\n",
      "\n",
      "\n",
      "[\n",
      "  {\n",
      "    \"Href\": \"https://skyserver.portal.cloudappsecurity.com/#/policy/?id=eq(5e277162f212829bbbf61325,)\",\n",
      "    \"Category\": null,\n",
      "    \"Label\": \"Cloud App Security policy ID\",\n",
      "    \"Type\": \"webLink\"\n",
      "  },\n",
      "  {\n",
      "    \"Href\": \"https://skyserver.portal.cloudappsecurity.com/#/alerts/5ecc1fb936159cde5df148e2\",\n",
      "    \"Category\": null,\n",
      "    \"Label\": \"Cloud App Security alert ID\",\n",
      "    \"Type\": \"webLink\"\n",
      "  }\n",
      "]\n",
      "Microsoft Cloud App Security\n",
      "\n",
      "\n",
      "SecurityAlert\n",
      "\n"
     ]
    }
   ],
   "source": [
    "#query Graph API and insert into $graphresponse variable\n",
    "$Result = (Invoke-RestMethod -Method POST -Uri $URI -Headers $header -body $body -ErrorAction Stop)\n",
    "$Result.tables.rows | Select -First 1"
   ]
  },
  {
   "cell_type": "code",
   "execution_count": 15,
   "metadata": {},
   "outputs": [
    {
     "name": "stdout",
     "output_type": "stream",
     "text": [
      "a8960181-0bde-4955-9f94-2c12a36cc900\n",
      "\n",
      "Monday, May 25, 2020 7:42:54 PM\n",
      "DLP Policy - Sharepoint - Sensitive files shared externally\n",
      "DLP Policy - Sharepoint - Sensitive files shared externally\n",
      "Medium\n",
      "Activity policy 'DLP Policy - Sharepoint - Sensitive files shared externally' was triggered by 'Bob Smith (bob@jingtoso.com)'\n",
      "MCAS\n",
      "Microsoft\n",
      "073A5B74-5D2B-3E70-BBCE-B1CE0EE5EC2E\n",
      "dee5f39b-e1fe-ad36-dc38-aec97082cf8e\n",
      "\n",
      "\n",
      "MCAS_ALERT_CABINET_EVENT_MATCH_AUDIT\n",
      "Unknown\n",
      "False\n",
      "Monday, May 25, 2020 7:42:49 PM\n",
      "Monday, May 25, 2020 7:42:49 PM\n",
      "Monday, May 25, 2020 7:42:54 PM\n",
      "\n",
      "{\n",
      "  \"Cloud Applications\": \"Microsoft SharePoint Online\"\n",
      "}\n",
      "[\n",
      "  {\n",
      "    \"$id\": \"3\",\n",
      "    \"Name\": \"bob\",\n",
      "    \"UPNSuffix\": \"jingtoso.com\",\n",
      "    \"AadUserId\": \"6836ed6d-2a15-4889-ad24-fbda46b5ffda\",\n",
      "    \"Type\": \"account\"\n",
      "  },\n",
      "  {\n",
      "    \"$id\": \"4\",\n",
      "    \"AppId\": 20892,\n",
      "    \"Name\": \"Microsoft SharePoint Online\",\n",
      "    \"InstanceName\": \"Microsoft SharePoint Online\",\n",
      "    \"Type\": \"cloud-application\"\n",
      "  }\n",
      "]\n",
      "Detection\n",
      "\n",
      "\n",
      "[\n",
      "  {\n",
      "    \"Href\": \"https://skyserver.portal.cloudappsecurity.com/#/policy/?id=eq(5e277162f212829bbbf61325,)\",\n",
      "    \"Category\": null,\n",
      "    \"Label\": \"Cloud App Security policy ID\",\n",
      "    \"Type\": \"webLink\"\n",
      "  },\n",
      "  {\n",
      "    \"Href\": \"https://skyserver.portal.cloudappsecurity.com/#/alerts/5ecc1fb936159cde5df148e2\",\n",
      "    \"Category\": null,\n",
      "    \"Label\": \"Cloud App Security alert ID\",\n",
      "    \"Type\": \"webLink\"\n",
      "  }\n",
      "]\n",
      "Microsoft Cloud App Security\n",
      "\n",
      "\n",
      "SecurityAlert\n",
      "DLP Policy - Sharepoint - Sensitive files shared externally\n",
      "\n"
     ]
    }
   ],
   "source": [
    "$Result.tables.rows[0]\n",
    "\n",
    "$Result.tables.rows[0][3]"
   ]
  },
  {
   "cell_type": "code",
   "execution_count": null,
   "metadata": {},
   "outputs": [],
   "source": []
  }
 ],
 "metadata": {
  "kernelspec": {
   "display_name": ".NET (PowerShell)",
   "language": "PowerShell",
   "name": ".net-powershell"
  },
  "language_info": {
   "file_extension": ".ps1",
   "mimetype": "text/x-powershell",
   "name": "PowerShell",
   "pygments_lexer": "powershell",
   "version": "7.0"
  }
 },
 "nbformat": 4,
 "nbformat_minor": 4
}
