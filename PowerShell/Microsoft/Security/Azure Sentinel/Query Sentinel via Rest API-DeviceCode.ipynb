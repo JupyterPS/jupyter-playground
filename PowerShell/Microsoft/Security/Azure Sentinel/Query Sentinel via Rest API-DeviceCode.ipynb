{
 "cells": [
  {
   "cell_type": "markdown",
   "metadata": {},
   "source": [
    "# Querying Azure Sentinel via REST API using a Device Code\n",
    "\n",
    "<table align=\"left\" style=\"margin-left:25px\">\n",
    "  <tr>\n",
    "    <th>Type</th>\n",
    "    <th>Title</th>\n",
    "    <th>Description</th>\n",
    "  </tr>\n",
    "  <tr>\n",
    "      <td>Documentation</td>\n",
    "      <td><b><a href=\"https://techcommunity.microsoft.com/t5/azure-sentinel/extending-azure-sentinel-apis-integration-and-management/ba-p/1116885\">Extending Azure Sentinel: APIs, Integration and management automation</a></td>\n",
    "    <td>Its highly recommended to follow this guide to get familiar with navigating and using Jupyter Notebooks. </td>\n",
    "  </tr>\n",
    "  <tr>\n",
    "      <td>Tech Community</td>\n",
    "    <td><b><a href=\"../../PowerShell/Getting-Started-README.ipynb\">Access Azure Sentinel Log Analytics via API (Part 1)</a></td>\n",
    "    <td>@rinure wrote a good article explaining how to query the API. Use this as a reference to understand how to query the Azure Sentinel API. </td>\n",
    "  </tr>\n",
    "</table> "
   ]
  },
  {
   "cell_type": "markdown",
   "metadata": {},
   "source": [
    "## Set your variables here (Uncomment)"
   ]
  },
  {
   "cell_type": "code",
   "execution_count": 16,
   "metadata": {},
   "outputs": [],
   "source": [
    "<#\n",
    "$config = @{\n",
    "    tenantDomain = \"domain.com\"\n",
    "    appID = \"xxxxxx-23af-4ae5-a6ed-xxxxxx\"                   ## Usually known as Client ID or Application ID\n",
    "    sentinelWorkspaceID = \"a89xxxxxxxx-4955-9f94xxxxxx900\"\n",
    "}\n",
    "#>"
   ]
  },
  {
   "cell_type": "markdown",
   "metadata": {},
   "source": [
    "## Import credential from storage path or Export a new XML file using above filled in parameters"
   ]
  },
  {
   "cell_type": "code",
   "execution_count": null,
   "metadata": {},
   "outputs": [],
   "source": [
    "## Checks to see if config file exist and if not export credential file from above.\n",
    "$storagePath = \".\\AzSentinel.credential\"\n",
    "$config = (Import-CliXml -Path $storagePath)\n",
    "if (!$config) {\n",
    "    $config | Export-CliXml -Path $storagePath\n",
    "} else {\n",
    "    Write-Host -Foregroundcolor green \"`nCredentials detected\"\n",
    "}\n",
    "\n",
    "$resource = \"https://api.loganalytics.io\"\n",
    "$authUrl = \"https://login.microsoftonline.com/$($config.tenantDomain)\";\n",
    "$appID = $config.appID\n",
    "\n",
    "Write-Host -ForeGroundColor Yellow \"Authentication Parameters\"\n",
    "Write-Host \"Resource URL: $($resource)\"\n",
    "Write-Host \"Client APP ID: $($config.appId -replace \"\\d\",\"*\")\"\n",
    "Write-Host \"Tenant Domain: $($config.tenantDomain)\""
   ]
  },
  {
   "cell_type": "markdown",
   "metadata": {},
   "source": [
    "## Import Graph Authentication module to authenticate by Device Code\n",
    "##### We will be importing the Device Code Authentication Module. To learn about this module go to notebook [here](https://demoloaderpowershellnotebook-skyserver.msappproxy.net/lab/tree/Graph-API/Authentication%20-%20Rest%20API%20-%20Device%20Code.ipynb)"
   ]
  },
  {
   "cell_type": "code",
   "execution_count": null,
   "metadata": {},
   "outputs": [],
   "source": [
    "Import-Module \"..\\..\\Graph-API\\modules\\GraphAuthentication.psm1\" -Force  ## Imports the module\n",
    "#Get-Command -Module \"GraphAuthentication\"                  ## Shows what commands were imported\n",
    "\n",
    "$tokenResponse = Invoke-GraphAuthenticateDeviceCode -clientAppId $config.appID -tenantDomain $config.tenantDomain -Resource $resource"
   ]
  },
  {
   "cell_type": "markdown",
   "metadata": {},
   "source": [
    "### Put your Azure Sentinel Hunting Query here"
   ]
  },
  {
   "cell_type": "code",
   "execution_count": null,
   "metadata": {},
   "outputs": [],
   "source": [
    "## Enter your query here\n",
    "$query = @\"\n",
    "\n",
    "SecurityAlert\n",
    "\n",
    "\"@\n",
    "\n",
    "$timeSpan = \"\" ## You can leave blank or specify a date. But something HAS to be there. \n",
    " \n",
    "## This is the query converted to JSON format\n",
    "$body = (@{\n",
    "   query = $Query\n",
    "   timespan = $timeSpan  \n",
    "} | ConvertTO-JSON)\n",
    "Write-Host -ForeGround Yellow \"`nQuery\"; $Query\n",
    "Write-Host -ForeGround Yellow \"JSON\"; $body"
   ]
  },
  {
   "cell_type": "markdown",
   "metadata": {},
   "source": [
    "## We will query the API"
   ]
  },
  {
   "cell_type": "code",
   "execution_count": 5,
   "metadata": {},
   "outputs": [
    {
     "name": "stdout",
     "output_type": "stream",
     "text": [
      "URI: https://api.loganalytics.io/v*/workspaces/a*******-*bde-****-*f**-*c**a**cc***/query\n",
      "https://api.loganalytics.io/v1/workspaces/a8960181-0bde-4955-9f94-2c12a36cc900/query\n",
      "\n",
      "Name                           Value\n",
      "----                           -----\n",
      "Accept                         application/json\n",
      "Content-Type                   application/json\n",
      "Authorization                  Bearer eyJ0eXAiOiJKV1QiLCJhbGciOiJSUzI1NiIsIng1dCI6IlNzWnNCTmhaY0Yz…\n",
      "\n"
     ]
    }
   ],
   "source": [
    "$URI = \"https://api.loganalytics.io/v1/workspaces/$($config.sentinelWorkspaceID)/query\"\n",
    "$header = @{ \n",
    "    'Content-Type' = 'application/json'\n",
    "    Accept = 'application/json'\n",
    "    Authorization = \"Bearer $($tokenResponse.access_token)\" \n",
    "}\n",
    "\n",
    "Write-Host \"URI: $($URI -replace \"[0-9]\",\"*\")\"\n",
    "$URI\n",
    "$header"
   ]
  },
  {
   "cell_type": "markdown",
   "metadata": {},
   "source": [
    "## query Graph API and insert into variable"
   ]
  },
  {
   "cell_type": "code",
   "execution_count": null,
   "metadata": {},
   "outputs": [],
   "source": [
    "$Result = (Invoke-RestMethod -Method POST -Uri $URI -Headers $header -body $body -ErrorAction Stop)\n",
    "$Result.tables.rows | Select -First 1"
   ]
  },
  {
   "cell_type": "markdown",
   "metadata": {},
   "source": [
    "## Grab certain element. "
   ]
  },
  {
   "cell_type": "code",
   "execution_count": 15,
   "metadata": {},
   "outputs": [
    {
     "name": "stdout",
     "output_type": "stream",
     "text": [
      "a8960181-0bde-4955-9f94-2c12a36cc900\n",
      "\n",
      "Monday, May 25, 2020 7:42:54 PM\n",
      "DLP Policy - Sharepoint - Sensitive files shared externally\n",
      "DLP Policy - Sharepoint - Sensitive files shared externally\n",
      "Medium\n",
      "Activity policy 'DLP Policy - Sharepoint - Sensitive files shared externally' was triggered by 'Bob Smith (bob@jingtoso.com)'\n",
      "MCAS\n",
      "Microsoft\n",
      "073A5B74-5D2B-3E70-BBCE-B1CE0EE5EC2E\n",
      "dee5f39b-e1fe-ad36-dc38-aec97082cf8e\n",
      "\n",
      "\n",
      "MCAS_ALERT_CABINET_EVENT_MATCH_AUDIT\n",
      "Unknown\n",
      "False\n",
      "Monday, May 25, 2020 7:42:49 PM\n",
      "Monday, May 25, 2020 7:42:49 PM\n",
      "Monday, May 25, 2020 7:42:54 PM\n",
      "\n",
      "{\n",
      "  \"Cloud Applications\": \"Microsoft SharePoint Online\"\n",
      "}\n",
      "[\n",
      "  {\n",
      "    \"$id\": \"3\",\n",
      "    \"Name\": \"bob\",\n",
      "    \"UPNSuffix\": \"jingtoso.com\",\n",
      "    \"AadUserId\": \"6836ed6d-2a15-4889-ad24-fbda46b5ffda\",\n",
      "    \"Type\": \"account\"\n",
      "  },\n",
      "  {\n",
      "    \"$id\": \"4\",\n",
      "    \"AppId\": 20892,\n",
      "    \"Name\": \"Microsoft SharePoint Online\",\n",
      "    \"InstanceName\": \"Microsoft SharePoint Online\",\n",
      "    \"Type\": \"cloud-application\"\n",
      "  }\n",
      "]\n",
      "Detection\n",
      "\n",
      "\n",
      "[\n",
      "  {\n",
      "    \"Href\": \"https://skyserver.portal.cloudappsecurity.com/#/policy/?id=eq(5e277162f212829bbbf61325,)\",\n",
      "    \"Category\": null,\n",
      "    \"Label\": \"Cloud App Security policy ID\",\n",
      "    \"Type\": \"webLink\"\n",
      "  },\n",
      "  {\n",
      "    \"Href\": \"https://skyserver.portal.cloudappsecurity.com/#/alerts/5ecc1fb936159cde5df148e2\",\n",
      "    \"Category\": null,\n",
      "    \"Label\": \"Cloud App Security alert ID\",\n",
      "    \"Type\": \"webLink\"\n",
      "  }\n",
      "]\n",
      "Microsoft Cloud App Security\n",
      "\n",
      "\n",
      "SecurityAlert\n",
      "DLP Policy - Sharepoint - Sensitive files shared externally\n",
      "\n"
     ]
    }
   ],
   "source": [
    "$Result.tables.rows[0]\n",
    "\n",
    "$Result.tables.rows[0][3]"
   ]
  },
  {
   "cell_type": "code",
   "execution_count": null,
   "metadata": {},
   "outputs": [],
   "source": []
  }
 ],
 "metadata": {
  "kernelspec": {
   "display_name": ".NET (PowerShell)",
   "language": "PowerShell",
   "name": ".net-powershell"
  },
  "language_info": {
   "file_extension": ".ps1",
   "mimetype": "text/x-powershell",
   "name": "PowerShell",
   "pygments_lexer": "powershell",
   "version": "7.0"
  }
 },
 "nbformat": 4,
 "nbformat_minor": 4
}
