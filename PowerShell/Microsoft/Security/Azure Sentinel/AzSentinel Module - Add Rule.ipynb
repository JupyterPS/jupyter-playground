{
 "cells": [
  {
   "cell_type": "markdown",
   "metadata": {},
   "source": [
    "# AzSentinel Module"
   ]
  },
  {
   "cell_type": "markdown",
   "metadata": {},
   "source": [
    "## Documentation\n",
    "### Wortell\n",
    "- <b>[Blog]</b> - [Azure Sentinel: automating your Use Cases with PowerShell and the #AzSentinel module](https://medium.com/wortell/azure-sentinel-automating-your-use-cases-with-powershell-and-the-azsentinel-module-380606e601f5)\n",
    "- <b>Wortell</b> - [Azure Sentinel 'AZSentinel' Module Github](https://github.com/wortell/AZSentinel) - Wortell created an AZSentinel Module to easily work with Azure Sentinel\n",
    "- <b>Wortell</b> - [Sample KQL Sigma Rules](https://github.com/wortell/KQL) - Library of already converted Sigma Rules that are ready to add to AZSentinel"
   ]
  },
  {
   "cell_type": "markdown",
   "metadata": {},
   "source": [
    "## Import the Module from PSGallery"
   ]
  },
  {
   "cell_type": "code",
   "execution_count": 2,
   "metadata": {},
   "outputs": [
    {
     "name": "stdout",
     "output_type": "stream",
     "text": [
      "\n",
      "Get-AzSentinelAlertRule                           Get-AzSentinelAlertRuleAction\n",
      "Get-AzSentinelHuntingRule                         Get-AzSentinelIncident\n",
      "Import-AzSentinelAlertRule                        Import-AzSentinelHuntingRule\n",
      "New-AzSentinelAlertRule                           New-AzSentinelAlertRuleAction\n",
      "New-AzSentinelHuntingRule                         Remove-AzSentinelAlertRule\n",
      "Remove-AzSentinelAlertRuleAction                  Remove-AzSentinelHuntingRule\n",
      "Set-AzSentinel                                    Update-AzSentinelIncident\n",
      "\n"
     ]
    }
   ],
   "source": [
    "Install-Module AzSentinel\n",
    "Import-Module AzSentinel"
   ]
  },
  {
   "cell_type": "code",
   "execution_count": 4,
   "metadata": {},
   "outputs": [
    {
     "name": "stdout",
     "output_type": "stream",
     "text": [
      "\n",
      "Get-AzSentinelAlertRule                           Get-AzSentinelAlertRuleAction\n",
      "Get-AzSentinelHuntingRule                         Get-AzSentinelIncident\n",
      "Import-AzSentinelAlertRule                        Import-AzSentinelHuntingRule\n",
      "New-AzSentinelAlertRule                           New-AzSentinelAlertRuleAction\n",
      "New-AzSentinelHuntingRule                         Remove-AzSentinelAlertRule\n",
      "Remove-AzSentinelAlertRuleAction                  Remove-AzSentinelHuntingRule\n",
      "Set-AzSentinel                                    Update-AzSentinelIncident\n",
      "\n"
     ]
    }
   ],
   "source": [
    "Get-Command -Module AzSentinel | FW"
   ]
  },
  {
   "cell_type": "markdown",
   "metadata": {},
   "source": [
    "### Add a new Azure Sentinel Rule\n",
    "Use the following template to create your rule\n",
    "\n",
    "``` powershell\n",
    "{\n",
    "  \"analytics\": [\n",
    "    {\n",
    "      \"displayName\": \"string\",\n",
    "      \"description\": \"string\",\n",
    "      \"severity\": \"High\",\n",
    "      \"enabled\": true,\n",
    "      \"query\": \"SecurityEvent | where EventID == \\\"4688\\\" | where CommandLine contains \\\"-noni -ep bypass $\\\"\",\n",
    "      \"queryFrequency\": \"5H\",\n",
    "      \"queryPeriod\": \"5H\",\n",
    "      \"triggerOperator\": \"GreaterThan\",\n",
    "      \"triggerThreshold\": 5,\n",
    "      \"suppressionDuration\": \"6H\",\n",
    "      \"suppressionEnabled\": false,\n",
    "      \"tactics\": [\n",
    "        \"Persistence\",\n",
    "        \"LateralMovement\",\n",
    "        \"Collection\"\n",
    "      ],\n",
    "      \"playbookName\": \"string\"\n",
    "    }\n",
    "  ]\n",
    "}\n",
    "```"
   ]
  },
  {
   "cell_type": "markdown",
   "metadata": {},
   "source": [
    "### Add your new JSON Rule to Azure Sentinel\n",
    "\n",
    "'''\n",
    "    $displayName = \"string\"\n",
    "    $description = \"string\"\n",
    "    $severity = \"High\"\n",
    "    $enabled = $true\n",
    "    $queryFrequency = \"5H\"\n",
    "    $queryPeriod = \"5H\"\n",
    "    $triggerOperator = \"GreaterThan\"\n",
    "    $triggerThreshold = 5\n",
    "    $suppressionDuration = \"6H\"\n",
    "    $suppressionEnabled = $false\n",
    "    $tactics = @('Persistence','LateralMovement','Collection')\n",
    "    $playbookName = \"string\"\n",
    "'''"
   ]
  },
  {
   "cell_type": "code",
   "execution_count": 30,
   "metadata": {},
   "outputs": [],
   "source": [
    "$displayName = \"string\"\n",
    "$description = \"string\"\n",
    "$severity = \"High\"\n",
    "$enabled = $true\n",
    "$queryFrequency = \"5H\"\n",
    "$queryPeriod = \"5H\"\n",
    "$triggerOperator = \"GreaterThan\"\n",
    "$triggerThreshold = 5\n",
    "$suppressionDuration = \"6H\"\n",
    "$suppressionEnabled = $false\n",
    "$tactics = @('Persistence','LateralMovement','Collection')\n",
    "$playbookName = \"string\""
   ]
  },
  {
   "cell_type": "code",
   "execution_count": 5,
   "metadata": {},
   "outputs": [
    {
     "name": "stdout",
     "output_type": "stream",
     "text": [
      "\u001b[93mHunting Query\n",
      "\u001b[0m\n",
      "SecurityEvent \n",
      "| where EventID == '4688'\n",
      "| where CommandLine contains \"-noni -ep bypass $\"\n",
      "\u001b[93m\n",
      "JSON Body\n",
      "\u001b[0m\n",
      "{\n",
      "  \"analytics\": {\n",
      "    \"description\": \"string\",\n",
      "    \"suppressionEnabled\": false,\n",
      "    \"query\": \"SecurityEvent \\n| where EventID == '4688'\\n| where CommandLine contains \\\"-noni -ep bypass $\\\"\",\n",
      "    \"playbookName\": \"string\",\n",
      "    \"triggerThreshold\": 5,\n",
      "    \"severity\": \"High\",\n",
      "    \"enabled\": true,\n",
      "    \"queryPeriod\": \"5H\",\n",
      "    \"tactics\": [\n",
      "      \"Persistence\",\n",
      "      \"LateralMovement\",\n",
      "      \"Collection\"\n",
      "    ],\n",
      "    \"queryFrequency\": \"5H\",\n",
      "    \"triggerOperator\": \"GreaterThan\",\n",
      "    \"displayName\": \"string\",\n",
      "    \"suppressionDuration\": \"6H\"\n",
      "  }\n",
      "}\n"
     ]
    }
   ],
   "source": [
    "$query = @\"\n",
    "SecurityEvent \n",
    "| where EventID == '4688'\n",
    "| where CommandLine contains \"-noni -ep bypass $\"\n",
    "\"@\n",
    "\n",
    "Write-Host -Foreground yellow \"Hunting Query`n\"\n",
    "$query\n",
    "\n",
    "Write-Host -Foreground Yellow \"`nJSON Body`n\"\n",
    "$newRule = @{\n",
    "    analytics = (\n",
    "        @{\n",
    "          displayName = \"string\"\n",
    "          description = \"string\"\n",
    "          severity = \"High\"\n",
    "          enabled = $true\n",
    "          query = $query\n",
    "          queryFrequency = \"5H\"\n",
    "          queryPeriod = \"5H\"\n",
    "          triggerOperator = \"GreaterThan\"\n",
    "          triggerThreshold = 5\n",
    "          suppressionDuration = \"6H\"\n",
    "          suppressionEnabled = $false\n",
    "          tactics = @(\n",
    "            \"Persistence\",\n",
    "            \"LateralMovement\",\n",
    "            \"Collection\"\n",
    "          )\n",
    "          playbookName = \"string\"\n",
    "        }\n",
    "    )\n",
    "}\n",
    "\n",
    "$newRule | ConvertTo-JSON"
   ]
  },
  {
   "cell_type": "code",
   "execution_count": null,
   "metadata": {},
   "outputs": [],
   "source": []
  }
 ],
 "metadata": {
  "kernelspec": {
   "display_name": ".NET (PowerShell)",
   "language": "PowerShell",
   "name": ".net-powershell"
  },
  "language_info": {
   "file_extension": ".ps1",
   "mimetype": "text/x-powershell",
   "name": "PowerShell",
   "pygments_lexer": "powershell",
   "version": "7.0"
  }
 },
 "nbformat": 4,
 "nbformat_minor": 4
}
