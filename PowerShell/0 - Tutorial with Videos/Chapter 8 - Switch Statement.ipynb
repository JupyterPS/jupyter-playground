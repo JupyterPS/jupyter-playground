{
 "cells": [
  {
   "cell_type": "markdown",
   "metadata": {},
   "source": [
    "# Chapter 8: Switch statement"
   ]
  },
  {
   "cell_type": "markdown",
   "metadata": {},
   "source": [
    "- This tutorial was sourced from the great work done by http://GoalKicker.com/PowerShellBook and the content is written by the beautiful people at Stack Overflow.\n",
    "\n",
    "Table of Contents<br>\n",
    "1. [Simple Switch](#1)\n",
    "2. [Switch Statement with CaseSensitive Parameter](#2)\n",
    "3. [Switch Statement with Wildcard Parameter](#3)\n",
    "4. [Switch Statement with File Parameter](#4)\n",
    "5. [Simple Switch with Default Condition](#5)\n",
    "6. [Switch Statement with Regex Parameter](#6)\n",
    "7. [Simple Switch with Break](#7)\n",
    "8. [Switch Statement with Exact Parameter](#8)\n",
    "9. [Switch Statement with Expressions](#9)"
   ]
  },
  {
   "cell_type": "markdown",
   "metadata": {},
   "source": [
    "A switch statement allows a variable to be tested for equality against a list of values. Each value is called a case, and\n",
    "the variable being switched on is checked for each switch case. It enables you to write a script that can choose from\n",
    "a series of options, but without requiring you to write a long series of if statements."
   ]
  },
  {
   "cell_type": "markdown",
   "metadata": {},
   "source": [
    "## 8.1: Simple Switch\n",
    "\n",
    "Switch statements compare a single test value to multiple conditions, and performs any associated actions for\n",
    "successful comparisons. It can result in multiple matches/actions."
   ]
  },
  {
   "cell_type": "markdown",
   "metadata": {},
   "source": [
    "Given the following switch...\n",
    "```powershell\n",
    "switch($myValue)\n",
    "{\n",
    " 'First Condition' { 'First Action' }\n",
    " 'Second Condition' { 'Second Action' }\n",
    "}\n",
    "```\n",
    "\n",
    "First Action will be output if \\\\$myValue is set as 'First Condition'.<br>\n",
    "Section Action will be output if \\\\$myValue is set as 'Second Condition'.\n",
    "\n",
    "Nothing will be output if $myValue does not match either conditions."
   ]
  },
  {
   "cell_type": "markdown",
   "metadata": {},
   "source": [
    "Example"
   ]
  },
  {
   "cell_type": "code",
   "execution_count": null,
   "metadata": {},
   "outputs": [],
   "source": [
    "$myValue = \"punch\"\n",
    "\n",
    "switch($myValue)\n",
    "{\n",
    " 'punch' { 'I punched you for 50 damage' }\n",
    " 'kick' { 'I kicked you for 50 damage' }\n",
    "}"
   ]
  },
  {
   "cell_type": "markdown",
   "metadata": {},
   "source": [
    "## Section 8.2: Switch Statement with CaseSensitive Parameter\n",
    "\n",
    "The -CaseSensitive parameter enforces switch statements to perform exact, case-sensitive matching against\n",
    "conditions."
   ]
  },
  {
   "cell_type": "markdown",
   "metadata": {},
   "source": [
    "Example:\n",
    "```powershell\n",
    "switch -CaseSensitive ('Condition')\n",
    "{\n",
    " 'condition' {'First Action'}\n",
    " 'Condition' {'Second Action'}\n",
    " 'conditioN' {'Third Action'}\n",
    "}\n",
    "```\n",
    "\n",
    "Second Action\n",
    "The second action is the only action executed because it is the only condition that exactly matches the string\n",
    "'Condition' when accounting for case-sensitivity."
   ]
  },
  {
   "cell_type": "code",
   "execution_count": null,
   "metadata": {},
   "outputs": [],
   "source": [
    "switch -CaseSensitive ('Condition')\n",
    "{\n",
    " 'condition' {'First Action'}\n",
    " 'Condition' {'Second Action'}\n",
    " 'conditioN' {'Third Action'}\n",
    "}"
   ]
  },
  {
   "cell_type": "markdown",
   "metadata": {},
   "source": [
    "Modify the below statement so 'kick' will work considering that the switch statement is Case Sensitive."
   ]
  },
  {
   "cell_type": "markdown",
   "metadata": {},
   "source": [
    "$myValue = \"kick\"\n",
    "\n",
    "switch -CaseSensitive ($myValue)\n",
    "{\n",
    " 'punch' { 'I punched you for 50 damage' }\n",
    " 'KICK' { 'I kicked you for 50 damage' }\n",
    " 'assasinate' { 'I assasinated you'}\n",
    "}\n",
    "\n",
    "Output:\n",
    "Normal match\n",
    "Zero or more wildcard chars.\n",
    "Range and set of chars.\n",
    "Single char. wildcard"
   ]
  },
  {
   "cell_type": "markdown",
   "metadata": {},
   "source": [
    "## Section 8.3: Switch Statement with Wildcard Parameter\n",
    "\n",
    "The -Wildcard parameter allows switch statements to perform wildcard matching against conditions."
   ]
  },
  {
   "cell_type": "markdown",
   "metadata": {},
   "source": [
    "Example:\n",
    "```powershell\n",
    "switch -Wildcard ('Condition')\n",
    "{\n",
    " 'Condition' {'Normal match'}\n",
    " 'Condit*' {'Zero or more wildcard chars.'}\n",
    " 'C[aoc]ndit[f-l]on' {'Range and set of chars.'}\n",
    " 'C?ndition' {'Single char. wildcard'}\n",
    " 'Test*' {'No match'}\n",
    "}\n",
    "```\n",
    "\n",
    "<font color=green>Output:<br></font>\n",
    "Normal match<br>\n",
    "Zero or more wildcard chars.<br>\n",
    "Range and set of chars.<br>\n",
    "Single char. wildcard<br>\n",
    "No Match"
   ]
  },
  {
   "cell_type": "code",
   "execution_count": null,
   "metadata": {},
   "outputs": [],
   "source": [
    "switch -Wildcard ('Condition')\n",
    "{\n",
    " 'Condition' {'Normal match'}\n",
    " 'Condit*' {'Zero or more wildcard chars.'}\n",
    " 'C[aoc]ndit[f-l]on' {'Range and set of chars.'}\n",
    " 'C?ndition' {'Single char. wildcard'}\n",
    " 'Test*' {'No match'}\n",
    "}"
   ]
  },
  {
   "cell_type": "markdown",
   "metadata": {},
   "source": [
    "## Section 8.4: Switch Statement with File Parameter\n",
    "\n",
    "\n",
    "The -file parameter allows the switch statement to receive input from a file. Each line of the file is evaluated by\n",
    "the switch statement."
   ]
  },
  {
   "cell_type": "code",
   "execution_count": null,
   "metadata": {},
   "outputs": [],
   "source": [
    "Example file input.txt:\n",
    "condition\n",
    "test"
   ]
  },
  {
   "cell_type": "markdown",
   "metadata": {},
   "source": [
    "Example switch statement:\n",
    "```powershell\n",
    "switch -file input.txt\n",
    "{\n",
    " 'condition' {'First Action'}\n",
    " 'test' {'Second Action'}\n",
    " 'fail' {'Third Action'}\n",
    "}\n",
    "```\n",
    "\n",
    "<font color=green>Output:</font><br>\n",
    "First Action<br>\n",
    "Second Action<br>"
   ]
  },
  {
   "cell_type": "code",
   "execution_count": null,
   "metadata": {},
   "outputs": [],
   "source": [
    "switch -file \"./sampledata/chapter8-4.txt\"\n",
    "{\n",
    " 'condition' {'First Action'}\n",
    " 'test' {'Second Action'}\n",
    " 'fail' {'Third Action'}\n",
    "}"
   ]
  },
  {
   "cell_type": "markdown",
   "metadata": {},
   "source": [
    "## Section 8.5: Simple Switch with Default Condition\n",
    "The Default keyword is used to execute an action when no other conditions match the input value."
   ]
  },
  {
   "cell_type": "markdown",
   "metadata": {},
   "source": [
    "Example:\n",
    "```powershell\n",
    "switch('Condition')\n",
    "{\n",
    "    'Skip Condition'\n",
    "    {\n",
    "        'First Action'\n",
    "    }\n",
    "    'Skip This Condition Too'\n",
    "    {\n",
    "        'Second Action'\n",
    "    }\n",
    "    Default\n",
    "    {\n",
    "        'Default Action'\n",
    "    }\n",
    "}\n",
    "```\n",
    "\n",
    "Output:\n",
    "Default Action"
   ]
  },
  {
   "cell_type": "markdown",
   "metadata": {},
   "source": [
    "    Example"
   ]
  },
  {
   "cell_type": "code",
   "execution_count": null,
   "metadata": {},
   "outputs": [],
   "source": [
    "switch ('nomatch')\n",
    "{\n",
    "    'condition' {'First Action'}\n",
    "    'test' {'Second Action'}\n",
    "    'fail' {'Third Action'}\n",
    "    Default {\n",
    "        Write-Host -foreGroundColor Red 'This is the default if nothing matches.'\n",
    "    }\n",
    "}"
   ]
  },
  {
   "cell_type": "markdown",
   "metadata": {},
   "source": [
    "## Section 8.6: Switch Statement with Regex Parameter\n",
    "The -Regex parameter allows switch statements to perform regular expression matching against conditions.\n",
    "\n",
    "Example:\n",
    "```powershell\n",
    "switch -Regex ('Condition')\n",
    "{\n",
    " 'Con\\D+ion' {'One or more non-digits'}\n",
    " 'Conditio*$' {'Zero or more \"o\"'}\n",
    " 'C.ndition' {'Any single char.'}\n",
    " '^C\\w+ition$' {'Anchors and one or more word chars.'}\n",
    " 'Test' {'No match'}\n",
    "}\n",
    "```\n",
    "\n",
    "Output:<br>\n",
    "One or more non-digits<br>\n",
    "Any single char.<br>\n",
    "Anchors and one or more word chars.<br>"
   ]
  },
  {
   "cell_type": "code",
   "execution_count": null,
   "metadata": {},
   "outputs": [],
   "source": [
    "switch -Regex ('Cafadfasdfasfdfsition')\n",
    "{\n",
    " 'Con\\D+ion' {'One or more non-digits'}                 # Regex pattern : \\D+  ( '\\D' looks for any non-digit and '+' goes on indefinetely)\n",
    " 'Conditio*$' {'Zero or more \"o\"'}                      # Regex pattern : o*$ ()\n",
    " 'C.ndition' {'Any single char.'}                       # Regex pattern : .  (period indicates ANY single character)\n",
    " '^C\\w+ition$' {'Anchors and one or more word chars.'}  # Regex pattern : ^C \\w+ $  (^C is the anchor point, \\w+ word with any length, $ end of regex)\n",
    " 'Test' {'No match'} \n",
    "}"
   ]
  },
  {
   "cell_type": "markdown",
   "metadata": {},
   "source": [
    "# Section 8.7: Simple Switch With Break\n",
    "The break keyword can be used in switch statements to exit the statement before evaluating all conditions.<br>"
   ]
  },
  {
   "cell_type": "code",
   "execution_count": null,
   "metadata": {},
   "outputs": [],
   "source": [
    "switch('Condition')\n",
    "{\n",
    "    'Condition' {\n",
    "        'First Action'\n",
    "    }\n",
    "    'Condition' {\n",
    "        'Second Action'\n",
    "        break\n",
    "    }\n",
    "    'Condition'{\n",
    "        'Third Action'\n",
    "    }\n",
    "}"
   ]
  },
  {
   "cell_type": "markdown",
   "metadata": {},
   "source": [
    "Output:<br>\n",
    "First Action<br>\n",
    "Second Action<br><br>\n",
    "Because of the break keyword in the second action, the third condition is not evaluated."
   ]
  },
  {
   "cell_type": "markdown",
   "metadata": {},
   "source": [
    "## Section 8.8: Switch Statement with Exact Parameter\n",
    "\n",
    "The -Exact parameter enforces switch statements to perform exact, case-insensitive matching against string conditions.\n",
    "\n",
    "Example:<br>\n",
    "```powershell\n",
    "switch -Exact ('Condition')\n",
    "{\n",
    " 'condition' {'First Action'}\n",
    " 'Condition' {'Second Action'}\n",
    " 'conditioN' {'Third Action'}\n",
    " '^*ondition$' {'Fourth Action'}\n",
    " 'Conditio*' {'Fifth Action'}\n",
    "}\n",
    "```\n",
    "\n",
    "Output:<br>\n",
    "First Action<br>\n",
    "Second Action<br>\n",
    "Third Action<br><br>\n",
    "The first through third actions are executed because their associated conditions matched the input. The regex and\n",
    "wildcard strings in the fourth and fifth conditions fail matching.<br><br>\n",
    "Note that the fourth condition would also match the input string if regular expression matching was being\n",
    "performed, but was ignored in this case because it is not."
   ]
  },
  {
   "cell_type": "code",
   "execution_count": null,
   "metadata": {},
   "outputs": [],
   "source": [
    "switch -Exact -regex ('Condition')\n",
    "{\n",
    "    'condition' {'First Action'}\n",
    "    'Condition' {'Second Action'}\n",
    "    'conditioN' {'Third Action'}\n",
    "    '^Condition$' {'Fourth Action'}\n",
    "    'Conditio*' {'Fifth Action'}\n",
    "}"
   ]
  },
  {
   "cell_type": "markdown",
   "metadata": {},
   "source": [
    "## Section 8.9: Switch Statement with Expressions\n",
    "\n",
    "Conditions can also be expressions:\n",
    "```powershell\n",
    "#$$\n",
    "$myInput = 0\n",
    "switch(``$myInput) {\n",
    " # because the result of the expression, 4,\n",
    " # does not equal our input this block should not be run.\n",
    " (2+2) { 'True. 2 +2 = 4' }\n",
    " # because the result of the expression, 0,\n",
    " # does equal our input this block should be run.\n",
    " (2-2) { 'True. 2-2 = 0' }\n",
    " # because our input is greater than -1 and is less than 1\n",
    " # the expression evaluates to true and the block should be run.\n",
    " { $_ -gt -1 -and $_ -lt 1 } { 'True. Value is 0' }\n",
    "}\n",
    "```\n",
    "\n",
    "Output<br>\n",
    "True. 2-2 = 0<br>\n",
    "True. Value is 0"
   ]
  },
  {
   "cell_type": "code",
   "execution_count": null,
   "metadata": {},
   "outputs": [],
   "source": [
    "function returnValue {\n",
    "    return 5\n",
    "}\n",
    "\n",
    "$myInput = 0\n",
    "switch($myInput) {\n",
    " # because the result of the expression, 4,\n",
    " # does not equal our input this block should not be run.\n",
    " (returnValue) { 'True. 2 +2 = 4' }\n",
    " # because the result of the expression, 0,\n",
    " # does equal our input this block should be run.\n",
    " (2-2) { 'True. 2-2 = 0' }\n",
    " # because our input is greater than -1 and is less than 1\n",
    " # the expression evaluates to true and the block should be run.\n",
    " { $_ -gt -1 -and $_ -lt 1 } { 'True. Value is 0' }\n",
    "}"
   ]
  },
  {
   "cell_type": "markdown",
   "metadata": {},
   "source": [
    "    If you want to watch an explanation video. Run the cell below (Not available yet)"
   ]
  },
  {
   "cell_type": "code",
   "execution_count": null,
   "metadata": {},
   "outputs": [],
   "source": [
    "## Run this if you want to see explaination of the top\n",
    "#Import-Module \"./modules/tutorial.psm1\"; embedYoutube -youtubeId \"_WIZPgPB8Wk\" | Out-Display"
   ]
  }
 ],
 "metadata": {
  "kernelspec": {
   "display_name": ".NET (PowerShell)",
   "language": "PowerShell",
   "name": ".net-powershell"
  },
  "language_info": {
   "file_extension": ".ps1",
   "mimetype": "text/x-powershell",
   "name": "PowerShell",
   "pygments_lexer": "powershell",
   "version": "7.0"
  }
 },
 "nbformat": 4,
 "nbformat_minor": 4
}
