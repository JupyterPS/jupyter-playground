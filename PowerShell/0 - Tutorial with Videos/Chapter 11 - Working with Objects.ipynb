{
 "cells": [
  {
   "cell_type": "markdown",
   "metadata": {},
   "source": [
    "# Chapter 11: Working with Objects\n",
    "\n",
    "This tutorial was sourced from the great work done by http://GoalKicker.com/PowerShellBook and the content is written by the beautiful people at Stack Overflow.\n",
    "\n",
    "### Table of Contents\n",
    "1. [Examining an object](#1)\n",
    "2. [Updating Objects](#2)\n",
    "3. [Creating a new object](#3)\n",
    "4. [Creating Instances of Generic Classes](#4)"
   ]
  },
  {
   "cell_type": "markdown",
   "metadata": {},
   "source": [
    "## Section 11.1: Examining an object\n",
    "\n",
    "Now that you have an object, it might be good to figure out what it is. You can use the Get-Member cmdlet to see\n",
    "what an object is and what it contains:\n",
    "\n"
   ]
  },
  {
   "cell_type": "markdown",
   "metadata": {},
   "source": [
    "The following command will list the TypeName of the item, followed by a list of properties and methods the object has:\n",
    "```powershell\n",
    "Get-Item (pwd) | Get-Member\n",
    "```"
   ]
  },
  {
   "cell_type": "code",
   "execution_count": null,
   "metadata": {},
   "outputs": [],
   "source": [
    "Get-Item (pwd) | Get-Member"
   ]
  },
  {
   "cell_type": "markdown",
   "metadata": {},
   "source": [
    "Another example"
   ]
  },
  {
   "cell_type": "code",
   "execution_count": null,
   "metadata": {},
   "outputs": [],
   "source": [
    "(pwd) | Get-Member"
   ]
  },
  {
   "cell_type": "code",
   "execution_count": null,
   "metadata": {},
   "outputs": [],
   "source": [
    "Get-Item (pwd) | Get-Member"
   ]
  },
  {
   "cell_type": "code",
   "execution_count": null,
   "metadata": {},
   "outputs": [],
   "source": [
    "(Get-Item (pwd)).GetFiles()"
   ]
  },
  {
   "cell_type": "markdown",
   "metadata": {},
   "source": [
    "Another way to get the type of an object is to use the GetType method, like so:\n",
    "<!-- #$$ -->\n",
    "```powershell\n",
    "$Object = Get-Item (pwd)\n",
    "$Object.GetType()\n",
    "```"
   ]
  },
  {
   "cell_type": "code",
   "execution_count": null,
   "metadata": {},
   "outputs": [],
   "source": [
    "$Object = Get-Item (pwd)\n",
    "$object.GetType() | Get-Member"
   ]
  },
  {
   "cell_type": "code",
   "execution_count": null,
   "metadata": {},
   "outputs": [],
   "source": [
    "((pwd) | Get-Item).getType() | FL *"
   ]
  },
  {
   "cell_type": "markdown",
   "metadata": {},
   "source": [
    "To view a list of properties the object has, along with their values, you can use the Format-List cmdlet with its\n",
    "Property parameter set to: * (meaning all).\n",
    "Here is an example, with the resulting output:\n",
    "```powershell\n",
    "Get-Item (pwd) | Format-List -Property *\n",
    "```"
   ]
  },
  {
   "cell_type": "code",
   "execution_count": null,
   "metadata": {},
   "outputs": [],
   "source": [
    "Get-Item (pwd) | Format-List -Property *"
   ]
  },
  {
   "cell_type": "code",
   "execution_count": null,
   "metadata": {},
   "outputs": [],
   "source": [
    "Get-Item \"$(pwd)/Chapter 1 - Getting started with PowerShell.ipynb\" | Format-List -Property *"
   ]
  },
  {
   "cell_type": "markdown",
   "metadata": {},
   "source": [
    "## Section 11.2: Updating Objects"
   ]
  },
  {
   "cell_type": "markdown",
   "metadata": {},
   "source": [
    "### Adding Properties\n",
    "\n",
    "If you'd like to add properties to an existing object, you can use the Add-Member cmdlet. With PSObjects, values are\n",
    "kept in a type of \"Note Properties\"\n",
    "<!-- #$$ -->\n",
    "```powershell\n",
    "$object = New-Object -TypeName PSObject -Property @{\n",
    " Name = \"bob\"\n",
    " ID = 12\n",
    " Address = $null\n",
    " }\n",
    "```"
   ]
  },
  {
   "cell_type": "code",
   "execution_count": null,
   "metadata": {},
   "outputs": [],
   "source": [
    "$object = New-Object -TypeName PSObject -Property @{\n",
    " Name = \"bob\"\n",
    " ID = 12\n",
    " Address = $null\n",
    " }\n",
    "$object | FL"
   ]
  },
  {
   "cell_type": "code",
   "execution_count": null,
   "metadata": {},
   "outputs": [],
   "source": [
    "Add-Member -InputObject $object -Name \"anotherProperty2\" -Value \"stuff\" -MemberType NoteProperty\n",
    "# Returns\n",
    "$Object | FL"
   ]
  },
  {
   "cell_type": "markdown",
   "metadata": {},
   "source": [
    "You can also add properties with Select-Object Cmdlet (so called calculated properties):\n",
    "<!-- #$$ -->\n",
    "```powershell\n",
    "$newObject = $Object | Select-Object *, @{label='SomeOtherProp'; expression={'Another value'}}\n",
    "$newObject\n",
    "```"
   ]
  },
  {
   "cell_type": "code",
   "execution_count": null,
   "metadata": {},
   "outputs": [],
   "source": [
    "$newObject = $Object | Select-Object *, @{label='SomeOtherProp'; expression={'Another value'}}\n",
    "$newObject"
   ]
  },
  {
   "cell_type": "markdown",
   "metadata": {},
   "source": [
    "Shorter version\n",
    "<!-- #$$ -->\n",
    "```powershell\n",
    "$newObject = $Object | Select *,@{l='SomeOtherProp';e={'Another value'}}\n",
    "$newObject\n",
    "```"
   ]
  },
  {
   "cell_type": "code",
   "execution_count": 351,
   "metadata": {},
   "outputs": [],
   "source": [
    "$newObject = $Object | Select *,@{l='SomeOtherProp';e={'Another value'}}\n",
    "$newObject"
   ]
  },
  {
   "cell_type": "markdown",
   "metadata": {},
   "source": [
    "### Removing properties"
   ]
  },
  {
   "cell_type": "code",
   "execution_count": 354,
   "metadata": {},
   "outputs": [
    {
     "name": "stdout",
     "output_type": "stream",
     "text": [
      "\n",
      "Address anotherProperty2 SomeOtherProp\n",
      "------- ---------------- -------------\n",
      "        stuff            Another value\n",
      "\n"
     ]
    }
   ],
   "source": [
    "$newObject = $newObject | Select-Object * -ExcludeProperty ID, Name\n",
    "$newObject"
   ]
  },
  {
   "cell_type": "markdown",
   "metadata": {},
   "source": [
    "## Section 11.3: Creating a new object\n",
    "\n",
    "PowerShell, unlike some other scripting languages, sends objects through the pipeline. What this means is that\n",
    "when you send data from one command to another, it's essential to be able to create, modify, and collect objects.<br><br>\n",
    "Creating an object is simple. Most objects you create will be custom objects in PowerShell, and the type to use for\n",
    "that is PSObject. PowerShell will also allow you to create any object you could create in .NET.<br><br>\n",
    "Here's an example of creating a new objects with a few properties:"
   ]
  },
  {
   "cell_type": "markdown",
   "metadata": {},
   "source": [
    "#### Option 1: New-Object\n",
    "<!-- #$$ -->\n",
    "```powershell\n",
    "$newObject = New-Object -TypeName PSObject -Property @{\n",
    " Name = $env:username\n",
    " ID = 12\n",
    " Address = $null\n",
    "}\n",
    "```"
   ]
  },
  {
   "cell_type": "code",
   "execution_count": 355,
   "metadata": {},
   "outputs": [
    {
     "name": "stdout",
     "output_type": "stream",
     "text": [
      "\n",
      "ID Address Name\n",
      "-- ------- ----\n",
      "12         \n",
      "\n"
     ]
    }
   ],
   "source": [
    "$newObject = New-Object -TypeName PSObject -Property @{\n",
    " Name = $env:username\n",
    " ID = 12\n",
    " Address = $null\n",
    "}\n",
    "$newObject"
   ]
  },
  {
   "cell_type": "markdown",
   "metadata": {},
   "source": [
    "You can store the object in a variable by prefacing the command with newObject =\n",
    "You may also need to store collections of objects. This can be done by creating an empty collection variable, and\n",
    "adding objects to the collection, like so:\n",
    "<!-- #$$ -->\n",
    "```powershell\n",
    "$newCollection = @()\n",
    "$newCollection += New-Object -TypeName PSObject -Property @{\n",
    " Name = $env:username\n",
    " ID = 12\n",
    " Address = $null\n",
    "}\n",
    "```\n",
    "You may then wish to iterate through this collection object by object. To do that, locate the Loop section in the\n",
    "documentation."
   ]
  },
  {
   "cell_type": "code",
   "execution_count": 356,
   "metadata": {},
   "outputs": [
    {
     "name": "stdout",
     "output_type": "stream",
     "text": [
      "\n",
      "ID Address Name\n",
      "-- ------- ----\n",
      "12         \n",
      "\n"
     ]
    }
   ],
   "source": [
    "$newCollection = @()\n",
    "$newCollection += New-Object -TypeName PSObject -Property @{\n",
    " Name = $env:username\n",
    " ID = 12\n",
    " Address = $null\n",
    "}\n",
    "$newCollection"
   ]
  },
  {
   "cell_type": "markdown",
   "metadata": {},
   "source": [
    "Another Example"
   ]
  },
  {
   "cell_type": "code",
   "execution_count": null,
   "metadata": {},
   "outputs": [],
   "source": [
    "$newCollection = @()\n",
    "$newCollection += New-Object -TypeName PSObject -Property @{\n",
    " Name = \"bob\"\n",
    " ID = 12\n",
    " Address = $null\n",
    "}\n",
    "$newCollection += New-Object -TypeName PSObject -Property @{\n",
    " Name = \"amanda\"\n",
    " ID = 13\n",
    " Address = $null\n",
    "}\n",
    "$newCollection"
   ]
  },
  {
   "cell_type": "markdown",
   "metadata": {},
   "source": [
    "#### Option 2: Select-Object\n",
    "\n",
    "A less common way of creating objects that you'll still find on the internet is the following:\n",
    "<!-- #$$ -->\n",
    "```powershell\n",
    "$newObject = 'unuseddummy' | Select-Object -Property Name, ID, Address\n",
    "$newObject.Name = $env:username\n",
    "$newObject.ID = 12\n",
    "$newObject\n",
    "\n",
    "# Returns\n",
    "PS> $newObject\n",
    "Name ID Address\n",
    "---- -- -------\n",
    "nem 12\n",
    "\n",
    "```"
   ]
  },
  {
   "cell_type": "code",
   "execution_count": null,
   "metadata": {},
   "outputs": [],
   "source": [
    "$newObject = 'unuseddummy'\n",
    "$newObject = $newObject | Select-Object -Property Name, ID, Address\n",
    "$newObject"
   ]
  },
  {
   "cell_type": "code",
   "execution_count": null,
   "metadata": {},
   "outputs": [],
   "source": [
    "$newObject.Name = \"bob\"\n",
    "$newObject.ID = 12\n",
    "$newObject"
   ]
  },
  {
   "cell_type": "code",
   "execution_count": null,
   "metadata": {},
   "outputs": [],
   "source": [
    "$newObject = 'unuseddummy' | Select-Object -Property Name, ID, Address\n",
    "$newObject.Name = $env:username\n",
    "$newObject.ID = 12\n",
    "$newObject"
   ]
  },
  {
   "cell_type": "markdown",
   "metadata": {},
   "source": [
    "#### Option 3: pscustomobject type accelerator (PSv3+ required)\n",
    "\n",
    "The ordered type accelerator forces PowerShell to keep our properties in the order that we defined them. You don't\n",
    "need the ordered type accelerator to use [PSCustomObject]:\n",
    "<!-- #$$ -->\n",
    "```powershell\n",
    "$newObject = [PSCustomObject][Ordered]@{\n",
    " Name = $env:Username\n",
    " ID = 12\n",
    " Address = $null\n",
    "}\n",
    "$newObject\n",
    "\n",
    "# Returns\n",
    "PS> $newObject\n",
    "Name ID Address\n",
    "---- -- -------\n",
    "nem 12\n",
    "```"
   ]
  },
  {
   "cell_type": "code",
   "execution_count": null,
   "metadata": {},
   "outputs": [],
   "source": [
    "$newObject = [PSCustomObject][Ordered]@{\n",
    " Address = $null\n",
    " Name = $env:Username\n",
    " ID = 12\n",
    "}\n",
    "$newObject"
   ]
  },
  {
   "cell_type": "code",
   "execution_count": null,
   "metadata": {},
   "outputs": [],
   "source": [
    "$newObject | Select-Object @('Name')"
   ]
  },
  {
   "cell_type": "markdown",
   "metadata": {},
   "source": [
    "## Section 11.4: Creating Instances of Generic Classes\n",
    "Note: examples written for PowerShell 5.1 You can create instances of Generic Classes\n",
    "<!-- #$$ -->\n",
    "```powershell\n",
    "#Nullable System.DateTime\n",
    "[Nullable[datetime]]$nullableDate = Get-Date -Year 2012\n",
    "$nullableDate\n",
    "$nullableDate.GetType().FullName\n",
    "$nullableDate = $null\n",
    "$nullableDate\n",
    "```"
   ]
  },
  {
   "cell_type": "code",
   "execution_count": null,
   "metadata": {},
   "outputs": [],
   "source": [
    "$nullableDate = Get-Date -Year 2012\n",
    "$nullableDate.Gettype()"
   ]
  },
  {
   "cell_type": "code",
   "execution_count": null,
   "metadata": {},
   "outputs": [],
   "source": [
    "#Nullable System.DateTime\n",
    "[Nullable[datetime]]$nullableDate = Get-Date -Year 2012\n",
    "\n",
    "Write-Output \"DateTime: $nullableDate\"\n",
    "Write-Output \"Type: $($nullableDate.GetType().FullName)\"\n",
    "$nullableDate = $null\n",
    "Write-Output \"Null Value: $nullableDate\""
   ]
  },
  {
   "cell_type": "markdown",
   "metadata": {},
   "source": [
    "This example shows if nullable was not specified. You will get an error when powershell attempts to convert object to null\n",
    "<!-- #$$ -->\n",
    "```powershell\n",
    "#Normal System.DateTime\n",
    "[datetime]$aDate = Get-Date -Year 2013\n",
    "$aDate\n",
    "$aDate.GetType().FullName\n",
    "$aDate = $null #Throws exception when PowerShell attempts to convert null to\n",
    "\n",
    "#Gives the output:\n",
    "Saturday, 4 August 2012 08:53:02\n",
    "System.DateTime\n",
    "Sunday, 4 August 2013 08:53:02\n",
    "System.DateTime\n",
    "Cannot convert null to type \"System.DateTime\".\n",
    "```"
   ]
  },
  {
   "cell_type": "code",
   "execution_count": null,
   "metadata": {},
   "outputs": [],
   "source": [
    "[datetime]$aDate = Get-Date -Year 2013\n",
    "$aDate\n",
    "$aDate.GetType().FullName\n",
    "$aDate = $null #Throws exception when PowerShell attempts to convert null to"
   ]
  },
  {
   "cell_type": "markdown",
   "metadata": {},
   "source": [
    "Generic Collections are also possible\n",
    "<!-- #$$ -->\n",
    "```powershell\n",
    "[System.Collections.Generic.SortedDictionary[int, String]]$dict =\n",
    "[System.Collections.Generic.SortedDictionary[int, String]]::new()\n",
    "$dict.GetType().FullName\n",
    "$dict.Add(1, 'a')\n",
    "$dict.Add(2, 'b')\n",
    "$dict.Add(3, 'c')\n",
    "$dict.Add('4', 'd') #powershell auto converts '4' to 4\n",
    "$dict.Add('5.1', 'c') #powershell auto converts '5.1' to 5\n",
    "$dict\n",
    "$dict.Add('z', 'z') #powershell can't convert 'z' to System.Int32 so it throws an error\n",
    "```"
   ]
  },
  {
   "cell_type": "code",
   "execution_count": null,
   "metadata": {},
   "outputs": [],
   "source": [
    "$dict = [System.Collections.Generic.SortedDictionary[int, String]]::new()"
   ]
  },
  {
   "cell_type": "code",
   "execution_count": null,
   "metadata": {},
   "outputs": [],
   "source": [
    "$dict.GetType() | Get-Member"
   ]
  },
  {
   "cell_type": "code",
   "execution_count": null,
   "metadata": {},
   "outputs": [],
   "source": [
    "$dict.Add(1, 'a')\n",
    "$dict.Add(2, 'b')\n",
    "$dict.Add(3, 'c')\n",
    "$dict.Add('4', 'd') #powershell auto converts '4' to 4\n",
    "$dict.Add('5.1', 'c') #powershell auto converts '5.1' to 5\n",
    "$dict"
   ]
  },
  {
   "cell_type": "code",
   "execution_count": null,
   "metadata": {},
   "outputs": [],
   "source": [
    "$dict.Add('z', 'z') #powershell can't convert 'z' to System.Int32 so it throws an error"
   ]
  },
  {
   "cell_type": "code",
   "execution_count": null,
   "metadata": {},
   "outputs": [],
   "source": [
    "$dict.3 = \"test\"\n",
    "$dict"
   ]
  },
  {
   "cell_type": "markdown",
   "metadata": {},
   "source": [
    "    If you want to watch an explanation video. Run the cell below (Not available yet)"
   ]
  },
  {
   "cell_type": "code",
   "execution_count": null,
   "metadata": {},
   "outputs": [],
   "source": [
    "## Run this if you want to see explaination of the top\n",
    "Import-Module \"./modules/tutorial.psm1\"; embedYoutube -youtubeId \"ORQOy_utnTY\" | Out-Display"
   ]
  },
  {
   "cell_type": "code",
   "execution_count": null,
   "metadata": {},
   "outputs": [],
   "source": []
  }
 ],
 "metadata": {
  "kernelspec": {
   "display_name": ".NET (PowerShell)",
   "language": "PowerShell",
   "name": ".net-powershell"
  },
  "language_info": {
   "file_extension": ".ps1",
   "mimetype": "text/x-powershell",
   "name": "PowerShell",
   "pygments_lexer": "powershell",
   "version": "7.0"
  },
  "toc-autonumbering": false,
  "toc-showmarkdowntxt": true
 },
 "nbformat": 4,
 "nbformat_minor": 4
}
