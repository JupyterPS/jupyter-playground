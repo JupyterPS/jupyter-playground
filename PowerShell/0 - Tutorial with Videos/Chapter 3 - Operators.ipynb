{
 "cells": [
  {
   "cell_type": "markdown",
   "metadata": {},
   "source": [
    "# Chapter 3: Operators"
   ]
  },
  {
   "cell_type": "markdown",
   "metadata": {},
   "source": [
    "## 3.1: Comparison Operators"
   ]
  },
  {
   "cell_type": "markdown",
   "metadata": {},
   "source": [
    "PowerShell comparison operators are comprised of a leading dash (-) followed by a name (eq for equal, gt for\n",
    "greater than, etc...).<br>\n",
    "Names can be preceded by special characters to modify the behavior of the operator:\n",
    "```powershell\n",
    "i # Case-Insensitive Explicit (-ieq)\n",
    "c # Case-Sensitive Explicit (-ceq)\n",
    "```\n",
    "Case-Insensitive is the default if not specified, (\"a\" -eq \"A\") same as (\"a\" -ieq \"A\")."
   ]
  },
  {
   "cell_type": "markdown",
   "metadata": {},
   "source": [
    "Simple comparison operators (Run commands below)"
   ]
  },
  {
   "cell_type": "code",
   "execution_count": null,
   "metadata": {},
   "outputs": [],
   "source": [
    "2 -eq 2 # Equal to (==)\n",
    "2 -ne 4 # Not equal to (!=)\n",
    "5 -gt 2 # Greater-than (>)\n",
    "5 -ge 5 # Greater-than or equal to (>=)\n",
    "5 -lt 10 # Less-than (<)\n",
    "5 -le 5 # Less-than or equal to (<=)"
   ]
  },
  {
   "cell_type": "markdown",
   "metadata": {},
   "source": [
    "String comparison operators:"
   ]
  },
  {
   "cell_type": "code",
   "execution_count": null,
   "metadata": {},
   "outputs": [],
   "source": [
    "\"MyString\" -like \"String*\" # Match using the wildcard character (*)\n",
    "\"MyString\" -notlike \"Other*\" # Does not match using the wildcard character (*)\n",
    "\"MyString\" -match '^String$' # Matches a string using regular expressions\n",
    "\"MyString\" -notmatch '^Other$' # Does not match a string using regular expressions"
   ]
  },
  {
   "cell_type": "markdown",
   "metadata": {},
   "source": [
    "Connection comparison operators:"
   ]
  },
  {
   "cell_type": "code",
   "execution_count": null,
   "metadata": {},
   "outputs": [],
   "source": [
    "\"abc\", \"def\",\"blah\" -contains \"blah\"    # Returns true when the value (right) is present\n",
    "                                # in the array (left)\n",
    "\"abc\", \"def\" -notcontains \"123\" # Returns true when the value (right) is not present\n",
    "                                # in the array (left)\n",
    "\"def\" -in \"abc\", \"def\"          # Returns true when the value (left) is present\n",
    "                                # in the array (right)\n",
    "\"123\" -notin \"abc\", \"def\" # Returns true when the value (left) is not present\n",
    "                                # in the array (right)"
   ]
  },
  {
   "cell_type": "code",
   "execution_count": null,
   "metadata": {},
   "outputs": [],
   "source": [
    "\"poodle\" -in @('chihuahua','german shepard','poodle','husky')"
   ]
  },
  {
   "cell_type": "markdown",
   "metadata": {},
   "source": [
    "    If you need explanation of operators"
   ]
  },
  {
   "cell_type": "code",
   "execution_count": null,
   "metadata": {},
   "outputs": [],
   "source": [
    "## Run this if you want to see explaination of the top\n",
    "Import-Module \"./modules/tutorial.psm1\"; embedYoutube -youtubeId \"2Guf7fCGrmo\" | Out-Display"
   ]
  },
  {
   "cell_type": "code",
   "execution_count": null,
   "metadata": {},
   "outputs": [],
   "source": []
  }
 ],
 "metadata": {
  "kernelspec": {
   "display_name": ".NET (PowerShell)",
   "language": "PowerShell",
   "name": ".net-powershell"
  },
  "language_info": {
   "file_extension": ".ps1",
   "mimetype": "text/x-powershell",
   "name": "PowerShell",
   "pygments_lexer": "powershell",
   "version": "7.0"
  }
 },
 "nbformat": 4,
 "nbformat_minor": 4
}
