{
 "cells": [
  {
   "cell_type": "markdown",
   "metadata": {},
   "source": [
    "# Chapter 1 - Getting started with Powershell\n",
    "- This tutorial was sourced from the great work done by http://GoalKicker.com/PowerShellBook and the content is written by the beautiful people at Stack Overflow."
   ]
  },
  {
   "cell_type": "markdown",
   "metadata": {},
   "source": [
    "Table of Contents<br>\n",
    "1. [Allow scripts stored on your machine to run unsigned](#1)\n",
    "2. [Aliases & Similar Functions](#2)\n",
    "3. [The Pipeline - Using Output from a PowerShell cmdlet](#3)\n",
    "4. [Calling .Net Library Methods](#4)\n",
    "5. [Installation or Setup](#5)\n",
    "6. [Commenting](#6)\n",
    "7. [Creating Objects](#7)\n"
   ]
  },
  {
   "cell_type": "markdown",
   "metadata": {},
   "source": [
    "<a class=\"anchor\" id=\"1\"></a>"
   ]
  },
  {
   "cell_type": "markdown",
   "metadata": {},
   "source": [
    "## Allow scripts stored on your machine to run unsigned"
   ]
  },
  {
   "cell_type": "markdown",
   "metadata": {},
   "source": [
    "   Run the next cell to watch video. Otherwise skip and follow instructions"
   ]
  },
  {
   "cell_type": "code",
   "execution_count": null,
   "metadata": {},
   "outputs": [],
   "source": [
    "## Run this if you want to see explainer video throughout the course to help you understand\n",
    "Import-Module \"./modules/tutorial.psm1\"; embedYoutube -youtubeId \"h4Bq69HfR0Y\" | Out-Display"
   ]
  },
  {
   "cell_type": "markdown",
   "metadata": {},
   "source": [
    "For security reasons, PowerShell is set up by default to only allow signed scripts to execute. \n",
    "Executing the following command will allow you to run unsigned scripts\n",
    "\n",
    "    (you must run PowerShell as Administrator to do this)."
   ]
  },
  {
   "cell_type": "code",
   "execution_count": null,
   "metadata": {},
   "outputs": [],
   "source": [
    "Set-ExecutionPolicy RemoteSigned"
   ]
  },
  {
   "cell_type": "markdown",
   "metadata": {},
   "source": [
    "<a class=\"anchor\" id=\"2\"></a>"
   ]
  },
  {
   "cell_type": "markdown",
   "metadata": {},
   "source": [
    "## Aliases & Similar Functions"
   ]
  },
  {
   "cell_type": "markdown",
   "metadata": {},
   "source": [
    "In PowerShell, there are many ways to achieve the same result. This can be illustrated nicely with the simple &\n",
    "familiar Hello World example:\n",
    "\n",
    "```Powershell\n",
    "Using Write-Host\n",
    "```\n",
    "Enter in the cell below: \n",
    "```Powershell\n",
    "Write-Host \"Hello World\"\n",
    "```"
   ]
  },
  {
   "cell_type": "code",
   "execution_count": null,
   "metadata": {},
   "outputs": [],
   "source": []
  },
  {
   "cell_type": "markdown",
   "metadata": {},
   "source": [
    "```Powershell\n",
    "Using Write-Output\n",
    "```\n",
    "Enter in the cell below: \n",
    "```Powershell\n",
    "Write-Output \"Hello World\"\n",
    "```"
   ]
  },
  {
   "cell_type": "code",
   "execution_count": null,
   "metadata": {},
   "outputs": [],
   "source": []
  },
  {
   "cell_type": "markdown",
   "metadata": {},
   "source": [
    "It's worth noting that although Write-Output & Write-Host both write to the screen there is a subtle difference.\n",
    "Write-Host writes only to stdout (i.e. the console screen), whereas Write-Output writes to both stdout AND to the\n",
    "output [success] stream allowing for redirection. Redirection (and streams in general) allow for the output of one\n",
    "command to be directed as input to another including assignment to a variable."
   ]
  },
  {
   "cell_type": "markdown",
   "metadata": {},
   "source": [
    "```Powershell\n",
    "Using Write-Host\n",
    "```\n",
    "Run the following command (Shift-Enter): \n",
    "```Powershell\n",
    "$message = Write-Host \"Hello World\"\n",
    "```"
   ]
  },
  {
   "cell_type": "code",
   "execution_count": null,
   "metadata": {},
   "outputs": [],
   "source": []
  },
  {
   "cell_type": "markdown",
   "metadata": {},
   "source": [
    "<br>Then call the message variable:\n",
    "```Powershell\n",
    "$message\n",
    "```"
   ]
  },
  {
   "cell_type": "code",
   "execution_count": null,
   "metadata": {},
   "outputs": [],
   "source": []
  },
  {
   "cell_type": "markdown",
   "metadata": {},
   "source": [
    "<br>You should have gotten nothing. Now lets try it again with Write-Output\n",
    "```Powershell\n",
    "$message = Write-Output \"Hello World\"\n",
    "```"
   ]
  },
  {
   "cell_type": "code",
   "execution_count": null,
   "metadata": {},
   "outputs": [],
   "source": []
  },
  {
   "cell_type": "markdown",
   "metadata": {},
   "source": [
    "<br>Then call the message variable again:\n",
    "```Powershell\n",
    "$message\n",
    "```"
   ]
  },
  {
   "cell_type": "code",
   "execution_count": null,
   "metadata": {},
   "outputs": [],
   "source": []
  },
  {
   "cell_type": "markdown",
   "metadata": {},
   "source": [
    "### Explaination (Skip if your good) *** "
   ]
  },
  {
   "cell_type": "code",
   "execution_count": null,
   "metadata": {},
   "outputs": [],
   "source": [
    "## Run this if you want to see explaination of the top\n",
    "Import-Module \"./modules/tutorial.psm1\"; embedYoutube -youtubeId \"QPMC0Q_4oug\" | Out-Display"
   ]
  },
  {
   "cell_type": "markdown",
   "metadata": {},
   "source": [
    "<a class=\"anchor\" id=\"3\"></a>"
   ]
  },
  {
   "cell_type": "markdown",
   "metadata": {},
   "source": [
    "## The Pipeline - Using Output from a PowerShell"
   ]
  },
  {
   "cell_type": "code",
   "execution_count": null,
   "metadata": {},
   "outputs": [],
   "source": [
    "Get-ChildItem | ForEach-Object {\n",
    "    Write-Host $_.LastWriteTime\n",
    "}"
   ]
  },
  {
   "cell_type": "code",
   "execution_count": null,
   "metadata": {},
   "outputs": [],
   "source": [
    "Get-ChildItem | Select-Object Name\n",
    "#This may be shortened to:\n",
    "gci | Select Name"
   ]
  },
  {
   "cell_type": "code",
   "execution_count": null,
   "metadata": {},
   "outputs": [],
   "source": [
    "Get-ChildItem | ForEach-Object {\n",
    "    $_\n",
    "    #Copy-Item -Path $_.FullName -destination C:\\NewDirectory\\\n",
    "}"
   ]
  },
  {
   "cell_type": "markdown",
   "metadata": {},
   "source": [
    "Note that the example above uses the \\\\$\\_ automatic variable\\. \\\\$\\_ is the short alias of $PSItem which is an automatic\n",
    "variable which contains the current item in the pipeline\\."
   ]
  },
  {
   "cell_type": "markdown",
   "metadata": {},
   "source": [
    "This can be shortened to:\n",
    "```powershell\n",
    "gci | % { $_ }\n",
    "```"
   ]
  },
  {
   "cell_type": "code",
   "execution_count": null,
   "metadata": {},
   "outputs": [],
   "source": [
    "## Run this if you want to see explaination of '1.3 The Pipeline'\n",
    "Import-Module \"./modules/tutorial.psm1\"; embedYoutube -youtubeId \"qmCQYjvu6Gw\" | Out-Display"
   ]
  },
  {
   "cell_type": "markdown",
   "metadata": {},
   "source": [
    "<a class=\"anchor\" id=\"4\"></a>"
   ]
  },
  {
   "cell_type": "markdown",
   "metadata": {},
   "source": [
    "## Calling .Net Library Methods"
   ]
  },
  {
   "cell_type": "markdown",
   "metadata": {},
   "source": [
    "Static .Net library methods can be called from PowerShell by encapsulating the full class name in third bracket and\n",
    "then calling the method using ::"
   ]
  },
  {
   "cell_type": "markdown",
   "metadata": {},
   "source": [
    "<br>Calling the method Path.GetFileName() by running the following command:\n",
    "```Powershell\n",
    "[System.IO.Path]::GetFileName('C:\\Windows\\explorer.exe')\n",
    "```"
   ]
  },
  {
   "cell_type": "code",
   "execution_count": null,
   "metadata": {},
   "outputs": [],
   "source": []
  },
  {
   "cell_type": "markdown",
   "metadata": {},
   "source": [
    "Static methods can be called from the class itself, but calling non-static methods requires an instance of the .Net\n",
    "class (an object).\n",
    "For example, the AddHours method cannot be called from the System.DateTime class itself. It requires an instance\n",
    "of the class:"
   ]
  },
  {
   "cell_type": "markdown",
   "metadata": {},
   "source": [
    "Run the following command and see what happens\n",
    "```powershell\n",
    "[System.DateTime]::AddHours(15)\n",
    "```"
   ]
  },
  {
   "cell_type": "code",
   "execution_count": null,
   "metadata": {},
   "outputs": [],
   "source": []
  },
  {
   "cell_type": "markdown",
   "metadata": {},
   "source": [
    "In this case, we first create an object, for example:\n",
    "```Powershell\n",
    "$Object = [System.DateTime]::Now\n",
    "```"
   ]
  },
  {
   "cell_type": "code",
   "execution_count": null,
   "metadata": {},
   "outputs": [],
   "source": []
  },
  {
   "cell_type": "markdown",
   "metadata": {},
   "source": [
    "Now try to call upon the object variable you created and see if you can get the time"
   ]
  },
  {
   "cell_type": "code",
   "execution_count": null,
   "metadata": {},
   "outputs": [],
   "source": []
  },
  {
   "cell_type": "markdown",
   "metadata": {},
   "source": [
    "Then, we can use methods of that object, even methods which cannot be called directly from the System.DateTime\n",
    "class, like the AddHours method:\n",
    "```Powershell\n",
    "$Object.AddHours(15)\n",
    "```"
   ]
  },
  {
   "cell_type": "code",
   "execution_count": null,
   "metadata": {},
   "outputs": [],
   "source": []
  },
  {
   "cell_type": "markdown",
   "metadata": {},
   "source": [
    "Try to call again the object variable and what do you think happens ? "
   ]
  },
  {
   "cell_type": "code",
   "execution_count": null,
   "metadata": {},
   "outputs": [],
   "source": []
  },
  {
   "cell_type": "code",
   "execution_count": null,
   "metadata": {},
   "outputs": [],
   "source": [
    "## Run this if you want to see explaination of '1.4 - Calling .Net Library Methods'\n",
    "Import-Module \"./modules/tutorial.psm1\"; embedYoutube -youtubeId \"HVZ6jZGuJT0\" | Out-Display"
   ]
  },
  {
   "cell_type": "markdown",
   "metadata": {},
   "source": [
    "<a class=\"anchor\" id=\"5\"></a>"
   ]
  },
  {
   "cell_type": "markdown",
   "metadata": {},
   "source": [
    "## Installation or Setup"
   ]
  },
  {
   "cell_type": "markdown",
   "metadata": {},
   "source": [
    "<b>Windows<br></b>\n",
    "-- PowerShell is included with the Windows Management Framework. Installation and Setup are not required on modern versions of Windows.<br>\n",
    "-- Updates to PowerShell can be accomplished by installing a newer version of the Windows Management Framework.\n",
    "\n",
    "<b>Other Platforms<br></b>\n",
    "-- PowerShell 6 can be installed on other platforms. The installation packages are available here.\n",
    "-- For example, PowerShell 6, for Ubuntu 16.04, is published to package repositories for easy installation (and updates).\n",
    "\n",
    "    To install run the following:"
   ]
  },
  {
   "cell_type": "markdown",
   "metadata": {},
   "source": [
    "### Import the public repository GPG keys\n",
    "```bash\n",
    "curl https://packages.microsoft.com/keys/microsoft.asc | sudo apt-key add -\n",
    "```"
   ]
  },
  {
   "cell_type": "code",
   "execution_count": null,
   "metadata": {},
   "outputs": [],
   "source": []
  },
  {
   "cell_type": "markdown",
   "metadata": {},
   "source": [
    "### Register the Microsoft Ubuntu repository\n",
    "```bash\n",
    "curl https://packages.microsoft.com/config/ubuntu/16.04/prod.list | sudo tee\n",
    "/etc/apt/sources.list.d/microsoft.list\n",
    "```"
   ]
  },
  {
   "cell_type": "code",
   "execution_count": null,
   "metadata": {},
   "outputs": [],
   "source": []
  },
  {
   "cell_type": "markdown",
   "metadata": {},
   "source": [
    "Update apt-get\n",
    "```bash\n",
    "sudo apt-get update\n",
    "```"
   ]
  },
  {
   "cell_type": "code",
   "execution_count": null,
   "metadata": {},
   "outputs": [],
   "source": []
  },
  {
   "cell_type": "markdown",
   "metadata": {},
   "source": [
    "Install PowerShell\n",
    "```bash\n",
    "sudo apt-get install -y powershell\n",
    "```"
   ]
  },
  {
   "cell_type": "code",
   "execution_count": null,
   "metadata": {},
   "outputs": [],
   "source": []
  },
  {
   "cell_type": "markdown",
   "metadata": {},
   "source": [
    "Start PowerShell\n",
    "```bash\n",
    "powershell\n",
    "```"
   ]
  },
  {
   "cell_type": "code",
   "execution_count": null,
   "metadata": {},
   "outputs": [],
   "source": []
  },
  {
   "cell_type": "markdown",
   "metadata": {},
   "source": [
    "To update you just need to run\n",
    "```bash\n",
    "sudo apt-get upgrade powershell\n",
    "```"
   ]
  },
  {
   "cell_type": "markdown",
   "metadata": {},
   "source": [
    "<a class=\"anchor\" id=\"6\"></a>"
   ]
  },
  {
   "cell_type": "markdown",
   "metadata": {},
   "source": [
    "## Commenting"
   ]
  },
  {
   "cell_type": "markdown",
   "metadata": {},
   "source": [
    "To comment on power scripts by prepending the line using the # (hash) symbol\n",
    "```powershell\n",
    "\n",
    "# This is a comment in PowerShell\n",
    "Get-ChildItem\n",
    "```\n",
    "\n",
    "You can also have multi-line comments using <# and #> at the beginning and end of the comment respectively.\n",
    "```powershell\n",
    "<#\n",
    "This is a multi-line\n",
    "comment\n",
    "#>\n",
    "Get-ChildItem\n",
    "```"
   ]
  },
  {
   "cell_type": "markdown",
   "metadata": {},
   "source": [
    "<a class=\"anchor\" id=\"7\"></a>"
   ]
  },
  {
   "cell_type": "markdown",
   "metadata": {},
   "source": [
    "## Creating Objects"
   ]
  },
  {
   "cell_type": "markdown",
   "metadata": {},
   "source": [
    "### The New-Object cmdlet is used to create an object."
   ]
  },
  {
   "cell_type": "markdown",
   "metadata": {},
   "source": [
    "Create a DateTime object and stores the object in variable \"\\$var\"\n",
    "```powershell\n",
    "$var = New-Object System.DateTime\n",
    "```"
   ]
  },
  {
   "cell_type": "code",
   "execution_count": null,
   "metadata": {},
   "outputs": [],
   "source": []
  },
  {
   "cell_type": "markdown",
   "metadata": {},
   "source": [
    "calling constructor with parameters\n",
    "```powershell\n",
    "$sr = New-Object System.IO.StreamReader -ArgumentList \"file path\"\n",
    "```"
   ]
  },
  {
   "cell_type": "code",
   "execution_count": null,
   "metadata": {},
   "outputs": [],
   "source": []
  },
  {
   "cell_type": "markdown",
   "metadata": {},
   "source": [
    "### In many instances, a new object will be created in order to export data or pass it to another commandlet. \n",
    "\n",
    "This can be done like so:\n",
    "```powershell\n",
    "$newObject = New-Object -TypeName PSObject -Property @{\n",
    "ComputerName = \"SERVER1\"\n",
    "Role = \"Interface\"\n",
    "Environment = \"Production\"\n",
    "}\n",
    "```"
   ]
  },
  {
   "cell_type": "code",
   "execution_count": null,
   "metadata": {},
   "outputs": [],
   "source": []
  },
  {
   "cell_type": "markdown",
   "metadata": {},
   "source": [
    "### There are many ways of creating an object. \n",
    "The following method is probably the shortest and fastest way to create a PSCustomObject:\n",
    "```powershell\n",
    "$newObject = [PSCustomObject]@{\n",
    "ComputerName = 'SERVER1'\n",
    "Role = 'Interface'\n",
    "Environment = 'Production'\n",
    "}\n",
    "```"
   ]
  },
  {
   "cell_type": "code",
   "execution_count": null,
   "metadata": {},
   "outputs": [],
   "source": []
  },
  {
   "cell_type": "markdown",
   "metadata": {},
   "source": [
    "### In case you already have an object, but you only need one or two extra properties.\n",
    "Simply add that property by using Select-Object:\n",
    "```powershell\n",
    "Get-ChildItem | Select-Object FullName, Name,\n",
    "@{Name='DateTime'; Expression={Get-Date}},\n",
    "@{Name='PropertyName'; Expression={'CustomValue'}}\n",
    "```"
   ]
  },
  {
   "cell_type": "code",
   "execution_count": null,
   "metadata": {},
   "outputs": [],
   "source": []
  },
  {
   "cell_type": "markdown",
   "metadata": {},
   "source": [
    "-- All objects can be stored in variables or passed into the pipeline. You could also add these objects to a collection and then show the results at the end.<br>\n",
    "-- Collections of objects work well with Export-CSV (and Import-CSV). Each line of the CSV is an object, each column a property.<br>\n",
    "-- Format commands convert objects into text stream for display. Avoid using Format-* commands until the final step of any data processing, to maintain the usability of the objects."
   ]
  },
  {
   "cell_type": "markdown",
   "metadata": {},
   "source": [
    "    Explainer Video if you need it"
   ]
  },
  {
   "cell_type": "code",
   "execution_count": null,
   "metadata": {},
   "outputs": [],
   "source": [
    "## Run this if you want to see explaination of '1.4 - Calling .Net Library Methods'\n",
    "Import-Module \"./modules/tutorial.psm1\"; embedYoutube -youtubeId \"6Q5_tjThrEo\" | Out-Display"
   ]
  }
 ],
 "metadata": {
  "kernelspec": {
   "display_name": ".NET (PowerShell)",
   "language": "PowerShell",
   "name": ".net-powershell"
  },
  "language_info": {
   "file_extension": ".ps1",
   "mimetype": "text/x-powershell",
   "name": "PowerShell",
   "pygments_lexer": "powershell",
   "version": "7.0"
  },
  "toc-autonumbering": true,
  "toc-showcode": false,
  "toc-showmarkdowntxt": false
 },
 "nbformat": 4,
 "nbformat_minor": 4
}
