{
 "cells": [
  {
   "cell_type": "markdown",
   "metadata": {},
   "source": [
    "# Chapter 1 - Getting started with Powershell"
   ]
  },
  {
   "cell_type": "markdown",
   "metadata": {},
   "source": [
    "- This tutorial was sourced from the great work done by http://GoalKicker.com/PowerShellBook"
   ]
  },
  {
   "cell_type": "markdown",
   "metadata": {},
   "source": [
    "## Allow scripts stored on your machine to run unsigned"
   ]
  },
  {
   "cell_type": "markdown",
   "metadata": {},
   "source": [
    "   Run the next cell to watch video. Otherwise skip and follow instructions"
   ]
  },
  {
   "cell_type": "code",
   "execution_count": null,
   "metadata": {},
   "outputs": [],
   "source": [
    "## Run this if you want to see explainer video throughout the course to help you understand\n",
    "Import-Module \"./modules/tutorial.psm1\"; embedYoutube -youtubeId \"h4Bq69HfR0Y\" | Out-Display"
   ]
  },
  {
   "cell_type": "markdown",
   "metadata": {},
   "source": [
    "For security reasons, PowerShell is set up by default to only allow signed scripts to execute. \n",
    "Executing the following command will allow you to run unsigned scripts\n",
    "\n",
    "    (you must run PowerShell as Administrator to do this)."
   ]
  },
  {
   "cell_type": "code",
   "execution_count": null,
   "metadata": {},
   "outputs": [],
   "source": [
    "Set-ExecutionPolicy RemoteSigned"
   ]
  },
  {
   "cell_type": "markdown",
   "metadata": {},
   "source": [
    "## Aliases & Similar Functions"
   ]
  },
  {
   "cell_type": "markdown",
   "metadata": {},
   "source": [
    "In PowerShell, there are many ways to achieve the same result. This can be illustrated nicely with the simple &\n",
    "familiar Hello World example:\n",
    "\n",
    "```Powershell\n",
    "Using Write-Host\n",
    "```\n",
    "Enter in the cell below: \n",
    "```Powershell\n",
    "Write-Host \"Hello World\"\n",
    "```"
   ]
  },
  {
   "cell_type": "code",
   "execution_count": null,
   "metadata": {},
   "outputs": [],
   "source": []
  },
  {
   "cell_type": "markdown",
   "metadata": {},
   "source": [
    "```Powershell\n",
    "Using Write-Output\n",
    "```\n",
    "Enter in the cell below: \n",
    "```Powershell\n",
    "Write-Output \"Hello World\"\n",
    "```"
   ]
  },
  {
   "cell_type": "code",
   "execution_count": null,
   "metadata": {},
   "outputs": [],
   "source": []
  },
  {
   "cell_type": "markdown",
   "metadata": {},
   "source": [
    "It's worth noting that although Write-Output & Write-Host both write to the screen there is a subtle difference.\n",
    "Write-Host writes only to stdout (i.e. the console screen), whereas Write-Output writes to both stdout AND to the\n",
    "output [success] stream allowing for redirection. Redirection (and streams in general) allow for the output of one\n",
    "command to be directed as input to another including assignment to a variable."
   ]
  },
  {
   "cell_type": "markdown",
   "metadata": {},
   "source": [
    "```Powershell\n",
    "Using Write-Host\n",
    "```\n",
    "Run the following command (Shift-Enter): \n",
    "```Powershell\n",
    "$message = Write-Host \"Hello World\"\n",
    "```"
   ]
  },
  {
   "cell_type": "code",
   "execution_count": null,
   "metadata": {},
   "outputs": [],
   "source": []
  },
  {
   "cell_type": "markdown",
   "metadata": {},
   "source": [
    "<br>Then call the message variable:\n",
    "```Powershell\n",
    "$message\n",
    "```"
   ]
  },
  {
   "cell_type": "code",
   "execution_count": null,
   "metadata": {},
   "outputs": [],
   "source": []
  },
  {
   "cell_type": "markdown",
   "metadata": {},
   "source": [
    "<br>You should have gotten nothing. Now lets try it again with Write-Output\n",
    "```Powershell\n",
    "$message = Write-Output \"Hello World\"\n",
    "```"
   ]
  },
  {
   "cell_type": "code",
   "execution_count": null,
   "metadata": {},
   "outputs": [],
   "source": []
  },
  {
   "cell_type": "markdown",
   "metadata": {},
   "source": [
    "<br>Then call the message variable again:\n",
    "```Powershell\n",
    "$message\n",
    "```"
   ]
  },
  {
   "cell_type": "code",
   "execution_count": null,
   "metadata": {},
   "outputs": [],
   "source": []
  },
  {
   "cell_type": "markdown",
   "metadata": {},
   "source": [
    "### Explaination (Skip if your good) *** "
   ]
  },
  {
   "cell_type": "code",
   "execution_count": null,
   "metadata": {},
   "outputs": [],
   "source": [
    "## Run this if you want to see explaination of the top\n",
    "Import-Module \"./modules/tutorial.psm1\"; embedYoutube -youtubeId \"QPMC0Q_4oug\" | Out-Display"
   ]
  },
  {
   "cell_type": "markdown",
   "metadata": {},
   "source": [
    "## The Pipeline - Using Output from a PowerShell"
   ]
  },
  {
   "cell_type": "code",
   "execution_count": null,
   "metadata": {},
   "outputs": [],
   "source": [
    "Get-ChildItem | ForEach-Object {\n",
    "    Write-Host $_.LastWriteTime\n",
    "}"
   ]
  },
  {
   "cell_type": "code",
   "execution_count": null,
   "metadata": {},
   "outputs": [],
   "source": [
    "Get-ChildItem | Select-Object Name\n",
    "#This may be shortened to:\n",
    "gci | Select Name"
   ]
  },
  {
   "cell_type": "code",
   "execution_count": null,
   "metadata": {},
   "outputs": [],
   "source": [
    "Get-ChildItem | ForEach-Object {\n",
    "    $_\n",
    "    #Copy-Item -Path $_.FullName -destination C:\\NewDirectory\\\n",
    "}"
   ]
  },
  {
   "cell_type": "markdown",
   "metadata": {},
   "source": [
    "Note that the example above uses the \\\\$\\_ automatic variable\\. \\\\$\\_ is the short alias of $PSItem which is an automatic\n",
    "variable which contains the current item in the pipeline\\."
   ]
  },
  {
   "cell_type": "markdown",
   "metadata": {},
   "source": [
    "This can be shortened to:\n",
    "```powershell\n",
    "gci | % { $_ }\n",
    "```"
   ]
  },
  {
   "cell_type": "code",
   "execution_count": null,
   "metadata": {},
   "outputs": [],
   "source": [
    "## Run this if you want to see explaination of '1.3 The Pipeline'\n",
    "Import-Module \"./modules/tutorial.psm1\"; embedYoutube -youtubeId \"qmCQYjvu6Gw\" | Out-Display"
   ]
  },
  {
   "cell_type": "markdown",
   "metadata": {},
   "source": [
    "## Calling .Net Library Methods"
   ]
  },
  {
   "cell_type": "markdown",
   "metadata": {},
   "source": [
    "Static .Net library methods can be called from PowerShell by encapsulating the full class name in third bracket and\n",
    "then calling the method using ::"
   ]
  },
  {
   "cell_type": "markdown",
   "metadata": {},
   "source": [
    "<br>Calling the method Path.GetFileName() by running the following command:\n",
    "```Powershell\n",
    "[System.IO.Path]::GetFileName('C:\\Windows\\explorer.exe')\n",
    "```"
   ]
  },
  {
   "cell_type": "code",
   "execution_count": null,
   "metadata": {},
   "outputs": [],
   "source": []
  },
  {
   "cell_type": "markdown",
   "metadata": {},
   "source": [
    "Static methods can be called from the class itself, but calling non-static methods requires an instance of the .Net\n",
    "class (an object).\n",
    "For example, the AddHours method cannot be called from the System.DateTime class itself. It requires an instance\n",
    "of the class:"
   ]
  },
  {
   "cell_type": "markdown",
   "metadata": {},
   "source": [
    "Run the following command and see what happens\n",
    "```powershell\n",
    "[System.DateTime]::AddHours(15)\n",
    "```"
   ]
  },
  {
   "cell_type": "code",
   "execution_count": null,
   "metadata": {},
   "outputs": [],
   "source": []
  },
  {
   "cell_type": "markdown",
   "metadata": {},
   "source": [
    "In this case, we first create an object, for example:\n",
    "```Powershell\n",
    "$Object = [System.DateTime]::Now\n",
    "```"
   ]
  },
  {
   "cell_type": "code",
   "execution_count": null,
   "metadata": {},
   "outputs": [],
   "source": []
  },
  {
   "cell_type": "markdown",
   "metadata": {},
   "source": [
    "Now try to call upon the object variable you created and see if you can get the time"
   ]
  },
  {
   "cell_type": "code",
   "execution_count": null,
   "metadata": {},
   "outputs": [],
   "source": []
  },
  {
   "cell_type": "markdown",
   "metadata": {},
   "source": [
    "Then, we can use methods of that object, even methods which cannot be called directly from the System.DateTime\n",
    "class, like the AddHours method:\n",
    "```Powershell\n",
    "$Object.AddHours(15)\n",
    "```"
   ]
  },
  {
   "cell_type": "code",
   "execution_count": null,
   "metadata": {},
   "outputs": [],
   "source": []
  },
  {
   "cell_type": "markdown",
   "metadata": {},
   "source": [
    "Try to call again the object variable and what do you think happens ? "
   ]
  },
  {
   "cell_type": "code",
   "execution_count": null,
   "metadata": {},
   "outputs": [],
   "source": []
  },
  {
   "cell_type": "code",
   "execution_count": null,
   "metadata": {},
   "outputs": [],
   "source": [
    "## Run this if you want to see explaination of '1.4 - Calling .Net Library Methods'\n",
    "Import-Module \"./modules/tutorial.psm1\"; embedYoutube -youtubeId \"HVZ6jZGuJT0\" | Out-Display"
   ]
  }
 ],
 "metadata": {
  "kernelspec": {
   "display_name": ".NET (PowerShell)",
   "language": "PowerShell",
   "name": ".net-powershell"
  },
  "language_info": {
   "file_extension": ".ps1",
   "mimetype": "text/x-powershell",
   "name": "PowerShell",
   "pygments_lexer": "powershell",
   "version": "7.0"
  }
 },
 "nbformat": 4,
 "nbformat_minor": 4
}
