{
 "cells": [
  {
   "cell_type": "markdown",
   "metadata": {},
   "source": [
    "# Chapter 4: Special Operators\n",
    "- This tutorial was sourced from the great work done by http://GoalKicker.com/PowerShellBook and the content is written by the beautiful people at Stack Overflow.\n",
    "\n",
    "Table of Contents<br>\n",
    "1. [Array Expression Operator](#1)\n",
    "2. [Call Operation](#2)\n",
    "3. [Dot Sourcing Operator](#3)"
   ]
  },
  {
   "cell_type": "markdown",
   "metadata": {},
   "source": [
    "## 4.1: Array Expression Operator"
   ]
  },
  {
   "cell_type": "markdown",
   "metadata": {},
   "source": [
    "Returns the expression as an array.\n",
    "```powershell\n",
    "@(Get-ChildItem $env:windir\\System32\\ntdll.dll)\n",
    "```"
   ]
  },
  {
   "cell_type": "code",
   "execution_count": 30,
   "metadata": {},
   "outputs": [
    {
     "name": "stdout",
     "output_type": "stream",
     "text": [
      "\n",
      "\n",
      "    Directory: /home/jovyan/Notebooks/PowerShell/0 - Tutorial with Videos\n",
      "\n",
      "Mode                 LastWriteTime         Length Name\n",
      "----                 -------------         ------ ----\n",
      "-----           6/30/2020  5:44 AM           4046 Chapter 4 - Special Operators.ipynb\n",
      "\n"
     ]
    }
   ],
   "source": [
    "@(Get-ChildItem \"./Chapter 4 - Special Operators.ipynb\")"
   ]
  },
  {
   "cell_type": "markdown",
   "metadata": {},
   "source": [
    "Will return an array with one item\n",
    "```powershell\n",
    "@(Get-ChildItem $env:windir\\System32)\n",
    "```"
   ]
  },
  {
   "cell_type": "code",
   "execution_count": 34,
   "metadata": {},
   "outputs": [
    {
     "name": "stdout",
     "output_type": "stream",
     "text": [
      "\n",
      "\n",
      "    Directory: /home/jovyan/Notebooks/PowerShell/0 - Tutorial with Videos\n",
      "\n",
      "Mode                 LastWriteTime         Length Name\n",
      "----                 -------------         ------ ----\n",
      "d----           6/30/2020  5:37 AM                modules\n",
      "-----           6/29/2020  9:24 PM          17748 Chapter 1 - Getting started with PowerShell.ipynb\n",
      "-----           6/29/2020  9:24 PM          11353 Chapter 2 - Variables in PowerShell.ipynb\n",
      "-----           6/30/2020  5:11 AM          15140 Chapter 3 - Operators.ipynb\n",
      "-----           6/30/2020  5:44 AM           4046 Chapter 4 - Special Operators.ipynb\n",
      "-----           6/30/2020  4:54 AM            592 Chapter3_TestFile\n",
      "\n"
     ]
    }
   ],
   "source": [
    "@(Get-ChildItem \"./\")"
   ]
  },
  {
   "cell_type": "markdown",
   "metadata": {},
   "source": [
    "Will return an array with all the items in the folder (which is not a change of behavior from the inner expression."
   ]
  },
  {
   "cell_type": "markdown",
   "metadata": {},
   "source": [
    "## 4.2: Call Operation\n",
    "```powershell\n",
    "# Powershell script $$\n",
    "$no = \"blah\"\n",
    "$stuff = \"blah\"\n",
    "Will execute Get-ChildItem\n",
    "```"
   ]
  },
  {
   "cell_type": "code",
   "execution_count": null,
   "metadata": {},
   "outputs": [],
   "source": [
    "$command = 'Get-ChildItem'\n",
    "& $command"
   ]
  },
  {
   "cell_type": "code",
   "execution_count": 35,
   "metadata": {},
   "outputs": [
    {
     "name": "stdout",
     "output_type": "stream",
     "text": [
      "Hello World\n"
     ]
    }
   ],
   "source": [
    "Invoke-Command -ScriptBlock {Write-Host \"Hello World\"}"
   ]
  },
  {
   "cell_type": "markdown",
   "metadata": {},
   "source": [
    "## 4.3: Dot Sourcing Operator"
   ]
  },
  {
   "cell_type": "markdown",
   "metadata": {},
   "source": [
    "```powershell\n",
    ". .\\modules\\myScript.ps1\n",
    "```\n",
    "When you use a period followed by the script path, it runs ```.\\myScript.ps1``` in the current scope making any functions, and variable available in the current scope."
   ]
  },
  {
   "cell_type": "code",
   "execution_count": 38,
   "metadata": {},
   "outputs": [
    {
     "name": "stdout",
     "output_type": "stream",
     "text": [
      "Script 1 Running\n",
      "Hello World!\n",
      "Hello Youtube\n"
     ]
    }
   ],
   "source": [
    ". .\\modules\\myScript.ps1"
   ]
  },
  {
   "cell_type": "code",
   "execution_count": null,
   "metadata": {},
   "outputs": [],
   "source": [
    "## Run this if you want to see explaination of the top\n",
    "Import-Module \"./modules/tutorial.psm1\"; embedYoutube -youtubeId \"8TrlKV-HZXY\" | Out-Display"
   ]
  }
 ],
 "metadata": {
  "kernelspec": {
   "display_name": ".NET (PowerShell)",
   "language": "PowerShell",
   "name": ".net-powershell"
  },
  "language_info": {
   "file_extension": ".ps1",
   "mimetype": "text/x-powershell",
   "name": "PowerShell",
   "pygments_lexer": "powershell",
   "version": "7.0"
  }
 },
 "nbformat": 4,
 "nbformat_minor": 4
}
