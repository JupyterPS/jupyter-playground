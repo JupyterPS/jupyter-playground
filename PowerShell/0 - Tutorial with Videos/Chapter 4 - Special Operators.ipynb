{
 "cells": [
  {
   "cell_type": "markdown",
   "metadata": {},
   "source": [
    "# Chapter 4: Special Operators\n",
    "- This tutorial was sourced from the great work done by http://GoalKicker.com/PowerShellBook and the content is written by the beautiful people at Stack Overflow.\n",
    "\n",
    "Table of Contents<br>\n",
    "1. [Array Expression Operator](#1)\n",
    "2. [Call Operation](#2)\n",
    "3. [Dot Sourcing Operator](#3)"
   ]
  },
  {
   "cell_type": "markdown",
   "metadata": {},
   "source": [
    "## 4.1: Array Expression Operator"
   ]
  },
  {
   "cell_type": "markdown",
   "metadata": {},
   "source": [
    "Returns the expression as an array.\n",
    "```powershell\n",
    "@(Get-ChildItem $env:windir\\System32\\ntdll.dll)\n",
    "```"
   ]
  },
  {
   "cell_type": "code",
   "execution_count": null,
   "metadata": {},
   "outputs": [],
   "source": [
    "@(Get-ChildItem \"./Chapter 4 - Special Operators.ipynb\")"
   ]
  },
  {
   "cell_type": "markdown",
   "metadata": {},
   "source": [
    "Will return an array with one item\n",
    "```powershell\n",
    "@(Get-ChildItem $env:windir\\System32)\n",
    "```"
   ]
  },
  {
   "cell_type": "code",
   "execution_count": null,
   "metadata": {},
   "outputs": [],
   "source": [
    "@(Get-ChildItem \"./\")"
   ]
  },
  {
   "cell_type": "markdown",
   "metadata": {},
   "source": [
    "Will return an array with all the items in the folder (which is not a change of behavior from the inner expression."
   ]
  },
  {
   "cell_type": "markdown",
   "metadata": {},
   "source": [
    "## 4.2: Call Operation\n",
    "```powershell\n",
    "# Powershell script $$\n",
    "$no = \"blah\"\n",
    "$stuff = \"blah\"\n",
    "Will execute Get-ChildItem\n",
    "```"
   ]
  },
  {
   "cell_type": "code",
   "execution_count": null,
   "metadata": {},
   "outputs": [],
   "source": [
    "$command = 'Get-ChildItem'\n",
    "& $command"
   ]
  },
  {
   "cell_type": "code",
   "execution_count": null,
   "metadata": {},
   "outputs": [],
   "source": [
    "Invoke-Command -ScriptBlock {Write-Host \"Hello World\"}"
   ]
  },
  {
   "cell_type": "markdown",
   "metadata": {},
   "source": [
    "## 4.3: Dot Sourcing Operator"
   ]
  },
  {
   "cell_type": "markdown",
   "metadata": {},
   "source": [
    "```powershell\n",
    ". .\\modules\\myScript.ps1\n",
    "```\n",
    "When you use a period followed by the script path, it runs ```.\\myScript.ps1``` in the current scope making any functions, and variable available in the current scope."
   ]
  },
  {
   "cell_type": "code",
   "execution_count": null,
   "metadata": {},
   "outputs": [],
   "source": [
    ". .\\modules\\myScript.ps1"
   ]
  },
  {
   "cell_type": "code",
   "execution_count": null,
   "metadata": {},
   "outputs": [],
   "source": [
    "## Run this if you want to see explaination of the top\n",
    "Import-Module \"./modules/tutorial.psm1\"; embedYoutube -youtubeId \"8TrlKV-HZXY\" | Out-Display"
   ]
  }
 ],
 "metadata": {
  "kernelspec": {
   "display_name": ".NET (PowerShell)",
   "language": "PowerShell",
   "name": ".net-powershell"
  },
  "language_info": {
   "file_extension": ".ps1",
   "mimetype": "text/x-powershell",
   "name": "PowerShell",
   "pygments_lexer": "powershell",
   "version": "7.0"
  }
 },
 "nbformat": 4,
 "nbformat_minor": 4
}
