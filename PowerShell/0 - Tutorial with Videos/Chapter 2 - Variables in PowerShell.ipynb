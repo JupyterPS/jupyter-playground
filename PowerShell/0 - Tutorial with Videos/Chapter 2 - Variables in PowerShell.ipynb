{
 "cells": [
  {
   "cell_type": "markdown",
   "metadata": {},
   "source": [
    "# Chapter 2: Variables in PowerShell\n",
    "\n",
    "Variables are used for storing values. Let the value be of any type , we need to store it somewhere so that we can\n",
    "use it throughout the console/script. Variable names in PowerShell begin with a <font color=#5394d4>\\\\$,</font> as in <font color=#5394d4>\\\\$Variable1</font>, and values are\n",
    "assigned using <font color=green>=</font>, like <font color=#5394d4>\\\\$Variable1</font> <font color=green>=</font> <font color=#cf7c7b>\"Value 1\"</font>. PowerShell supports a huge number of variable types; such as text\n",
    "strings, integers, decimals, arrays, and even advanced types like version numbers or IP addresses."
   ]
  },
  {
   "cell_type": "markdown",
   "metadata": {},
   "source": [
    "## 2.1 Simple variable"
   ]
  },
  {
   "cell_type": "markdown",
   "metadata": {},
   "source": [
    "All variables in PowerShell begin with a US dollar sign <font color=#5394d4>\\$</font><br><br>\n",
    "The following statement allocates a variable called foo with a string value of \"bar\".\n",
    "\n",
    "```powershell\n",
    "$foo = \"bar\"\n",
    "```"
   ]
  },
  {
   "cell_type": "code",
   "execution_count": null,
   "metadata": {},
   "outputs": [],
   "source": []
  },
  {
   "cell_type": "markdown",
   "metadata": {},
   "source": [
    "## 2.2 Arrays"
   ]
  },
  {
   "cell_type": "markdown",
   "metadata": {},
   "source": [
    "Array declaration in Powershell is almost the same as instantiating any other variable, i.e. you use a <font color=#5394d4>\\\\$name</font> <font color=green>=</font> syntax\\.\n",
    "The items in the array are declared by separating them by commas(\\,)"
   ]
  },
  {
   "cell_type": "markdown",
   "metadata": {},
   "source": [
    "### 2.2.1 Array of Integers and Array of Strings"
   ]
  },
  {
   "cell_type": "markdown",
   "metadata": {},
   "source": [
    "Enter the following and then call your variable to see the result\n",
    "```powershell\n",
    "$myArrayOfInts = 1,2,3,4\n",
    "```"
   ]
  },
  {
   "cell_type": "code",
   "execution_count": null,
   "metadata": {},
   "outputs": [],
   "source": []
  },
  {
   "cell_type": "markdown",
   "metadata": {},
   "source": [
    "Enter the following and then call your variable to see the result\n",
    "```powershell\n",
    "$myArrayOfStrings = \"1\",\"2\",\"3\",\"4\"\n",
    "```"
   ]
  },
  {
   "cell_type": "code",
   "execution_count": null,
   "metadata": {},
   "outputs": [],
   "source": []
  },
  {
   "cell_type": "markdown",
   "metadata": {},
   "source": [
    "### 2.2.2 - Adding to an array"
   ]
  },
  {
   "cell_type": "markdown",
   "metadata": {},
   "source": [
    "Adding to an array is as simple as using the + operator:\n",
    "\n",
    "<code>$myArrayOfInts = $myArrayOfInts + 5</code>\n"
   ]
  },
  {
   "cell_type": "code",
   "execution_count": null,
   "metadata": {},
   "outputs": [],
   "source": []
  },
  {
   "cell_type": "markdown",
   "metadata": {},
   "source": [
    "Now call on the <font color=#5394d4>$myArrayOfInts</font> and review the results\n",
    "\n",
    "    result should now contains 1,2,3,4 & 5!\n",
    "\n",
    "```powershell\n",
    "$myArrayOfInts\n",
    "```"
   ]
  },
  {
   "cell_type": "code",
   "execution_count": null,
   "metadata": {},
   "outputs": [],
   "source": []
  },
  {
   "cell_type": "markdown",
   "metadata": {},
   "source": [
    "### 2.2.3 - Combining arrays together"
   ]
  },
  {
   "cell_type": "markdown",
   "metadata": {},
   "source": [
    "Build the first array:\n",
    "```powershell\n",
    "$firstArray = 1,2,3,4\n",
    "```"
   ]
  },
  {
   "cell_type": "code",
   "execution_count": null,
   "metadata": {},
   "outputs": [],
   "source": []
  },
  {
   "cell_type": "markdown",
   "metadata": {},
   "source": [
    "Build the second array:\n",
    "```powershell\n",
    "$secondArray = 5,6,7,8\n",
    "```"
   ]
  },
  {
   "cell_type": "code",
   "execution_count": null,
   "metadata": {},
   "outputs": [],
   "source": []
  },
  {
   "cell_type": "markdown",
   "metadata": {},
   "source": [
    "Now lets combine them!\n",
    "```\n",
    "$combinedArray = $firstArray + $secondArray\n",
    "```"
   ]
  },
  {
   "cell_type": "code",
   "execution_count": null,
   "metadata": {},
   "outputs": [],
   "source": []
  },
  {
   "cell_type": "code",
   "execution_count": null,
   "metadata": {},
   "outputs": [],
   "source": [
    "### 2.3.3 - Combining arrays together"
   ]
  }
 ],
 "metadata": {
  "kernelspec": {
   "display_name": ".NET (PowerShell)",
   "language": "PowerShell",
   "name": ".net-powershell"
  },
  "language_info": {
   "file_extension": ".ps1",
   "mimetype": "text/x-powershell",
   "name": "PowerShell",
   "pygments_lexer": "powershell",
   "version": "7.0"
  },
  "toc-autonumbering": false,
  "toc-showcode": false,
  "toc-showmarkdowntxt": true,
  "toc-showtags": false
 },
 "nbformat": 4,
 "nbformat_minor": 4
}
