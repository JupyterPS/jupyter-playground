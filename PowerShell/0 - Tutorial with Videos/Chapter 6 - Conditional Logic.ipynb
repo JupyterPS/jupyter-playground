{
 "cells": [
  {
   "cell_type": "markdown",
   "metadata": {},
   "source": [
    "# Conditional Logic"
   ]
  },
  {
   "cell_type": "markdown",
   "metadata": {},
   "source": [
    "## 6.1: If, Else, and Else If\n",
    "\n",
    "Powershell supports standard conditional logic operators, much like many programming languages. These allow\n",
    "certain functions or commands to be run under particular circumstances.\n",
    "\n",
    "Note the above use <font color=green>-eq(equality)</font> CmdLet and not <font color=green>= or == </font>as many other languages do for equality"
   ]
  },
  {
   "cell_type": "markdown",
   "metadata": {},
   "source": [
    "With an if the commands inside the brackets ({}) are only executed if the conditions inside the if(()) are met"
   ]
  },
  {
   "cell_type": "code",
   "execution_count": null,
   "metadata": {},
   "outputs": [],
   "source": [
    "$test = \"test\"\n",
    "if ($test -eq \"test\"){\n",
    " Write-Host \"if condition met this message will display\"\n",
    "}"
   ]
  },
  {
   "cell_type": "markdown",
   "metadata": {},
   "source": [
    "You can also do an else. Here the else commands are executed if the if conditions are not met:"
   ]
  },
  {
   "cell_type": "code",
   "execution_count": 31,
   "metadata": {},
   "outputs": [
    {
     "name": "stdout",
     "output_type": "stream",
     "text": [
      "if condition not met this will display\n"
     ]
    }
   ],
   "source": [
    "$test = \"test\"\n",
    "if ($test -eq \"test2\"){\n",
    " Write-Host \"if condition met this will display\"\n",
    "}\n",
    "else{\n",
    " Write-Host \"if condition not met this will display\"\n",
    "}"
   ]
  },
  {
   "cell_type": "markdown",
   "metadata": {},
   "source": [
    "or an elseif. An else if runs the commands if the if conditions are not met and the elseif conditions are met:"
   ]
  },
  {
   "cell_type": "code",
   "execution_count": 34,
   "metadata": {},
   "outputs": [
    {
     "name": "stdout",
     "output_type": "stream",
     "text": [
      "default backup condition statement\n"
     ]
    }
   ],
   "source": [
    "$test = \"test\"\n",
    "if ($test -eq \"test2\"){\n",
    " Write-Host \"if condition met\"\n",
    "}\n",
    "elseif ($test -eq \"test3\"){\n",
    " Write-Host \"ifelse condition met\"\n",
    "} else {\n",
    "    Write-Host \"default backup condition statement\"\n",
    "}"
   ]
  },
  {
   "cell_type": "markdown",
   "metadata": {},
   "source": [
    "## 6.2: Negation"
   ]
  },
  {
   "cell_type": "markdown",
   "metadata": {},
   "source": [
    "You may want to negate a boolean value, i.e. enter an if statement when a condition is false rather than true. This\n",
    "can be done by using the -Not CmdLet"
   ]
  },
  {
   "cell_type": "code",
   "execution_count": 37,
   "metadata": {},
   "outputs": [],
   "source": [
    "$test = \"test\"\n",
    "if (-Not ($test -ne \"test\") ) {\n",
    " Write-Host \"if condition not met\"\n",
    "}"
   ]
  },
  {
   "cell_type": "markdown",
   "metadata": {},
   "source": [
    "You can also use !:"
   ]
  },
  {
   "cell_type": "code",
   "execution_count": 38,
   "metadata": {},
   "outputs": [
    {
     "name": "stdout",
     "output_type": "stream",
     "text": [
      "if condition not met\n"
     ]
    }
   ],
   "source": [
    "$test = \"test\"\n",
    "if (!($test -eq \"test2\")){\n",
    " Write-Host \"if condition not met\"\n",
    "}"
   ]
  },
  {
   "cell_type": "markdown",
   "metadata": {},
   "source": [
    "there is also the -ne (not equal) operator:"
   ]
  },
  {
   "cell_type": "code",
   "execution_count": null,
   "metadata": {},
   "outputs": [],
   "source": [
    "$test = \"test\"\n",
    "if ($test -ne \"test2\"){\n",
    " Write-Host \"variable test is not equal to 'test2'\"\n",
    "}"
   ]
  },
  {
   "cell_type": "markdown",
   "metadata": {},
   "source": [
    "## 6.3: Negation\n",
    "\n",
    "If you want to use the shorthand you can make use of conditional logic with the following shorthand. Only the\n",
    "string 'false' will evaluate to true (2.0)."
   ]
  },
  {
   "cell_type": "markdown",
   "metadata": {},
   "source": [
    "    Configure Variables"
   ]
  },
  {
   "cell_type": "code",
   "execution_count": 53,
   "metadata": {},
   "outputs": [],
   "source": [
    "#Done in Powershell 2.0\n",
    "$boolean = $false;\n",
    "$string = \"false\";\n",
    "$emptyString = \"\";"
   ]
  },
  {
   "cell_type": "markdown",
   "metadata": {},
   "source": [
    "this does not run because $boolean is false"
   ]
  },
  {
   "cell_type": "code",
   "execution_count": 42,
   "metadata": {},
   "outputs": [],
   "source": [
    "$blah = $false\n",
    "If($blah){\n",
    " Write-Host \"Shorthand If conditions can be nice, just make sure they are always boolean.\"\n",
    "}"
   ]
  },
  {
   "cell_type": "markdown",
   "metadata": {},
   "source": [
    "This does run because the string is non-zero length"
   ]
  },
  {
   "cell_type": "code",
   "execution_count": 51,
   "metadata": {},
   "outputs": [
    {
     "name": "stdout",
     "output_type": "stream",
     "text": [
      "If the variable is not strictly null or Boolean false, it will evaluate to true as it is an object or string with length greater than 0.\n",
      "5\n"
     ]
    }
   ],
   "source": [
    "$string = \"false\"\n",
    "If($string){\n",
    " Write-Host \"If the variable is not strictly null or Boolean false, it will evaluate to true as it is an object or string with length greater than 0.\"\n",
    "}\n",
    "$string.length"
   ]
  },
  {
   "cell_type": "markdown",
   "metadata": {},
   "source": [
    "This does not run because the string is zero-length"
   ]
  },
  {
   "cell_type": "code",
   "execution_count": 55,
   "metadata": {},
   "outputs": [
    {
     "name": "stdout",
     "output_type": "stream",
     "text": [
      "0\n"
     ]
    }
   ],
   "source": [
    "$emptyString=\"\"\n",
    "If($emptyString){\n",
    " Write-Host \"Checking empty strings can be useful as well.\"\n",
    "}\n",
    "$emptyString.length"
   ]
  },
  {
   "cell_type": "markdown",
   "metadata": {},
   "source": [
    "This does not run because the condition is null"
   ]
  },
  {
   "cell_type": "code",
   "execution_count": 58,
   "metadata": {},
   "outputs": [
    {
     "name": "stdout",
     "output_type": "stream",
     "text": [
      "Checking Nulls will not print this statement.\n"
     ]
    }
   ],
   "source": [
    "$null\n",
    "If(!$null){\n",
    " Write-Host \"Checking Nulls will not print this statement.\"\n",
    "}"
   ]
  },
  {
   "cell_type": "markdown",
   "metadata": {},
   "source": [
    "    Explainer video if you want"
   ]
  },
  {
   "cell_type": "code",
   "execution_count": 59,
   "metadata": {},
   "outputs": [
    {
     "data": {
      "text/html": [
       "        <iframe \n",
       "            width=\"560\" \n",
       "            height=\"315\" \n",
       "            src=\"https://www.youtube.com/embed/LBqD4sCgl-w\" \n",
       "            frameborder=\"0\" \n",
       "            allow=\"accelerometer; \n",
       "            autoplay; \n",
       "            encrypted-media; \n",
       "            gyroscope; \n",
       "            picture-in-picture\" \n",
       "            allowfullscreen>\n",
       "        </iframe>"
      ]
     },
     "metadata": {},
     "output_type": "display_data"
    }
   ],
   "source": [
    "## Run this if you want to see explaination of the top\n",
    "Import-Module \"./modules/tutorial.psm1\"; embedYoutube -youtubeId \"LBqD4sCgl-w\" | Out-Display"
   ]
  },
  {
   "cell_type": "code",
   "execution_count": null,
   "metadata": {},
   "outputs": [],
   "source": []
  }
 ],
 "metadata": {
  "kernelspec": {
   "display_name": ".NET (PowerShell)",
   "language": "PowerShell",
   "name": ".net-powershell"
  },
  "language_info": {
   "file_extension": ".ps1",
   "mimetype": "text/x-powershell",
   "name": "PowerShell",
   "pygments_lexer": "powershell",
   "version": "7.0"
  }
 },
 "nbformat": 4,
 "nbformat_minor": 4
}
