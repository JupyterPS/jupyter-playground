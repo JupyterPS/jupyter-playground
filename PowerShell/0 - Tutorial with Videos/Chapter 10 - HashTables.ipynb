{
 "cells": [
  {
   "cell_type": "markdown",
   "metadata": {},
   "source": [
    "# Chapter 10: HashTables\n",
    "\n",
    "This tutorial was sourced from the great work done by http://GoalKicker.com/PowerShellBook and the content is written by the beautiful people at Stack Overflow.\n",
    "\n",
    "A Hash Table is a structure which maps keys to values. See [Hash Table](https://en.wikipedia.org/wiki/Hash_table) for details.\n",
    "\n",
    "### Table of Contents\n",
    "1. [Section 10.1: Access a hash table value by key](#1)\n",
    "2. [Creating a Hash Table](#2)\n",
    "3. [Add a key value pair to an existing hash table](#3)\n",
    "4. [Remove a key value pair from an existing hash table](#4)\n",
    "5. [Enumerating through keys and Key-Value Pairs](#5)\n",
    "6. [Looping over a hash table](#6)"
   ]
  },
  {
   "cell_type": "markdown",
   "metadata": {},
   "source": [
    "## Section 10.1: Access a hash table value by key\n"
   ]
  },
  {
   "cell_type": "markdown",
   "metadata": {},
   "source": [
    "#### An example of defining a hash table and accessing a value by the key\n",
    "\n",
    "<!-- #$$ -->\n",
    "```powershell\n",
    "$hashTable = @{\n",
    " Key1 = 'Value1'\n",
    " Key2 = 'Value2'\n",
    "}\n",
    "$hashTable.Key1\n",
    "#output\n",
    "Value1\n",
    "```"
   ]
  },
  {
   "cell_type": "code",
   "execution_count": null,
   "metadata": {},
   "outputs": [],
   "source": [
    "$hashTable = @{\n",
    " Key1 = 'Value1'\n",
    " Key2 = 'Value2'\n",
    "}\n",
    "$hashTable.Key1"
   ]
  },
  {
   "cell_type": "code",
   "execution_count": null,
   "metadata": {},
   "outputs": [],
   "source": [
    "$family = @{\n",
    "    dad = \"bob\"\n",
    "    mom = \"susan\"\n",
    "    daughter = \"lizzy\"\n",
    "}\n",
    "$family.'daughter'"
   ]
  },
  {
   "cell_type": "markdown",
   "metadata": {},
   "source": [
    "#### An example of accessing a key with invalid characters for a property name:\n",
    "\n",
    "<!-- #$$ -->\n",
    "```powershell\n",
    "$hashTable = @{\n",
    " 'Key 1' = 'Value3'\n",
    " Key2 = 'Value4'\n",
    "}\n",
    "$hashTable.'Key 1'\n",
    "#Output\n",
    "Value3\n",
    "```"
   ]
  },
  {
   "cell_type": "code",
   "execution_count": null,
   "metadata": {},
   "outputs": [],
   "source": [
    "# $hashTable = @{\n",
    " 'Key 1' = 'Value3'\n",
    " Key2 = 'Value4'\n",
    "}\n",
    "$hashTable.'Key 1'"
   ]
  },
  {
   "cell_type": "code",
   "execution_count": null,
   "metadata": {},
   "outputs": [],
   "source": [
    "#$family\n",
    "\n",
    "#$family.'step brother' = \"sam\"\n",
    "$family"
   ]
  },
  {
   "cell_type": "markdown",
   "metadata": {},
   "source": [
    "## Section 10.2: Creating a Hash Table\n",
    "#### Example of creating an empty HashTable:\n",
    "```powershell\n",
    "$hashTable = @{}\n",
    "```"
   ]
  },
  {
   "cell_type": "code",
   "execution_count": null,
   "metadata": {},
   "outputs": [],
   "source": [
    "$hashTable = @{}"
   ]
  },
  {
   "cell_type": "markdown",
   "metadata": {},
   "source": [
    "#### Example of creating a HashTable with data:\n",
    "```powershell\n",
    "$hashTable = @{\n",
    " Name1 = 'Value'\n",
    " Name2 = 'Value'\n",
    " Name3 = 'Value3'\n",
    "}\n",
    "```"
   ]
  },
  {
   "cell_type": "markdown",
   "metadata": {},
   "source": [
    "#### An example, to add a \"Key2\" key with a value of \"Value2\" to the hash table using the Add method:\n",
    "\n",
    "<!-- #$$ -->\n",
    "```powershell\n",
    "$hashTable = @{\n",
    " Key1 = 'Value1'\n",
    "}\n",
    "$hashTable.Add(\"Key2\", \"Value2\")\n",
    "$hashTable\n",
    "#Output\n",
    "Name Value\n",
    "---- -----\n",
    "Key1 Value1\n",
    "Key2 Value2\n",
    "```"
   ]
  },
  {
   "cell_type": "code",
   "execution_count": null,
   "metadata": {},
   "outputs": [],
   "source": [
    "$hashTable = @{\n",
    " Key1 = 'Value1'\n",
    "}\n",
    "$hashTable.Add(\"Key2\", \"Value2\")\n",
    "#$hashTable\n",
    "$hashTable"
   ]
  },
  {
   "cell_type": "code",
   "execution_count": null,
   "metadata": {},
   "outputs": [],
   "source": [
    "$hashTable.newProperty = \"test\""
   ]
  },
  {
   "cell_type": "code",
   "execution_count": null,
   "metadata": {},
   "outputs": [],
   "source": [
    "#$family.'step sister' = \"cynthia\"\n",
    "$family"
   ]
  },
  {
   "cell_type": "markdown",
   "metadata": {},
   "source": [
    "## Section 10.3: Add a key value pair to an existing hash table\n",
    "#### An example, to add a \"Key2\" key with a value of \"Value2\" to the hash table, using the addition operator:\n",
    "<!-- #$$ -->\n",
    "```powershell\n",
    "$hashTable = @{\n",
    " Key1 = 'Value1'\n",
    "}\n",
    "$hashTable += @{Key2 = 'Value2'}\n",
    "$hashTable\n",
    "#Output\n",
    "Name Value\n",
    "---- -----\n",
    "Key1 Value1\n",
    "```"
   ]
  },
  {
   "cell_type": "code",
   "execution_count": null,
   "metadata": {},
   "outputs": [],
   "source": [
    "$hashTable = @{\n",
    " Key1 = 'Value1'\n",
    "}\n",
    "$hashTable\n",
    "$hashTable += @{Key2 = 'value2'}\n",
    "#$hashTable += @{Key2 = 'Value2'}\n",
    "#$hashTable\n",
    "$hashTable"
   ]
  },
  {
   "cell_type": "code",
   "execution_count": null,
   "metadata": {},
   "outputs": [],
   "source": [
    "$hashTable"
   ]
  },
  {
   "cell_type": "markdown",
   "metadata": {},
   "source": [
    "## Section 10.4: Remove a key value pair from an existing hash table\n",
    "#### An example, to remove a \"Key2\" key with a value of \"Value2\" from the hash table, using the remove operator:\n",
    "<!-- #$$ -->\n",
    "```powershell\n",
    "$hashTable = @{\n",
    " Key1 = 'Value1'\n",
    " Key2 = 'Value2'\n",
    "}\n",
    "$hashTable.Remove(\"Key2\", \"Value2\")\n",
    "$hashTable\n",
    "#Output\n",
    "Name Value\n",
    "---- -----\n",
    "Key1 Value1\n",
    "```"
   ]
  },
  {
   "cell_type": "code",
   "execution_count": null,
   "metadata": {},
   "outputs": [],
   "source": [
    "$family"
   ]
  },
  {
   "cell_type": "code",
   "execution_count": null,
   "metadata": {},
   "outputs": [],
   "source": [
    "$family.Remove('dad')"
   ]
  },
  {
   "cell_type": "code",
   "execution_count": null,
   "metadata": {},
   "outputs": [],
   "source": [
    "$family"
   ]
  },
  {
   "cell_type": "markdown",
   "metadata": {},
   "source": [
    "## Section 10.5: Enumerating through keys and Key-Value Pairs\n",
    "#### Enumerating through Keys\n",
    "<!-- #$$ -->\n",
    "```powershell\n",
    "foreach ($key in $var1.Keys) {\n",
    " $value = $var1[$key]\n",
    " # or\n",
    " $value = $var1.$key\n",
    "}\n",
    "```"
   ]
  },
  {
   "cell_type": "code",
   "execution_count": null,
   "metadata": {},
   "outputs": [],
   "source": [
    "foreach ($key in $family.Keys) {\n",
    "    Write-Host \"key: $key, $($family.$key)\"\n",
    "}"
   ]
  },
  {
   "cell_type": "markdown",
   "metadata": {},
   "source": [
    "#### Enumerating through Key-Value Pairs\n",
    "<!-- #$$ -->\n",
    "```powershell\n",
    "foreach ($keyvaluepair in $var1.GetEnumerator()) {\n",
    " $key1 = $_.Key1\n",
    " $val1 = $_.Val1\n",
    " ```"
   ]
  },
  {
   "cell_type": "code",
   "execution_count": null,
   "metadata": {},
   "outputs": [],
   "source": [
    "\n",
    "foreach ($kvp in $family.GetEnumerator() ) {\n",
    "    Write-Host $kvp.key\",\"$kvp.value\n",
    "}"
   ]
  },
  {
   "cell_type": "markdown",
   "metadata": {},
   "source": [
    "## Section 10.6: Looping over a hash table\n",
    "<!-- #$$ -->\n",
    "```powershell\n",
    "$hashTable = @{\n",
    " Key1 = 'Value1'\n",
    " Key2 = 'Value2'\n",
    " }\n",
    "foreach($key in $hashTable.Keys)\n",
    "{\n",
    " $value = $hashTable.$key\n",
    " Write-Output \"$key : $value\"\n",
    "}\n",
    "#Output\n",
    "Key1 : Value1\n",
    "Key2 : Value2\n",
    "```"
   ]
  },
  {
   "cell_type": "code",
   "execution_count": null,
   "metadata": {},
   "outputs": [],
   "source": [
    "foreach($key in $family.Keys)\n",
    "{\n",
    " $value = $family.$key\n",
    " Write-Output \"$key : $value\"\n",
    "}"
   ]
  },
  {
   "cell_type": "markdown",
   "metadata": {},
   "source": [
    "    If you want to watch an explanation video. Run the cell below (Not available yet)"
   ]
  },
  {
   "cell_type": "code",
   "execution_count": 110,
   "metadata": {},
   "outputs": [
    {
     "data": {
      "text/html": [
       "        <iframe \n",
       "            width=\"560\" \n",
       "            height=\"315\" \n",
       "            src=\"https://www.youtube.com/embed/RXfmG5-3_NM\" \n",
       "            frameborder=\"0\" \n",
       "            allow=\"accelerometer; \n",
       "            autoplay; \n",
       "            encrypted-media; \n",
       "            gyroscope; \n",
       "            picture-in-picture\" \n",
       "            allowfullscreen>\n",
       "        </iframe>"
      ]
     },
     "metadata": {},
     "output_type": "display_data"
    }
   ],
   "source": [
    "## Run this if you want to see explaination of the top\n",
    "Import-Module \"./modules/tutorial.psm1\"; embedYoutube -youtubeId \"RXfmG5-3_NM\" | Out-Display"
   ]
  },
  {
   "cell_type": "code",
   "execution_count": null,
   "metadata": {},
   "outputs": [],
   "source": []
  }
 ],
 "metadata": {
  "kernelspec": {
   "display_name": ".NET (PowerShell)",
   "language": "PowerShell",
   "name": ".net-powershell"
  },
  "language_info": {
   "file_extension": ".ps1",
   "mimetype": "text/x-powershell",
   "name": "PowerShell",
   "pygments_lexer": "powershell",
   "version": "7.0"
  },
  "toc-autonumbering": false,
  "toc-showmarkdowntxt": true
 },
 "nbformat": 4,
 "nbformat_minor": 4
}
